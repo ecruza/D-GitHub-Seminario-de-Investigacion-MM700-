{
 "cells": [
  {
   "cell_type": "markdown",
   "metadata": {},
   "source": [
    "Trazar un gráfico en Python, instalar una biblioteca externa llamada matplotlib. pip install matplotlib."
   ]
  },
  {
   "cell_type": "code",
   "execution_count": 1,
   "metadata": {},
   "outputs": [],
   "source": [
    "import matplotlib.pyplot as plt\n",
    "import numpy as np\n",
    "import math\n",
    "\n",
    "letters = {}\n",
    "\n",
    "for i in range(90):\n",
    "    letters[str(i+10)] = 0\n",
    "\n",
    "colours = [ # different shades of green\n",
    "    '#04ff00',\n",
    "    '#03e000',\n",
    "    '#03bf00',\n",
    "    '#02a300',\n",
    "    '#028700',\n",
    "    '#016b00',\n",
    "    '#015100',\n",
    "    '#003800',\n",
    "    '#002100'\n",
    "]\n",
    "\n",
    "nfib = 500"
   ]
  },
  {
   "cell_type": "markdown",
   "metadata": {},
   "source": [
    "Generarar los numeros de fibonacci"
   ]
  },
  {
   "cell_type": "code",
   "execution_count": 2,
   "metadata": {},
   "outputs": [],
   "source": [
    "def GenerarFibonacci(n):\n",
    "    a, b = 0, 1\n",
    "\n",
    "    l = []\n",
    "\n",
    "    for i in range(n):\n",
    "        a, b = b, a + b\n",
    "\n",
    "        l.append(a)\n",
    "\n",
    "    return l"
   ]
  },
  {
   "cell_type": "markdown",
   "metadata": {},
   "source": [
    "Extraer los digitos significativos"
   ]
  },
  {
   "cell_type": "code",
   "execution_count": 3,
   "metadata": {},
   "outputs": [],
   "source": [
    "list_of_nums = GenerarFibonacci(nfib)\n",
    "\n",
    "for n in list_of_nums:\n",
    "    if n > 9:\n",
    "        first_digit = str(n)[0]+str(n)[1]\n",
    "        letters[first_digit] += 1"
   ]
  },
  {
   "cell_type": "markdown",
   "metadata": {},
   "source": [
    "Frecuencias observadas"
   ]
  },
  {
   "cell_type": "code",
   "execution_count": 4,
   "metadata": {},
   "outputs": [
    {
     "data": {
      "text/plain": [
       "{'10': 20,\n",
       " '11': 18,\n",
       " '12': 18,\n",
       " '13': 17,\n",
       " '14': 15,\n",
       " '15': 14,\n",
       " '16': 13,\n",
       " '17': 12,\n",
       " '18': 11,\n",
       " '19': 11,\n",
       " '20': 11,\n",
       " '21': 10,\n",
       " '22': 9,\n",
       " '23': 9,\n",
       " '24': 9,\n",
       " '25': 9,\n",
       " '26': 8,\n",
       " '27': 7,\n",
       " '28': 8,\n",
       " '29': 7,\n",
       " '30': 7,\n",
       " '31': 7,\n",
       " '32': 7,\n",
       " '33': 6,\n",
       " '34': 6,\n",
       " '35': 7,\n",
       " '36': 5,\n",
       " '37': 6,\n",
       " '38': 5,\n",
       " '39': 6,\n",
       " '40': 5,\n",
       " '41': 5,\n",
       " '42': 5,\n",
       " '43': 5,\n",
       " '44': 5,\n",
       " '45': 4,\n",
       " '46': 5,\n",
       " '47': 4,\n",
       " '48': 5,\n",
       " '49': 4,\n",
       " '50': 4,\n",
       " '51': 5,\n",
       " '52': 4,\n",
       " '53': 4,\n",
       " '54': 4,\n",
       " '55': 4,\n",
       " '56': 4,\n",
       " '57': 4,\n",
       " '58': 3,\n",
       " '59': 3,\n",
       " '60': 4,\n",
       " '61': 4,\n",
       " '62': 3,\n",
       " '63': 4,\n",
       " '64': 3,\n",
       " '65': 3,\n",
       " '66': 3,\n",
       " '67': 4,\n",
       " '68': 2,\n",
       " '69': 3,\n",
       " '70': 4,\n",
       " '71': 3,\n",
       " '72': 2,\n",
       " '73': 3,\n",
       " '74': 3,\n",
       " '75': 3,\n",
       " '76': 3,\n",
       " '77': 3,\n",
       " '78': 3,\n",
       " '79': 2,\n",
       " '80': 2,\n",
       " '81': 3,\n",
       " '82': 2,\n",
       " '83': 3,\n",
       " '84': 3,\n",
       " '85': 2,\n",
       " '86': 3,\n",
       " '87': 2,\n",
       " '88': 3,\n",
       " '89': 3,\n",
       " '90': 2,\n",
       " '91': 2,\n",
       " '92': 3,\n",
       " '93': 2,\n",
       " '94': 2,\n",
       " '95': 2,\n",
       " '96': 2,\n",
       " '97': 2,\n",
       " '98': 3,\n",
       " '99': 2}"
      ]
     },
     "execution_count": 4,
     "metadata": {},
     "output_type": "execute_result"
    }
   ],
   "source": [
    "letters"
   ]
  },
  {
   "cell_type": "markdown",
   "metadata": {},
   "source": [
    "Coordenadas"
   ]
  },
  {
   "cell_type": "code",
   "execution_count": 5,
   "metadata": {},
   "outputs": [],
   "source": [
    "x = list(letters.keys())\n",
    "y = [round(val / nfib, 4) for val in letters.values()]\n",
    "fre_relativa = y\n",
    "\n",
    "x2 = list(letters.keys())\n",
    "y2 =  [round(math.log10(1+(1/int(val))), 4) for val in letters.keys()]"
   ]
  },
  {
   "cell_type": "markdown",
   "metadata": {},
   "source": [
    "libreria de Matplotlib, configurar titulo, setea lo que va abajo y a un lado y muestra Grafica de la Ley Benford frente a datos analizados"
   ]
  },
  {
   "cell_type": "code",
   "execution_count": 6,
   "metadata": {},
   "outputs": [
    {
     "data": {
      "text/plain": [
       "(0, 0.046)"
      ]
     },
     "execution_count": 6,
     "metadata": {},
     "output_type": "execute_result"
    },
    {
     "data": {
      "image/png": "[encoded data removed]",
      "text/plain": [
       "<Figure size 432x288 with 1 Axes>"
      ]
     },
     "metadata": {
      "needs_background": "light"
     },
     "output_type": "display_data"
    }
   ],
   "source": [
    "ind = np.arange(90) \n",
    "lnlab = []\n",
    "for i in range(10,99):\n",
    "    if i%10:\n",
    "        lnlab.append('')\n",
    "    else:\n",
    "        lnlab.append(str(i))\n",
    "fig, ax = plt.subplots()\n",
    "p1 = ax.bar(x, y)\n",
    "p2 = ax.errorbar(x2, y2, color = \"#ff0000\")\n",
    "ax.set_xticks(ind)\n",
    "ax.set_xticklabels(lnlab)\n",
    "plt.title(\"Distribución de la ley de Benford para \"+str(nfib)+\" números de Fibonacci\")\n",
    "plt.xlabel('Primer y segundo Digito')\n",
    "plt.ylabel('Proporcion')\n",
    "plt.ylim([0, 0.046])\n",
    "#bars = plt.bar(x, y, color=colours)\n",
    "\n"
   ]
  },
  {
   "cell_type": "code",
   "execution_count": 7,
   "metadata": {},
   "outputs": [],
   "source": [
    "x = list(letters.keys())\n",
    "y =  [round(math.log10(1+(1/int(val))), 4) for val in letters.keys()]\n",
    "benford = y"
   ]
  },
  {
   "cell_type": "code",
   "execution_count": 8,
   "metadata": {},
   "outputs": [],
   "source": [
    "x = list(letters.keys())\n",
    "y = list(letters.values()) \n",
    "f0 = y"
   ]
  },
  {
   "cell_type": "code",
   "execution_count": 9,
   "metadata": {},
   "outputs": [
    {
     "data": {
      "image/png": "[encoded data removed]",
      "text/plain": [
       "<Figure size 2160x288 with 1 Axes>"
      ]
     },
     "metadata": {
      "needs_background": "light"
     },
     "output_type": "display_data"
    }
   ],
   "source": [
    "\n",
    "plt.figure(figsize=(30, 4))\n",
    "plt.title(\"Numero de apariciones de los primeros dos digitos para  \"+str(nfib)+\" números de Fibonacci\")\n",
    "plt.xlabel('Primer y sedundo Digito')\n",
    "plt.ylabel('Proporcion')\n",
    "bars = plt.bar(x, y, color=colours)\n",
    "\n",
    "for bar in bars:\n",
    "    height = bar.get_height()\n",
    "\n",
    "    plt.annotate(f'{height}',\n",
    "        xy = (bar.get_x() + bar.get_width() / 2, height),\n",
    "        xytext = (0, 3),\n",
    "        textcoords = 'offset points',\n",
    "        ha = 'center',\n",
    "        va = 'bottom'\n",
    "    )"
   ]
  },
  {
   "cell_type": "markdown",
   "metadata": {},
   "source": [
    "Grafica de la Ley Benford "
   ]
  },
  {
   "cell_type": "code",
   "execution_count": 10,
   "metadata": {},
   "outputs": [
    {
     "data": {
      "text/plain": [
       "Text(0, 0.5, 'Proporcion')"
      ]
     },
     "execution_count": 10,
     "metadata": {},
     "output_type": "execute_result"
    },
    {
     "data": {
      "image/png": "[encoded data removed]",
      "text/plain": [
       "<Figure size 432x288 with 1 Axes>"
      ]
     },
     "metadata": {
      "needs_background": "light"
     },
     "output_type": "display_data"
    }
   ],
   "source": [
    "ind = np.arange(90) \n",
    "lnlab = []\n",
    "for i in range(10,99):\n",
    "    if i%10:\n",
    "        lnlab.append('')\n",
    "    else:\n",
    "        lnlab.append(str(i))\n",
    "fig, ax = plt.subplots()\n",
    "p1 = ax.bar(x, y)\n",
    "ax.set_xticks(ind)\n",
    "ax.set_xticklabels(lnlab)\n",
    "plt.title(\"Calculo de la distribucion de la ley de benford\")\n",
    "plt.xlabel('Primer y segundo Digito')\n",
    "plt.ylabel('Proporcion')\n",
    "\n",
    "\n"
   ]
  },
  {
   "cell_type": "code",
   "execution_count": 11,
   "metadata": {},
   "outputs": [],
   "source": [
    "#x = np.arange(9)  # the label locations\n",
    "#width = 0.35  # the width of the bars\n",
    "\n",
    "#fig, ax = plt.subplots()\n",
    "#rects1 = ax.bar(x - width/2, [round(val / nfib, 4) for val in letters.values()], width, label='Fibonacci')\n",
    "#rects2 = ax.bar(x + width/2, y, width, label='Bernof')\n",
    "\n",
    "#ax.set_ylabel('Escala')\n",
    "#ax.set_title('Apariciones fibonacci vrs ley de bernof')\n",
    "#ax.set_xticks(x)\n",
    "#ax.set_xticklabels(list(letters.keys()))\n",
    "#ax.legend()\n",
    "\n",
    "\n",
    "\n",
    "#fig.tight_layout()\n",
    "\n",
    "#plt.show()\n"
   ]
  },
  {
   "cell_type": "markdown",
   "metadata": {},
   "source": [
    "Frecuencia observada"
   ]
  },
  {
   "cell_type": "code",
   "execution_count": 12,
   "metadata": {},
   "outputs": [
    {
     "data": {
      "text/plain": [
       "array([20, 18, 18, 17, 15, 14, 13, 12, 11, 11, 11, 10,  9,  9,  9,  9,  8,\n",
       "        7,  8,  7,  7,  7,  7,  6,  6,  7,  5,  6,  5,  6,  5,  5,  5,  5,\n",
       "        5,  4,  5,  4,  5,  4,  4,  5,  4,  4,  4,  4,  4,  4,  3,  3,  4,\n",
       "        4,  3,  4,  3,  3,  3,  4,  2,  3,  4,  3,  2,  3,  3,  3,  3,  3,\n",
       "        3,  2,  2,  3,  2,  3,  3,  2,  3,  2,  3,  3,  2,  2,  3,  2,  2,\n",
       "        2,  2,  2,  3,  2])"
      ]
     },
     "execution_count": 12,
     "metadata": {},
     "output_type": "execute_result"
    }
   ],
   "source": [
    "f0 = np.array(f0)\n",
    "f0"
   ]
  },
  {
   "cell_type": "markdown",
   "metadata": {},
   "source": [
    "Frecuencia relativa"
   ]
  },
  {
   "cell_type": "code",
   "execution_count": 13,
   "metadata": {},
   "outputs": [
    {
     "data": {
      "text/plain": [
       "array([0.04 , 0.036, 0.036, 0.034, 0.03 , 0.028, 0.026, 0.024, 0.022,\n",
       "       0.022, 0.022, 0.02 , 0.018, 0.018, 0.018, 0.018, 0.016, 0.014,\n",
       "       0.016, 0.014, 0.014, 0.014, 0.014, 0.012, 0.012, 0.014, 0.01 ,\n",
       "       0.012, 0.01 , 0.012, 0.01 , 0.01 , 0.01 , 0.01 , 0.01 , 0.008,\n",
       "       0.01 , 0.008, 0.01 , 0.008, 0.008, 0.01 , 0.008, 0.008, 0.008,\n",
       "       0.008, 0.008, 0.008, 0.006, 0.006, 0.008, 0.008, 0.006, 0.008,\n",
       "       0.006, 0.006, 0.006, 0.008, 0.004, 0.006, 0.008, 0.006, 0.004,\n",
       "       0.006, 0.006, 0.006, 0.006, 0.006, 0.006, 0.004, 0.004, 0.006,\n",
       "       0.004, 0.006, 0.006, 0.004, 0.006, 0.004, 0.006, 0.006, 0.004,\n",
       "       0.004, 0.006, 0.004, 0.004, 0.004, 0.004, 0.004, 0.006, 0.004])"
      ]
     },
     "execution_count": 13,
     "metadata": {},
     "output_type": "execute_result"
    }
   ],
   "source": [
    "fre_relativa = np.array(fre_relativa)\n",
    "fre_relativa "
   ]
  },
  {
   "cell_type": "markdown",
   "metadata": {},
   "source": [
    "Probabilidad Ley Benford"
   ]
  },
  {
   "cell_type": "code",
   "execution_count": 14,
   "metadata": {},
   "outputs": [
    {
     "data": {
      "text/plain": [
       "array([0.0414, 0.0378, 0.0348, 0.0322, 0.03  , 0.028 , 0.0263, 0.0248,\n",
       "       0.0235, 0.0223, 0.0212, 0.0202, 0.0193, 0.0185, 0.0177, 0.017 ,\n",
       "       0.0164, 0.0158, 0.0152, 0.0147, 0.0142, 0.0138, 0.0134, 0.013 ,\n",
       "       0.0126, 0.0122, 0.0119, 0.0116, 0.0113, 0.011 , 0.0107, 0.0105,\n",
       "       0.0102, 0.01  , 0.0098, 0.0095, 0.0093, 0.0091, 0.009 , 0.0088,\n",
       "       0.0086, 0.0084, 0.0083, 0.0081, 0.008 , 0.0078, 0.0077, 0.0076,\n",
       "       0.0074, 0.0073, 0.0072, 0.0071, 0.0069, 0.0068, 0.0067, 0.0066,\n",
       "       0.0065, 0.0064, 0.0063, 0.0062, 0.0062, 0.0061, 0.006 , 0.0059,\n",
       "       0.0058, 0.0058, 0.0057, 0.0056, 0.0055, 0.0055, 0.0054, 0.0053,\n",
       "       0.0053, 0.0052, 0.0051, 0.0051, 0.005 , 0.005 , 0.0049, 0.0049,\n",
       "       0.0048, 0.0047, 0.0047, 0.0046, 0.0046, 0.0045, 0.0045, 0.0045,\n",
       "       0.0044, 0.0044])"
      ]
     },
     "execution_count": 14,
     "metadata": {},
     "output_type": "execute_result"
    }
   ],
   "source": [
    "benford = np.array(benford)\n",
    "benford"
   ]
  },
  {
   "cell_type": "markdown",
   "metadata": {},
   "source": [
    "Total de elementos analisados"
   ]
  },
  {
   "cell_type": "code",
   "execution_count": 15,
   "metadata": {},
   "outputs": [
    {
     "data": {
      "text/plain": [
       "494"
      ]
     },
     "execution_count": 15,
     "metadata": {},
     "output_type": "execute_result"
    }
   ],
   "source": [
    "f0_tot=f0.sum()\n",
    "f0_tot"
   ]
  },
  {
   "cell_type": "markdown",
   "metadata": {},
   "source": [
    "Frecuencia esperada"
   ]
  },
  {
   "cell_type": "code",
   "execution_count": 16,
   "metadata": {},
   "outputs": [],
   "source": [
    "fe = benford*f0_tot"
   ]
  },
  {
   "cell_type": "code",
   "execution_count": 17,
   "metadata": {},
   "outputs": [
    {
     "data": {
      "text/plain": [
       "array([20.4516, 18.6732, 17.1912, 15.9068, 14.82  , 13.832 , 12.9922,\n",
       "       12.2512, 11.609 , 11.0162, 10.4728,  9.9788,  9.5342,  9.139 ,\n",
       "        8.7438,  8.398 ,  8.1016,  7.8052,  7.5088,  7.2618,  7.0148,\n",
       "        6.8172,  6.6196,  6.422 ,  6.2244,  6.0268,  5.8786,  5.7304,\n",
       "        5.5822,  5.434 ,  5.2858,  5.187 ,  5.0388,  4.94  ,  4.8412,\n",
       "        4.693 ,  4.5942,  4.4954,  4.446 ,  4.3472,  4.2484,  4.1496,\n",
       "        4.1002,  4.0014,  3.952 ,  3.8532,  3.8038,  3.7544,  3.6556,\n",
       "        3.6062,  3.5568,  3.5074,  3.4086,  3.3592,  3.3098,  3.2604,\n",
       "        3.211 ,  3.1616,  3.1122,  3.0628,  3.0628,  3.0134,  2.964 ,\n",
       "        2.9146,  2.8652,  2.8652,  2.8158,  2.7664,  2.717 ,  2.717 ,\n",
       "        2.6676,  2.6182,  2.6182,  2.5688,  2.5194,  2.5194,  2.47  ,\n",
       "        2.47  ,  2.4206,  2.4206,  2.3712,  2.3218,  2.3218,  2.2724,\n",
       "        2.2724,  2.223 ,  2.223 ,  2.223 ,  2.1736,  2.1736])"
      ]
     },
     "execution_count": 17,
     "metadata": {},
     "output_type": "execute_result"
    }
   ],
   "source": [
    "fe "
   ]
  },
  {
   "cell_type": "markdown",
   "metadata": {},
   "source": [
    "suma total de la frecuencia esperada"
   ]
  },
  {
   "cell_type": "code",
   "execution_count": 18,
   "metadata": {},
   "outputs": [
    {
     "data": {
      "text/plain": [
       "493.9506"
      ]
     },
     "execution_count": 18,
     "metadata": {},
     "output_type": "execute_result"
    }
   ],
   "source": [
    "fe.sum()"
   ]
  },
  {
   "cell_type": "markdown",
   "metadata": {},
   "source": [
    "Diferencia entre la proporcion dee Benford y la recuencia ralativa"
   ]
  },
  {
   "cell_type": "code",
   "execution_count": 19,
   "metadata": {},
   "outputs": [
    {
     "data": {
      "text/plain": [
       "array([1.4e-03, 1.8e-03, 1.2e-03, 1.8e-03, 0.0e+00, 0.0e+00, 3.0e-04,\n",
       "       8.0e-04, 1.5e-03, 3.0e-04, 8.0e-04, 2.0e-04, 1.3e-03, 5.0e-04,\n",
       "       3.0e-04, 1.0e-03, 4.0e-04, 1.8e-03, 8.0e-04, 7.0e-04, 2.0e-04,\n",
       "       2.0e-04, 6.0e-04, 1.0e-03, 6.0e-04, 1.8e-03, 1.9e-03, 4.0e-04,\n",
       "       1.3e-03, 1.0e-03, 7.0e-04, 5.0e-04, 2.0e-04, 0.0e+00, 2.0e-04,\n",
       "       1.5e-03, 7.0e-04, 1.1e-03, 1.0e-03, 8.0e-04, 6.0e-04, 1.6e-03,\n",
       "       3.0e-04, 1.0e-04, 0.0e+00, 2.0e-04, 3.0e-04, 4.0e-04, 1.4e-03,\n",
       "       1.3e-03, 8.0e-04, 9.0e-04, 9.0e-04, 1.2e-03, 7.0e-04, 6.0e-04,\n",
       "       5.0e-04, 1.6e-03, 2.3e-03, 2.0e-04, 1.8e-03, 1.0e-04, 2.0e-03,\n",
       "       1.0e-04, 2.0e-04, 2.0e-04, 3.0e-04, 4.0e-04, 5.0e-04, 1.5e-03,\n",
       "       1.4e-03, 7.0e-04, 1.3e-03, 8.0e-04, 9.0e-04, 1.1e-03, 1.0e-03,\n",
       "       1.0e-03, 1.1e-03, 1.1e-03, 8.0e-04, 7.0e-04, 1.3e-03, 6.0e-04,\n",
       "       6.0e-04, 5.0e-04, 5.0e-04, 5.0e-04, 1.6e-03, 4.0e-04])"
      ]
     },
     "execution_count": 19,
     "metadata": {},
     "output_type": "execute_result"
    }
   ],
   "source": [
    "diferencia = abs(fre_relativa - benford)\n",
    "diferencia "
   ]
  },
  {
   "cell_type": "markdown",
   "metadata": {},
   "source": [
    "Suma total de las diferencias"
   ]
  },
  {
   "cell_type": "code",
   "execution_count": 20,
   "metadata": {},
   "outputs": [
    {
     "data": {
      "text/plain": [
       "0.07350000000000001"
      ]
     },
     "execution_count": 20,
     "metadata": {},
     "output_type": "execute_result"
    }
   ],
   "source": [
    "diferencia.sum()"
   ]
  },
  {
   "cell_type": "markdown",
   "metadata": {},
   "source": [
    "Calculando el estadistico de prueba (chi cuadrado)  𝑥2"
   ]
  },
  {
   "cell_type": "code",
   "execution_count": 21,
   "metadata": {},
   "outputs": [],
   "source": [
    "f0_fe= (f0-fe)"
   ]
  },
  {
   "cell_type": "code",
   "execution_count": 22,
   "metadata": {},
   "outputs": [],
   "source": [
    "f0_fe_2 = f0_fe*f0_fe"
   ]
  },
  {
   "cell_type": "code",
   "execution_count": 23,
   "metadata": {},
   "outputs": [
    {
     "data": {
      "text/plain": [
       "array([9.97196112e-03, 2.42699826e-02, 3.80518777e-02, 7.51305253e-02,\n",
       "       2.18623482e-03, 2.04048583e-03, 4.68280969e-06, 5.15063341e-03,\n",
       "       3.19477130e-02, 2.38230969e-05, 2.65392101e-02, 4.50394837e-05,\n",
       "       2.99311573e-02, 2.11412627e-03, 7.50685514e-03, 4.31536080e-02,\n",
       "       1.27413844e-03, 8.30660380e-02, 3.21326231e-02, 9.43832659e-03,\n",
       "       3.12254091e-05, 4.90169571e-03, 2.18599553e-02, 2.77303021e-02,\n",
       "       8.08999422e-03, 1.57151098e-01, 1.31313231e-01, 1.26839592e-02,\n",
       "       6.07210132e-02, 5.89539934e-02, 1.54530327e-02, 6.74166185e-03,\n",
       "       2.98769548e-04, 7.28744939e-04, 5.20892341e-03, 1.02333049e-01,\n",
       "       3.58438118e-02, 5.45938426e-02, 6.90319388e-02, 2.77299963e-02,\n",
       "       1.45237172e-02, 1.74277077e-01, 2.44867080e-03, 4.89828560e-07,\n",
       "       5.82995951e-04, 5.59281636e-03, 1.01199958e-02, 1.60663115e-02,\n",
       "       1.17576146e-01, 1.01901847e-01, 5.52255511e-02, 6.91836574e-02,\n",
       "       4.89802148e-02, 1.22238819e-01, 2.89975346e-02, 2.07974972e-02,\n",
       "       1.38651510e-02, 2.22328745e-01, 3.97464443e-01, 1.28765835e-03,\n",
       "       2.86778059e-01, 5.95871773e-05, 3.13527665e-01, 2.50228505e-03,\n",
       "       6.34197962e-03, 6.34197962e-03, 1.20497336e-02, 1.97256217e-02,\n",
       "       2.94769967e-02, 1.89211999e-01, 1.67075184e-01, 5.56761286e-02,\n",
       "       1.45967168e-01, 7.23814388e-02, 9.16791141e-02, 1.07079606e-01,\n",
       "       1.13724696e-01, 8.94331984e-02, 1.38686425e-01, 1.38686425e-01,\n",
       "       5.81095816e-02, 4.46012749e-02, 1.98102868e-01, 3.26534765e-02,\n",
       "       3.26534765e-02, 2.23702204e-02, 2.23702204e-02, 2.23702204e-02,\n",
       "       3.14196246e-01, 1.38649982e-02])"
      ]
     },
     "execution_count": 23,
     "metadata": {},
     "output_type": "execute_result"
    }
   ],
   "source": [
    "f0_fe_2_fe=f0_fe_2/fe\n",
    "f0_fe_2_fe"
   ]
  },
  {
   "cell_type": "markdown",
   "metadata": {},
   "source": [
    "Estadistico de prueba  𝑥2"
   ]
  },
  {
   "cell_type": "code",
   "execution_count": 24,
   "metadata": {},
   "outputs": [
    {
     "data": {
      "text/plain": [
       "5.396536494492001"
      ]
     },
     "execution_count": 24,
     "metadata": {},
     "output_type": "execute_result"
    }
   ],
   "source": [
    "x_2 = f0_fe_2_fe.sum()\n",
    "x_2 "
   ]
  },
  {
   "cell_type": "markdown",
   "metadata": {},
   "source": [
    "Diferencia Media Absoluta"
   ]
  },
  {
   "cell_type": "code",
   "execution_count": 25,
   "metadata": {},
   "outputs": [
    {
     "data": {
      "text/plain": [
       "0.0008166666666666668"
      ]
     },
     "execution_count": 25,
     "metadata": {},
     "output_type": "execute_result"
    }
   ],
   "source": [
    "MAD = diferencia.sum()/90\n",
    "MAD"
   ]
  }
 ],
 "metadata": {
  "kernelspec": {
   "display_name": "Python 3",
   "language": "python",
   "name": "python3"
  },
  "language_info": {
   "codemirror_mode": {
    "name": "ipython",
    "version": 3
   },
   "file_extension": ".py",
   "mimetype": "text/x-python",
   "name": "python",
   "nbconvert_exporter": "python",
   "pygments_lexer": "ipython3",
   "version": "3.7.3"
  }
 },
 "nbformat": 4,
 "nbformat_minor": 4
}
