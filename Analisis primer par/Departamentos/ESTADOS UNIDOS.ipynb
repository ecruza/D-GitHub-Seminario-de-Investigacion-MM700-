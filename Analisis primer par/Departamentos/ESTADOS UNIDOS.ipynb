{
 "cells": [
  {
   "cell_type": "code",
   "execution_count": 1,
   "metadata": {},
   "outputs": [],
   "source": [
    "import matplotlib.pyplot as plt\n",
    "import numpy as np\n",
    "import math\n",
    "import pandas as pd \n",
    "letters = {}\n",
    "\n",
    "for i in range(9,99):\n",
    "    letters[str(i+1)] = 0\n",
    "    \n",
    "\n",
    "nfib = 500"
   ]
  },
  {
   "cell_type": "code",
   "execution_count": 2,
   "metadata": {},
   "outputs": [
    {
     "data": {
      "text/html": [
       "<div>\n",
       "<style scoped>\n",
       "    .dataframe tbody tr th:only-of-type {\n",
       "        vertical-align: middle;\n",
       "    }\n",
       "\n",
       "    .dataframe tbody tr th {\n",
       "        vertical-align: top;\n",
       "    }\n",
       "\n",
       "    .dataframe thead th {\n",
       "        text-align: right;\n",
       "    }\n",
       "</style>\n",
       "<table border=\"1\" class=\"dataframe\">\n",
       "  <thead>\n",
       "    <tr style=\"text-align: right;\">\n",
       "      <th></th>\n",
       "      <th>PL</th>\n",
       "      <th>PN</th>\n",
       "      <th>LIBRE-PINU</th>\n",
       "      <th>TOTAL</th>\n",
       "    </tr>\n",
       "  </thead>\n",
       "  <tbody>\n",
       "    <tr>\n",
       "      <th>0</th>\n",
       "      <td>18</td>\n",
       "      <td>108</td>\n",
       "      <td>246</td>\n",
       "      <td>379</td>\n",
       "    </tr>\n",
       "    <tr>\n",
       "      <th>1</th>\n",
       "      <td>25</td>\n",
       "      <td>171</td>\n",
       "      <td>229</td>\n",
       "      <td>430</td>\n",
       "    </tr>\n",
       "    <tr>\n",
       "      <th>2</th>\n",
       "      <td>74</td>\n",
       "      <td>304</td>\n",
       "      <td>311</td>\n",
       "      <td>694</td>\n",
       "    </tr>\n",
       "    <tr>\n",
       "      <th>3</th>\n",
       "      <td>22</td>\n",
       "      <td>75</td>\n",
       "      <td>179</td>\n",
       "      <td>280</td>\n",
       "    </tr>\n",
       "    <tr>\n",
       "      <th>4</th>\n",
       "      <td>31</td>\n",
       "      <td>90</td>\n",
       "      <td>184</td>\n",
       "      <td>332</td>\n",
       "    </tr>\n",
       "    <tr>\n",
       "      <th>5</th>\n",
       "      <td>23</td>\n",
       "      <td>129</td>\n",
       "      <td>173</td>\n",
       "      <td>330</td>\n",
       "    </tr>\n",
       "  </tbody>\n",
       "</table>\n",
       "</div>"
      ],
      "text/plain": [
       "   PL   PN  LIBRE-PINU  TOTAL\n",
       "0  18  108         246    379\n",
       "1  25  171         229    430\n",
       "2  74  304         311    694\n",
       "3  22   75         179    280\n",
       "4  31   90         184    332\n",
       "5  23  129         173    330"
      ]
     },
     "execution_count": 2,
     "metadata": {},
     "output_type": "execute_result"
    }
   ],
   "source": [
    "df = pd.read_csv(\"https://docs.google.com/spreadsheets/d/1HeOZdGl5aMSIMShkHirP3s2xpCv3oxkx/export?format=csv\")\n",
    "df"
   ]
  },
  {
   "cell_type": "code",
   "execution_count": 3,
   "metadata": {},
   "outputs": [
    {
     "data": {
      "text/plain": [
       "[18, 25, 74, 22, 31, 23]"
      ]
     },
     "execution_count": 3,
     "metadata": {},
     "output_type": "execute_result"
    }
   ],
   "source": [
    "pl = []\n",
    "for i in df['PL']:\n",
    "    pl.append(i)\n",
    "pl"
   ]
  },
  {
   "cell_type": "code",
   "execution_count": 4,
   "metadata": {},
   "outputs": [
    {
     "data": {
      "text/plain": [
       "[108, 171, 304, 75, 90, 129]"
      ]
     },
     "execution_count": 4,
     "metadata": {},
     "output_type": "execute_result"
    }
   ],
   "source": [
    "pn = []\n",
    "for i in df['PN']:\n",
    "    pn.append(i)\n",
    "pn"
   ]
  },
  {
   "cell_type": "code",
   "execution_count": 5,
   "metadata": {},
   "outputs": [
    {
     "data": {
      "text/plain": [
       "[246, 229, 311, 179, 184, 173]"
      ]
     },
     "execution_count": 5,
     "metadata": {},
     "output_type": "execute_result"
    }
   ],
   "source": [
    "pli = []\n",
    "for i in df['LIBRE-PINU']:\n",
    "    pli.append(i)\n",
    "pli"
   ]
  },
  {
   "cell_type": "code",
   "execution_count": 6,
   "metadata": {},
   "outputs": [
    {
     "data": {
      "text/plain": [
       "[379, 430, 694, 280, 332, 330]"
      ]
     },
     "execution_count": 6,
     "metadata": {},
     "output_type": "execute_result"
    }
   ],
   "source": [
    "tot = []\n",
    "for i in df['TOTAL']:\n",
    "    tot.append(i)\n",
    "tot"
   ]
  },
  {
   "cell_type": "code",
   "execution_count": 7,
   "metadata": {},
   "outputs": [],
   "source": [
    "list_of_nums = pl\n",
    "for n in list_of_nums:\n",
    "    first_digit = str(n)[0]+str(n)[1]\n",
    "    letters[first_digit] += 1\n",
    "y = [round(val / nfib, 4) for val in letters.values()]\n",
    "fre_relativa = y\n",
    "y = list(letters.values())\n",
    "f0= y\n",
    "x = list(letters.keys())\n",
    "y =  [round(math.log10(1+(1/int(val))), 4) for val in letters.keys()]\n",
    "benford = y"
   ]
  },
  {
   "cell_type": "code",
   "execution_count": 8,
   "metadata": {},
   "outputs": [
    {
     "data": {
      "text/plain": [
       "array([0, 0, 0, 0, 0, 0, 0, 0, 1, 0, 0, 0, 1, 1, 0, 1, 0, 0, 0, 0, 0, 1,\n",
       "       0, 0, 0, 0, 0, 0, 0, 0, 0, 0, 0, 0, 0, 0, 0, 0, 0, 0, 0, 0, 0, 0,\n",
       "       0, 0, 0, 0, 0, 0, 0, 0, 0, 0, 0, 0, 0, 0, 0, 0, 0, 0, 0, 0, 1, 0,\n",
       "       0, 0, 0, 0, 0, 0, 0, 0, 0, 0, 0, 0, 0, 0, 0, 0, 0, 0, 0, 0, 0, 0,\n",
       "       0, 0])"
      ]
     },
     "execution_count": 8,
     "metadata": {},
     "output_type": "execute_result"
    }
   ],
   "source": [
    "f0 = np.array(f0)\n",
    "f0"
   ]
  },
  {
   "cell_type": "code",
   "execution_count": 9,
   "metadata": {},
   "outputs": [
    {
     "data": {
      "text/plain": [
       "array([0.   , 0.   , 0.   , 0.   , 0.   , 0.   , 0.   , 0.   , 0.002,\n",
       "       0.   , 0.   , 0.   , 0.002, 0.002, 0.   , 0.002, 0.   , 0.   ,\n",
       "       0.   , 0.   , 0.   , 0.002, 0.   , 0.   , 0.   , 0.   , 0.   ,\n",
       "       0.   , 0.   , 0.   , 0.   , 0.   , 0.   , 0.   , 0.   , 0.   ,\n",
       "       0.   , 0.   , 0.   , 0.   , 0.   , 0.   , 0.   , 0.   , 0.   ,\n",
       "       0.   , 0.   , 0.   , 0.   , 0.   , 0.   , 0.   , 0.   , 0.   ,\n",
       "       0.   , 0.   , 0.   , 0.   , 0.   , 0.   , 0.   , 0.   , 0.   ,\n",
       "       0.   , 0.002, 0.   , 0.   , 0.   , 0.   , 0.   , 0.   , 0.   ,\n",
       "       0.   , 0.   , 0.   , 0.   , 0.   , 0.   , 0.   , 0.   , 0.   ,\n",
       "       0.   , 0.   , 0.   , 0.   , 0.   , 0.   , 0.   , 0.   , 0.   ])"
      ]
     },
     "execution_count": 9,
     "metadata": {},
     "output_type": "execute_result"
    }
   ],
   "source": [
    "fre_relativa = np.array(fre_relativa)\n",
    "fre_relativa "
   ]
  },
  {
   "cell_type": "code",
   "execution_count": 10,
   "metadata": {},
   "outputs": [
    {
     "data": {
      "text/plain": [
       "array([0.0414, 0.0378, 0.0348, 0.0322, 0.03  , 0.028 , 0.0263, 0.0248,\n",
       "       0.0235, 0.0223, 0.0212, 0.0202, 0.0193, 0.0185, 0.0177, 0.017 ,\n",
       "       0.0164, 0.0158, 0.0152, 0.0147, 0.0142, 0.0138, 0.0134, 0.013 ,\n",
       "       0.0126, 0.0122, 0.0119, 0.0116, 0.0113, 0.011 , 0.0107, 0.0105,\n",
       "       0.0102, 0.01  , 0.0098, 0.0095, 0.0093, 0.0091, 0.009 , 0.0088,\n",
       "       0.0086, 0.0084, 0.0083, 0.0081, 0.008 , 0.0078, 0.0077, 0.0076,\n",
       "       0.0074, 0.0073, 0.0072, 0.0071, 0.0069, 0.0068, 0.0067, 0.0066,\n",
       "       0.0065, 0.0064, 0.0063, 0.0062, 0.0062, 0.0061, 0.006 , 0.0059,\n",
       "       0.0058, 0.0058, 0.0057, 0.0056, 0.0055, 0.0055, 0.0054, 0.0053,\n",
       "       0.0053, 0.0052, 0.0051, 0.0051, 0.005 , 0.005 , 0.0049, 0.0049,\n",
       "       0.0048, 0.0047, 0.0047, 0.0046, 0.0046, 0.0045, 0.0045, 0.0045,\n",
       "       0.0044, 0.0044])"
      ]
     },
     "execution_count": 10,
     "metadata": {},
     "output_type": "execute_result"
    }
   ],
   "source": [
    "benford = np.array(benford)\n",
    "benford"
   ]
  },
  {
   "cell_type": "code",
   "execution_count": 11,
   "metadata": {},
   "outputs": [
    {
     "data": {
      "text/plain": [
       "6"
      ]
     },
     "execution_count": 11,
     "metadata": {},
     "output_type": "execute_result"
    }
   ],
   "source": [
    "f0_tot=f0.sum()\n",
    "f0_tot"
   ]
  },
  {
   "cell_type": "code",
   "execution_count": 12,
   "metadata": {},
   "outputs": [],
   "source": [
    "fe = benford*f0_tot"
   ]
  },
  {
   "cell_type": "code",
   "execution_count": 13,
   "metadata": {},
   "outputs": [
    {
     "data": {
      "text/plain": [
       "array([0.2484, 0.2268, 0.2088, 0.1932, 0.18  , 0.168 , 0.1578, 0.1488,\n",
       "       0.141 , 0.1338, 0.1272, 0.1212, 0.1158, 0.111 , 0.1062, 0.102 ,\n",
       "       0.0984, 0.0948, 0.0912, 0.0882, 0.0852, 0.0828, 0.0804, 0.078 ,\n",
       "       0.0756, 0.0732, 0.0714, 0.0696, 0.0678, 0.066 , 0.0642, 0.063 ,\n",
       "       0.0612, 0.06  , 0.0588, 0.057 , 0.0558, 0.0546, 0.054 , 0.0528,\n",
       "       0.0516, 0.0504, 0.0498, 0.0486, 0.048 , 0.0468, 0.0462, 0.0456,\n",
       "       0.0444, 0.0438, 0.0432, 0.0426, 0.0414, 0.0408, 0.0402, 0.0396,\n",
       "       0.039 , 0.0384, 0.0378, 0.0372, 0.0372, 0.0366, 0.036 , 0.0354,\n",
       "       0.0348, 0.0348, 0.0342, 0.0336, 0.033 , 0.033 , 0.0324, 0.0318,\n",
       "       0.0318, 0.0312, 0.0306, 0.0306, 0.03  , 0.03  , 0.0294, 0.0294,\n",
       "       0.0288, 0.0282, 0.0282, 0.0276, 0.0276, 0.027 , 0.027 , 0.027 ,\n",
       "       0.0264, 0.0264])"
      ]
     },
     "execution_count": 13,
     "metadata": {},
     "output_type": "execute_result"
    }
   ],
   "source": [
    "fe "
   ]
  },
  {
   "cell_type": "code",
   "execution_count": 14,
   "metadata": {},
   "outputs": [
    {
     "data": {
      "text/plain": [
       "5.9994"
      ]
     },
     "execution_count": 14,
     "metadata": {},
     "output_type": "execute_result"
    }
   ],
   "source": [
    "fe.sum()"
   ]
  },
  {
   "cell_type": "code",
   "execution_count": 15,
   "metadata": {},
   "outputs": [
    {
     "data": {
      "text/plain": [
       "array([-0.0414, -0.0378, -0.0348, -0.0322, -0.03  , -0.028 , -0.0263,\n",
       "       -0.0248, -0.0215, -0.0223, -0.0212, -0.0202, -0.0173, -0.0165,\n",
       "       -0.0177, -0.015 , -0.0164, -0.0158, -0.0152, -0.0147, -0.0142,\n",
       "       -0.0118, -0.0134, -0.013 , -0.0126, -0.0122, -0.0119, -0.0116,\n",
       "       -0.0113, -0.011 , -0.0107, -0.0105, -0.0102, -0.01  , -0.0098,\n",
       "       -0.0095, -0.0093, -0.0091, -0.009 , -0.0088, -0.0086, -0.0084,\n",
       "       -0.0083, -0.0081, -0.008 , -0.0078, -0.0077, -0.0076, -0.0074,\n",
       "       -0.0073, -0.0072, -0.0071, -0.0069, -0.0068, -0.0067, -0.0066,\n",
       "       -0.0065, -0.0064, -0.0063, -0.0062, -0.0062, -0.0061, -0.006 ,\n",
       "       -0.0059, -0.0038, -0.0058, -0.0057, -0.0056, -0.0055, -0.0055,\n",
       "       -0.0054, -0.0053, -0.0053, -0.0052, -0.0051, -0.0051, -0.005 ,\n",
       "       -0.005 , -0.0049, -0.0049, -0.0048, -0.0047, -0.0047, -0.0046,\n",
       "       -0.0046, -0.0045, -0.0045, -0.0045, -0.0044, -0.0044])"
      ]
     },
     "execution_count": 15,
     "metadata": {},
     "output_type": "execute_result"
    }
   ],
   "source": [
    "diferencia = fre_relativa - benford\n",
    "diferencia "
   ]
  },
  {
   "cell_type": "code",
   "execution_count": 16,
   "metadata": {},
   "outputs": [
    {
     "data": {
      "text/plain": [
       "-0.9879"
      ]
     },
     "execution_count": 16,
     "metadata": {},
     "output_type": "execute_result"
    }
   ],
   "source": [
    "diferencia.sum()"
   ]
  },
  {
   "cell_type": "code",
   "execution_count": 17,
   "metadata": {},
   "outputs": [],
   "source": [
    "f0_fe= (f0-fe)"
   ]
  },
  {
   "cell_type": "code",
   "execution_count": 18,
   "metadata": {},
   "outputs": [],
   "source": [
    "f0_fe_2 = f0_fe*f0_fe"
   ]
  },
  {
   "cell_type": "code",
   "execution_count": 19,
   "metadata": {},
   "outputs": [
    {
     "data": {
      "text/plain": [
       "array([2.48400000e-01, 2.26800000e-01, 2.08800000e-01, 1.93200000e-01,\n",
       "       1.80000000e-01, 1.68000000e-01, 1.57800000e-01, 1.48800000e-01,\n",
       "       5.23319858e+00, 1.33800000e-01, 1.27200000e-01, 1.21200000e-01,\n",
       "       6.75137858e+00, 7.12000901e+00, 1.06200000e-01, 7.90592157e+00,\n",
       "       9.84000000e-02, 9.48000000e-02, 9.12000000e-02, 8.82000000e-02,\n",
       "       8.52000000e-02, 1.01600947e+01, 8.04000000e-02, 7.80000000e-02,\n",
       "       7.56000000e-02, 7.32000000e-02, 7.14000000e-02, 6.96000000e-02,\n",
       "       6.78000000e-02, 6.60000000e-02, 6.42000000e-02, 6.30000000e-02,\n",
       "       6.12000000e-02, 6.00000000e-02, 5.88000000e-02, 5.70000000e-02,\n",
       "       5.58000000e-02, 5.46000000e-02, 5.40000000e-02, 5.28000000e-02,\n",
       "       5.16000000e-02, 5.04000000e-02, 4.98000000e-02, 4.86000000e-02,\n",
       "       4.80000000e-02, 4.68000000e-02, 4.62000000e-02, 4.56000000e-02,\n",
       "       4.44000000e-02, 4.38000000e-02, 4.32000000e-02, 4.26000000e-02,\n",
       "       4.14000000e-02, 4.08000000e-02, 4.02000000e-02, 3.96000000e-02,\n",
       "       3.90000000e-02, 3.84000000e-02, 3.78000000e-02, 3.72000000e-02,\n",
       "       3.72000000e-02, 3.66000000e-02, 3.60000000e-02, 3.54000000e-02,\n",
       "       2.67704322e+01, 3.48000000e-02, 3.42000000e-02, 3.36000000e-02,\n",
       "       3.30000000e-02, 3.30000000e-02, 3.24000000e-02, 3.18000000e-02,\n",
       "       3.18000000e-02, 3.12000000e-02, 3.06000000e-02, 3.06000000e-02,\n",
       "       3.00000000e-02, 3.00000000e-02, 2.94000000e-02, 2.94000000e-02,\n",
       "       2.88000000e-02, 2.82000000e-02, 2.82000000e-02, 2.76000000e-02,\n",
       "       2.76000000e-02, 2.70000000e-02, 2.70000000e-02, 2.70000000e-02,\n",
       "       2.64000000e-02, 2.64000000e-02])"
      ]
     },
     "execution_count": 19,
     "metadata": {},
     "output_type": "execute_result"
    }
   ],
   "source": [
    "f0_fe_2_fe=f0_fe_2/fe\n",
    "f0_fe_2_fe"
   ]
  },
  {
   "cell_type": "markdown",
   "metadata": {},
   "source": [
    "# Partido Liberal"
   ]
  },
  {
   "cell_type": "code",
   "execution_count": 20,
   "metadata": {},
   "outputs": [
    {
     "data": {
      "text/plain": [
       "69.35303461286023"
      ]
     },
     "execution_count": 20,
     "metadata": {},
     "output_type": "execute_result"
    }
   ],
   "source": [
    "x_2 = f0_fe_2_fe.sum()\n",
    "x_2 "
   ]
  },
  {
   "cell_type": "code",
   "execution_count": 21,
   "metadata": {},
   "outputs": [],
   "source": [
    "letters = {}\n",
    "\n",
    "for i in range(9,99):\n",
    "    letters[str(i+1)] = 0\n",
    "    \n",
    "list_of_nums = pn\n",
    "for n in list_of_nums:\n",
    "    first_digit = str(n)[0]+str(n)[1]\n",
    "    letters[first_digit] += 1\n",
    "y = [round(val / nfib, 4) for val in letters.values()]\n",
    "fre_relativa = y\n",
    "y = list(letters.values())\n",
    "f0= y\n",
    "x = list(letters.keys())\n",
    "y =  [round(math.log10(1+(1/int(val))), 4) for val in letters.keys()]\n",
    "benford = y"
   ]
  },
  {
   "cell_type": "code",
   "execution_count": 22,
   "metadata": {},
   "outputs": [
    {
     "data": {
      "text/plain": [
       "array([1, 0, 1, 0, 0, 0, 0, 1, 0, 0, 0, 0, 0, 0, 0, 0, 0, 0, 0, 0, 1, 0,\n",
       "       0, 0, 0, 0, 0, 0, 0, 0, 0, 0, 0, 0, 0, 0, 0, 0, 0, 0, 0, 0, 0, 0,\n",
       "       0, 0, 0, 0, 0, 0, 0, 0, 0, 0, 0, 0, 0, 0, 0, 0, 0, 0, 0, 0, 0, 1,\n",
       "       0, 0, 0, 0, 0, 0, 0, 0, 0, 0, 0, 0, 0, 0, 1, 0, 0, 0, 0, 0, 0, 0,\n",
       "       0, 0])"
      ]
     },
     "execution_count": 22,
     "metadata": {},
     "output_type": "execute_result"
    }
   ],
   "source": [
    "f0 = np.array(f0)\n",
    "f0"
   ]
  },
  {
   "cell_type": "code",
   "execution_count": 23,
   "metadata": {},
   "outputs": [
    {
     "data": {
      "text/plain": [
       "array([0.002, 0.   , 0.002, 0.   , 0.   , 0.   , 0.   , 0.002, 0.   ,\n",
       "       0.   , 0.   , 0.   , 0.   , 0.   , 0.   , 0.   , 0.   , 0.   ,\n",
       "       0.   , 0.   , 0.002, 0.   , 0.   , 0.   , 0.   , 0.   , 0.   ,\n",
       "       0.   , 0.   , 0.   , 0.   , 0.   , 0.   , 0.   , 0.   , 0.   ,\n",
       "       0.   , 0.   , 0.   , 0.   , 0.   , 0.   , 0.   , 0.   , 0.   ,\n",
       "       0.   , 0.   , 0.   , 0.   , 0.   , 0.   , 0.   , 0.   , 0.   ,\n",
       "       0.   , 0.   , 0.   , 0.   , 0.   , 0.   , 0.   , 0.   , 0.   ,\n",
       "       0.   , 0.   , 0.002, 0.   , 0.   , 0.   , 0.   , 0.   , 0.   ,\n",
       "       0.   , 0.   , 0.   , 0.   , 0.   , 0.   , 0.   , 0.   , 0.002,\n",
       "       0.   , 0.   , 0.   , 0.   , 0.   , 0.   , 0.   , 0.   , 0.   ])"
      ]
     },
     "execution_count": 23,
     "metadata": {},
     "output_type": "execute_result"
    }
   ],
   "source": [
    "fre_relativa = np.array(fre_relativa)\n",
    "fre_relativa "
   ]
  },
  {
   "cell_type": "code",
   "execution_count": 24,
   "metadata": {},
   "outputs": [
    {
     "data": {
      "text/plain": [
       "array([0.0414, 0.0378, 0.0348, 0.0322, 0.03  , 0.028 , 0.0263, 0.0248,\n",
       "       0.0235, 0.0223, 0.0212, 0.0202, 0.0193, 0.0185, 0.0177, 0.017 ,\n",
       "       0.0164, 0.0158, 0.0152, 0.0147, 0.0142, 0.0138, 0.0134, 0.013 ,\n",
       "       0.0126, 0.0122, 0.0119, 0.0116, 0.0113, 0.011 , 0.0107, 0.0105,\n",
       "       0.0102, 0.01  , 0.0098, 0.0095, 0.0093, 0.0091, 0.009 , 0.0088,\n",
       "       0.0086, 0.0084, 0.0083, 0.0081, 0.008 , 0.0078, 0.0077, 0.0076,\n",
       "       0.0074, 0.0073, 0.0072, 0.0071, 0.0069, 0.0068, 0.0067, 0.0066,\n",
       "       0.0065, 0.0064, 0.0063, 0.0062, 0.0062, 0.0061, 0.006 , 0.0059,\n",
       "       0.0058, 0.0058, 0.0057, 0.0056, 0.0055, 0.0055, 0.0054, 0.0053,\n",
       "       0.0053, 0.0052, 0.0051, 0.0051, 0.005 , 0.005 , 0.0049, 0.0049,\n",
       "       0.0048, 0.0047, 0.0047, 0.0046, 0.0046, 0.0045, 0.0045, 0.0045,\n",
       "       0.0044, 0.0044])"
      ]
     },
     "execution_count": 24,
     "metadata": {},
     "output_type": "execute_result"
    }
   ],
   "source": [
    "benford = np.array(benford)\n",
    "benford"
   ]
  },
  {
   "cell_type": "code",
   "execution_count": 25,
   "metadata": {},
   "outputs": [
    {
     "data": {
      "text/plain": [
       "6"
      ]
     },
     "execution_count": 25,
     "metadata": {},
     "output_type": "execute_result"
    }
   ],
   "source": [
    "f0_tot=f0.sum()\n",
    "f0_tot"
   ]
  },
  {
   "cell_type": "code",
   "execution_count": 26,
   "metadata": {},
   "outputs": [],
   "source": [
    "fe = benford*f0_tot"
   ]
  },
  {
   "cell_type": "code",
   "execution_count": 27,
   "metadata": {},
   "outputs": [
    {
     "data": {
      "text/plain": [
       "array([0.2484, 0.2268, 0.2088, 0.1932, 0.18  , 0.168 , 0.1578, 0.1488,\n",
       "       0.141 , 0.1338, 0.1272, 0.1212, 0.1158, 0.111 , 0.1062, 0.102 ,\n",
       "       0.0984, 0.0948, 0.0912, 0.0882, 0.0852, 0.0828, 0.0804, 0.078 ,\n",
       "       0.0756, 0.0732, 0.0714, 0.0696, 0.0678, 0.066 , 0.0642, 0.063 ,\n",
       "       0.0612, 0.06  , 0.0588, 0.057 , 0.0558, 0.0546, 0.054 , 0.0528,\n",
       "       0.0516, 0.0504, 0.0498, 0.0486, 0.048 , 0.0468, 0.0462, 0.0456,\n",
       "       0.0444, 0.0438, 0.0432, 0.0426, 0.0414, 0.0408, 0.0402, 0.0396,\n",
       "       0.039 , 0.0384, 0.0378, 0.0372, 0.0372, 0.0366, 0.036 , 0.0354,\n",
       "       0.0348, 0.0348, 0.0342, 0.0336, 0.033 , 0.033 , 0.0324, 0.0318,\n",
       "       0.0318, 0.0312, 0.0306, 0.0306, 0.03  , 0.03  , 0.0294, 0.0294,\n",
       "       0.0288, 0.0282, 0.0282, 0.0276, 0.0276, 0.027 , 0.027 , 0.027 ,\n",
       "       0.0264, 0.0264])"
      ]
     },
     "execution_count": 27,
     "metadata": {},
     "output_type": "execute_result"
    }
   ],
   "source": [
    "fe "
   ]
  },
  {
   "cell_type": "code",
   "execution_count": 28,
   "metadata": {},
   "outputs": [
    {
     "data": {
      "text/plain": [
       "5.9994"
      ]
     },
     "execution_count": 28,
     "metadata": {},
     "output_type": "execute_result"
    }
   ],
   "source": [
    "fe.sum()"
   ]
  },
  {
   "cell_type": "code",
   "execution_count": 29,
   "metadata": {},
   "outputs": [
    {
     "data": {
      "text/plain": [
       "array([-0.0394, -0.0378, -0.0328, -0.0322, -0.03  , -0.028 , -0.0263,\n",
       "       -0.0228, -0.0235, -0.0223, -0.0212, -0.0202, -0.0193, -0.0185,\n",
       "       -0.0177, -0.017 , -0.0164, -0.0158, -0.0152, -0.0147, -0.0122,\n",
       "       -0.0138, -0.0134, -0.013 , -0.0126, -0.0122, -0.0119, -0.0116,\n",
       "       -0.0113, -0.011 , -0.0107, -0.0105, -0.0102, -0.01  , -0.0098,\n",
       "       -0.0095, -0.0093, -0.0091, -0.009 , -0.0088, -0.0086, -0.0084,\n",
       "       -0.0083, -0.0081, -0.008 , -0.0078, -0.0077, -0.0076, -0.0074,\n",
       "       -0.0073, -0.0072, -0.0071, -0.0069, -0.0068, -0.0067, -0.0066,\n",
       "       -0.0065, -0.0064, -0.0063, -0.0062, -0.0062, -0.0061, -0.006 ,\n",
       "       -0.0059, -0.0058, -0.0038, -0.0057, -0.0056, -0.0055, -0.0055,\n",
       "       -0.0054, -0.0053, -0.0053, -0.0052, -0.0051, -0.0051, -0.005 ,\n",
       "       -0.005 , -0.0049, -0.0049, -0.0028, -0.0047, -0.0047, -0.0046,\n",
       "       -0.0046, -0.0045, -0.0045, -0.0045, -0.0044, -0.0044])"
      ]
     },
     "execution_count": 29,
     "metadata": {},
     "output_type": "execute_result"
    }
   ],
   "source": [
    "diferencia = fre_relativa - benford\n",
    "diferencia "
   ]
  },
  {
   "cell_type": "code",
   "execution_count": 30,
   "metadata": {},
   "outputs": [
    {
     "data": {
      "text/plain": [
       "-0.9879"
      ]
     },
     "execution_count": 30,
     "metadata": {},
     "output_type": "execute_result"
    }
   ],
   "source": [
    "diferencia.sum()"
   ]
  },
  {
   "cell_type": "code",
   "execution_count": 31,
   "metadata": {},
   "outputs": [],
   "source": [
    "f0_fe= (f0-fe)"
   ]
  },
  {
   "cell_type": "code",
   "execution_count": 32,
   "metadata": {},
   "outputs": [],
   "source": [
    "f0_fe_2 = f0_fe*f0_fe"
   ]
  },
  {
   "cell_type": "code",
   "execution_count": 33,
   "metadata": {},
   "outputs": [
    {
     "data": {
      "text/plain": [
       "array([2.27416490e+00, 2.26800000e-01, 2.99807203e+00, 1.93200000e-01,\n",
       "       1.80000000e-01, 1.68000000e-01, 1.57800000e-01, 4.86923011e+00,\n",
       "       1.41000000e-01, 1.33800000e-01, 1.27200000e-01, 1.21200000e-01,\n",
       "       1.15800000e-01, 1.11000000e-01, 1.06200000e-01, 1.02000000e-01,\n",
       "       9.84000000e-02, 9.48000000e-02, 9.12000000e-02, 8.82000000e-02,\n",
       "       9.82228920e+00, 8.28000000e-02, 8.04000000e-02, 7.80000000e-02,\n",
       "       7.56000000e-02, 7.32000000e-02, 7.14000000e-02, 6.96000000e-02,\n",
       "       6.78000000e-02, 6.60000000e-02, 6.42000000e-02, 6.30000000e-02,\n",
       "       6.12000000e-02, 6.00000000e-02, 5.88000000e-02, 5.70000000e-02,\n",
       "       5.58000000e-02, 5.46000000e-02, 5.40000000e-02, 5.28000000e-02,\n",
       "       5.16000000e-02, 5.04000000e-02, 4.98000000e-02, 4.86000000e-02,\n",
       "       4.80000000e-02, 4.68000000e-02, 4.62000000e-02, 4.56000000e-02,\n",
       "       4.44000000e-02, 4.38000000e-02, 4.32000000e-02, 4.26000000e-02,\n",
       "       4.14000000e-02, 4.08000000e-02, 4.02000000e-02, 3.96000000e-02,\n",
       "       3.90000000e-02, 3.84000000e-02, 3.78000000e-02, 3.72000000e-02,\n",
       "       3.72000000e-02, 3.66000000e-02, 3.60000000e-02, 3.54000000e-02,\n",
       "       3.48000000e-02, 2.67704322e+01, 3.42000000e-02, 3.36000000e-02,\n",
       "       3.30000000e-02, 3.30000000e-02, 3.24000000e-02, 3.18000000e-02,\n",
       "       3.18000000e-02, 3.12000000e-02, 3.06000000e-02, 3.06000000e-02,\n",
       "       3.00000000e-02, 3.00000000e-02, 2.94000000e-02, 2.94000000e-02,\n",
       "       3.27510222e+01, 2.82000000e-02, 2.82000000e-02, 2.76000000e-02,\n",
       "       2.76000000e-02, 2.70000000e-02, 2.70000000e-02, 2.70000000e-02,\n",
       "       2.64000000e-02, 2.64000000e-02])"
      ]
     },
     "execution_count": 33,
     "metadata": {},
     "output_type": "execute_result"
    }
   ],
   "source": [
    "f0_fe_2_fe=f0_fe_2/fe\n",
    "f0_fe_2_fe"
   ]
  },
  {
   "cell_type": "markdown",
   "metadata": {},
   "source": [
    "# Partido Nacional"
   ]
  },
  {
   "cell_type": "code",
   "execution_count": 34,
   "metadata": {},
   "outputs": [
    {
     "data": {
      "text/plain": [
       "84.72981064151652"
      ]
     },
     "execution_count": 34,
     "metadata": {},
     "output_type": "execute_result"
    }
   ],
   "source": [
    "x_2 = f0_fe_2_fe.sum()\n",
    "x_2 "
   ]
  },
  {
   "cell_type": "code",
   "execution_count": 35,
   "metadata": {},
   "outputs": [],
   "source": [
    "letters = {}\n",
    "\n",
    "for i in range(9,99):\n",
    "    letters[str(i+1)] = 0\n",
    "    \n",
    "list_of_nums = pli\n",
    "for n in list_of_nums:\n",
    "    first_digit = str(n)[0]+str(n)[1]\n",
    "    letters[first_digit] += 1\n",
    "y = [round(val / nfib, 4) for val in letters.values()]\n",
    "fre_relativa = y\n",
    "y = list(letters.values())\n",
    "f0= y\n",
    "x = list(letters.keys())\n",
    "y =  [round(math.log10(1+(1/int(val))), 4) for val in letters.keys()]\n",
    "benford = y"
   ]
  },
  {
   "cell_type": "code",
   "execution_count": 36,
   "metadata": {},
   "outputs": [
    {
     "data": {
      "text/plain": [
       "array([0, 0, 0, 0, 0, 0, 0, 2, 1, 0, 0, 0, 1, 0, 1, 0, 0, 0, 0, 0, 0, 1,\n",
       "       0, 0, 0, 0, 0, 0, 0, 0, 0, 0, 0, 0, 0, 0, 0, 0, 0, 0, 0, 0, 0, 0,\n",
       "       0, 0, 0, 0, 0, 0, 0, 0, 0, 0, 0, 0, 0, 0, 0, 0, 0, 0, 0, 0, 0, 0,\n",
       "       0, 0, 0, 0, 0, 0, 0, 0, 0, 0, 0, 0, 0, 0, 0, 0, 0, 0, 0, 0, 0, 0,\n",
       "       0, 0])"
      ]
     },
     "execution_count": 36,
     "metadata": {},
     "output_type": "execute_result"
    }
   ],
   "source": [
    "f0 = np.array(f0)\n",
    "f0"
   ]
  },
  {
   "cell_type": "code",
   "execution_count": 37,
   "metadata": {},
   "outputs": [
    {
     "data": {
      "text/plain": [
       "array([0.   , 0.   , 0.   , 0.   , 0.   , 0.   , 0.   , 0.004, 0.002,\n",
       "       0.   , 0.   , 0.   , 0.002, 0.   , 0.002, 0.   , 0.   , 0.   ,\n",
       "       0.   , 0.   , 0.   , 0.002, 0.   , 0.   , 0.   , 0.   , 0.   ,\n",
       "       0.   , 0.   , 0.   , 0.   , 0.   , 0.   , 0.   , 0.   , 0.   ,\n",
       "       0.   , 0.   , 0.   , 0.   , 0.   , 0.   , 0.   , 0.   , 0.   ,\n",
       "       0.   , 0.   , 0.   , 0.   , 0.   , 0.   , 0.   , 0.   , 0.   ,\n",
       "       0.   , 0.   , 0.   , 0.   , 0.   , 0.   , 0.   , 0.   , 0.   ,\n",
       "       0.   , 0.   , 0.   , 0.   , 0.   , 0.   , 0.   , 0.   , 0.   ,\n",
       "       0.   , 0.   , 0.   , 0.   , 0.   , 0.   , 0.   , 0.   , 0.   ,\n",
       "       0.   , 0.   , 0.   , 0.   , 0.   , 0.   , 0.   , 0.   , 0.   ])"
      ]
     },
     "execution_count": 37,
     "metadata": {},
     "output_type": "execute_result"
    }
   ],
   "source": [
    "fre_relativa = np.array(fre_relativa)\n",
    "fre_relativa "
   ]
  },
  {
   "cell_type": "code",
   "execution_count": 38,
   "metadata": {},
   "outputs": [
    {
     "data": {
      "text/plain": [
       "array([0.0414, 0.0378, 0.0348, 0.0322, 0.03  , 0.028 , 0.0263, 0.0248,\n",
       "       0.0235, 0.0223, 0.0212, 0.0202, 0.0193, 0.0185, 0.0177, 0.017 ,\n",
       "       0.0164, 0.0158, 0.0152, 0.0147, 0.0142, 0.0138, 0.0134, 0.013 ,\n",
       "       0.0126, 0.0122, 0.0119, 0.0116, 0.0113, 0.011 , 0.0107, 0.0105,\n",
       "       0.0102, 0.01  , 0.0098, 0.0095, 0.0093, 0.0091, 0.009 , 0.0088,\n",
       "       0.0086, 0.0084, 0.0083, 0.0081, 0.008 , 0.0078, 0.0077, 0.0076,\n",
       "       0.0074, 0.0073, 0.0072, 0.0071, 0.0069, 0.0068, 0.0067, 0.0066,\n",
       "       0.0065, 0.0064, 0.0063, 0.0062, 0.0062, 0.0061, 0.006 , 0.0059,\n",
       "       0.0058, 0.0058, 0.0057, 0.0056, 0.0055, 0.0055, 0.0054, 0.0053,\n",
       "       0.0053, 0.0052, 0.0051, 0.0051, 0.005 , 0.005 , 0.0049, 0.0049,\n",
       "       0.0048, 0.0047, 0.0047, 0.0046, 0.0046, 0.0045, 0.0045, 0.0045,\n",
       "       0.0044, 0.0044])"
      ]
     },
     "execution_count": 38,
     "metadata": {},
     "output_type": "execute_result"
    }
   ],
   "source": [
    "benford = np.array(benford)\n",
    "benford"
   ]
  },
  {
   "cell_type": "code",
   "execution_count": 39,
   "metadata": {},
   "outputs": [
    {
     "data": {
      "text/plain": [
       "6"
      ]
     },
     "execution_count": 39,
     "metadata": {},
     "output_type": "execute_result"
    }
   ],
   "source": [
    "f0_tot=f0.sum()\n",
    "f0_tot"
   ]
  },
  {
   "cell_type": "code",
   "execution_count": 40,
   "metadata": {},
   "outputs": [],
   "source": [
    "fe = benford*f0_tot"
   ]
  },
  {
   "cell_type": "code",
   "execution_count": 41,
   "metadata": {},
   "outputs": [
    {
     "data": {
      "text/plain": [
       "array([0.2484, 0.2268, 0.2088, 0.1932, 0.18  , 0.168 , 0.1578, 0.1488,\n",
       "       0.141 , 0.1338, 0.1272, 0.1212, 0.1158, 0.111 , 0.1062, 0.102 ,\n",
       "       0.0984, 0.0948, 0.0912, 0.0882, 0.0852, 0.0828, 0.0804, 0.078 ,\n",
       "       0.0756, 0.0732, 0.0714, 0.0696, 0.0678, 0.066 , 0.0642, 0.063 ,\n",
       "       0.0612, 0.06  , 0.0588, 0.057 , 0.0558, 0.0546, 0.054 , 0.0528,\n",
       "       0.0516, 0.0504, 0.0498, 0.0486, 0.048 , 0.0468, 0.0462, 0.0456,\n",
       "       0.0444, 0.0438, 0.0432, 0.0426, 0.0414, 0.0408, 0.0402, 0.0396,\n",
       "       0.039 , 0.0384, 0.0378, 0.0372, 0.0372, 0.0366, 0.036 , 0.0354,\n",
       "       0.0348, 0.0348, 0.0342, 0.0336, 0.033 , 0.033 , 0.0324, 0.0318,\n",
       "       0.0318, 0.0312, 0.0306, 0.0306, 0.03  , 0.03  , 0.0294, 0.0294,\n",
       "       0.0288, 0.0282, 0.0282, 0.0276, 0.0276, 0.027 , 0.027 , 0.027 ,\n",
       "       0.0264, 0.0264])"
      ]
     },
     "execution_count": 41,
     "metadata": {},
     "output_type": "execute_result"
    }
   ],
   "source": [
    "fe "
   ]
  },
  {
   "cell_type": "code",
   "execution_count": 42,
   "metadata": {},
   "outputs": [
    {
     "data": {
      "text/plain": [
       "5.9994"
      ]
     },
     "execution_count": 42,
     "metadata": {},
     "output_type": "execute_result"
    }
   ],
   "source": [
    "fe.sum()"
   ]
  },
  {
   "cell_type": "code",
   "execution_count": 43,
   "metadata": {},
   "outputs": [
    {
     "data": {
      "text/plain": [
       "array([-0.0414, -0.0378, -0.0348, -0.0322, -0.03  , -0.028 , -0.0263,\n",
       "       -0.0208, -0.0215, -0.0223, -0.0212, -0.0202, -0.0173, -0.0185,\n",
       "       -0.0157, -0.017 , -0.0164, -0.0158, -0.0152, -0.0147, -0.0142,\n",
       "       -0.0118, -0.0134, -0.013 , -0.0126, -0.0122, -0.0119, -0.0116,\n",
       "       -0.0113, -0.011 , -0.0107, -0.0105, -0.0102, -0.01  , -0.0098,\n",
       "       -0.0095, -0.0093, -0.0091, -0.009 , -0.0088, -0.0086, -0.0084,\n",
       "       -0.0083, -0.0081, -0.008 , -0.0078, -0.0077, -0.0076, -0.0074,\n",
       "       -0.0073, -0.0072, -0.0071, -0.0069, -0.0068, -0.0067, -0.0066,\n",
       "       -0.0065, -0.0064, -0.0063, -0.0062, -0.0062, -0.0061, -0.006 ,\n",
       "       -0.0059, -0.0058, -0.0058, -0.0057, -0.0056, -0.0055, -0.0055,\n",
       "       -0.0054, -0.0053, -0.0053, -0.0052, -0.0051, -0.0051, -0.005 ,\n",
       "       -0.005 , -0.0049, -0.0049, -0.0048, -0.0047, -0.0047, -0.0046,\n",
       "       -0.0046, -0.0045, -0.0045, -0.0045, -0.0044, -0.0044])"
      ]
     },
     "execution_count": 43,
     "metadata": {},
     "output_type": "execute_result"
    }
   ],
   "source": [
    "diferencia = fre_relativa - benford\n",
    "diferencia "
   ]
  },
  {
   "cell_type": "code",
   "execution_count": 44,
   "metadata": {},
   "outputs": [
    {
     "data": {
      "text/plain": [
       "-0.9879"
      ]
     },
     "execution_count": 44,
     "metadata": {},
     "output_type": "execute_result"
    }
   ],
   "source": [
    "diferencia.sum()"
   ]
  },
  {
   "cell_type": "code",
   "execution_count": 45,
   "metadata": {},
   "outputs": [],
   "source": [
    "f0_fe= (f0-fe)"
   ]
  },
  {
   "cell_type": "code",
   "execution_count": 46,
   "metadata": {},
   "outputs": [],
   "source": [
    "f0_fe_2 = f0_fe*f0_fe"
   ]
  },
  {
   "cell_type": "code",
   "execution_count": 47,
   "metadata": {},
   "outputs": [
    {
     "data": {
      "text/plain": [
       "array([ 0.2484    ,  0.2268    ,  0.2088    ,  0.1932    ,  0.18      ,\n",
       "        0.168     ,  0.1578    , 23.03052043,  5.23319858,  0.1338    ,\n",
       "        0.1272    ,  0.1212    ,  6.75137858,  0.111     ,  7.52239586,\n",
       "        0.102     ,  0.0984    ,  0.0948    ,  0.0912    ,  0.0882    ,\n",
       "        0.0852    , 10.16009469,  0.0804    ,  0.078     ,  0.0756    ,\n",
       "        0.0732    ,  0.0714    ,  0.0696    ,  0.0678    ,  0.066     ,\n",
       "        0.0642    ,  0.063     ,  0.0612    ,  0.06      ,  0.0588    ,\n",
       "        0.057     ,  0.0558    ,  0.0546    ,  0.054     ,  0.0528    ,\n",
       "        0.0516    ,  0.0504    ,  0.0498    ,  0.0486    ,  0.048     ,\n",
       "        0.0468    ,  0.0462    ,  0.0456    ,  0.0444    ,  0.0438    ,\n",
       "        0.0432    ,  0.0426    ,  0.0414    ,  0.0408    ,  0.0402    ,\n",
       "        0.0396    ,  0.039     ,  0.0384    ,  0.0378    ,  0.0372    ,\n",
       "        0.0372    ,  0.0366    ,  0.036     ,  0.0354    ,  0.0348    ,\n",
       "        0.0348    ,  0.0342    ,  0.0336    ,  0.033     ,  0.033     ,\n",
       "        0.0324    ,  0.0318    ,  0.0318    ,  0.0312    ,  0.0306    ,\n",
       "        0.0306    ,  0.03      ,  0.03      ,  0.0294    ,  0.0294    ,\n",
       "        0.0288    ,  0.0282    ,  0.0282    ,  0.0276    ,  0.0276    ,\n",
       "        0.027     ,  0.027     ,  0.027     ,  0.0264    ,  0.0264    ])"
      ]
     },
     "execution_count": 47,
     "metadata": {},
     "output_type": "execute_result"
    }
   ],
   "source": [
    "f0_fe_2_fe=f0_fe_2/fe\n",
    "f0_fe_2_fe"
   ]
  },
  {
   "cell_type": "markdown",
   "metadata": {},
   "source": [
    "# Partido Libre"
   ]
  },
  {
   "cell_type": "code",
   "execution_count": 48,
   "metadata": {},
   "outputs": [
    {
     "data": {
      "text/plain": [
       "58.10238813829708"
      ]
     },
     "execution_count": 48,
     "metadata": {},
     "output_type": "execute_result"
    }
   ],
   "source": [
    "x_2 = f0_fe_2_fe.sum()\n",
    "x_2 "
   ]
  },
  {
   "cell_type": "code",
   "execution_count": 49,
   "metadata": {},
   "outputs": [],
   "source": [
    "letters = {}\n",
    "\n",
    "for i in range(9,99):\n",
    "    letters[str(i+1)] = 0\n",
    "    \n",
    "list_of_nums = tot\n",
    "for n in list_of_nums:\n",
    "    first_digit = str(n)[0]+str(n)[1]\n",
    "    letters[first_digit] += 1\n",
    "y = [round(val / nfib, 4) for val in letters.values()]\n",
    "fre_relativa = y\n",
    "y = list(letters.values())\n",
    "f0= y\n",
    "x = list(letters.keys())\n",
    "y =  [round(math.log10(1+(1/int(val))), 4) for val in letters.keys()]\n",
    "benford = y"
   ]
  },
  {
   "cell_type": "code",
   "execution_count": 50,
   "metadata": {},
   "outputs": [
    {
     "data": {
      "text/plain": [
       "array([0, 0, 0, 0, 0, 0, 0, 0, 0, 0, 0, 0, 0, 0, 0, 0, 0, 0, 1, 0, 0, 0,\n",
       "       0, 2, 0, 0, 0, 1, 0, 0, 0, 0, 0, 1, 0, 0, 0, 0, 0, 0, 0, 0, 0, 0,\n",
       "       0, 0, 0, 0, 0, 0, 0, 0, 0, 0, 0, 0, 0, 0, 0, 1, 0, 0, 0, 0, 0, 0,\n",
       "       0, 0, 0, 0, 0, 0, 0, 0, 0, 0, 0, 0, 0, 0, 0, 0, 0, 0, 0, 0, 0, 0,\n",
       "       0, 0])"
      ]
     },
     "execution_count": 50,
     "metadata": {},
     "output_type": "execute_result"
    }
   ],
   "source": [
    "f0 = np.array(f0)\n",
    "f0"
   ]
  },
  {
   "cell_type": "code",
   "execution_count": 51,
   "metadata": {},
   "outputs": [
    {
     "data": {
      "text/plain": [
       "array([0.   , 0.   , 0.   , 0.   , 0.   , 0.   , 0.   , 0.   , 0.   ,\n",
       "       0.   , 0.   , 0.   , 0.   , 0.   , 0.   , 0.   , 0.   , 0.   ,\n",
       "       0.002, 0.   , 0.   , 0.   , 0.   , 0.004, 0.   , 0.   , 0.   ,\n",
       "       0.002, 0.   , 0.   , 0.   , 0.   , 0.   , 0.002, 0.   , 0.   ,\n",
       "       0.   , 0.   , 0.   , 0.   , 0.   , 0.   , 0.   , 0.   , 0.   ,\n",
       "       0.   , 0.   , 0.   , 0.   , 0.   , 0.   , 0.   , 0.   , 0.   ,\n",
       "       0.   , 0.   , 0.   , 0.   , 0.   , 0.002, 0.   , 0.   , 0.   ,\n",
       "       0.   , 0.   , 0.   , 0.   , 0.   , 0.   , 0.   , 0.   , 0.   ,\n",
       "       0.   , 0.   , 0.   , 0.   , 0.   , 0.   , 0.   , 0.   , 0.   ,\n",
       "       0.   , 0.   , 0.   , 0.   , 0.   , 0.   , 0.   , 0.   , 0.   ])"
      ]
     },
     "execution_count": 51,
     "metadata": {},
     "output_type": "execute_result"
    }
   ],
   "source": [
    "fre_relativa = np.array(fre_relativa)\n",
    "fre_relativa "
   ]
  },
  {
   "cell_type": "code",
   "execution_count": 52,
   "metadata": {},
   "outputs": [
    {
     "data": {
      "text/plain": [
       "array([0.0414, 0.0378, 0.0348, 0.0322, 0.03  , 0.028 , 0.0263, 0.0248,\n",
       "       0.0235, 0.0223, 0.0212, 0.0202, 0.0193, 0.0185, 0.0177, 0.017 ,\n",
       "       0.0164, 0.0158, 0.0152, 0.0147, 0.0142, 0.0138, 0.0134, 0.013 ,\n",
       "       0.0126, 0.0122, 0.0119, 0.0116, 0.0113, 0.011 , 0.0107, 0.0105,\n",
       "       0.0102, 0.01  , 0.0098, 0.0095, 0.0093, 0.0091, 0.009 , 0.0088,\n",
       "       0.0086, 0.0084, 0.0083, 0.0081, 0.008 , 0.0078, 0.0077, 0.0076,\n",
       "       0.0074, 0.0073, 0.0072, 0.0071, 0.0069, 0.0068, 0.0067, 0.0066,\n",
       "       0.0065, 0.0064, 0.0063, 0.0062, 0.0062, 0.0061, 0.006 , 0.0059,\n",
       "       0.0058, 0.0058, 0.0057, 0.0056, 0.0055, 0.0055, 0.0054, 0.0053,\n",
       "       0.0053, 0.0052, 0.0051, 0.0051, 0.005 , 0.005 , 0.0049, 0.0049,\n",
       "       0.0048, 0.0047, 0.0047, 0.0046, 0.0046, 0.0045, 0.0045, 0.0045,\n",
       "       0.0044, 0.0044])"
      ]
     },
     "execution_count": 52,
     "metadata": {},
     "output_type": "execute_result"
    }
   ],
   "source": [
    "benford = np.array(benford)\n",
    "benford"
   ]
  },
  {
   "cell_type": "code",
   "execution_count": 53,
   "metadata": {},
   "outputs": [
    {
     "data": {
      "text/plain": [
       "6"
      ]
     },
     "execution_count": 53,
     "metadata": {},
     "output_type": "execute_result"
    }
   ],
   "source": [
    "f0_tot=f0.sum()\n",
    "f0_tot"
   ]
  },
  {
   "cell_type": "code",
   "execution_count": 54,
   "metadata": {},
   "outputs": [],
   "source": [
    "fe = benford*f0_tot"
   ]
  },
  {
   "cell_type": "code",
   "execution_count": 55,
   "metadata": {},
   "outputs": [
    {
     "data": {
      "text/plain": [
       "array([0.2484, 0.2268, 0.2088, 0.1932, 0.18  , 0.168 , 0.1578, 0.1488,\n",
       "       0.141 , 0.1338, 0.1272, 0.1212, 0.1158, 0.111 , 0.1062, 0.102 ,\n",
       "       0.0984, 0.0948, 0.0912, 0.0882, 0.0852, 0.0828, 0.0804, 0.078 ,\n",
       "       0.0756, 0.0732, 0.0714, 0.0696, 0.0678, 0.066 , 0.0642, 0.063 ,\n",
       "       0.0612, 0.06  , 0.0588, 0.057 , 0.0558, 0.0546, 0.054 , 0.0528,\n",
       "       0.0516, 0.0504, 0.0498, 0.0486, 0.048 , 0.0468, 0.0462, 0.0456,\n",
       "       0.0444, 0.0438, 0.0432, 0.0426, 0.0414, 0.0408, 0.0402, 0.0396,\n",
       "       0.039 , 0.0384, 0.0378, 0.0372, 0.0372, 0.0366, 0.036 , 0.0354,\n",
       "       0.0348, 0.0348, 0.0342, 0.0336, 0.033 , 0.033 , 0.0324, 0.0318,\n",
       "       0.0318, 0.0312, 0.0306, 0.0306, 0.03  , 0.03  , 0.0294, 0.0294,\n",
       "       0.0288, 0.0282, 0.0282, 0.0276, 0.0276, 0.027 , 0.027 , 0.027 ,\n",
       "       0.0264, 0.0264])"
      ]
     },
     "execution_count": 55,
     "metadata": {},
     "output_type": "execute_result"
    }
   ],
   "source": [
    "fe "
   ]
  },
  {
   "cell_type": "code",
   "execution_count": 56,
   "metadata": {},
   "outputs": [
    {
     "data": {
      "text/plain": [
       "5.9994"
      ]
     },
     "execution_count": 56,
     "metadata": {},
     "output_type": "execute_result"
    }
   ],
   "source": [
    "fe.sum()"
   ]
  },
  {
   "cell_type": "code",
   "execution_count": 57,
   "metadata": {},
   "outputs": [
    {
     "data": {
      "text/plain": [
       "array([-0.0414, -0.0378, -0.0348, -0.0322, -0.03  , -0.028 , -0.0263,\n",
       "       -0.0248, -0.0235, -0.0223, -0.0212, -0.0202, -0.0193, -0.0185,\n",
       "       -0.0177, -0.017 , -0.0164, -0.0158, -0.0132, -0.0147, -0.0142,\n",
       "       -0.0138, -0.0134, -0.009 , -0.0126, -0.0122, -0.0119, -0.0096,\n",
       "       -0.0113, -0.011 , -0.0107, -0.0105, -0.0102, -0.008 , -0.0098,\n",
       "       -0.0095, -0.0093, -0.0091, -0.009 , -0.0088, -0.0086, -0.0084,\n",
       "       -0.0083, -0.0081, -0.008 , -0.0078, -0.0077, -0.0076, -0.0074,\n",
       "       -0.0073, -0.0072, -0.0071, -0.0069, -0.0068, -0.0067, -0.0066,\n",
       "       -0.0065, -0.0064, -0.0063, -0.0042, -0.0062, -0.0061, -0.006 ,\n",
       "       -0.0059, -0.0058, -0.0058, -0.0057, -0.0056, -0.0055, -0.0055,\n",
       "       -0.0054, -0.0053, -0.0053, -0.0052, -0.0051, -0.0051, -0.005 ,\n",
       "       -0.005 , -0.0049, -0.0049, -0.0048, -0.0047, -0.0047, -0.0046,\n",
       "       -0.0046, -0.0045, -0.0045, -0.0045, -0.0044, -0.0044])"
      ]
     },
     "execution_count": 57,
     "metadata": {},
     "output_type": "execute_result"
    }
   ],
   "source": [
    "diferencia = fre_relativa - benford\n",
    "diferencia "
   ]
  },
  {
   "cell_type": "code",
   "execution_count": 58,
   "metadata": {},
   "outputs": [
    {
     "data": {
      "text/plain": [
       "-0.9878999999999999"
      ]
     },
     "execution_count": 58,
     "metadata": {},
     "output_type": "execute_result"
    }
   ],
   "source": [
    "diferencia.sum()"
   ]
  },
  {
   "cell_type": "code",
   "execution_count": 59,
   "metadata": {},
   "outputs": [],
   "source": [
    "f0_fe= (f0-fe)"
   ]
  },
  {
   "cell_type": "code",
   "execution_count": 60,
   "metadata": {},
   "outputs": [],
   "source": [
    "f0_fe_2 = f0_fe*f0_fe"
   ]
  },
  {
   "cell_type": "code",
   "execution_count": 61,
   "metadata": {},
   "outputs": [
    {
     "data": {
      "text/plain": [
       "array([2.48400000e-01, 2.26800000e-01, 2.08800000e-01, 1.93200000e-01,\n",
       "       1.80000000e-01, 1.68000000e-01, 1.57800000e-01, 1.48800000e-01,\n",
       "       1.41000000e-01, 1.33800000e-01, 1.27200000e-01, 1.21200000e-01,\n",
       "       1.15800000e-01, 1.11000000e-01, 1.06200000e-01, 1.02000000e-01,\n",
       "       9.84000000e-02, 9.48000000e-02, 9.05611228e+00, 8.82000000e-02,\n",
       "       8.52000000e-02, 8.28000000e-02, 8.04000000e-02, 4.73600513e+01,\n",
       "       7.56000000e-02, 7.32000000e-02, 7.14000000e-02, 1.24374161e+01,\n",
       "       6.78000000e-02, 6.60000000e-02, 6.42000000e-02, 6.30000000e-02,\n",
       "       6.12000000e-02, 1.47266667e+01, 5.88000000e-02, 5.70000000e-02,\n",
       "       5.58000000e-02, 5.46000000e-02, 5.40000000e-02, 5.28000000e-02,\n",
       "       5.16000000e-02, 5.04000000e-02, 4.98000000e-02, 4.86000000e-02,\n",
       "       4.80000000e-02, 4.68000000e-02, 4.62000000e-02, 4.56000000e-02,\n",
       "       4.44000000e-02, 4.38000000e-02, 4.32000000e-02, 4.26000000e-02,\n",
       "       4.14000000e-02, 4.08000000e-02, 4.02000000e-02, 3.96000000e-02,\n",
       "       3.90000000e-02, 3.84000000e-02, 3.78000000e-02, 2.49189204e+01,\n",
       "       3.72000000e-02, 3.66000000e-02, 3.60000000e-02, 3.54000000e-02,\n",
       "       3.48000000e-02, 3.48000000e-02, 3.42000000e-02, 3.36000000e-02,\n",
       "       3.30000000e-02, 3.30000000e-02, 3.24000000e-02, 3.18000000e-02,\n",
       "       3.18000000e-02, 3.12000000e-02, 3.06000000e-02, 3.06000000e-02,\n",
       "       3.00000000e-02, 3.00000000e-02, 2.94000000e-02, 2.94000000e-02,\n",
       "       2.88000000e-02, 2.82000000e-02, 2.82000000e-02, 2.76000000e-02,\n",
       "       2.76000000e-02, 2.70000000e-02, 2.70000000e-02, 2.70000000e-02,\n",
       "       2.64000000e-02, 2.64000000e-02])"
      ]
     },
     "execution_count": 61,
     "metadata": {},
     "output_type": "execute_result"
    }
   ],
   "source": [
    "f0_fe_2_fe=f0_fe_2/fe\n",
    "f0_fe_2_fe"
   ]
  },
  {
   "cell_type": "markdown",
   "metadata": {},
   "source": [
    "# Total"
   ]
  },
  {
   "cell_type": "code",
   "execution_count": 62,
   "metadata": {},
   "outputs": [
    {
     "data": {
      "text/plain": [
       "114.16256675148125"
      ]
     },
     "execution_count": 62,
     "metadata": {},
     "output_type": "execute_result"
    }
   ],
   "source": [
    "x_2 = f0_fe_2_fe.sum()\n",
    "x_2 "
   ]
  }
 ],
 "metadata": {
  "kernelspec": {
   "display_name": "Python 3",
   "language": "python",
   "name": "python3"
  },
  "language_info": {
   "codemirror_mode": {
    "name": "ipython",
    "version": 3
   },
   "file_extension": ".py",
   "mimetype": "text/x-python",
   "name": "python",
   "nbconvert_exporter": "python",
   "pygments_lexer": "ipython3",
   "version": "3.7.3"
  }
 },
 "nbformat": 4,
 "nbformat_minor": 4
}
