{
 "cells": [
  {
   "cell_type": "code",
   "execution_count": 1,
   "metadata": {},
   "outputs": [],
   "source": [
    "import matplotlib.pyplot as plt\n",
    "import numpy as np\n",
    "import math\n",
    "import pandas as pd \n",
    "letters = {}\n",
    "\n",
    "for i in range(9,99):\n",
    "    letters[str(i+1)] = 0\n",
    "    \n",
    "\n",
    "nfib = 500"
   ]
  },
  {
   "cell_type": "code",
   "execution_count": 2,
   "metadata": {},
   "outputs": [
    {
     "data": {
      "text/html": [
       "<div>\n",
       "<style scoped>\n",
       "    .dataframe tbody tr th:only-of-type {\n",
       "        vertical-align: middle;\n",
       "    }\n",
       "\n",
       "    .dataframe tbody tr th {\n",
       "        vertical-align: top;\n",
       "    }\n",
       "\n",
       "    .dataframe thead th {\n",
       "        text-align: right;\n",
       "    }\n",
       "</style>\n",
       "<table border=\"1\" class=\"dataframe\">\n",
       "  <thead>\n",
       "    <tr style=\"text-align: right;\">\n",
       "      <th></th>\n",
       "      <th>PL</th>\n",
       "      <th>PN</th>\n",
       "      <th>LIBRE-PINU</th>\n",
       "      <th>TOTAL</th>\n",
       "    </tr>\n",
       "  </thead>\n",
       "  <tbody>\n",
       "    <tr>\n",
       "      <th>0</th>\n",
       "      <td>6344</td>\n",
       "      <td>23173</td>\n",
       "      <td>32813</td>\n",
       "      <td>62598</td>\n",
       "    </tr>\n",
       "    <tr>\n",
       "      <th>1</th>\n",
       "      <td>874</td>\n",
       "      <td>2407</td>\n",
       "      <td>2043</td>\n",
       "      <td>5378</td>\n",
       "    </tr>\n",
       "    <tr>\n",
       "      <th>2</th>\n",
       "      <td>1059</td>\n",
       "      <td>6035</td>\n",
       "      <td>3197</td>\n",
       "      <td>10378</td>\n",
       "    </tr>\n",
       "    <tr>\n",
       "      <th>3</th>\n",
       "      <td>262</td>\n",
       "      <td>1295</td>\n",
       "      <td>743</td>\n",
       "      <td>2318</td>\n",
       "    </tr>\n",
       "    <tr>\n",
       "      <th>4</th>\n",
       "      <td>1155</td>\n",
       "      <td>4753</td>\n",
       "      <td>3142</td>\n",
       "      <td>9241</td>\n",
       "    </tr>\n",
       "    <tr>\n",
       "      <th>5</th>\n",
       "      <td>3204</td>\n",
       "      <td>10377</td>\n",
       "      <td>8058</td>\n",
       "      <td>21782</td>\n",
       "    </tr>\n",
       "    <tr>\n",
       "      <th>6</th>\n",
       "      <td>3491</td>\n",
       "      <td>7003</td>\n",
       "      <td>9004</td>\n",
       "      <td>19661</td>\n",
       "    </tr>\n",
       "    <tr>\n",
       "      <th>7</th>\n",
       "      <td>1230</td>\n",
       "      <td>1686</td>\n",
       "      <td>710</td>\n",
       "      <td>3645</td>\n",
       "    </tr>\n",
       "    <tr>\n",
       "      <th>8</th>\n",
       "      <td>2178</td>\n",
       "      <td>5990</td>\n",
       "      <td>6571</td>\n",
       "      <td>14820</td>\n",
       "    </tr>\n",
       "    <tr>\n",
       "      <th>9</th>\n",
       "      <td>1295</td>\n",
       "      <td>4733</td>\n",
       "      <td>3175</td>\n",
       "      <td>9250</td>\n",
       "    </tr>\n",
       "    <tr>\n",
       "      <th>10</th>\n",
       "      <td>1390</td>\n",
       "      <td>6258</td>\n",
       "      <td>5045</td>\n",
       "      <td>12777</td>\n",
       "    </tr>\n",
       "    <tr>\n",
       "      <th>11</th>\n",
       "      <td>713</td>\n",
       "      <td>2223</td>\n",
       "      <td>868</td>\n",
       "      <td>3820</td>\n",
       "    </tr>\n",
       "    <tr>\n",
       "      <th>12</th>\n",
       "      <td>516</td>\n",
       "      <td>1332</td>\n",
       "      <td>637</td>\n",
       "      <td>2492</td>\n",
       "    </tr>\n",
       "    <tr>\n",
       "      <th>13</th>\n",
       "      <td>645</td>\n",
       "      <td>1377</td>\n",
       "      <td>635</td>\n",
       "      <td>2689</td>\n",
       "    </tr>\n",
       "    <tr>\n",
       "      <th>14</th>\n",
       "      <td>2094</td>\n",
       "      <td>6777</td>\n",
       "      <td>4437</td>\n",
       "      <td>13384</td>\n",
       "    </tr>\n",
       "    <tr>\n",
       "      <th>15</th>\n",
       "      <td>1513</td>\n",
       "      <td>3105</td>\n",
       "      <td>3488</td>\n",
       "      <td>8138</td>\n",
       "    </tr>\n",
       "  </tbody>\n",
       "</table>\n",
       "</div>"
      ],
      "text/plain": [
       "      PL     PN  LIBRE-PINU  TOTAL\n",
       "0   6344  23173       32813  62598\n",
       "1    874   2407        2043   5378\n",
       "2   1059   6035        3197  10378\n",
       "3    262   1295         743   2318\n",
       "4   1155   4753        3142   9241\n",
       "5   3204  10377        8058  21782\n",
       "6   3491   7003        9004  19661\n",
       "7   1230   1686         710   3645\n",
       "8   2178   5990        6571  14820\n",
       "9   1295   4733        3175   9250\n",
       "10  1390   6258        5045  12777\n",
       "11   713   2223         868   3820\n",
       "12   516   1332         637   2492\n",
       "13   645   1377         635   2689\n",
       "14  2094   6777        4437  13384\n",
       "15  1513   3105        3488   8138"
      ]
     },
     "execution_count": 2,
     "metadata": {},
     "output_type": "execute_result"
    }
   ],
   "source": [
    "df = pd.read_csv(\"https://docs.google.com/spreadsheets/d/1zuU8MkVl8U3G7h5xz18XE3IUumEMog1b/export?format=csv\")\n",
    "df"
   ]
  },
  {
   "cell_type": "code",
   "execution_count": 3,
   "metadata": {},
   "outputs": [
    {
     "data": {
      "text/plain": [
       "[6344,\n",
       " 874,\n",
       " 1059,\n",
       " 262,\n",
       " 1155,\n",
       " 3204,\n",
       " 3491,\n",
       " 1230,\n",
       " 2178,\n",
       " 1295,\n",
       " 1390,\n",
       " 713,\n",
       " 516,\n",
       " 645,\n",
       " 2094,\n",
       " 1513]"
      ]
     },
     "execution_count": 3,
     "metadata": {},
     "output_type": "execute_result"
    }
   ],
   "source": [
    "pl = []\n",
    "for i in df['PL']:\n",
    "    pl.append(i)\n",
    "pl"
   ]
  },
  {
   "cell_type": "code",
   "execution_count": 4,
   "metadata": {},
   "outputs": [
    {
     "data": {
      "text/plain": [
       "[23173,\n",
       " 2407,\n",
       " 6035,\n",
       " 1295,\n",
       " 4753,\n",
       " 10377,\n",
       " 7003,\n",
       " 1686,\n",
       " 5990,\n",
       " 4733,\n",
       " 6258,\n",
       " 2223,\n",
       " 1332,\n",
       " 1377,\n",
       " 6777,\n",
       " 3105]"
      ]
     },
     "execution_count": 4,
     "metadata": {},
     "output_type": "execute_result"
    }
   ],
   "source": [
    "pn = []\n",
    "for i in df['PN']:\n",
    "    pn.append(i)\n",
    "pn"
   ]
  },
  {
   "cell_type": "code",
   "execution_count": 5,
   "metadata": {},
   "outputs": [
    {
     "data": {
      "text/plain": [
       "[32813,\n",
       " 2043,\n",
       " 3197,\n",
       " 743,\n",
       " 3142,\n",
       " 8058,\n",
       " 9004,\n",
       " 710,\n",
       " 6571,\n",
       " 3175,\n",
       " 5045,\n",
       " 868,\n",
       " 637,\n",
       " 635,\n",
       " 4437,\n",
       " 3488]"
      ]
     },
     "execution_count": 5,
     "metadata": {},
     "output_type": "execute_result"
    }
   ],
   "source": [
    "pli = []\n",
    "for i in df['LIBRE-PINU']:\n",
    "    pli.append(i)\n",
    "pli"
   ]
  },
  {
   "cell_type": "code",
   "execution_count": 6,
   "metadata": {},
   "outputs": [
    {
     "data": {
      "text/plain": [
       "[62598,\n",
       " 5378,\n",
       " 10378,\n",
       " 2318,\n",
       " 9241,\n",
       " 21782,\n",
       " 19661,\n",
       " 3645,\n",
       " 14820,\n",
       " 9250,\n",
       " 12777,\n",
       " 3820,\n",
       " 2492,\n",
       " 2689,\n",
       " 13384,\n",
       " 8138]"
      ]
     },
     "execution_count": 6,
     "metadata": {},
     "output_type": "execute_result"
    }
   ],
   "source": [
    "tot = []\n",
    "for i in df['TOTAL']:\n",
    "    tot.append(i)\n",
    "tot"
   ]
  },
  {
   "cell_type": "code",
   "execution_count": 7,
   "metadata": {},
   "outputs": [],
   "source": [
    "list_of_nums = pl\n",
    "for n in list_of_nums:\n",
    "    first_digit = str(n)[0]+str(n)[1]\n",
    "    letters[first_digit] += 1\n",
    "y = [round(val / nfib, 4) for val in letters.values()]\n",
    "fre_relativa = y\n",
    "y = list(letters.values())\n",
    "f0= y\n",
    "x = list(letters.keys())\n",
    "y =  [round(math.log10(1+(1/int(val))), 4) for val in letters.keys()]\n",
    "benford = y"
   ]
  },
  {
   "cell_type": "code",
   "execution_count": 8,
   "metadata": {},
   "outputs": [
    {
     "data": {
      "text/plain": [
       "array([1, 1, 2, 1, 0, 1, 0, 0, 0, 0, 1, 1, 0, 0, 0, 0, 1, 0, 0, 0, 0, 0,\n",
       "       1, 0, 1, 0, 0, 0, 0, 0, 0, 0, 0, 0, 0, 0, 0, 0, 0, 0, 0, 1, 0, 0,\n",
       "       0, 0, 0, 0, 0, 0, 0, 0, 0, 1, 1, 0, 0, 0, 0, 0, 0, 1, 0, 0, 0, 0,\n",
       "       0, 0, 0, 0, 0, 0, 0, 0, 0, 0, 0, 1, 0, 0, 0, 0, 0, 0, 0, 0, 0, 0,\n",
       "       0, 0])"
      ]
     },
     "execution_count": 8,
     "metadata": {},
     "output_type": "execute_result"
    }
   ],
   "source": [
    "f0 = np.array(f0)\n",
    "f0"
   ]
  },
  {
   "cell_type": "code",
   "execution_count": 9,
   "metadata": {},
   "outputs": [
    {
     "data": {
      "text/plain": [
       "array([0.002, 0.002, 0.004, 0.002, 0.   , 0.002, 0.   , 0.   , 0.   ,\n",
       "       0.   , 0.002, 0.002, 0.   , 0.   , 0.   , 0.   , 0.002, 0.   ,\n",
       "       0.   , 0.   , 0.   , 0.   , 0.002, 0.   , 0.002, 0.   , 0.   ,\n",
       "       0.   , 0.   , 0.   , 0.   , 0.   , 0.   , 0.   , 0.   , 0.   ,\n",
       "       0.   , 0.   , 0.   , 0.   , 0.   , 0.002, 0.   , 0.   , 0.   ,\n",
       "       0.   , 0.   , 0.   , 0.   , 0.   , 0.   , 0.   , 0.   , 0.002,\n",
       "       0.002, 0.   , 0.   , 0.   , 0.   , 0.   , 0.   , 0.002, 0.   ,\n",
       "       0.   , 0.   , 0.   , 0.   , 0.   , 0.   , 0.   , 0.   , 0.   ,\n",
       "       0.   , 0.   , 0.   , 0.   , 0.   , 0.002, 0.   , 0.   , 0.   ,\n",
       "       0.   , 0.   , 0.   , 0.   , 0.   , 0.   , 0.   , 0.   , 0.   ])"
      ]
     },
     "execution_count": 9,
     "metadata": {},
     "output_type": "execute_result"
    }
   ],
   "source": [
    "fre_relativa = np.array(fre_relativa)\n",
    "fre_relativa "
   ]
  },
  {
   "cell_type": "code",
   "execution_count": 10,
   "metadata": {},
   "outputs": [
    {
     "data": {
      "text/plain": [
       "array([0.0414, 0.0378, 0.0348, 0.0322, 0.03  , 0.028 , 0.0263, 0.0248,\n",
       "       0.0235, 0.0223, 0.0212, 0.0202, 0.0193, 0.0185, 0.0177, 0.017 ,\n",
       "       0.0164, 0.0158, 0.0152, 0.0147, 0.0142, 0.0138, 0.0134, 0.013 ,\n",
       "       0.0126, 0.0122, 0.0119, 0.0116, 0.0113, 0.011 , 0.0107, 0.0105,\n",
       "       0.0102, 0.01  , 0.0098, 0.0095, 0.0093, 0.0091, 0.009 , 0.0088,\n",
       "       0.0086, 0.0084, 0.0083, 0.0081, 0.008 , 0.0078, 0.0077, 0.0076,\n",
       "       0.0074, 0.0073, 0.0072, 0.0071, 0.0069, 0.0068, 0.0067, 0.0066,\n",
       "       0.0065, 0.0064, 0.0063, 0.0062, 0.0062, 0.0061, 0.006 , 0.0059,\n",
       "       0.0058, 0.0058, 0.0057, 0.0056, 0.0055, 0.0055, 0.0054, 0.0053,\n",
       "       0.0053, 0.0052, 0.0051, 0.0051, 0.005 , 0.005 , 0.0049, 0.0049,\n",
       "       0.0048, 0.0047, 0.0047, 0.0046, 0.0046, 0.0045, 0.0045, 0.0045,\n",
       "       0.0044, 0.0044])"
      ]
     },
     "execution_count": 10,
     "metadata": {},
     "output_type": "execute_result"
    }
   ],
   "source": [
    "benford = np.array(benford)\n",
    "benford"
   ]
  },
  {
   "cell_type": "code",
   "execution_count": 11,
   "metadata": {},
   "outputs": [
    {
     "data": {
      "text/plain": [
       "16"
      ]
     },
     "execution_count": 11,
     "metadata": {},
     "output_type": "execute_result"
    }
   ],
   "source": [
    "f0_tot=f0.sum()\n",
    "f0_tot"
   ]
  },
  {
   "cell_type": "code",
   "execution_count": 12,
   "metadata": {},
   "outputs": [],
   "source": [
    "fe = benford*f0_tot"
   ]
  },
  {
   "cell_type": "code",
   "execution_count": 13,
   "metadata": {},
   "outputs": [
    {
     "data": {
      "text/plain": [
       "array([0.6624, 0.6048, 0.5568, 0.5152, 0.48  , 0.448 , 0.4208, 0.3968,\n",
       "       0.376 , 0.3568, 0.3392, 0.3232, 0.3088, 0.296 , 0.2832, 0.272 ,\n",
       "       0.2624, 0.2528, 0.2432, 0.2352, 0.2272, 0.2208, 0.2144, 0.208 ,\n",
       "       0.2016, 0.1952, 0.1904, 0.1856, 0.1808, 0.176 , 0.1712, 0.168 ,\n",
       "       0.1632, 0.16  , 0.1568, 0.152 , 0.1488, 0.1456, 0.144 , 0.1408,\n",
       "       0.1376, 0.1344, 0.1328, 0.1296, 0.128 , 0.1248, 0.1232, 0.1216,\n",
       "       0.1184, 0.1168, 0.1152, 0.1136, 0.1104, 0.1088, 0.1072, 0.1056,\n",
       "       0.104 , 0.1024, 0.1008, 0.0992, 0.0992, 0.0976, 0.096 , 0.0944,\n",
       "       0.0928, 0.0928, 0.0912, 0.0896, 0.088 , 0.088 , 0.0864, 0.0848,\n",
       "       0.0848, 0.0832, 0.0816, 0.0816, 0.08  , 0.08  , 0.0784, 0.0784,\n",
       "       0.0768, 0.0752, 0.0752, 0.0736, 0.0736, 0.072 , 0.072 , 0.072 ,\n",
       "       0.0704, 0.0704])"
      ]
     },
     "execution_count": 13,
     "metadata": {},
     "output_type": "execute_result"
    }
   ],
   "source": [
    "fe "
   ]
  },
  {
   "cell_type": "code",
   "execution_count": 14,
   "metadata": {},
   "outputs": [
    {
     "data": {
      "text/plain": [
       "15.998399999999998"
      ]
     },
     "execution_count": 14,
     "metadata": {},
     "output_type": "execute_result"
    }
   ],
   "source": [
    "fe.sum()"
   ]
  },
  {
   "cell_type": "code",
   "execution_count": 15,
   "metadata": {},
   "outputs": [
    {
     "data": {
      "text/plain": [
       "array([-0.0394, -0.0358, -0.0308, -0.0302, -0.03  , -0.026 , -0.0263,\n",
       "       -0.0248, -0.0235, -0.0223, -0.0192, -0.0182, -0.0193, -0.0185,\n",
       "       -0.0177, -0.017 , -0.0144, -0.0158, -0.0152, -0.0147, -0.0142,\n",
       "       -0.0138, -0.0114, -0.013 , -0.0106, -0.0122, -0.0119, -0.0116,\n",
       "       -0.0113, -0.011 , -0.0107, -0.0105, -0.0102, -0.01  , -0.0098,\n",
       "       -0.0095, -0.0093, -0.0091, -0.009 , -0.0088, -0.0086, -0.0064,\n",
       "       -0.0083, -0.0081, -0.008 , -0.0078, -0.0077, -0.0076, -0.0074,\n",
       "       -0.0073, -0.0072, -0.0071, -0.0069, -0.0048, -0.0047, -0.0066,\n",
       "       -0.0065, -0.0064, -0.0063, -0.0062, -0.0062, -0.0041, -0.006 ,\n",
       "       -0.0059, -0.0058, -0.0058, -0.0057, -0.0056, -0.0055, -0.0055,\n",
       "       -0.0054, -0.0053, -0.0053, -0.0052, -0.0051, -0.0051, -0.005 ,\n",
       "       -0.003 , -0.0049, -0.0049, -0.0048, -0.0047, -0.0047, -0.0046,\n",
       "       -0.0046, -0.0045, -0.0045, -0.0045, -0.0044, -0.0044])"
      ]
     },
     "execution_count": 15,
     "metadata": {},
     "output_type": "execute_result"
    }
   ],
   "source": [
    "diferencia = fre_relativa - benford\n",
    "diferencia "
   ]
  },
  {
   "cell_type": "code",
   "execution_count": 16,
   "metadata": {},
   "outputs": [
    {
     "data": {
      "text/plain": [
       "-0.9679"
      ]
     },
     "execution_count": 16,
     "metadata": {},
     "output_type": "execute_result"
    }
   ],
   "source": [
    "diferencia.sum()"
   ]
  },
  {
   "cell_type": "code",
   "execution_count": 17,
   "metadata": {},
   "outputs": [],
   "source": [
    "f0_fe= (f0-fe)"
   ]
  },
  {
   "cell_type": "code",
   "execution_count": 18,
   "metadata": {},
   "outputs": [],
   "source": [
    "f0_fe_2 = f0_fe*f0_fe"
   ]
  },
  {
   "cell_type": "code",
   "execution_count": 19,
   "metadata": {},
   "outputs": [
    {
     "data": {
      "text/plain": [
       "array([ 0.17206184,  0.25823915,  3.74070805,  0.45619379,  0.48      ,\n",
       "        0.68014286,  0.4208    ,  0.3968    ,  0.376     ,  0.3568    ,\n",
       "        1.28731321,  1.41725941,  0.3088    ,  0.296     ,  0.2832    ,\n",
       "        0.272     ,  2.07337561,  0.2528    ,  0.2432    ,  0.2352    ,\n",
       "        0.2272    ,  0.2208    ,  2.8785791 ,  0.208     ,  3.16191746,\n",
       "        0.1952    ,  0.1904    ,  0.1856    ,  0.1808    ,  0.176     ,\n",
       "        0.1712    ,  0.168     ,  0.1632    ,  0.16      ,  0.1568    ,\n",
       "        0.152     ,  0.1488    ,  0.1456    ,  0.144     ,  0.1408    ,\n",
       "        0.1376    ,  5.57487619,  0.1328    ,  0.1296    ,  0.128     ,\n",
       "        0.1248    ,  0.1232    ,  0.1216    ,  0.1184    ,  0.1168    ,\n",
       "        0.1152    ,  0.1136    ,  0.1104    ,  7.29997647,  7.43555821,\n",
       "        0.1056    ,  0.104     ,  0.1024    ,  0.1008    ,  0.0992    ,\n",
       "        0.0992    ,  8.34350164,  0.096     ,  0.0944    ,  0.0928    ,\n",
       "        0.0928    ,  0.0912    ,  0.0896    ,  0.088     ,  0.088     ,\n",
       "        0.0864    ,  0.0848    ,  0.0848    ,  0.0832    ,  0.0816    ,\n",
       "        0.0816    ,  0.08      , 10.58      ,  0.0784    ,  0.0784    ,\n",
       "        0.0768    ,  0.0752    ,  0.0752    ,  0.0736    ,  0.0736    ,\n",
       "        0.072     ,  0.072     ,  0.072     ,  0.0704    ,  0.0704    ])"
      ]
     },
     "execution_count": 19,
     "metadata": {},
     "output_type": "execute_result"
    }
   ],
   "source": [
    "f0_fe_2_fe=f0_fe_2/fe\n",
    "f0_fe_2_fe"
   ]
  },
  {
   "cell_type": "markdown",
   "metadata": {},
   "source": [
    "# Partido Liberal"
   ]
  },
  {
   "cell_type": "code",
   "execution_count": 20,
   "metadata": {},
   "outputs": [
    {
     "data": {
      "text/plain": [
       "66.70210297853055"
      ]
     },
     "execution_count": 20,
     "metadata": {},
     "output_type": "execute_result"
    }
   ],
   "source": [
    "x_2 = f0_fe_2_fe.sum()\n",
    "x_2 "
   ]
  },
  {
   "cell_type": "code",
   "execution_count": 21,
   "metadata": {},
   "outputs": [],
   "source": [
    "letters = {}\n",
    "\n",
    "for i in range(9,99):\n",
    "    letters[str(i+1)] = 0\n",
    "    \n",
    "list_of_nums = pn\n",
    "for n in list_of_nums:\n",
    "    first_digit = str(n)[0]+str(n)[1]\n",
    "    letters[first_digit] += 1\n",
    "y = [round(val / nfib, 4) for val in letters.values()]\n",
    "fre_relativa = y\n",
    "y = list(letters.values())\n",
    "f0= y\n",
    "x = list(letters.keys())\n",
    "y =  [round(math.log10(1+(1/int(val))), 4) for val in letters.keys()]\n",
    "benford = y"
   ]
  },
  {
   "cell_type": "code",
   "execution_count": 22,
   "metadata": {},
   "outputs": [
    {
     "data": {
      "text/plain": [
       "array([1, 0, 1, 2, 0, 0, 1, 0, 0, 0, 0, 0, 1, 1, 1, 0, 0, 0, 0, 0, 0, 1,\n",
       "       0, 0, 0, 0, 0, 0, 0, 0, 0, 0, 0, 0, 0, 0, 0, 2, 0, 0, 0, 0, 0, 0,\n",
       "       0, 0, 0, 0, 0, 1, 1, 0, 1, 0, 0, 0, 0, 1, 0, 0, 1, 0, 0, 0, 0, 0,\n",
       "       0, 0, 0, 0, 0, 0, 0, 0, 0, 0, 0, 0, 0, 0, 0, 0, 0, 0, 0, 0, 0, 0,\n",
       "       0, 0])"
      ]
     },
     "execution_count": 22,
     "metadata": {},
     "output_type": "execute_result"
    }
   ],
   "source": [
    "f0 = np.array(f0)\n",
    "f0"
   ]
  },
  {
   "cell_type": "code",
   "execution_count": 23,
   "metadata": {},
   "outputs": [
    {
     "data": {
      "text/plain": [
       "array([0.002, 0.   , 0.002, 0.004, 0.   , 0.   , 0.002, 0.   , 0.   ,\n",
       "       0.   , 0.   , 0.   , 0.002, 0.002, 0.002, 0.   , 0.   , 0.   ,\n",
       "       0.   , 0.   , 0.   , 0.002, 0.   , 0.   , 0.   , 0.   , 0.   ,\n",
       "       0.   , 0.   , 0.   , 0.   , 0.   , 0.   , 0.   , 0.   , 0.   ,\n",
       "       0.   , 0.004, 0.   , 0.   , 0.   , 0.   , 0.   , 0.   , 0.   ,\n",
       "       0.   , 0.   , 0.   , 0.   , 0.002, 0.002, 0.   , 0.002, 0.   ,\n",
       "       0.   , 0.   , 0.   , 0.002, 0.   , 0.   , 0.002, 0.   , 0.   ,\n",
       "       0.   , 0.   , 0.   , 0.   , 0.   , 0.   , 0.   , 0.   , 0.   ,\n",
       "       0.   , 0.   , 0.   , 0.   , 0.   , 0.   , 0.   , 0.   , 0.   ,\n",
       "       0.   , 0.   , 0.   , 0.   , 0.   , 0.   , 0.   , 0.   , 0.   ])"
      ]
     },
     "execution_count": 23,
     "metadata": {},
     "output_type": "execute_result"
    }
   ],
   "source": [
    "fre_relativa = np.array(fre_relativa)\n",
    "fre_relativa "
   ]
  },
  {
   "cell_type": "code",
   "execution_count": 24,
   "metadata": {},
   "outputs": [
    {
     "data": {
      "text/plain": [
       "array([0.0414, 0.0378, 0.0348, 0.0322, 0.03  , 0.028 , 0.0263, 0.0248,\n",
       "       0.0235, 0.0223, 0.0212, 0.0202, 0.0193, 0.0185, 0.0177, 0.017 ,\n",
       "       0.0164, 0.0158, 0.0152, 0.0147, 0.0142, 0.0138, 0.0134, 0.013 ,\n",
       "       0.0126, 0.0122, 0.0119, 0.0116, 0.0113, 0.011 , 0.0107, 0.0105,\n",
       "       0.0102, 0.01  , 0.0098, 0.0095, 0.0093, 0.0091, 0.009 , 0.0088,\n",
       "       0.0086, 0.0084, 0.0083, 0.0081, 0.008 , 0.0078, 0.0077, 0.0076,\n",
       "       0.0074, 0.0073, 0.0072, 0.0071, 0.0069, 0.0068, 0.0067, 0.0066,\n",
       "       0.0065, 0.0064, 0.0063, 0.0062, 0.0062, 0.0061, 0.006 , 0.0059,\n",
       "       0.0058, 0.0058, 0.0057, 0.0056, 0.0055, 0.0055, 0.0054, 0.0053,\n",
       "       0.0053, 0.0052, 0.0051, 0.0051, 0.005 , 0.005 , 0.0049, 0.0049,\n",
       "       0.0048, 0.0047, 0.0047, 0.0046, 0.0046, 0.0045, 0.0045, 0.0045,\n",
       "       0.0044, 0.0044])"
      ]
     },
     "execution_count": 24,
     "metadata": {},
     "output_type": "execute_result"
    }
   ],
   "source": [
    "benford = np.array(benford)\n",
    "benford"
   ]
  },
  {
   "cell_type": "code",
   "execution_count": 25,
   "metadata": {},
   "outputs": [
    {
     "data": {
      "text/plain": [
       "16"
      ]
     },
     "execution_count": 25,
     "metadata": {},
     "output_type": "execute_result"
    }
   ],
   "source": [
    "f0_tot=f0.sum()\n",
    "f0_tot"
   ]
  },
  {
   "cell_type": "code",
   "execution_count": 26,
   "metadata": {},
   "outputs": [],
   "source": [
    "fe = benford*f0_tot"
   ]
  },
  {
   "cell_type": "code",
   "execution_count": 27,
   "metadata": {},
   "outputs": [
    {
     "data": {
      "text/plain": [
       "array([0.6624, 0.6048, 0.5568, 0.5152, 0.48  , 0.448 , 0.4208, 0.3968,\n",
       "       0.376 , 0.3568, 0.3392, 0.3232, 0.3088, 0.296 , 0.2832, 0.272 ,\n",
       "       0.2624, 0.2528, 0.2432, 0.2352, 0.2272, 0.2208, 0.2144, 0.208 ,\n",
       "       0.2016, 0.1952, 0.1904, 0.1856, 0.1808, 0.176 , 0.1712, 0.168 ,\n",
       "       0.1632, 0.16  , 0.1568, 0.152 , 0.1488, 0.1456, 0.144 , 0.1408,\n",
       "       0.1376, 0.1344, 0.1328, 0.1296, 0.128 , 0.1248, 0.1232, 0.1216,\n",
       "       0.1184, 0.1168, 0.1152, 0.1136, 0.1104, 0.1088, 0.1072, 0.1056,\n",
       "       0.104 , 0.1024, 0.1008, 0.0992, 0.0992, 0.0976, 0.096 , 0.0944,\n",
       "       0.0928, 0.0928, 0.0912, 0.0896, 0.088 , 0.088 , 0.0864, 0.0848,\n",
       "       0.0848, 0.0832, 0.0816, 0.0816, 0.08  , 0.08  , 0.0784, 0.0784,\n",
       "       0.0768, 0.0752, 0.0752, 0.0736, 0.0736, 0.072 , 0.072 , 0.072 ,\n",
       "       0.0704, 0.0704])"
      ]
     },
     "execution_count": 27,
     "metadata": {},
     "output_type": "execute_result"
    }
   ],
   "source": [
    "fe "
   ]
  },
  {
   "cell_type": "code",
   "execution_count": 28,
   "metadata": {},
   "outputs": [
    {
     "data": {
      "text/plain": [
       "15.998399999999998"
      ]
     },
     "execution_count": 28,
     "metadata": {},
     "output_type": "execute_result"
    }
   ],
   "source": [
    "fe.sum()"
   ]
  },
  {
   "cell_type": "code",
   "execution_count": 29,
   "metadata": {},
   "outputs": [
    {
     "data": {
      "text/plain": [
       "array([-0.0394, -0.0378, -0.0328, -0.0282, -0.03  , -0.028 , -0.0243,\n",
       "       -0.0248, -0.0235, -0.0223, -0.0212, -0.0202, -0.0173, -0.0165,\n",
       "       -0.0157, -0.017 , -0.0164, -0.0158, -0.0152, -0.0147, -0.0142,\n",
       "       -0.0118, -0.0134, -0.013 , -0.0126, -0.0122, -0.0119, -0.0116,\n",
       "       -0.0113, -0.011 , -0.0107, -0.0105, -0.0102, -0.01  , -0.0098,\n",
       "       -0.0095, -0.0093, -0.0051, -0.009 , -0.0088, -0.0086, -0.0084,\n",
       "       -0.0083, -0.0081, -0.008 , -0.0078, -0.0077, -0.0076, -0.0074,\n",
       "       -0.0053, -0.0052, -0.0071, -0.0049, -0.0068, -0.0067, -0.0066,\n",
       "       -0.0065, -0.0044, -0.0063, -0.0062, -0.0042, -0.0061, -0.006 ,\n",
       "       -0.0059, -0.0058, -0.0058, -0.0057, -0.0056, -0.0055, -0.0055,\n",
       "       -0.0054, -0.0053, -0.0053, -0.0052, -0.0051, -0.0051, -0.005 ,\n",
       "       -0.005 , -0.0049, -0.0049, -0.0048, -0.0047, -0.0047, -0.0046,\n",
       "       -0.0046, -0.0045, -0.0045, -0.0045, -0.0044, -0.0044])"
      ]
     },
     "execution_count": 29,
     "metadata": {},
     "output_type": "execute_result"
    }
   ],
   "source": [
    "diferencia = fre_relativa - benford\n",
    "diferencia "
   ]
  },
  {
   "cell_type": "code",
   "execution_count": 30,
   "metadata": {},
   "outputs": [
    {
     "data": {
      "text/plain": [
       "-0.9679"
      ]
     },
     "execution_count": 30,
     "metadata": {},
     "output_type": "execute_result"
    }
   ],
   "source": [
    "diferencia.sum()"
   ]
  },
  {
   "cell_type": "code",
   "execution_count": 31,
   "metadata": {},
   "outputs": [],
   "source": [
    "f0_fe= (f0-fe)"
   ]
  },
  {
   "cell_type": "code",
   "execution_count": 32,
   "metadata": {},
   "outputs": [],
   "source": [
    "f0_fe_2 = f0_fe*f0_fe"
   ]
  },
  {
   "cell_type": "code",
   "execution_count": 33,
   "metadata": {},
   "outputs": [
    {
     "data": {
      "text/plain": [
       "array([ 0.17206184,  0.6048    ,  0.35277701,  4.27917516,  0.48      ,\n",
       "        0.448     ,  0.79722586,  0.3968    ,  0.376     ,  0.3568    ,\n",
       "        0.3392    ,  0.3232    ,  1.54714197,  1.67437838,  1.81427345,\n",
       "        0.272     ,  0.2624    ,  0.2528    ,  0.2432    ,  0.2352    ,\n",
       "        0.2272    ,  2.74978551,  0.2144    ,  0.208     ,  0.2016    ,\n",
       "        0.1952    ,  0.1904    ,  0.1856    ,  0.1808    ,  0.176     ,\n",
       "        0.1712    ,  0.168     ,  0.1632    ,  0.16      ,  0.1568    ,\n",
       "        0.152     ,  0.1488    , 23.61812747,  0.144     ,  0.1408    ,\n",
       "        0.1376    ,  0.1344    ,  0.1328    ,  0.1296    ,  0.128     ,\n",
       "        0.1248    ,  0.1232    ,  0.1216    ,  0.1184    ,  6.67844384,\n",
       "        6.79575556,  0.1136    ,  7.16837101,  0.1088    ,  0.1072    ,\n",
       "        0.1056    ,  0.104     ,  7.868025  ,  0.1008    ,  0.0992    ,\n",
       "        8.17984516,  0.0976    ,  0.096     ,  0.0944    ,  0.0928    ,\n",
       "        0.0928    ,  0.0912    ,  0.0896    ,  0.088     ,  0.088     ,\n",
       "        0.0864    ,  0.0848    ,  0.0848    ,  0.0832    ,  0.0816    ,\n",
       "        0.0816    ,  0.08      ,  0.08      ,  0.0784    ,  0.0784    ,\n",
       "        0.0768    ,  0.0752    ,  0.0752    ,  0.0736    ,  0.0736    ,\n",
       "        0.072     ,  0.072     ,  0.072     ,  0.0704    ,  0.0704    ])"
      ]
     },
     "execution_count": 33,
     "metadata": {},
     "output_type": "execute_result"
    }
   ],
   "source": [
    "f0_fe_2_fe=f0_fe_2/fe\n",
    "f0_fe_2_fe"
   ]
  },
  {
   "cell_type": "markdown",
   "metadata": {},
   "source": [
    "# Partido Nacional"
   ]
  },
  {
   "cell_type": "code",
   "execution_count": 34,
   "metadata": {},
   "outputs": [
    {
     "data": {
      "text/plain": [
       "85.74018719838277"
      ]
     },
     "execution_count": 34,
     "metadata": {},
     "output_type": "execute_result"
    }
   ],
   "source": [
    "x_2 = f0_fe_2_fe.sum()\n",
    "x_2 "
   ]
  },
  {
   "cell_type": "code",
   "execution_count": 35,
   "metadata": {},
   "outputs": [],
   "source": [
    "letters = {}\n",
    "\n",
    "for i in range(9,99):\n",
    "    letters[str(i+1)] = 0\n",
    "    \n",
    "list_of_nums = pli\n",
    "for n in list_of_nums:\n",
    "    first_digit = str(n)[0]+str(n)[1]\n",
    "    letters[first_digit] += 1\n",
    "y = [round(val / nfib, 4) for val in letters.values()]\n",
    "fre_relativa = y\n",
    "y = list(letters.values())\n",
    "f0= y\n",
    "x = list(letters.keys())\n",
    "y =  [round(math.log10(1+(1/int(val))), 4) for val in letters.keys()]\n",
    "benford = y"
   ]
  },
  {
   "cell_type": "code",
   "execution_count": 36,
   "metadata": {},
   "outputs": [
    {
     "data": {
      "text/plain": [
       "array([0, 0, 0, 0, 0, 0, 0, 0, 0, 0, 1, 0, 0, 0, 0, 0, 0, 0, 0, 0, 0, 3,\n",
       "       1, 0, 1, 0, 0, 0, 0, 0, 0, 0, 0, 0, 1, 0, 0, 0, 0, 0, 1, 0, 0, 0,\n",
       "       0, 0, 0, 0, 0, 0, 0, 0, 0, 2, 0, 1, 0, 0, 0, 0, 0, 1, 0, 0, 1, 0,\n",
       "       0, 0, 0, 0, 1, 0, 0, 0, 0, 0, 1, 0, 0, 0, 1, 0, 0, 0, 0, 0, 0, 0,\n",
       "       0, 0])"
      ]
     },
     "execution_count": 36,
     "metadata": {},
     "output_type": "execute_result"
    }
   ],
   "source": [
    "f0 = np.array(f0)\n",
    "f0"
   ]
  },
  {
   "cell_type": "code",
   "execution_count": 37,
   "metadata": {},
   "outputs": [
    {
     "data": {
      "text/plain": [
       "array([0.   , 0.   , 0.   , 0.   , 0.   , 0.   , 0.   , 0.   , 0.   ,\n",
       "       0.   , 0.002, 0.   , 0.   , 0.   , 0.   , 0.   , 0.   , 0.   ,\n",
       "       0.   , 0.   , 0.   , 0.006, 0.002, 0.   , 0.002, 0.   , 0.   ,\n",
       "       0.   , 0.   , 0.   , 0.   , 0.   , 0.   , 0.   , 0.002, 0.   ,\n",
       "       0.   , 0.   , 0.   , 0.   , 0.002, 0.   , 0.   , 0.   , 0.   ,\n",
       "       0.   , 0.   , 0.   , 0.   , 0.   , 0.   , 0.   , 0.   , 0.004,\n",
       "       0.   , 0.002, 0.   , 0.   , 0.   , 0.   , 0.   , 0.002, 0.   ,\n",
       "       0.   , 0.002, 0.   , 0.   , 0.   , 0.   , 0.   , 0.002, 0.   ,\n",
       "       0.   , 0.   , 0.   , 0.   , 0.002, 0.   , 0.   , 0.   , 0.002,\n",
       "       0.   , 0.   , 0.   , 0.   , 0.   , 0.   , 0.   , 0.   , 0.   ])"
      ]
     },
     "execution_count": 37,
     "metadata": {},
     "output_type": "execute_result"
    }
   ],
   "source": [
    "fre_relativa = np.array(fre_relativa)\n",
    "fre_relativa "
   ]
  },
  {
   "cell_type": "code",
   "execution_count": 38,
   "metadata": {},
   "outputs": [
    {
     "data": {
      "text/plain": [
       "array([0.0414, 0.0378, 0.0348, 0.0322, 0.03  , 0.028 , 0.0263, 0.0248,\n",
       "       0.0235, 0.0223, 0.0212, 0.0202, 0.0193, 0.0185, 0.0177, 0.017 ,\n",
       "       0.0164, 0.0158, 0.0152, 0.0147, 0.0142, 0.0138, 0.0134, 0.013 ,\n",
       "       0.0126, 0.0122, 0.0119, 0.0116, 0.0113, 0.011 , 0.0107, 0.0105,\n",
       "       0.0102, 0.01  , 0.0098, 0.0095, 0.0093, 0.0091, 0.009 , 0.0088,\n",
       "       0.0086, 0.0084, 0.0083, 0.0081, 0.008 , 0.0078, 0.0077, 0.0076,\n",
       "       0.0074, 0.0073, 0.0072, 0.0071, 0.0069, 0.0068, 0.0067, 0.0066,\n",
       "       0.0065, 0.0064, 0.0063, 0.0062, 0.0062, 0.0061, 0.006 , 0.0059,\n",
       "       0.0058, 0.0058, 0.0057, 0.0056, 0.0055, 0.0055, 0.0054, 0.0053,\n",
       "       0.0053, 0.0052, 0.0051, 0.0051, 0.005 , 0.005 , 0.0049, 0.0049,\n",
       "       0.0048, 0.0047, 0.0047, 0.0046, 0.0046, 0.0045, 0.0045, 0.0045,\n",
       "       0.0044, 0.0044])"
      ]
     },
     "execution_count": 38,
     "metadata": {},
     "output_type": "execute_result"
    }
   ],
   "source": [
    "benford = np.array(benford)\n",
    "benford"
   ]
  },
  {
   "cell_type": "code",
   "execution_count": 39,
   "metadata": {},
   "outputs": [
    {
     "data": {
      "text/plain": [
       "16"
      ]
     },
     "execution_count": 39,
     "metadata": {},
     "output_type": "execute_result"
    }
   ],
   "source": [
    "f0_tot=f0.sum()\n",
    "f0_tot"
   ]
  },
  {
   "cell_type": "code",
   "execution_count": 40,
   "metadata": {},
   "outputs": [],
   "source": [
    "fe = benford*f0_tot"
   ]
  },
  {
   "cell_type": "code",
   "execution_count": 41,
   "metadata": {},
   "outputs": [
    {
     "data": {
      "text/plain": [
       "array([0.6624, 0.6048, 0.5568, 0.5152, 0.48  , 0.448 , 0.4208, 0.3968,\n",
       "       0.376 , 0.3568, 0.3392, 0.3232, 0.3088, 0.296 , 0.2832, 0.272 ,\n",
       "       0.2624, 0.2528, 0.2432, 0.2352, 0.2272, 0.2208, 0.2144, 0.208 ,\n",
       "       0.2016, 0.1952, 0.1904, 0.1856, 0.1808, 0.176 , 0.1712, 0.168 ,\n",
       "       0.1632, 0.16  , 0.1568, 0.152 , 0.1488, 0.1456, 0.144 , 0.1408,\n",
       "       0.1376, 0.1344, 0.1328, 0.1296, 0.128 , 0.1248, 0.1232, 0.1216,\n",
       "       0.1184, 0.1168, 0.1152, 0.1136, 0.1104, 0.1088, 0.1072, 0.1056,\n",
       "       0.104 , 0.1024, 0.1008, 0.0992, 0.0992, 0.0976, 0.096 , 0.0944,\n",
       "       0.0928, 0.0928, 0.0912, 0.0896, 0.088 , 0.088 , 0.0864, 0.0848,\n",
       "       0.0848, 0.0832, 0.0816, 0.0816, 0.08  , 0.08  , 0.0784, 0.0784,\n",
       "       0.0768, 0.0752, 0.0752, 0.0736, 0.0736, 0.072 , 0.072 , 0.072 ,\n",
       "       0.0704, 0.0704])"
      ]
     },
     "execution_count": 41,
     "metadata": {},
     "output_type": "execute_result"
    }
   ],
   "source": [
    "fe "
   ]
  },
  {
   "cell_type": "code",
   "execution_count": 42,
   "metadata": {},
   "outputs": [
    {
     "data": {
      "text/plain": [
       "15.998399999999998"
      ]
     },
     "execution_count": 42,
     "metadata": {},
     "output_type": "execute_result"
    }
   ],
   "source": [
    "fe.sum()"
   ]
  },
  {
   "cell_type": "code",
   "execution_count": 43,
   "metadata": {},
   "outputs": [
    {
     "data": {
      "text/plain": [
       "array([-0.0414, -0.0378, -0.0348, -0.0322, -0.03  , -0.028 , -0.0263,\n",
       "       -0.0248, -0.0235, -0.0223, -0.0192, -0.0202, -0.0193, -0.0185,\n",
       "       -0.0177, -0.017 , -0.0164, -0.0158, -0.0152, -0.0147, -0.0142,\n",
       "       -0.0078, -0.0114, -0.013 , -0.0106, -0.0122, -0.0119, -0.0116,\n",
       "       -0.0113, -0.011 , -0.0107, -0.0105, -0.0102, -0.01  , -0.0078,\n",
       "       -0.0095, -0.0093, -0.0091, -0.009 , -0.0088, -0.0066, -0.0084,\n",
       "       -0.0083, -0.0081, -0.008 , -0.0078, -0.0077, -0.0076, -0.0074,\n",
       "       -0.0073, -0.0072, -0.0071, -0.0069, -0.0028, -0.0067, -0.0046,\n",
       "       -0.0065, -0.0064, -0.0063, -0.0062, -0.0062, -0.0041, -0.006 ,\n",
       "       -0.0059, -0.0038, -0.0058, -0.0057, -0.0056, -0.0055, -0.0055,\n",
       "       -0.0034, -0.0053, -0.0053, -0.0052, -0.0051, -0.0051, -0.003 ,\n",
       "       -0.005 , -0.0049, -0.0049, -0.0028, -0.0047, -0.0047, -0.0046,\n",
       "       -0.0046, -0.0045, -0.0045, -0.0045, -0.0044, -0.0044])"
      ]
     },
     "execution_count": 43,
     "metadata": {},
     "output_type": "execute_result"
    }
   ],
   "source": [
    "diferencia = fre_relativa - benford\n",
    "diferencia "
   ]
  },
  {
   "cell_type": "code",
   "execution_count": 44,
   "metadata": {},
   "outputs": [
    {
     "data": {
      "text/plain": [
       "-0.9679"
      ]
     },
     "execution_count": 44,
     "metadata": {},
     "output_type": "execute_result"
    }
   ],
   "source": [
    "diferencia.sum()"
   ]
  },
  {
   "cell_type": "code",
   "execution_count": 45,
   "metadata": {},
   "outputs": [],
   "source": [
    "f0_fe= (f0-fe)"
   ]
  },
  {
   "cell_type": "code",
   "execution_count": 46,
   "metadata": {},
   "outputs": [],
   "source": [
    "f0_fe_2 = f0_fe*f0_fe"
   ]
  },
  {
   "cell_type": "code",
   "execution_count": 47,
   "metadata": {},
   "outputs": [
    {
     "data": {
      "text/plain": [
       "array([ 0.6624    ,  0.6048    ,  0.5568    ,  0.5152    ,  0.48      ,\n",
       "        0.448     ,  0.4208    ,  0.3968    ,  0.376     ,  0.3568    ,\n",
       "        1.28731321,  0.3232    ,  0.3088    ,  0.296     ,  0.2832    ,\n",
       "        0.272     ,  0.2624    ,  0.2528    ,  0.2432    ,  0.2352    ,\n",
       "        0.2272    , 34.98166957,  2.8785791 ,  0.208     ,  3.16191746,\n",
       "        0.1952    ,  0.1904    ,  0.1856    ,  0.1808    ,  0.176     ,\n",
       "        0.1712    ,  0.168     ,  0.1632    ,  0.16      ,  4.53435102,\n",
       "        0.152     ,  0.1488    ,  0.1456    ,  0.144     ,  0.1408    ,\n",
       "        5.40504186,  0.1344    ,  0.1328    ,  0.1296    ,  0.128     ,\n",
       "        0.1248    ,  0.1232    ,  0.1216    ,  0.1184    ,  0.1168    ,\n",
       "        0.1152    ,  0.1136    ,  0.1104    , 32.87350588,  0.1072    ,\n",
       "        7.57529697,  0.104     ,  0.1024    ,  0.1008    ,  0.0992    ,\n",
       "        0.0992    ,  8.34350164,  0.096     ,  0.0944    ,  8.86866207,\n",
       "        0.0928    ,  0.0912    ,  0.0896    ,  0.088     ,  0.088     ,\n",
       "        9.66047407,  0.0848    ,  0.0848    ,  0.0832    ,  0.0816    ,\n",
       "        0.0816    , 10.58      ,  0.08      ,  0.0784    ,  0.0784    ,\n",
       "       11.09763333,  0.0752    ,  0.0752    ,  0.0736    ,  0.0736    ,\n",
       "        0.072     ,  0.072     ,  0.072     ,  0.0704    ,  0.0704    ])"
      ]
     },
     "execution_count": 47,
     "metadata": {},
     "output_type": "execute_result"
    }
   ],
   "source": [
    "f0_fe_2_fe=f0_fe_2/fe\n",
    "f0_fe_2_fe"
   ]
  },
  {
   "cell_type": "markdown",
   "metadata": {},
   "source": [
    "# Partido Libre"
   ]
  },
  {
   "cell_type": "code",
   "execution_count": 48,
   "metadata": {},
   "outputs": [
    {
     "data": {
      "text/plain": [
       "155.32794618620005"
      ]
     },
     "execution_count": 48,
     "metadata": {},
     "output_type": "execute_result"
    }
   ],
   "source": [
    "x_2 = f0_fe_2_fe.sum()\n",
    "x_2 "
   ]
  },
  {
   "cell_type": "code",
   "execution_count": 49,
   "metadata": {},
   "outputs": [],
   "source": [
    "letters = {}\n",
    "\n",
    "for i in range(9,99):\n",
    "    letters[str(i+1)] = 0\n",
    "    \n",
    "list_of_nums = tot\n",
    "for n in list_of_nums:\n",
    "    first_digit = str(n)[0]+str(n)[1]\n",
    "    letters[first_digit] += 1\n",
    "y = [round(val / nfib, 4) for val in letters.values()]\n",
    "fre_relativa = y\n",
    "y = list(letters.values())\n",
    "f0= y\n",
    "x = list(letters.keys())\n",
    "y =  [round(math.log10(1+(1/int(val))), 4) for val in letters.keys()]\n",
    "benford = y"
   ]
  },
  {
   "cell_type": "code",
   "execution_count": 50,
   "metadata": {},
   "outputs": [
    {
     "data": {
      "text/plain": [
       "array([1, 0, 1, 1, 1, 0, 0, 0, 0, 1, 0, 1, 0, 1, 1, 0, 1, 0, 0, 0, 0, 0,\n",
       "       0, 0, 0, 0, 1, 0, 1, 0, 0, 0, 0, 0, 0, 0, 0, 0, 0, 0, 0, 0, 0, 1,\n",
       "       0, 0, 0, 0, 0, 0, 0, 0, 1, 0, 0, 0, 0, 0, 0, 0, 0, 0, 0, 0, 0, 0,\n",
       "       0, 0, 0, 0, 0, 1, 0, 0, 0, 0, 0, 0, 0, 0, 0, 0, 2, 0, 0, 0, 0, 0,\n",
       "       0, 0])"
      ]
     },
     "execution_count": 50,
     "metadata": {},
     "output_type": "execute_result"
    }
   ],
   "source": [
    "f0 = np.array(f0)\n",
    "f0"
   ]
  },
  {
   "cell_type": "code",
   "execution_count": 51,
   "metadata": {},
   "outputs": [
    {
     "data": {
      "text/plain": [
       "array([0.002, 0.   , 0.002, 0.002, 0.002, 0.   , 0.   , 0.   , 0.   ,\n",
       "       0.002, 0.   , 0.002, 0.   , 0.002, 0.002, 0.   , 0.002, 0.   ,\n",
       "       0.   , 0.   , 0.   , 0.   , 0.   , 0.   , 0.   , 0.   , 0.002,\n",
       "       0.   , 0.002, 0.   , 0.   , 0.   , 0.   , 0.   , 0.   , 0.   ,\n",
       "       0.   , 0.   , 0.   , 0.   , 0.   , 0.   , 0.   , 0.002, 0.   ,\n",
       "       0.   , 0.   , 0.   , 0.   , 0.   , 0.   , 0.   , 0.002, 0.   ,\n",
       "       0.   , 0.   , 0.   , 0.   , 0.   , 0.   , 0.   , 0.   , 0.   ,\n",
       "       0.   , 0.   , 0.   , 0.   , 0.   , 0.   , 0.   , 0.   , 0.002,\n",
       "       0.   , 0.   , 0.   , 0.   , 0.   , 0.   , 0.   , 0.   , 0.   ,\n",
       "       0.   , 0.004, 0.   , 0.   , 0.   , 0.   , 0.   , 0.   , 0.   ])"
      ]
     },
     "execution_count": 51,
     "metadata": {},
     "output_type": "execute_result"
    }
   ],
   "source": [
    "fre_relativa = np.array(fre_relativa)\n",
    "fre_relativa "
   ]
  },
  {
   "cell_type": "code",
   "execution_count": 52,
   "metadata": {},
   "outputs": [
    {
     "data": {
      "text/plain": [
       "array([0.0414, 0.0378, 0.0348, 0.0322, 0.03  , 0.028 , 0.0263, 0.0248,\n",
       "       0.0235, 0.0223, 0.0212, 0.0202, 0.0193, 0.0185, 0.0177, 0.017 ,\n",
       "       0.0164, 0.0158, 0.0152, 0.0147, 0.0142, 0.0138, 0.0134, 0.013 ,\n",
       "       0.0126, 0.0122, 0.0119, 0.0116, 0.0113, 0.011 , 0.0107, 0.0105,\n",
       "       0.0102, 0.01  , 0.0098, 0.0095, 0.0093, 0.0091, 0.009 , 0.0088,\n",
       "       0.0086, 0.0084, 0.0083, 0.0081, 0.008 , 0.0078, 0.0077, 0.0076,\n",
       "       0.0074, 0.0073, 0.0072, 0.0071, 0.0069, 0.0068, 0.0067, 0.0066,\n",
       "       0.0065, 0.0064, 0.0063, 0.0062, 0.0062, 0.0061, 0.006 , 0.0059,\n",
       "       0.0058, 0.0058, 0.0057, 0.0056, 0.0055, 0.0055, 0.0054, 0.0053,\n",
       "       0.0053, 0.0052, 0.0051, 0.0051, 0.005 , 0.005 , 0.0049, 0.0049,\n",
       "       0.0048, 0.0047, 0.0047, 0.0046, 0.0046, 0.0045, 0.0045, 0.0045,\n",
       "       0.0044, 0.0044])"
      ]
     },
     "execution_count": 52,
     "metadata": {},
     "output_type": "execute_result"
    }
   ],
   "source": [
    "benford = np.array(benford)\n",
    "benford"
   ]
  },
  {
   "cell_type": "code",
   "execution_count": 53,
   "metadata": {},
   "outputs": [
    {
     "data": {
      "text/plain": [
       "16"
      ]
     },
     "execution_count": 53,
     "metadata": {},
     "output_type": "execute_result"
    }
   ],
   "source": [
    "f0_tot=f0.sum()\n",
    "f0_tot"
   ]
  },
  {
   "cell_type": "code",
   "execution_count": 54,
   "metadata": {},
   "outputs": [],
   "source": [
    "fe = benford*f0_tot"
   ]
  },
  {
   "cell_type": "code",
   "execution_count": 55,
   "metadata": {},
   "outputs": [
    {
     "data": {
      "text/plain": [
       "array([0.6624, 0.6048, 0.5568, 0.5152, 0.48  , 0.448 , 0.4208, 0.3968,\n",
       "       0.376 , 0.3568, 0.3392, 0.3232, 0.3088, 0.296 , 0.2832, 0.272 ,\n",
       "       0.2624, 0.2528, 0.2432, 0.2352, 0.2272, 0.2208, 0.2144, 0.208 ,\n",
       "       0.2016, 0.1952, 0.1904, 0.1856, 0.1808, 0.176 , 0.1712, 0.168 ,\n",
       "       0.1632, 0.16  , 0.1568, 0.152 , 0.1488, 0.1456, 0.144 , 0.1408,\n",
       "       0.1376, 0.1344, 0.1328, 0.1296, 0.128 , 0.1248, 0.1232, 0.1216,\n",
       "       0.1184, 0.1168, 0.1152, 0.1136, 0.1104, 0.1088, 0.1072, 0.1056,\n",
       "       0.104 , 0.1024, 0.1008, 0.0992, 0.0992, 0.0976, 0.096 , 0.0944,\n",
       "       0.0928, 0.0928, 0.0912, 0.0896, 0.088 , 0.088 , 0.0864, 0.0848,\n",
       "       0.0848, 0.0832, 0.0816, 0.0816, 0.08  , 0.08  , 0.0784, 0.0784,\n",
       "       0.0768, 0.0752, 0.0752, 0.0736, 0.0736, 0.072 , 0.072 , 0.072 ,\n",
       "       0.0704, 0.0704])"
      ]
     },
     "execution_count": 55,
     "metadata": {},
     "output_type": "execute_result"
    }
   ],
   "source": [
    "fe "
   ]
  },
  {
   "cell_type": "code",
   "execution_count": 56,
   "metadata": {},
   "outputs": [
    {
     "data": {
      "text/plain": [
       "15.998399999999998"
      ]
     },
     "execution_count": 56,
     "metadata": {},
     "output_type": "execute_result"
    }
   ],
   "source": [
    "fe.sum()"
   ]
  },
  {
   "cell_type": "code",
   "execution_count": 57,
   "metadata": {},
   "outputs": [
    {
     "data": {
      "text/plain": [
       "array([-0.0394, -0.0378, -0.0328, -0.0302, -0.028 , -0.028 , -0.0263,\n",
       "       -0.0248, -0.0235, -0.0203, -0.0212, -0.0182, -0.0193, -0.0165,\n",
       "       -0.0157, -0.017 , -0.0144, -0.0158, -0.0152, -0.0147, -0.0142,\n",
       "       -0.0138, -0.0134, -0.013 , -0.0126, -0.0122, -0.0099, -0.0116,\n",
       "       -0.0093, -0.011 , -0.0107, -0.0105, -0.0102, -0.01  , -0.0098,\n",
       "       -0.0095, -0.0093, -0.0091, -0.009 , -0.0088, -0.0086, -0.0084,\n",
       "       -0.0083, -0.0061, -0.008 , -0.0078, -0.0077, -0.0076, -0.0074,\n",
       "       -0.0073, -0.0072, -0.0071, -0.0049, -0.0068, -0.0067, -0.0066,\n",
       "       -0.0065, -0.0064, -0.0063, -0.0062, -0.0062, -0.0061, -0.006 ,\n",
       "       -0.0059, -0.0058, -0.0058, -0.0057, -0.0056, -0.0055, -0.0055,\n",
       "       -0.0054, -0.0033, -0.0053, -0.0052, -0.0051, -0.0051, -0.005 ,\n",
       "       -0.005 , -0.0049, -0.0049, -0.0048, -0.0047, -0.0007, -0.0046,\n",
       "       -0.0046, -0.0045, -0.0045, -0.0045, -0.0044, -0.0044])"
      ]
     },
     "execution_count": 57,
     "metadata": {},
     "output_type": "execute_result"
    }
   ],
   "source": [
    "diferencia = fre_relativa - benford\n",
    "diferencia "
   ]
  },
  {
   "cell_type": "code",
   "execution_count": 58,
   "metadata": {},
   "outputs": [
    {
     "data": {
      "text/plain": [
       "-0.9679"
      ]
     },
     "execution_count": 58,
     "metadata": {},
     "output_type": "execute_result"
    }
   ],
   "source": [
    "diferencia.sum()"
   ]
  },
  {
   "cell_type": "code",
   "execution_count": 59,
   "metadata": {},
   "outputs": [],
   "source": [
    "f0_fe= (f0-fe)"
   ]
  },
  {
   "cell_type": "code",
   "execution_count": 60,
   "metadata": {},
   "outputs": [],
   "source": [
    "f0_fe_2 = f0_fe*f0_fe"
   ]
  },
  {
   "cell_type": "code",
   "execution_count": 61,
   "metadata": {},
   "outputs": [
    {
     "data": {
      "text/plain": [
       "array([ 0.17206184,  0.6048    ,  0.35277701,  0.45619379,  0.56333333,\n",
       "        0.448     ,  0.4208    ,  0.3968    ,  0.376     ,  1.15949058,\n",
       "        0.3392    ,  1.41725941,  0.3088    ,  1.67437838,  1.81427345,\n",
       "        0.272     ,  2.07337561,  0.2528    ,  0.2432    ,  0.2352    ,\n",
       "        0.2272    ,  0.2208    ,  0.2144    ,  0.208     ,  0.2016    ,\n",
       "        0.1952    ,  3.44250084,  0.1856    ,  3.71177345,  0.176     ,\n",
       "        0.1712    ,  0.168     ,  0.1632    ,  0.16      ,  0.1568    ,\n",
       "        0.152     ,  0.1488    ,  0.1456    ,  0.144     ,  0.1408    ,\n",
       "        0.1376    ,  0.1344    ,  0.1328    ,  5.84564938,  0.128     ,\n",
       "        0.1248    ,  0.1232    ,  0.1216    ,  0.1184    ,  0.1168    ,\n",
       "        0.1152    ,  0.1136    ,  7.16837101,  0.1088    ,  0.1072    ,\n",
       "        0.1056    ,  0.104     ,  0.1024    ,  0.1008    ,  0.0992    ,\n",
       "        0.0992    ,  0.0976    ,  0.096     ,  0.0944    ,  0.0928    ,\n",
       "        0.0928    ,  0.0912    ,  0.0896    ,  0.088     ,  0.088     ,\n",
       "        0.0864    ,  9.87725283,  0.0848    ,  0.0832    ,  0.0816    ,\n",
       "        0.0816    ,  0.08      ,  0.08      ,  0.0784    ,  0.0784    ,\n",
       "        0.0768    ,  0.0752    , 49.26668936,  0.0736    ,  0.0736    ,\n",
       "        0.072     ,  0.072     ,  0.072     ,  0.0704    ,  0.0704    ])"
      ]
     },
     "execution_count": 61,
     "metadata": {},
     "output_type": "execute_result"
    }
   ],
   "source": [
    "f0_fe_2_fe=f0_fe_2/fe\n",
    "f0_fe_2_fe"
   ]
  },
  {
   "cell_type": "markdown",
   "metadata": {},
   "source": [
    "# Total"
   ]
  },
  {
   "cell_type": "code",
   "execution_count": 62,
   "metadata": {},
   "outputs": [
    {
     "data": {
      "text/plain": [
       "100.48658027352184"
      ]
     },
     "execution_count": 62,
     "metadata": {},
     "output_type": "execute_result"
    }
   ],
   "source": [
    "x_2 = f0_fe_2_fe.sum()\n",
    "x_2 "
   ]
  }
 ],
 "metadata": {
  "kernelspec": {
   "display_name": "Python 3",
   "language": "python",
   "name": "python3"
  },
  "language_info": {
   "codemirror_mode": {
    "name": "ipython",
    "version": 3
   },
   "file_extension": ".py",
   "mimetype": "text/x-python",
   "name": "python",
   "nbconvert_exporter": "python",
   "pygments_lexer": "ipython3",
   "version": "3.8.3"
  }
 },
 "nbformat": 4,
 "nbformat_minor": 4
}
