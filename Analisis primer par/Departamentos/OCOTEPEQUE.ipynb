{
 "cells": [
  {
   "cell_type": "code",
   "execution_count": 1,
   "metadata": {},
   "outputs": [],
   "source": [
    "import matplotlib.pyplot as plt\n",
    "import numpy as np\n",
    "import math\n",
    "import pandas as pd \n",
    "letters = {}\n",
    "\n",
    "for i in range(9,99):\n",
    "    letters[str(i+1)] = 0\n",
    "    \n",
    "\n",
    "nfib = 500"
   ]
  },
  {
   "cell_type": "code",
   "execution_count": 2,
   "metadata": {},
   "outputs": [
    {
     "data": {
      "text/html": [
       "<div>\n",
       "<style scoped>\n",
       "    .dataframe tbody tr th:only-of-type {\n",
       "        vertical-align: middle;\n",
       "    }\n",
       "\n",
       "    .dataframe tbody tr th {\n",
       "        vertical-align: top;\n",
       "    }\n",
       "\n",
       "    .dataframe thead th {\n",
       "        text-align: right;\n",
       "    }\n",
       "</style>\n",
       "<table border=\"1\" class=\"dataframe\">\n",
       "  <thead>\n",
       "    <tr style=\"text-align: right;\">\n",
       "      <th></th>\n",
       "      <th>PL</th>\n",
       "      <th>PN</th>\n",
       "      <th>LIBRE-PINU</th>\n",
       "      <th>TOTAL</th>\n",
       "    </tr>\n",
       "  </thead>\n",
       "  <tbody>\n",
       "    <tr>\n",
       "      <th>0</th>\n",
       "      <td>2289</td>\n",
       "      <td>4237</td>\n",
       "      <td>4733</td>\n",
       "      <td>11325</td>\n",
       "    </tr>\n",
       "    <tr>\n",
       "      <th>1</th>\n",
       "      <td>2479</td>\n",
       "      <td>4210</td>\n",
       "      <td>1325</td>\n",
       "      <td>8072</td>\n",
       "    </tr>\n",
       "    <tr>\n",
       "      <th>2</th>\n",
       "      <td>156</td>\n",
       "      <td>1293</td>\n",
       "      <td>1011</td>\n",
       "      <td>2498</td>\n",
       "    </tr>\n",
       "    <tr>\n",
       "      <th>3</th>\n",
       "      <td>1160</td>\n",
       "      <td>1087</td>\n",
       "      <td>170</td>\n",
       "      <td>2430</td>\n",
       "    </tr>\n",
       "    <tr>\n",
       "      <th>4</th>\n",
       "      <td>977</td>\n",
       "      <td>1054</td>\n",
       "      <td>486</td>\n",
       "      <td>2526</td>\n",
       "    </tr>\n",
       "    <tr>\n",
       "      <th>5</th>\n",
       "      <td>938</td>\n",
       "      <td>1455</td>\n",
       "      <td>782</td>\n",
       "      <td>3182</td>\n",
       "    </tr>\n",
       "    <tr>\n",
       "      <th>6</th>\n",
       "      <td>870</td>\n",
       "      <td>2123</td>\n",
       "      <td>1779</td>\n",
       "      <td>4799</td>\n",
       "    </tr>\n",
       "    <tr>\n",
       "      <th>7</th>\n",
       "      <td>529</td>\n",
       "      <td>1241</td>\n",
       "      <td>1022</td>\n",
       "      <td>2814</td>\n",
       "    </tr>\n",
       "    <tr>\n",
       "      <th>8</th>\n",
       "      <td>258</td>\n",
       "      <td>1756</td>\n",
       "      <td>609</td>\n",
       "      <td>2654</td>\n",
       "    </tr>\n",
       "    <tr>\n",
       "      <th>9</th>\n",
       "      <td>2003</td>\n",
       "      <td>1033</td>\n",
       "      <td>372</td>\n",
       "      <td>3433</td>\n",
       "    </tr>\n",
       "    <tr>\n",
       "      <th>10</th>\n",
       "      <td>469</td>\n",
       "      <td>2023</td>\n",
       "      <td>1647</td>\n",
       "      <td>4161</td>\n",
       "    </tr>\n",
       "    <tr>\n",
       "      <th>11</th>\n",
       "      <td>582</td>\n",
       "      <td>1219</td>\n",
       "      <td>458</td>\n",
       "      <td>2274</td>\n",
       "    </tr>\n",
       "    <tr>\n",
       "      <th>12</th>\n",
       "      <td>2436</td>\n",
       "      <td>3846</td>\n",
       "      <td>3047</td>\n",
       "      <td>9369</td>\n",
       "    </tr>\n",
       "    <tr>\n",
       "      <th>13</th>\n",
       "      <td>541</td>\n",
       "      <td>1106</td>\n",
       "      <td>1118</td>\n",
       "      <td>2867</td>\n",
       "    </tr>\n",
       "    <tr>\n",
       "      <th>14</th>\n",
       "      <td>713</td>\n",
       "      <td>2256</td>\n",
       "      <td>2175</td>\n",
       "      <td>5199</td>\n",
       "    </tr>\n",
       "    <tr>\n",
       "      <th>15</th>\n",
       "      <td>902</td>\n",
       "      <td>1399</td>\n",
       "      <td>1896</td>\n",
       "      <td>4227</td>\n",
       "    </tr>\n",
       "  </tbody>\n",
       "</table>\n",
       "</div>"
      ],
      "text/plain": [
       "      PL    PN  LIBRE-PINU  TOTAL\n",
       "0   2289  4237        4733  11325\n",
       "1   2479  4210        1325   8072\n",
       "2    156  1293        1011   2498\n",
       "3   1160  1087         170   2430\n",
       "4    977  1054         486   2526\n",
       "5    938  1455         782   3182\n",
       "6    870  2123        1779   4799\n",
       "7    529  1241        1022   2814\n",
       "8    258  1756         609   2654\n",
       "9   2003  1033         372   3433\n",
       "10   469  2023        1647   4161\n",
       "11   582  1219         458   2274\n",
       "12  2436  3846        3047   9369\n",
       "13   541  1106        1118   2867\n",
       "14   713  2256        2175   5199\n",
       "15   902  1399        1896   4227"
      ]
     },
     "execution_count": 2,
     "metadata": {},
     "output_type": "execute_result"
    }
   ],
   "source": [
    "df = pd.read_csv(\"https://docs.google.com/spreadsheets/d/1Qmdl_97d9SUNMvGmyKckK405QL-Mwbjr/export?format=csv\")\n",
    "df"
   ]
  },
  {
   "cell_type": "code",
   "execution_count": 3,
   "metadata": {},
   "outputs": [
    {
     "data": {
      "text/plain": [
       "[2289,\n",
       " 2479,\n",
       " 156,\n",
       " 1160,\n",
       " 977,\n",
       " 938,\n",
       " 870,\n",
       " 529,\n",
       " 258,\n",
       " 2003,\n",
       " 469,\n",
       " 582,\n",
       " 2436,\n",
       " 541,\n",
       " 713,\n",
       " 902]"
      ]
     },
     "execution_count": 3,
     "metadata": {},
     "output_type": "execute_result"
    }
   ],
   "source": [
    "pl = []\n",
    "for i in df['PL']:\n",
    "    pl.append(i)\n",
    "pl"
   ]
  },
  {
   "cell_type": "code",
   "execution_count": 4,
   "metadata": {},
   "outputs": [
    {
     "data": {
      "text/plain": [
       "[4237,\n",
       " 4210,\n",
       " 1293,\n",
       " 1087,\n",
       " 1054,\n",
       " 1455,\n",
       " 2123,\n",
       " 1241,\n",
       " 1756,\n",
       " 1033,\n",
       " 2023,\n",
       " 1219,\n",
       " 3846,\n",
       " 1106,\n",
       " 2256,\n",
       " 1399]"
      ]
     },
     "execution_count": 4,
     "metadata": {},
     "output_type": "execute_result"
    }
   ],
   "source": [
    "pn = []\n",
    "for i in df['PN']:\n",
    "    pn.append(i)\n",
    "pn"
   ]
  },
  {
   "cell_type": "code",
   "execution_count": 5,
   "metadata": {},
   "outputs": [
    {
     "data": {
      "text/plain": [
       "[4733,\n",
       " 1325,\n",
       " 1011,\n",
       " 170,\n",
       " 486,\n",
       " 782,\n",
       " 1779,\n",
       " 1022,\n",
       " 609,\n",
       " 372,\n",
       " 1647,\n",
       " 458,\n",
       " 3047,\n",
       " 1118,\n",
       " 2175,\n",
       " 1896]"
      ]
     },
     "execution_count": 5,
     "metadata": {},
     "output_type": "execute_result"
    }
   ],
   "source": [
    "pli = []\n",
    "for i in df['LIBRE-PINU']:\n",
    "    pli.append(i)\n",
    "pli"
   ]
  },
  {
   "cell_type": "code",
   "execution_count": 6,
   "metadata": {},
   "outputs": [
    {
     "data": {
      "text/plain": [
       "[11325,\n",
       " 8072,\n",
       " 2498,\n",
       " 2430,\n",
       " 2526,\n",
       " 3182,\n",
       " 4799,\n",
       " 2814,\n",
       " 2654,\n",
       " 3433,\n",
       " 4161,\n",
       " 2274,\n",
       " 9369,\n",
       " 2867,\n",
       " 5199,\n",
       " 4227]"
      ]
     },
     "execution_count": 6,
     "metadata": {},
     "output_type": "execute_result"
    }
   ],
   "source": [
    "tot = []\n",
    "for i in df['TOTAL']:\n",
    "    tot.append(i)\n",
    "tot"
   ]
  },
  {
   "cell_type": "code",
   "execution_count": 7,
   "metadata": {},
   "outputs": [],
   "source": [
    "list_of_nums = pl\n",
    "for n in list_of_nums:\n",
    "    first_digit = str(n)[0]+str(n)[1]\n",
    "    letters[first_digit] += 1\n",
    "y = [round(val / nfib, 4) for val in letters.values()]\n",
    "fre_relativa = y\n",
    "y = list(letters.values())\n",
    "f0= y\n",
    "x = list(letters.keys())\n",
    "y =  [round(math.log10(1+(1/int(val))), 4) for val in letters.keys()]\n",
    "benford = y"
   ]
  },
  {
   "cell_type": "code",
   "execution_count": 8,
   "metadata": {},
   "outputs": [
    {
     "data": {
      "text/plain": [
       "array([0, 1, 0, 0, 0, 1, 0, 0, 0, 0, 1, 0, 1, 0, 2, 1, 0, 0, 0, 0, 0, 0,\n",
       "       0, 0, 0, 0, 0, 0, 0, 0, 0, 0, 0, 0, 0, 0, 1, 0, 0, 0, 0, 0, 1, 0,\n",
       "       1, 0, 0, 0, 1, 0, 0, 0, 0, 0, 0, 0, 0, 0, 0, 0, 0, 1, 0, 0, 0, 0,\n",
       "       0, 0, 0, 0, 0, 0, 0, 0, 0, 0, 0, 1, 0, 0, 1, 0, 0, 1, 0, 0, 0, 1,\n",
       "       0, 0])"
      ]
     },
     "execution_count": 8,
     "metadata": {},
     "output_type": "execute_result"
    }
   ],
   "source": [
    "f0 = np.array(f0)\n",
    "f0"
   ]
  },
  {
   "cell_type": "code",
   "execution_count": 9,
   "metadata": {},
   "outputs": [
    {
     "data": {
      "text/plain": [
       "array([0.   , 0.002, 0.   , 0.   , 0.   , 0.002, 0.   , 0.   , 0.   ,\n",
       "       0.   , 0.002, 0.   , 0.002, 0.   , 0.004, 0.002, 0.   , 0.   ,\n",
       "       0.   , 0.   , 0.   , 0.   , 0.   , 0.   , 0.   , 0.   , 0.   ,\n",
       "       0.   , 0.   , 0.   , 0.   , 0.   , 0.   , 0.   , 0.   , 0.   ,\n",
       "       0.002, 0.   , 0.   , 0.   , 0.   , 0.   , 0.002, 0.   , 0.002,\n",
       "       0.   , 0.   , 0.   , 0.002, 0.   , 0.   , 0.   , 0.   , 0.   ,\n",
       "       0.   , 0.   , 0.   , 0.   , 0.   , 0.   , 0.   , 0.002, 0.   ,\n",
       "       0.   , 0.   , 0.   , 0.   , 0.   , 0.   , 0.   , 0.   , 0.   ,\n",
       "       0.   , 0.   , 0.   , 0.   , 0.   , 0.002, 0.   , 0.   , 0.002,\n",
       "       0.   , 0.   , 0.002, 0.   , 0.   , 0.   , 0.002, 0.   , 0.   ])"
      ]
     },
     "execution_count": 9,
     "metadata": {},
     "output_type": "execute_result"
    }
   ],
   "source": [
    "fre_relativa = np.array(fre_relativa)\n",
    "fre_relativa "
   ]
  },
  {
   "cell_type": "code",
   "execution_count": 10,
   "metadata": {},
   "outputs": [
    {
     "data": {
      "text/plain": [
       "array([0.0414, 0.0378, 0.0348, 0.0322, 0.03  , 0.028 , 0.0263, 0.0248,\n",
       "       0.0235, 0.0223, 0.0212, 0.0202, 0.0193, 0.0185, 0.0177, 0.017 ,\n",
       "       0.0164, 0.0158, 0.0152, 0.0147, 0.0142, 0.0138, 0.0134, 0.013 ,\n",
       "       0.0126, 0.0122, 0.0119, 0.0116, 0.0113, 0.011 , 0.0107, 0.0105,\n",
       "       0.0102, 0.01  , 0.0098, 0.0095, 0.0093, 0.0091, 0.009 , 0.0088,\n",
       "       0.0086, 0.0084, 0.0083, 0.0081, 0.008 , 0.0078, 0.0077, 0.0076,\n",
       "       0.0074, 0.0073, 0.0072, 0.0071, 0.0069, 0.0068, 0.0067, 0.0066,\n",
       "       0.0065, 0.0064, 0.0063, 0.0062, 0.0062, 0.0061, 0.006 , 0.0059,\n",
       "       0.0058, 0.0058, 0.0057, 0.0056, 0.0055, 0.0055, 0.0054, 0.0053,\n",
       "       0.0053, 0.0052, 0.0051, 0.0051, 0.005 , 0.005 , 0.0049, 0.0049,\n",
       "       0.0048, 0.0047, 0.0047, 0.0046, 0.0046, 0.0045, 0.0045, 0.0045,\n",
       "       0.0044, 0.0044])"
      ]
     },
     "execution_count": 10,
     "metadata": {},
     "output_type": "execute_result"
    }
   ],
   "source": [
    "benford = np.array(benford)\n",
    "benford"
   ]
  },
  {
   "cell_type": "code",
   "execution_count": 11,
   "metadata": {},
   "outputs": [
    {
     "data": {
      "text/plain": [
       "16"
      ]
     },
     "execution_count": 11,
     "metadata": {},
     "output_type": "execute_result"
    }
   ],
   "source": [
    "f0_tot=f0.sum()\n",
    "f0_tot"
   ]
  },
  {
   "cell_type": "code",
   "execution_count": 12,
   "metadata": {},
   "outputs": [],
   "source": [
    "fe = benford*f0_tot"
   ]
  },
  {
   "cell_type": "code",
   "execution_count": 13,
   "metadata": {},
   "outputs": [
    {
     "data": {
      "text/plain": [
       "array([0.6624, 0.6048, 0.5568, 0.5152, 0.48  , 0.448 , 0.4208, 0.3968,\n",
       "       0.376 , 0.3568, 0.3392, 0.3232, 0.3088, 0.296 , 0.2832, 0.272 ,\n",
       "       0.2624, 0.2528, 0.2432, 0.2352, 0.2272, 0.2208, 0.2144, 0.208 ,\n",
       "       0.2016, 0.1952, 0.1904, 0.1856, 0.1808, 0.176 , 0.1712, 0.168 ,\n",
       "       0.1632, 0.16  , 0.1568, 0.152 , 0.1488, 0.1456, 0.144 , 0.1408,\n",
       "       0.1376, 0.1344, 0.1328, 0.1296, 0.128 , 0.1248, 0.1232, 0.1216,\n",
       "       0.1184, 0.1168, 0.1152, 0.1136, 0.1104, 0.1088, 0.1072, 0.1056,\n",
       "       0.104 , 0.1024, 0.1008, 0.0992, 0.0992, 0.0976, 0.096 , 0.0944,\n",
       "       0.0928, 0.0928, 0.0912, 0.0896, 0.088 , 0.088 , 0.0864, 0.0848,\n",
       "       0.0848, 0.0832, 0.0816, 0.0816, 0.08  , 0.08  , 0.0784, 0.0784,\n",
       "       0.0768, 0.0752, 0.0752, 0.0736, 0.0736, 0.072 , 0.072 , 0.072 ,\n",
       "       0.0704, 0.0704])"
      ]
     },
     "execution_count": 13,
     "metadata": {},
     "output_type": "execute_result"
    }
   ],
   "source": [
    "fe "
   ]
  },
  {
   "cell_type": "code",
   "execution_count": 14,
   "metadata": {},
   "outputs": [
    {
     "data": {
      "text/plain": [
       "15.998399999999998"
      ]
     },
     "execution_count": 14,
     "metadata": {},
     "output_type": "execute_result"
    }
   ],
   "source": [
    "fe.sum()"
   ]
  },
  {
   "cell_type": "code",
   "execution_count": 15,
   "metadata": {},
   "outputs": [
    {
     "data": {
      "text/plain": [
       "array([-0.0414, -0.0358, -0.0348, -0.0322, -0.03  , -0.026 , -0.0263,\n",
       "       -0.0248, -0.0235, -0.0223, -0.0192, -0.0202, -0.0173, -0.0185,\n",
       "       -0.0137, -0.015 , -0.0164, -0.0158, -0.0152, -0.0147, -0.0142,\n",
       "       -0.0138, -0.0134, -0.013 , -0.0126, -0.0122, -0.0119, -0.0116,\n",
       "       -0.0113, -0.011 , -0.0107, -0.0105, -0.0102, -0.01  , -0.0098,\n",
       "       -0.0095, -0.0073, -0.0091, -0.009 , -0.0088, -0.0086, -0.0084,\n",
       "       -0.0063, -0.0081, -0.006 , -0.0078, -0.0077, -0.0076, -0.0054,\n",
       "       -0.0073, -0.0072, -0.0071, -0.0069, -0.0068, -0.0067, -0.0066,\n",
       "       -0.0065, -0.0064, -0.0063, -0.0062, -0.0062, -0.0041, -0.006 ,\n",
       "       -0.0059, -0.0058, -0.0058, -0.0057, -0.0056, -0.0055, -0.0055,\n",
       "       -0.0054, -0.0053, -0.0053, -0.0052, -0.0051, -0.0051, -0.005 ,\n",
       "       -0.003 , -0.0049, -0.0049, -0.0028, -0.0047, -0.0047, -0.0026,\n",
       "       -0.0046, -0.0045, -0.0045, -0.0025, -0.0044, -0.0044])"
      ]
     },
     "execution_count": 15,
     "metadata": {},
     "output_type": "execute_result"
    }
   ],
   "source": [
    "diferencia = fre_relativa - benford\n",
    "diferencia "
   ]
  },
  {
   "cell_type": "code",
   "execution_count": 16,
   "metadata": {},
   "outputs": [
    {
     "data": {
      "text/plain": [
       "-0.9679"
      ]
     },
     "execution_count": 16,
     "metadata": {},
     "output_type": "execute_result"
    }
   ],
   "source": [
    "diferencia.sum()"
   ]
  },
  {
   "cell_type": "code",
   "execution_count": 17,
   "metadata": {},
   "outputs": [],
   "source": [
    "f0_fe= (f0-fe)"
   ]
  },
  {
   "cell_type": "code",
   "execution_count": 18,
   "metadata": {},
   "outputs": [],
   "source": [
    "f0_fe_2 = f0_fe*f0_fe"
   ]
  },
  {
   "cell_type": "code",
   "execution_count": 19,
   "metadata": {},
   "outputs": [
    {
     "data": {
      "text/plain": [
       "array([ 0.6624    ,  0.25823915,  0.5568    ,  0.5152    ,  0.48      ,\n",
       "        0.68014286,  0.4208    ,  0.3968    ,  0.376     ,  0.3568    ,\n",
       "        1.28731321,  0.3232    ,  1.54714197,  0.296     , 10.40749379,\n",
       "        1.94847059,  0.2624    ,  0.2528    ,  0.2432    ,  0.2352    ,\n",
       "        0.2272    ,  0.2208    ,  0.2144    ,  0.208     ,  0.2016    ,\n",
       "        0.1952    ,  0.1904    ,  0.1856    ,  0.1808    ,  0.176     ,\n",
       "        0.1712    ,  0.168     ,  0.1632    ,  0.16      ,  0.1568    ,\n",
       "        0.152     ,  4.86923011,  0.1456    ,  0.144     ,  0.1408    ,\n",
       "        0.1376    ,  0.1344    ,  5.66292048,  0.1296    ,  5.9405    ,\n",
       "        0.1248    ,  0.1232    ,  0.1216    ,  6.56434595,  0.1168    ,\n",
       "        0.1152    ,  0.1136    ,  0.1104    ,  0.1088    ,  0.1072    ,\n",
       "        0.1056    ,  0.104     ,  0.1024    ,  0.1008    ,  0.0992    ,\n",
       "        0.0992    ,  8.34350164,  0.096     ,  0.0944    ,  0.0928    ,\n",
       "        0.0928    ,  0.0912    ,  0.0896    ,  0.088     ,  0.088     ,\n",
       "        0.0864    ,  0.0848    ,  0.0848    ,  0.0832    ,  0.0816    ,\n",
       "        0.0816    ,  0.08      , 10.58      ,  0.0784    ,  0.0784    ,\n",
       "       11.09763333,  0.0752    ,  0.0752    , 11.66055652,  0.0736    ,\n",
       "        0.072     ,  0.072     , 11.96088889,  0.0704    ,  0.0704    ])"
      ]
     },
     "execution_count": 19,
     "metadata": {},
     "output_type": "execute_result"
    }
   ],
   "source": [
    "f0_fe_2_fe=f0_fe_2/fe\n",
    "f0_fe_2_fe"
   ]
  },
  {
   "cell_type": "markdown",
   "metadata": {},
   "source": [
    "# Partido Liberal"
   ]
  },
  {
   "cell_type": "code",
   "execution_count": 20,
   "metadata": {},
   "outputs": [
    {
     "data": {
      "text/plain": [
       "105.62277847929329"
      ]
     },
     "execution_count": 20,
     "metadata": {},
     "output_type": "execute_result"
    }
   ],
   "source": [
    "x_2 = f0_fe_2_fe.sum()\n",
    "x_2 "
   ]
  },
  {
   "cell_type": "code",
   "execution_count": 21,
   "metadata": {},
   "outputs": [],
   "source": [
    "letters = {}\n",
    "\n",
    "for i in range(9,99):\n",
    "    letters[str(i+1)] = 0\n",
    "    \n",
    "list_of_nums = pn\n",
    "for n in list_of_nums:\n",
    "    first_digit = str(n)[0]+str(n)[1]\n",
    "    letters[first_digit] += 1\n",
    "y = [round(val / nfib, 4) for val in letters.values()]\n",
    "fre_relativa = y\n",
    "y = list(letters.values())\n",
    "f0= y\n",
    "x = list(letters.keys())\n",
    "y =  [round(math.log10(1+(1/int(val))), 4) for val in letters.keys()]\n",
    "benford = y"
   ]
  },
  {
   "cell_type": "code",
   "execution_count": 22,
   "metadata": {},
   "outputs": [
    {
     "data": {
      "text/plain": [
       "array([3, 1, 3, 1, 1, 0, 0, 1, 0, 0, 1, 1, 1, 0, 0, 0, 0, 0, 0, 0, 0, 0,\n",
       "       0, 0, 0, 0, 0, 0, 1, 0, 0, 0, 2, 0, 0, 0, 0, 0, 0, 0, 0, 0, 0, 0,\n",
       "       0, 0, 0, 0, 0, 0, 0, 0, 0, 0, 0, 0, 0, 0, 0, 0, 0, 0, 0, 0, 0, 0,\n",
       "       0, 0, 0, 0, 0, 0, 0, 0, 0, 0, 0, 0, 0, 0, 0, 0, 0, 0, 0, 0, 0, 0,\n",
       "       0, 0])"
      ]
     },
     "execution_count": 22,
     "metadata": {},
     "output_type": "execute_result"
    }
   ],
   "source": [
    "f0 = np.array(f0)\n",
    "f0"
   ]
  },
  {
   "cell_type": "code",
   "execution_count": 23,
   "metadata": {},
   "outputs": [
    {
     "data": {
      "text/plain": [
       "array([0.006, 0.002, 0.006, 0.002, 0.002, 0.   , 0.   , 0.002, 0.   ,\n",
       "       0.   , 0.002, 0.002, 0.002, 0.   , 0.   , 0.   , 0.   , 0.   ,\n",
       "       0.   , 0.   , 0.   , 0.   , 0.   , 0.   , 0.   , 0.   , 0.   ,\n",
       "       0.   , 0.002, 0.   , 0.   , 0.   , 0.004, 0.   , 0.   , 0.   ,\n",
       "       0.   , 0.   , 0.   , 0.   , 0.   , 0.   , 0.   , 0.   , 0.   ,\n",
       "       0.   , 0.   , 0.   , 0.   , 0.   , 0.   , 0.   , 0.   , 0.   ,\n",
       "       0.   , 0.   , 0.   , 0.   , 0.   , 0.   , 0.   , 0.   , 0.   ,\n",
       "       0.   , 0.   , 0.   , 0.   , 0.   , 0.   , 0.   , 0.   , 0.   ,\n",
       "       0.   , 0.   , 0.   , 0.   , 0.   , 0.   , 0.   , 0.   , 0.   ,\n",
       "       0.   , 0.   , 0.   , 0.   , 0.   , 0.   , 0.   , 0.   , 0.   ])"
      ]
     },
     "execution_count": 23,
     "metadata": {},
     "output_type": "execute_result"
    }
   ],
   "source": [
    "fre_relativa = np.array(fre_relativa)\n",
    "fre_relativa "
   ]
  },
  {
   "cell_type": "code",
   "execution_count": 24,
   "metadata": {},
   "outputs": [
    {
     "data": {
      "text/plain": [
       "array([0.0414, 0.0378, 0.0348, 0.0322, 0.03  , 0.028 , 0.0263, 0.0248,\n",
       "       0.0235, 0.0223, 0.0212, 0.0202, 0.0193, 0.0185, 0.0177, 0.017 ,\n",
       "       0.0164, 0.0158, 0.0152, 0.0147, 0.0142, 0.0138, 0.0134, 0.013 ,\n",
       "       0.0126, 0.0122, 0.0119, 0.0116, 0.0113, 0.011 , 0.0107, 0.0105,\n",
       "       0.0102, 0.01  , 0.0098, 0.0095, 0.0093, 0.0091, 0.009 , 0.0088,\n",
       "       0.0086, 0.0084, 0.0083, 0.0081, 0.008 , 0.0078, 0.0077, 0.0076,\n",
       "       0.0074, 0.0073, 0.0072, 0.0071, 0.0069, 0.0068, 0.0067, 0.0066,\n",
       "       0.0065, 0.0064, 0.0063, 0.0062, 0.0062, 0.0061, 0.006 , 0.0059,\n",
       "       0.0058, 0.0058, 0.0057, 0.0056, 0.0055, 0.0055, 0.0054, 0.0053,\n",
       "       0.0053, 0.0052, 0.0051, 0.0051, 0.005 , 0.005 , 0.0049, 0.0049,\n",
       "       0.0048, 0.0047, 0.0047, 0.0046, 0.0046, 0.0045, 0.0045, 0.0045,\n",
       "       0.0044, 0.0044])"
      ]
     },
     "execution_count": 24,
     "metadata": {},
     "output_type": "execute_result"
    }
   ],
   "source": [
    "benford = np.array(benford)\n",
    "benford"
   ]
  },
  {
   "cell_type": "code",
   "execution_count": 25,
   "metadata": {},
   "outputs": [
    {
     "data": {
      "text/plain": [
       "16"
      ]
     },
     "execution_count": 25,
     "metadata": {},
     "output_type": "execute_result"
    }
   ],
   "source": [
    "f0_tot=f0.sum()\n",
    "f0_tot"
   ]
  },
  {
   "cell_type": "code",
   "execution_count": 26,
   "metadata": {},
   "outputs": [],
   "source": [
    "fe = benford*f0_tot"
   ]
  },
  {
   "cell_type": "code",
   "execution_count": 27,
   "metadata": {},
   "outputs": [
    {
     "data": {
      "text/plain": [
       "array([0.6624, 0.6048, 0.5568, 0.5152, 0.48  , 0.448 , 0.4208, 0.3968,\n",
       "       0.376 , 0.3568, 0.3392, 0.3232, 0.3088, 0.296 , 0.2832, 0.272 ,\n",
       "       0.2624, 0.2528, 0.2432, 0.2352, 0.2272, 0.2208, 0.2144, 0.208 ,\n",
       "       0.2016, 0.1952, 0.1904, 0.1856, 0.1808, 0.176 , 0.1712, 0.168 ,\n",
       "       0.1632, 0.16  , 0.1568, 0.152 , 0.1488, 0.1456, 0.144 , 0.1408,\n",
       "       0.1376, 0.1344, 0.1328, 0.1296, 0.128 , 0.1248, 0.1232, 0.1216,\n",
       "       0.1184, 0.1168, 0.1152, 0.1136, 0.1104, 0.1088, 0.1072, 0.1056,\n",
       "       0.104 , 0.1024, 0.1008, 0.0992, 0.0992, 0.0976, 0.096 , 0.0944,\n",
       "       0.0928, 0.0928, 0.0912, 0.0896, 0.088 , 0.088 , 0.0864, 0.0848,\n",
       "       0.0848, 0.0832, 0.0816, 0.0816, 0.08  , 0.08  , 0.0784, 0.0784,\n",
       "       0.0768, 0.0752, 0.0752, 0.0736, 0.0736, 0.072 , 0.072 , 0.072 ,\n",
       "       0.0704, 0.0704])"
      ]
     },
     "execution_count": 27,
     "metadata": {},
     "output_type": "execute_result"
    }
   ],
   "source": [
    "fe "
   ]
  },
  {
   "cell_type": "code",
   "execution_count": 28,
   "metadata": {},
   "outputs": [
    {
     "data": {
      "text/plain": [
       "15.998399999999998"
      ]
     },
     "execution_count": 28,
     "metadata": {},
     "output_type": "execute_result"
    }
   ],
   "source": [
    "fe.sum()"
   ]
  },
  {
   "cell_type": "code",
   "execution_count": 29,
   "metadata": {},
   "outputs": [
    {
     "data": {
      "text/plain": [
       "array([-0.0354, -0.0358, -0.0288, -0.0302, -0.028 , -0.028 , -0.0263,\n",
       "       -0.0228, -0.0235, -0.0223, -0.0192, -0.0182, -0.0173, -0.0185,\n",
       "       -0.0177, -0.017 , -0.0164, -0.0158, -0.0152, -0.0147, -0.0142,\n",
       "       -0.0138, -0.0134, -0.013 , -0.0126, -0.0122, -0.0119, -0.0116,\n",
       "       -0.0093, -0.011 , -0.0107, -0.0105, -0.0062, -0.01  , -0.0098,\n",
       "       -0.0095, -0.0093, -0.0091, -0.009 , -0.0088, -0.0086, -0.0084,\n",
       "       -0.0083, -0.0081, -0.008 , -0.0078, -0.0077, -0.0076, -0.0074,\n",
       "       -0.0073, -0.0072, -0.0071, -0.0069, -0.0068, -0.0067, -0.0066,\n",
       "       -0.0065, -0.0064, -0.0063, -0.0062, -0.0062, -0.0061, -0.006 ,\n",
       "       -0.0059, -0.0058, -0.0058, -0.0057, -0.0056, -0.0055, -0.0055,\n",
       "       -0.0054, -0.0053, -0.0053, -0.0052, -0.0051, -0.0051, -0.005 ,\n",
       "       -0.005 , -0.0049, -0.0049, -0.0048, -0.0047, -0.0047, -0.0046,\n",
       "       -0.0046, -0.0045, -0.0045, -0.0045, -0.0044, -0.0044])"
      ]
     },
     "execution_count": 29,
     "metadata": {},
     "output_type": "execute_result"
    }
   ],
   "source": [
    "diferencia = fre_relativa - benford\n",
    "diferencia "
   ]
  },
  {
   "cell_type": "code",
   "execution_count": 30,
   "metadata": {},
   "outputs": [
    {
     "data": {
      "text/plain": [
       "-0.9679"
      ]
     },
     "execution_count": 30,
     "metadata": {},
     "output_type": "execute_result"
    }
   ],
   "source": [
    "diferencia.sum()"
   ]
  },
  {
   "cell_type": "code",
   "execution_count": 31,
   "metadata": {},
   "outputs": [],
   "source": [
    "f0_fe= (f0-fe)"
   ]
  },
  {
   "cell_type": "code",
   "execution_count": 32,
   "metadata": {},
   "outputs": [],
   "source": [
    "f0_fe_2 = f0_fe*f0_fe"
   ]
  },
  {
   "cell_type": "code",
   "execution_count": 33,
   "metadata": {},
   "outputs": [
    {
     "data": {
      "text/plain": [
       "array([ 8.24935652,  0.25823915, 10.7205931 ,  0.45619379,  0.56333333,\n",
       "        0.448     ,  0.4208    ,  0.91696129,  0.376     ,  0.3568    ,\n",
       "        1.28731321,  1.41725941,  1.54714197,  0.296     ,  0.2832    ,\n",
       "        0.272     ,  0.2624    ,  0.2528    ,  0.2432    ,  0.2352    ,\n",
       "        0.2272    ,  0.2208    ,  0.2144    ,  0.208     ,  0.2016    ,\n",
       "        0.1952    ,  0.1904    ,  0.1856    ,  3.71177345,  0.176     ,\n",
       "        0.1712    ,  0.168     , 20.67300392,  0.16      ,  0.1568    ,\n",
       "        0.152     ,  0.1488    ,  0.1456    ,  0.144     ,  0.1408    ,\n",
       "        0.1376    ,  0.1344    ,  0.1328    ,  0.1296    ,  0.128     ,\n",
       "        0.1248    ,  0.1232    ,  0.1216    ,  0.1184    ,  0.1168    ,\n",
       "        0.1152    ,  0.1136    ,  0.1104    ,  0.1088    ,  0.1072    ,\n",
       "        0.1056    ,  0.104     ,  0.1024    ,  0.1008    ,  0.0992    ,\n",
       "        0.0992    ,  0.0976    ,  0.096     ,  0.0944    ,  0.0928    ,\n",
       "        0.0928    ,  0.0912    ,  0.0896    ,  0.088     ,  0.088     ,\n",
       "        0.0864    ,  0.0848    ,  0.0848    ,  0.0832    ,  0.0816    ,\n",
       "        0.0816    ,  0.08      ,  0.08      ,  0.0784    ,  0.0784    ,\n",
       "        0.0768    ,  0.0752    ,  0.0752    ,  0.0736    ,  0.0736    ,\n",
       "        0.072     ,  0.072     ,  0.072     ,  0.0704    ,  0.0704    ])"
      ]
     },
     "execution_count": 33,
     "metadata": {},
     "output_type": "execute_result"
    }
   ],
   "source": [
    "f0_fe_2_fe=f0_fe_2/fe\n",
    "f0_fe_2_fe"
   ]
  },
  {
   "cell_type": "markdown",
   "metadata": {},
   "source": [
    "# Partido Nacional"
   ]
  },
  {
   "cell_type": "code",
   "execution_count": 34,
   "metadata": {},
   "outputs": [
    {
     "data": {
      "text/plain": [
       "61.268369146398086"
      ]
     },
     "execution_count": 34,
     "metadata": {},
     "output_type": "execute_result"
    }
   ],
   "source": [
    "x_2 = f0_fe_2_fe.sum()\n",
    "x_2 "
   ]
  },
  {
   "cell_type": "code",
   "execution_count": 35,
   "metadata": {},
   "outputs": [],
   "source": [
    "letters = {}\n",
    "\n",
    "for i in range(9,99):\n",
    "    letters[str(i+1)] = 0\n",
    "    \n",
    "list_of_nums = pli\n",
    "for n in list_of_nums:\n",
    "    first_digit = str(n)[0]+str(n)[1]\n",
    "    letters[first_digit] += 1\n",
    "y = [round(val / nfib, 4) for val in letters.values()]\n",
    "fre_relativa = y\n",
    "y = list(letters.values())\n",
    "f0= y\n",
    "x = list(letters.keys())\n",
    "y =  [round(math.log10(1+(1/int(val))), 4) for val in letters.keys()]\n",
    "benford = y"
   ]
  },
  {
   "cell_type": "code",
   "execution_count": 36,
   "metadata": {},
   "outputs": [
    {
     "data": {
      "text/plain": [
       "array([2, 1, 0, 1, 0, 0, 1, 2, 1, 0, 0, 1, 0, 0, 0, 0, 0, 0, 0, 0, 1, 0,\n",
       "       0, 0, 0, 0, 0, 1, 0, 0, 0, 0, 0, 0, 0, 1, 0, 1, 1, 0, 0, 0, 0, 0,\n",
       "       0, 0, 0, 0, 0, 0, 1, 0, 0, 0, 0, 0, 0, 0, 0, 0, 0, 0, 0, 0, 0, 0,\n",
       "       0, 0, 1, 0, 0, 0, 0, 0, 0, 0, 0, 0, 0, 0, 0, 0, 0, 0, 0, 0, 0, 0,\n",
       "       0, 0])"
      ]
     },
     "execution_count": 36,
     "metadata": {},
     "output_type": "execute_result"
    }
   ],
   "source": [
    "f0 = np.array(f0)\n",
    "f0"
   ]
  },
  {
   "cell_type": "code",
   "execution_count": 37,
   "metadata": {},
   "outputs": [
    {
     "data": {
      "text/plain": [
       "array([0.004, 0.002, 0.   , 0.002, 0.   , 0.   , 0.002, 0.004, 0.002,\n",
       "       0.   , 0.   , 0.002, 0.   , 0.   , 0.   , 0.   , 0.   , 0.   ,\n",
       "       0.   , 0.   , 0.002, 0.   , 0.   , 0.   , 0.   , 0.   , 0.   ,\n",
       "       0.002, 0.   , 0.   , 0.   , 0.   , 0.   , 0.   , 0.   , 0.002,\n",
       "       0.   , 0.002, 0.002, 0.   , 0.   , 0.   , 0.   , 0.   , 0.   ,\n",
       "       0.   , 0.   , 0.   , 0.   , 0.   , 0.002, 0.   , 0.   , 0.   ,\n",
       "       0.   , 0.   , 0.   , 0.   , 0.   , 0.   , 0.   , 0.   , 0.   ,\n",
       "       0.   , 0.   , 0.   , 0.   , 0.   , 0.002, 0.   , 0.   , 0.   ,\n",
       "       0.   , 0.   , 0.   , 0.   , 0.   , 0.   , 0.   , 0.   , 0.   ,\n",
       "       0.   , 0.   , 0.   , 0.   , 0.   , 0.   , 0.   , 0.   , 0.   ])"
      ]
     },
     "execution_count": 37,
     "metadata": {},
     "output_type": "execute_result"
    }
   ],
   "source": [
    "fre_relativa = np.array(fre_relativa)\n",
    "fre_relativa "
   ]
  },
  {
   "cell_type": "code",
   "execution_count": 38,
   "metadata": {},
   "outputs": [
    {
     "data": {
      "text/plain": [
       "array([0.0414, 0.0378, 0.0348, 0.0322, 0.03  , 0.028 , 0.0263, 0.0248,\n",
       "       0.0235, 0.0223, 0.0212, 0.0202, 0.0193, 0.0185, 0.0177, 0.017 ,\n",
       "       0.0164, 0.0158, 0.0152, 0.0147, 0.0142, 0.0138, 0.0134, 0.013 ,\n",
       "       0.0126, 0.0122, 0.0119, 0.0116, 0.0113, 0.011 , 0.0107, 0.0105,\n",
       "       0.0102, 0.01  , 0.0098, 0.0095, 0.0093, 0.0091, 0.009 , 0.0088,\n",
       "       0.0086, 0.0084, 0.0083, 0.0081, 0.008 , 0.0078, 0.0077, 0.0076,\n",
       "       0.0074, 0.0073, 0.0072, 0.0071, 0.0069, 0.0068, 0.0067, 0.0066,\n",
       "       0.0065, 0.0064, 0.0063, 0.0062, 0.0062, 0.0061, 0.006 , 0.0059,\n",
       "       0.0058, 0.0058, 0.0057, 0.0056, 0.0055, 0.0055, 0.0054, 0.0053,\n",
       "       0.0053, 0.0052, 0.0051, 0.0051, 0.005 , 0.005 , 0.0049, 0.0049,\n",
       "       0.0048, 0.0047, 0.0047, 0.0046, 0.0046, 0.0045, 0.0045, 0.0045,\n",
       "       0.0044, 0.0044])"
      ]
     },
     "execution_count": 38,
     "metadata": {},
     "output_type": "execute_result"
    }
   ],
   "source": [
    "benford = np.array(benford)\n",
    "benford"
   ]
  },
  {
   "cell_type": "code",
   "execution_count": 39,
   "metadata": {},
   "outputs": [
    {
     "data": {
      "text/plain": [
       "16"
      ]
     },
     "execution_count": 39,
     "metadata": {},
     "output_type": "execute_result"
    }
   ],
   "source": [
    "f0_tot=f0.sum()\n",
    "f0_tot"
   ]
  },
  {
   "cell_type": "code",
   "execution_count": 40,
   "metadata": {},
   "outputs": [],
   "source": [
    "fe = benford*f0_tot"
   ]
  },
  {
   "cell_type": "code",
   "execution_count": 41,
   "metadata": {},
   "outputs": [
    {
     "data": {
      "text/plain": [
       "array([0.6624, 0.6048, 0.5568, 0.5152, 0.48  , 0.448 , 0.4208, 0.3968,\n",
       "       0.376 , 0.3568, 0.3392, 0.3232, 0.3088, 0.296 , 0.2832, 0.272 ,\n",
       "       0.2624, 0.2528, 0.2432, 0.2352, 0.2272, 0.2208, 0.2144, 0.208 ,\n",
       "       0.2016, 0.1952, 0.1904, 0.1856, 0.1808, 0.176 , 0.1712, 0.168 ,\n",
       "       0.1632, 0.16  , 0.1568, 0.152 , 0.1488, 0.1456, 0.144 , 0.1408,\n",
       "       0.1376, 0.1344, 0.1328, 0.1296, 0.128 , 0.1248, 0.1232, 0.1216,\n",
       "       0.1184, 0.1168, 0.1152, 0.1136, 0.1104, 0.1088, 0.1072, 0.1056,\n",
       "       0.104 , 0.1024, 0.1008, 0.0992, 0.0992, 0.0976, 0.096 , 0.0944,\n",
       "       0.0928, 0.0928, 0.0912, 0.0896, 0.088 , 0.088 , 0.0864, 0.0848,\n",
       "       0.0848, 0.0832, 0.0816, 0.0816, 0.08  , 0.08  , 0.0784, 0.0784,\n",
       "       0.0768, 0.0752, 0.0752, 0.0736, 0.0736, 0.072 , 0.072 , 0.072 ,\n",
       "       0.0704, 0.0704])"
      ]
     },
     "execution_count": 41,
     "metadata": {},
     "output_type": "execute_result"
    }
   ],
   "source": [
    "fe "
   ]
  },
  {
   "cell_type": "code",
   "execution_count": 42,
   "metadata": {},
   "outputs": [
    {
     "data": {
      "text/plain": [
       "15.998399999999998"
      ]
     },
     "execution_count": 42,
     "metadata": {},
     "output_type": "execute_result"
    }
   ],
   "source": [
    "fe.sum()"
   ]
  },
  {
   "cell_type": "code",
   "execution_count": 43,
   "metadata": {},
   "outputs": [
    {
     "data": {
      "text/plain": [
       "array([-0.0374, -0.0358, -0.0348, -0.0302, -0.03  , -0.028 , -0.0243,\n",
       "       -0.0208, -0.0215, -0.0223, -0.0212, -0.0182, -0.0193, -0.0185,\n",
       "       -0.0177, -0.017 , -0.0164, -0.0158, -0.0152, -0.0147, -0.0122,\n",
       "       -0.0138, -0.0134, -0.013 , -0.0126, -0.0122, -0.0119, -0.0096,\n",
       "       -0.0113, -0.011 , -0.0107, -0.0105, -0.0102, -0.01  , -0.0098,\n",
       "       -0.0075, -0.0093, -0.0071, -0.007 , -0.0088, -0.0086, -0.0084,\n",
       "       -0.0083, -0.0081, -0.008 , -0.0078, -0.0077, -0.0076, -0.0074,\n",
       "       -0.0073, -0.0052, -0.0071, -0.0069, -0.0068, -0.0067, -0.0066,\n",
       "       -0.0065, -0.0064, -0.0063, -0.0062, -0.0062, -0.0061, -0.006 ,\n",
       "       -0.0059, -0.0058, -0.0058, -0.0057, -0.0056, -0.0035, -0.0055,\n",
       "       -0.0054, -0.0053, -0.0053, -0.0052, -0.0051, -0.0051, -0.005 ,\n",
       "       -0.005 , -0.0049, -0.0049, -0.0048, -0.0047, -0.0047, -0.0046,\n",
       "       -0.0046, -0.0045, -0.0045, -0.0045, -0.0044, -0.0044])"
      ]
     },
     "execution_count": 43,
     "metadata": {},
     "output_type": "execute_result"
    }
   ],
   "source": [
    "diferencia = fre_relativa - benford\n",
    "diferencia "
   ]
  },
  {
   "cell_type": "code",
   "execution_count": 44,
   "metadata": {},
   "outputs": [
    {
     "data": {
      "text/plain": [
       "-0.9679"
      ]
     },
     "execution_count": 44,
     "metadata": {},
     "output_type": "execute_result"
    }
   ],
   "source": [
    "diferencia.sum()"
   ]
  },
  {
   "cell_type": "code",
   "execution_count": 45,
   "metadata": {},
   "outputs": [],
   "source": [
    "f0_fe= (f0-fe)"
   ]
  },
  {
   "cell_type": "code",
   "execution_count": 46,
   "metadata": {},
   "outputs": [],
   "source": [
    "f0_fe_2 = f0_fe*f0_fe"
   ]
  },
  {
   "cell_type": "code",
   "execution_count": 47,
   "metadata": {},
   "outputs": [
    {
     "data": {
      "text/plain": [
       "array([2.70104734, 0.25823915, 0.5568    , 0.45619379, 0.48      ,\n",
       "       0.448     , 0.79722586, 6.47744516, 1.03557447, 0.3568    ,\n",
       "       0.3392    , 1.41725941, 0.3088    , 0.296     , 0.2832    ,\n",
       "       0.272     , 0.2624    , 0.2528    , 0.2432    , 0.2352    ,\n",
       "       2.62860845, 0.2208    , 0.2144    , 0.208     , 0.2016    ,\n",
       "       0.1952    , 0.1904    , 3.57353103, 0.1808    , 0.176     ,\n",
       "       0.1712    , 0.168     , 0.1632    , 0.16      , 0.1568    ,\n",
       "       4.73094737, 0.1488    , 5.01373187, 5.08844444, 0.1408    ,\n",
       "       0.1376    , 0.1344    , 0.1328    , 0.1296    , 0.128     ,\n",
       "       0.1248    , 0.1232    , 0.1216    , 0.1184    , 0.1168    ,\n",
       "       6.79575556, 0.1136    , 0.1104    , 0.1088    , 0.1072    ,\n",
       "       0.1056    , 0.104     , 0.1024    , 0.1008    , 0.0992    ,\n",
       "       0.0992    , 0.0976    , 0.096     , 0.0944    , 0.0928    ,\n",
       "       0.0928    , 0.0912    , 0.0896    , 9.45163636, 0.088     ,\n",
       "       0.0864    , 0.0848    , 0.0848    , 0.0832    , 0.0816    ,\n",
       "       0.0816    , 0.08      , 0.08      , 0.0784    , 0.0784    ,\n",
       "       0.0768    , 0.0752    , 0.0752    , 0.0736    , 0.0736    ,\n",
       "       0.072     , 0.072     , 0.072     , 0.0704    , 0.0704    ])"
      ]
     },
     "execution_count": 47,
     "metadata": {},
     "output_type": "execute_result"
    }
   ],
   "source": [
    "f0_fe_2_fe=f0_fe_2/fe\n",
    "f0_fe_2_fe"
   ]
  },
  {
   "cell_type": "markdown",
   "metadata": {},
   "source": [
    "# Partido Libre"
   ]
  },
  {
   "cell_type": "code",
   "execution_count": 48,
   "metadata": {},
   "outputs": [
    {
     "data": {
      "text/plain": [
       "62.06724026145981"
      ]
     },
     "execution_count": 48,
     "metadata": {},
     "output_type": "execute_result"
    }
   ],
   "source": [
    "x_2 = f0_fe_2_fe.sum()\n",
    "x_2 "
   ]
  },
  {
   "cell_type": "code",
   "execution_count": 49,
   "metadata": {},
   "outputs": [],
   "source": [
    "letters = {}\n",
    "\n",
    "for i in range(9,99):\n",
    "    letters[str(i+1)] = 0\n",
    "    \n",
    "list_of_nums = tot\n",
    "for n in list_of_nums:\n",
    "    first_digit = str(n)[0]+str(n)[1]\n",
    "    letters[first_digit] += 1\n",
    "y = [round(val / nfib, 4) for val in letters.values()]\n",
    "fre_relativa = y\n",
    "y = list(letters.values())\n",
    "f0= y\n",
    "x = list(letters.keys())\n",
    "y =  [round(math.log10(1+(1/int(val))), 4) for val in letters.keys()]\n",
    "benford = y"
   ]
  },
  {
   "cell_type": "code",
   "execution_count": 50,
   "metadata": {},
   "outputs": [
    {
     "data": {
      "text/plain": [
       "array([0, 1, 0, 0, 0, 0, 0, 0, 0, 0, 0, 0, 1, 0, 2, 1, 1, 0, 2, 0, 0, 1,\n",
       "       0, 0, 1, 0, 0, 0, 0, 0, 0, 1, 1, 0, 0, 0, 0, 1, 0, 0, 0, 1, 0, 0,\n",
       "       0, 0, 0, 0, 0, 0, 0, 0, 0, 0, 0, 0, 0, 0, 0, 0, 0, 0, 0, 0, 0, 0,\n",
       "       0, 0, 0, 0, 1, 0, 0, 0, 0, 0, 0, 0, 0, 0, 0, 0, 0, 1, 0, 0, 0, 0,\n",
       "       0, 0])"
      ]
     },
     "execution_count": 50,
     "metadata": {},
     "output_type": "execute_result"
    }
   ],
   "source": [
    "f0 = np.array(f0)\n",
    "f0"
   ]
  },
  {
   "cell_type": "code",
   "execution_count": 51,
   "metadata": {},
   "outputs": [
    {
     "data": {
      "text/plain": [
       "array([0.   , 0.002, 0.   , 0.   , 0.   , 0.   , 0.   , 0.   , 0.   ,\n",
       "       0.   , 0.   , 0.   , 0.002, 0.   , 0.004, 0.002, 0.002, 0.   ,\n",
       "       0.004, 0.   , 0.   , 0.002, 0.   , 0.   , 0.002, 0.   , 0.   ,\n",
       "       0.   , 0.   , 0.   , 0.   , 0.002, 0.002, 0.   , 0.   , 0.   ,\n",
       "       0.   , 0.002, 0.   , 0.   , 0.   , 0.002, 0.   , 0.   , 0.   ,\n",
       "       0.   , 0.   , 0.   , 0.   , 0.   , 0.   , 0.   , 0.   , 0.   ,\n",
       "       0.   , 0.   , 0.   , 0.   , 0.   , 0.   , 0.   , 0.   , 0.   ,\n",
       "       0.   , 0.   , 0.   , 0.   , 0.   , 0.   , 0.   , 0.002, 0.   ,\n",
       "       0.   , 0.   , 0.   , 0.   , 0.   , 0.   , 0.   , 0.   , 0.   ,\n",
       "       0.   , 0.   , 0.002, 0.   , 0.   , 0.   , 0.   , 0.   , 0.   ])"
      ]
     },
     "execution_count": 51,
     "metadata": {},
     "output_type": "execute_result"
    }
   ],
   "source": [
    "fre_relativa = np.array(fre_relativa)\n",
    "fre_relativa "
   ]
  },
  {
   "cell_type": "code",
   "execution_count": 52,
   "metadata": {},
   "outputs": [
    {
     "data": {
      "text/plain": [
       "array([0.0414, 0.0378, 0.0348, 0.0322, 0.03  , 0.028 , 0.0263, 0.0248,\n",
       "       0.0235, 0.0223, 0.0212, 0.0202, 0.0193, 0.0185, 0.0177, 0.017 ,\n",
       "       0.0164, 0.0158, 0.0152, 0.0147, 0.0142, 0.0138, 0.0134, 0.013 ,\n",
       "       0.0126, 0.0122, 0.0119, 0.0116, 0.0113, 0.011 , 0.0107, 0.0105,\n",
       "       0.0102, 0.01  , 0.0098, 0.0095, 0.0093, 0.0091, 0.009 , 0.0088,\n",
       "       0.0086, 0.0084, 0.0083, 0.0081, 0.008 , 0.0078, 0.0077, 0.0076,\n",
       "       0.0074, 0.0073, 0.0072, 0.0071, 0.0069, 0.0068, 0.0067, 0.0066,\n",
       "       0.0065, 0.0064, 0.0063, 0.0062, 0.0062, 0.0061, 0.006 , 0.0059,\n",
       "       0.0058, 0.0058, 0.0057, 0.0056, 0.0055, 0.0055, 0.0054, 0.0053,\n",
       "       0.0053, 0.0052, 0.0051, 0.0051, 0.005 , 0.005 , 0.0049, 0.0049,\n",
       "       0.0048, 0.0047, 0.0047, 0.0046, 0.0046, 0.0045, 0.0045, 0.0045,\n",
       "       0.0044, 0.0044])"
      ]
     },
     "execution_count": 52,
     "metadata": {},
     "output_type": "execute_result"
    }
   ],
   "source": [
    "benford = np.array(benford)\n",
    "benford"
   ]
  },
  {
   "cell_type": "code",
   "execution_count": 53,
   "metadata": {},
   "outputs": [
    {
     "data": {
      "text/plain": [
       "16"
      ]
     },
     "execution_count": 53,
     "metadata": {},
     "output_type": "execute_result"
    }
   ],
   "source": [
    "f0_tot=f0.sum()\n",
    "f0_tot"
   ]
  },
  {
   "cell_type": "code",
   "execution_count": 54,
   "metadata": {},
   "outputs": [],
   "source": [
    "fe = benford*f0_tot"
   ]
  },
  {
   "cell_type": "code",
   "execution_count": 55,
   "metadata": {},
   "outputs": [
    {
     "data": {
      "text/plain": [
       "array([0.6624, 0.6048, 0.5568, 0.5152, 0.48  , 0.448 , 0.4208, 0.3968,\n",
       "       0.376 , 0.3568, 0.3392, 0.3232, 0.3088, 0.296 , 0.2832, 0.272 ,\n",
       "       0.2624, 0.2528, 0.2432, 0.2352, 0.2272, 0.2208, 0.2144, 0.208 ,\n",
       "       0.2016, 0.1952, 0.1904, 0.1856, 0.1808, 0.176 , 0.1712, 0.168 ,\n",
       "       0.1632, 0.16  , 0.1568, 0.152 , 0.1488, 0.1456, 0.144 , 0.1408,\n",
       "       0.1376, 0.1344, 0.1328, 0.1296, 0.128 , 0.1248, 0.1232, 0.1216,\n",
       "       0.1184, 0.1168, 0.1152, 0.1136, 0.1104, 0.1088, 0.1072, 0.1056,\n",
       "       0.104 , 0.1024, 0.1008, 0.0992, 0.0992, 0.0976, 0.096 , 0.0944,\n",
       "       0.0928, 0.0928, 0.0912, 0.0896, 0.088 , 0.088 , 0.0864, 0.0848,\n",
       "       0.0848, 0.0832, 0.0816, 0.0816, 0.08  , 0.08  , 0.0784, 0.0784,\n",
       "       0.0768, 0.0752, 0.0752, 0.0736, 0.0736, 0.072 , 0.072 , 0.072 ,\n",
       "       0.0704, 0.0704])"
      ]
     },
     "execution_count": 55,
     "metadata": {},
     "output_type": "execute_result"
    }
   ],
   "source": [
    "fe "
   ]
  },
  {
   "cell_type": "code",
   "execution_count": 56,
   "metadata": {},
   "outputs": [
    {
     "data": {
      "text/plain": [
       "15.998399999999998"
      ]
     },
     "execution_count": 56,
     "metadata": {},
     "output_type": "execute_result"
    }
   ],
   "source": [
    "fe.sum()"
   ]
  },
  {
   "cell_type": "code",
   "execution_count": 57,
   "metadata": {},
   "outputs": [
    {
     "data": {
      "text/plain": [
       "array([-0.0414, -0.0358, -0.0348, -0.0322, -0.03  , -0.028 , -0.0263,\n",
       "       -0.0248, -0.0235, -0.0223, -0.0212, -0.0202, -0.0173, -0.0185,\n",
       "       -0.0137, -0.015 , -0.0144, -0.0158, -0.0112, -0.0147, -0.0142,\n",
       "       -0.0118, -0.0134, -0.013 , -0.0106, -0.0122, -0.0119, -0.0116,\n",
       "       -0.0113, -0.011 , -0.0107, -0.0085, -0.0082, -0.01  , -0.0098,\n",
       "       -0.0095, -0.0093, -0.0071, -0.009 , -0.0088, -0.0086, -0.0064,\n",
       "       -0.0083, -0.0081, -0.008 , -0.0078, -0.0077, -0.0076, -0.0074,\n",
       "       -0.0073, -0.0072, -0.0071, -0.0069, -0.0068, -0.0067, -0.0066,\n",
       "       -0.0065, -0.0064, -0.0063, -0.0062, -0.0062, -0.0061, -0.006 ,\n",
       "       -0.0059, -0.0058, -0.0058, -0.0057, -0.0056, -0.0055, -0.0055,\n",
       "       -0.0034, -0.0053, -0.0053, -0.0052, -0.0051, -0.0051, -0.005 ,\n",
       "       -0.005 , -0.0049, -0.0049, -0.0048, -0.0047, -0.0047, -0.0026,\n",
       "       -0.0046, -0.0045, -0.0045, -0.0045, -0.0044, -0.0044])"
      ]
     },
     "execution_count": 57,
     "metadata": {},
     "output_type": "execute_result"
    }
   ],
   "source": [
    "diferencia = fre_relativa - benford\n",
    "diferencia "
   ]
  },
  {
   "cell_type": "code",
   "execution_count": 58,
   "metadata": {},
   "outputs": [
    {
     "data": {
      "text/plain": [
       "-0.9679"
      ]
     },
     "execution_count": 58,
     "metadata": {},
     "output_type": "execute_result"
    }
   ],
   "source": [
    "diferencia.sum()"
   ]
  },
  {
   "cell_type": "code",
   "execution_count": 59,
   "metadata": {},
   "outputs": [],
   "source": [
    "f0_fe= (f0-fe)"
   ]
  },
  {
   "cell_type": "code",
   "execution_count": 60,
   "metadata": {},
   "outputs": [],
   "source": [
    "f0_fe_2 = f0_fe*f0_fe"
   ]
  },
  {
   "cell_type": "code",
   "execution_count": 61,
   "metadata": {},
   "outputs": [
    {
     "data": {
      "text/plain": [
       "array([ 0.6624    ,  0.25823915,  0.5568    ,  0.5152    ,  0.48      ,\n",
       "        0.448     ,  0.4208    ,  0.3968    ,  0.376     ,  0.3568    ,\n",
       "        0.3392    ,  0.3232    ,  1.54714197,  0.296     , 10.40749379,\n",
       "        1.94847059,  2.07337561,  0.2528    , 12.69056842,  0.2352    ,\n",
       "        0.2272    ,  2.74978551,  0.2144    ,  0.208     ,  3.16191746,\n",
       "        0.1952    ,  0.1904    ,  0.1856    ,  0.1808    ,  0.176     ,\n",
       "        0.1712    ,  4.12038095,  4.29065098,  0.16      ,  0.1568    ,\n",
       "        0.152     ,  0.1488    ,  5.01373187,  0.144     ,  0.1408    ,\n",
       "        0.1376    ,  5.57487619,  0.1328    ,  0.1296    ,  0.128     ,\n",
       "        0.1248    ,  0.1232    ,  0.1216    ,  0.1184    ,  0.1168    ,\n",
       "        0.1152    ,  0.1136    ,  0.1104    ,  0.1088    ,  0.1072    ,\n",
       "        0.1056    ,  0.104     ,  0.1024    ,  0.1008    ,  0.0992    ,\n",
       "        0.0992    ,  0.0976    ,  0.096     ,  0.0944    ,  0.0928    ,\n",
       "        0.0928    ,  0.0912    ,  0.0896    ,  0.088     ,  0.088     ,\n",
       "        9.66047407,  0.0848    ,  0.0848    ,  0.0832    ,  0.0816    ,\n",
       "        0.0816    ,  0.08      ,  0.08      ,  0.0784    ,  0.0784    ,\n",
       "        0.0768    ,  0.0752    ,  0.0752    , 11.66055652,  0.0736    ,\n",
       "        0.072     ,  0.072     ,  0.072     ,  0.0704    ,  0.0704    ])"
      ]
     },
     "execution_count": 61,
     "metadata": {},
     "output_type": "execute_result"
    }
   ],
   "source": [
    "f0_fe_2_fe=f0_fe_2/fe\n",
    "f0_fe_2_fe"
   ]
  },
  {
   "cell_type": "markdown",
   "metadata": {},
   "source": [
    "# Total"
   ]
  },
  {
   "cell_type": "code",
   "execution_count": 62,
   "metadata": {},
   "outputs": [
    {
     "data": {
      "text/plain": [
       "87.98806308146405"
      ]
     },
     "execution_count": 62,
     "metadata": {},
     "output_type": "execute_result"
    }
   ],
   "source": [
    "x_2 = f0_fe_2_fe.sum()\n",
    "x_2 "
   ]
  }
 ],
 "metadata": {
  "kernelspec": {
   "display_name": "Python 3",
   "language": "python",
   "name": "python3"
  },
  "language_info": {
   "codemirror_mode": {
    "name": "ipython",
    "version": 3
   },
   "file_extension": ".py",
   "mimetype": "text/x-python",
   "name": "python",
   "nbconvert_exporter": "python",
   "pygments_lexer": "ipython3",
   "version": "3.8.3"
  }
 },
 "nbformat": 4,
 "nbformat_minor": 4
}
