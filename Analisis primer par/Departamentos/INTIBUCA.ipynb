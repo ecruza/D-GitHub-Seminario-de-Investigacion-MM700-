{
 "cells": [
  {
   "cell_type": "code",
   "execution_count": 1,
   "metadata": {},
   "outputs": [],
   "source": [
    "import matplotlib.pyplot as plt\n",
    "import numpy as np\n",
    "import math\n",
    "import pandas as pd \n",
    "letters = {}\n",
    "\n",
    "for i in range(9,99):\n",
    "    letters[str(i+1)] = 0\n",
    "    \n",
    "\n",
    "nfib = 500"
   ]
  },
  {
   "cell_type": "code",
   "execution_count": 2,
   "metadata": {},
   "outputs": [
    {
     "data": {
      "text/html": [
       "<div>\n",
       "<style scoped>\n",
       "    .dataframe tbody tr th:only-of-type {\n",
       "        vertical-align: middle;\n",
       "    }\n",
       "\n",
       "    .dataframe tbody tr th {\n",
       "        vertical-align: top;\n",
       "    }\n",
       "\n",
       "    .dataframe thead th {\n",
       "        text-align: right;\n",
       "    }\n",
       "</style>\n",
       "<table border=\"1\" class=\"dataframe\">\n",
       "  <thead>\n",
       "    <tr style=\"text-align: right;\">\n",
       "      <th></th>\n",
       "      <th>PL</th>\n",
       "      <th>PN</th>\n",
       "      <th>LIBRE-PINU</th>\n",
       "      <th>TOTAL</th>\n",
       "    </tr>\n",
       "  </thead>\n",
       "  <tbody>\n",
       "    <tr>\n",
       "      <th>0</th>\n",
       "      <td>1260</td>\n",
       "      <td>3218</td>\n",
       "      <td>1932</td>\n",
       "      <td>6452</td>\n",
       "    </tr>\n",
       "    <tr>\n",
       "      <th>1</th>\n",
       "      <td>137</td>\n",
       "      <td>2042</td>\n",
       "      <td>1520</td>\n",
       "      <td>3724</td>\n",
       "    </tr>\n",
       "    <tr>\n",
       "      <th>2</th>\n",
       "      <td>250</td>\n",
       "      <td>3368</td>\n",
       "      <td>3460</td>\n",
       "      <td>7135</td>\n",
       "    </tr>\n",
       "    <tr>\n",
       "      <th>3</th>\n",
       "      <td>310</td>\n",
       "      <td>2526</td>\n",
       "      <td>1783</td>\n",
       "      <td>4660</td>\n",
       "    </tr>\n",
       "    <tr>\n",
       "      <th>4</th>\n",
       "      <td>792</td>\n",
       "      <td>1448</td>\n",
       "      <td>314</td>\n",
       "      <td>2582</td>\n",
       "    </tr>\n",
       "    <tr>\n",
       "      <th>5</th>\n",
       "      <td>5032</td>\n",
       "      <td>11280</td>\n",
       "      <td>4614</td>\n",
       "      <td>21187</td>\n",
       "    </tr>\n",
       "    <tr>\n",
       "      <th>6</th>\n",
       "      <td>1425</td>\n",
       "      <td>6484</td>\n",
       "      <td>3977</td>\n",
       "      <td>11959</td>\n",
       "    </tr>\n",
       "    <tr>\n",
       "      <th>7</th>\n",
       "      <td>106</td>\n",
       "      <td>1301</td>\n",
       "      <td>660</td>\n",
       "      <td>2089</td>\n",
       "    </tr>\n",
       "    <tr>\n",
       "      <th>8</th>\n",
       "      <td>1069</td>\n",
       "      <td>4013</td>\n",
       "      <td>1242</td>\n",
       "      <td>6417</td>\n",
       "    </tr>\n",
       "    <tr>\n",
       "      <th>9</th>\n",
       "      <td>59</td>\n",
       "      <td>1568</td>\n",
       "      <td>1715</td>\n",
       "      <td>3346</td>\n",
       "    </tr>\n",
       "    <tr>\n",
       "      <th>10</th>\n",
       "      <td>244</td>\n",
       "      <td>1238</td>\n",
       "      <td>535</td>\n",
       "      <td>2035</td>\n",
       "    </tr>\n",
       "    <tr>\n",
       "      <th>11</th>\n",
       "      <td>2047</td>\n",
       "      <td>3396</td>\n",
       "      <td>1627</td>\n",
       "      <td>7121</td>\n",
       "    </tr>\n",
       "    <tr>\n",
       "      <th>12</th>\n",
       "      <td>476</td>\n",
       "      <td>2000</td>\n",
       "      <td>1014</td>\n",
       "      <td>3551</td>\n",
       "    </tr>\n",
       "    <tr>\n",
       "      <th>13</th>\n",
       "      <td>1373</td>\n",
       "      <td>1876</td>\n",
       "      <td>344</td>\n",
       "      <td>3623</td>\n",
       "    </tr>\n",
       "    <tr>\n",
       "      <th>14</th>\n",
       "      <td>77</td>\n",
       "      <td>1509</td>\n",
       "      <td>783</td>\n",
       "      <td>2382</td>\n",
       "    </tr>\n",
       "    <tr>\n",
       "      <th>15</th>\n",
       "      <td>1949</td>\n",
       "      <td>5195</td>\n",
       "      <td>1412</td>\n",
       "      <td>8653</td>\n",
       "    </tr>\n",
       "    <tr>\n",
       "      <th>16</th>\n",
       "      <td>705</td>\n",
       "      <td>1894</td>\n",
       "      <td>1640</td>\n",
       "      <td>4315</td>\n",
       "    </tr>\n",
       "  </tbody>\n",
       "</table>\n",
       "</div>"
      ],
      "text/plain": [
       "      PL     PN  LIBRE-PINU  TOTAL\n",
       "0   1260   3218        1932   6452\n",
       "1    137   2042        1520   3724\n",
       "2    250   3368        3460   7135\n",
       "3    310   2526        1783   4660\n",
       "4    792   1448         314   2582\n",
       "5   5032  11280        4614  21187\n",
       "6   1425   6484        3977  11959\n",
       "7    106   1301         660   2089\n",
       "8   1069   4013        1242   6417\n",
       "9     59   1568        1715   3346\n",
       "10   244   1238         535   2035\n",
       "11  2047   3396        1627   7121\n",
       "12   476   2000        1014   3551\n",
       "13  1373   1876         344   3623\n",
       "14    77   1509         783   2382\n",
       "15  1949   5195        1412   8653\n",
       "16   705   1894        1640   4315"
      ]
     },
     "execution_count": 2,
     "metadata": {},
     "output_type": "execute_result"
    }
   ],
   "source": [
    "df = pd.read_csv(\"https://docs.google.com/spreadsheets/d/1A_nJLWUA9iVtUslZhHGcYjYjfVBz6C6o/export?format=csv\")\n",
    "df"
   ]
  },
  {
   "cell_type": "code",
   "execution_count": 3,
   "metadata": {},
   "outputs": [
    {
     "data": {
      "text/plain": [
       "[1260,\n",
       " 137,\n",
       " 250,\n",
       " 310,\n",
       " 792,\n",
       " 5032,\n",
       " 1425,\n",
       " 106,\n",
       " 1069,\n",
       " 59,\n",
       " 244,\n",
       " 2047,\n",
       " 476,\n",
       " 1373,\n",
       " 77,\n",
       " 1949,\n",
       " 705]"
      ]
     },
     "execution_count": 3,
     "metadata": {},
     "output_type": "execute_result"
    }
   ],
   "source": [
    "pl = []\n",
    "for i in df['PL']:\n",
    "    pl.append(i)\n",
    "pl"
   ]
  },
  {
   "cell_type": "code",
   "execution_count": 4,
   "metadata": {},
   "outputs": [
    {
     "data": {
      "text/plain": [
       "[3218,\n",
       " 2042,\n",
       " 3368,\n",
       " 2526,\n",
       " 1448,\n",
       " 11280,\n",
       " 6484,\n",
       " 1301,\n",
       " 4013,\n",
       " 1568,\n",
       " 1238,\n",
       " 3396,\n",
       " 2000,\n",
       " 1876,\n",
       " 1509,\n",
       " 5195,\n",
       " 1894]"
      ]
     },
     "execution_count": 4,
     "metadata": {},
     "output_type": "execute_result"
    }
   ],
   "source": [
    "pn = []\n",
    "for i in df['PN']:\n",
    "    pn.append(i)\n",
    "pn"
   ]
  },
  {
   "cell_type": "code",
   "execution_count": 5,
   "metadata": {},
   "outputs": [
    {
     "data": {
      "text/plain": [
       "[1932,\n",
       " 1520,\n",
       " 3460,\n",
       " 1783,\n",
       " 314,\n",
       " 4614,\n",
       " 3977,\n",
       " 660,\n",
       " 1242,\n",
       " 1715,\n",
       " 535,\n",
       " 1627,\n",
       " 1014,\n",
       " 344,\n",
       " 783,\n",
       " 1412,\n",
       " 1640]"
      ]
     },
     "execution_count": 5,
     "metadata": {},
     "output_type": "execute_result"
    }
   ],
   "source": [
    "pli = []\n",
    "for i in df['LIBRE-PINU']:\n",
    "    pli.append(i)\n",
    "pli"
   ]
  },
  {
   "cell_type": "code",
   "execution_count": 6,
   "metadata": {},
   "outputs": [
    {
     "data": {
      "text/plain": [
       "[6452,\n",
       " 3724,\n",
       " 7135,\n",
       " 4660,\n",
       " 2582,\n",
       " 21187,\n",
       " 11959,\n",
       " 2089,\n",
       " 6417,\n",
       " 3346,\n",
       " 2035,\n",
       " 7121,\n",
       " 3551,\n",
       " 3623,\n",
       " 2382,\n",
       " 8653,\n",
       " 4315]"
      ]
     },
     "execution_count": 6,
     "metadata": {},
     "output_type": "execute_result"
    }
   ],
   "source": [
    "tot = []\n",
    "for i in df['TOTAL']:\n",
    "    tot.append(i)\n",
    "tot"
   ]
  },
  {
   "cell_type": "code",
   "execution_count": 7,
   "metadata": {},
   "outputs": [],
   "source": [
    "list_of_nums = pl\n",
    "for n in list_of_nums:\n",
    "    first_digit = str(n)[0]+str(n)[1]\n",
    "    letters[first_digit] += 1\n",
    "y = [round(val / nfib, 4) for val in letters.values()]\n",
    "fre_relativa = y\n",
    "y = list(letters.values())\n",
    "f0= y\n",
    "x = list(letters.keys())\n",
    "y =  [round(math.log10(1+(1/int(val))), 4) for val in letters.keys()]\n",
    "benford = y"
   ]
  },
  {
   "cell_type": "code",
   "execution_count": 8,
   "metadata": {},
   "outputs": [
    {
     "data": {
      "text/plain": [
       "array([2, 0, 1, 2, 1, 0, 0, 0, 0, 1, 1, 0, 0, 0, 1, 1, 0, 0, 0, 0, 0, 1,\n",
       "       0, 0, 0, 0, 0, 0, 0, 0, 0, 0, 0, 0, 0, 0, 0, 1, 0, 0, 1, 0, 0, 0,\n",
       "       0, 0, 0, 0, 0, 1, 0, 0, 0, 0, 0, 0, 0, 0, 0, 0, 1, 0, 0, 0, 0, 0,\n",
       "       0, 1, 0, 1, 0, 0, 0, 0, 0, 0, 0, 0, 0, 0, 0, 0, 0, 0, 0, 0, 0, 0,\n",
       "       0, 0])"
      ]
     },
     "execution_count": 8,
     "metadata": {},
     "output_type": "execute_result"
    }
   ],
   "source": [
    "f0 = np.array(f0)\n",
    "f0"
   ]
  },
  {
   "cell_type": "code",
   "execution_count": 9,
   "metadata": {},
   "outputs": [
    {
     "data": {
      "text/plain": [
       "array([0.004, 0.   , 0.002, 0.004, 0.002, 0.   , 0.   , 0.   , 0.   ,\n",
       "       0.002, 0.002, 0.   , 0.   , 0.   , 0.002, 0.002, 0.   , 0.   ,\n",
       "       0.   , 0.   , 0.   , 0.002, 0.   , 0.   , 0.   , 0.   , 0.   ,\n",
       "       0.   , 0.   , 0.   , 0.   , 0.   , 0.   , 0.   , 0.   , 0.   ,\n",
       "       0.   , 0.002, 0.   , 0.   , 0.002, 0.   , 0.   , 0.   , 0.   ,\n",
       "       0.   , 0.   , 0.   , 0.   , 0.002, 0.   , 0.   , 0.   , 0.   ,\n",
       "       0.   , 0.   , 0.   , 0.   , 0.   , 0.   , 0.002, 0.   , 0.   ,\n",
       "       0.   , 0.   , 0.   , 0.   , 0.002, 0.   , 0.002, 0.   , 0.   ,\n",
       "       0.   , 0.   , 0.   , 0.   , 0.   , 0.   , 0.   , 0.   , 0.   ,\n",
       "       0.   , 0.   , 0.   , 0.   , 0.   , 0.   , 0.   , 0.   , 0.   ])"
      ]
     },
     "execution_count": 9,
     "metadata": {},
     "output_type": "execute_result"
    }
   ],
   "source": [
    "fre_relativa = np.array(fre_relativa)\n",
    "fre_relativa "
   ]
  },
  {
   "cell_type": "code",
   "execution_count": 10,
   "metadata": {},
   "outputs": [
    {
     "data": {
      "text/plain": [
       "array([0.0414, 0.0378, 0.0348, 0.0322, 0.03  , 0.028 , 0.0263, 0.0248,\n",
       "       0.0235, 0.0223, 0.0212, 0.0202, 0.0193, 0.0185, 0.0177, 0.017 ,\n",
       "       0.0164, 0.0158, 0.0152, 0.0147, 0.0142, 0.0138, 0.0134, 0.013 ,\n",
       "       0.0126, 0.0122, 0.0119, 0.0116, 0.0113, 0.011 , 0.0107, 0.0105,\n",
       "       0.0102, 0.01  , 0.0098, 0.0095, 0.0093, 0.0091, 0.009 , 0.0088,\n",
       "       0.0086, 0.0084, 0.0083, 0.0081, 0.008 , 0.0078, 0.0077, 0.0076,\n",
       "       0.0074, 0.0073, 0.0072, 0.0071, 0.0069, 0.0068, 0.0067, 0.0066,\n",
       "       0.0065, 0.0064, 0.0063, 0.0062, 0.0062, 0.0061, 0.006 , 0.0059,\n",
       "       0.0058, 0.0058, 0.0057, 0.0056, 0.0055, 0.0055, 0.0054, 0.0053,\n",
       "       0.0053, 0.0052, 0.0051, 0.0051, 0.005 , 0.005 , 0.0049, 0.0049,\n",
       "       0.0048, 0.0047, 0.0047, 0.0046, 0.0046, 0.0045, 0.0045, 0.0045,\n",
       "       0.0044, 0.0044])"
      ]
     },
     "execution_count": 10,
     "metadata": {},
     "output_type": "execute_result"
    }
   ],
   "source": [
    "benford = np.array(benford)\n",
    "benford"
   ]
  },
  {
   "cell_type": "code",
   "execution_count": 11,
   "metadata": {},
   "outputs": [
    {
     "data": {
      "text/plain": [
       "17"
      ]
     },
     "execution_count": 11,
     "metadata": {},
     "output_type": "execute_result"
    }
   ],
   "source": [
    "f0_tot=f0.sum()\n",
    "f0_tot"
   ]
  },
  {
   "cell_type": "code",
   "execution_count": 12,
   "metadata": {},
   "outputs": [],
   "source": [
    "fe = benford*f0_tot"
   ]
  },
  {
   "cell_type": "code",
   "execution_count": 13,
   "metadata": {},
   "outputs": [
    {
     "data": {
      "text/plain": [
       "array([0.7038, 0.6426, 0.5916, 0.5474, 0.51  , 0.476 , 0.4471, 0.4216,\n",
       "       0.3995, 0.3791, 0.3604, 0.3434, 0.3281, 0.3145, 0.3009, 0.289 ,\n",
       "       0.2788, 0.2686, 0.2584, 0.2499, 0.2414, 0.2346, 0.2278, 0.221 ,\n",
       "       0.2142, 0.2074, 0.2023, 0.1972, 0.1921, 0.187 , 0.1819, 0.1785,\n",
       "       0.1734, 0.17  , 0.1666, 0.1615, 0.1581, 0.1547, 0.153 , 0.1496,\n",
       "       0.1462, 0.1428, 0.1411, 0.1377, 0.136 , 0.1326, 0.1309, 0.1292,\n",
       "       0.1258, 0.1241, 0.1224, 0.1207, 0.1173, 0.1156, 0.1139, 0.1122,\n",
       "       0.1105, 0.1088, 0.1071, 0.1054, 0.1054, 0.1037, 0.102 , 0.1003,\n",
       "       0.0986, 0.0986, 0.0969, 0.0952, 0.0935, 0.0935, 0.0918, 0.0901,\n",
       "       0.0901, 0.0884, 0.0867, 0.0867, 0.085 , 0.085 , 0.0833, 0.0833,\n",
       "       0.0816, 0.0799, 0.0799, 0.0782, 0.0782, 0.0765, 0.0765, 0.0765,\n",
       "       0.0748, 0.0748])"
      ]
     },
     "execution_count": 13,
     "metadata": {},
     "output_type": "execute_result"
    }
   ],
   "source": [
    "fe "
   ]
  },
  {
   "cell_type": "code",
   "execution_count": 14,
   "metadata": {},
   "outputs": [
    {
     "data": {
      "text/plain": [
       "16.998299999999997"
      ]
     },
     "execution_count": 14,
     "metadata": {},
     "output_type": "execute_result"
    }
   ],
   "source": [
    "fe.sum()"
   ]
  },
  {
   "cell_type": "code",
   "execution_count": 15,
   "metadata": {},
   "outputs": [
    {
     "data": {
      "text/plain": [
       "array([-0.0374, -0.0378, -0.0328, -0.0282, -0.028 , -0.028 , -0.0263,\n",
       "       -0.0248, -0.0235, -0.0203, -0.0192, -0.0202, -0.0193, -0.0185,\n",
       "       -0.0157, -0.015 , -0.0164, -0.0158, -0.0152, -0.0147, -0.0142,\n",
       "       -0.0118, -0.0134, -0.013 , -0.0126, -0.0122, -0.0119, -0.0116,\n",
       "       -0.0113, -0.011 , -0.0107, -0.0105, -0.0102, -0.01  , -0.0098,\n",
       "       -0.0095, -0.0093, -0.0071, -0.009 , -0.0088, -0.0066, -0.0084,\n",
       "       -0.0083, -0.0081, -0.008 , -0.0078, -0.0077, -0.0076, -0.0074,\n",
       "       -0.0053, -0.0072, -0.0071, -0.0069, -0.0068, -0.0067, -0.0066,\n",
       "       -0.0065, -0.0064, -0.0063, -0.0062, -0.0042, -0.0061, -0.006 ,\n",
       "       -0.0059, -0.0058, -0.0058, -0.0057, -0.0036, -0.0055, -0.0035,\n",
       "       -0.0054, -0.0053, -0.0053, -0.0052, -0.0051, -0.0051, -0.005 ,\n",
       "       -0.005 , -0.0049, -0.0049, -0.0048, -0.0047, -0.0047, -0.0046,\n",
       "       -0.0046, -0.0045, -0.0045, -0.0045, -0.0044, -0.0044])"
      ]
     },
     "execution_count": 15,
     "metadata": {},
     "output_type": "execute_result"
    }
   ],
   "source": [
    "diferencia = fre_relativa - benford\n",
    "diferencia "
   ]
  },
  {
   "cell_type": "code",
   "execution_count": 16,
   "metadata": {},
   "outputs": [
    {
     "data": {
      "text/plain": [
       "-0.9659"
      ]
     },
     "execution_count": 16,
     "metadata": {},
     "output_type": "execute_result"
    }
   ],
   "source": [
    "diferencia.sum()"
   ]
  },
  {
   "cell_type": "code",
   "execution_count": 17,
   "metadata": {},
   "outputs": [],
   "source": [
    "f0_fe= (f0-fe)"
   ]
  },
  {
   "cell_type": "code",
   "execution_count": 18,
   "metadata": {},
   "outputs": [],
   "source": [
    "f0_fe_2 = f0_fe*f0_fe"
   ]
  },
  {
   "cell_type": "code",
   "execution_count": 19,
   "metadata": {},
   "outputs": [
    {
     "data": {
      "text/plain": [
       "array([2.38723279, 0.6426    , 0.2819313 , 3.85467073, 0.47078431,\n",
       "       0.476     , 0.4471    , 0.4216    , 0.3995    , 1.01692643,\n",
       "       1.13509478, 0.3434    , 0.3281    , 0.3145    , 1.62426324,\n",
       "       1.74920761, 0.2788    , 0.2686    , 0.2584    , 0.2499    ,\n",
       "       0.2414    , 2.4971746 , 0.2278    , 0.221     , 0.2142    ,\n",
       "       0.2074    , 0.2023    , 0.1972    , 0.1921    , 0.187     ,\n",
       "       0.1819    , 0.1785    , 0.1734    , 0.17      , 0.1666    ,\n",
       "       0.1615    , 0.1581    , 4.61882411, 0.153     , 0.1496    ,\n",
       "       4.98614528, 0.1428    , 0.1411    , 0.1377    , 0.136     ,\n",
       "       0.1326    , 0.1309    , 0.1292    , 0.1258    , 6.18211773,\n",
       "       0.1224    , 0.1207    , 0.1173    , 0.1156    , 0.1139    ,\n",
       "       0.1122    , 0.1105    , 0.1088    , 0.1071    , 0.1054    ,\n",
       "       7.59306603, 0.1037    , 0.102     , 0.1003    , 0.0986    ,\n",
       "       0.0986    , 0.0969    , 8.59940168, 0.0935    , 8.78868717,\n",
       "       0.0918    , 0.0901    , 0.0901    , 0.0884    , 0.0867    ,\n",
       "       0.0867    , 0.085     , 0.085     , 0.0833    , 0.0833    ,\n",
       "       0.0816    , 0.0799    , 0.0799    , 0.0782    , 0.0782    ,\n",
       "       0.0765    , 0.0765    , 0.0765    , 0.0748    , 0.0748    ])"
      ]
     },
     "execution_count": 19,
     "metadata": {},
     "output_type": "execute_result"
    }
   ],
   "source": [
    "f0_fe_2_fe=f0_fe_2/fe\n",
    "f0_fe_2_fe"
   ]
  },
  {
   "cell_type": "markdown",
   "metadata": {},
   "source": [
    "# Partido Liberal"
   ]
  },
  {
   "cell_type": "code",
   "execution_count": 20,
   "metadata": {},
   "outputs": [
    {
     "data": {
      "text/plain": [
       "68.14792781202146"
      ]
     },
     "execution_count": 20,
     "metadata": {},
     "output_type": "execute_result"
    }
   ],
   "source": [
    "x_2 = f0_fe_2_fe.sum()\n",
    "x_2 "
   ]
  },
  {
   "cell_type": "code",
   "execution_count": 21,
   "metadata": {},
   "outputs": [],
   "source": [
    "letters = {}\n",
    "\n",
    "for i in range(9,99):\n",
    "    letters[str(i+1)] = 0\n",
    "    \n",
    "list_of_nums = pn\n",
    "for n in list_of_nums:\n",
    "    first_digit = str(n)[0]+str(n)[1]\n",
    "    letters[first_digit] += 1\n",
    "y = [round(val / nfib, 4) for val in letters.values()]\n",
    "fre_relativa = y\n",
    "y = list(letters.values())\n",
    "f0= y\n",
    "x = list(letters.keys())\n",
    "y =  [round(math.log10(1+(1/int(val))), 4) for val in letters.keys()]\n",
    "benford = y"
   ]
  },
  {
   "cell_type": "code",
   "execution_count": 22,
   "metadata": {},
   "outputs": [
    {
     "data": {
      "text/plain": [
       "array([0, 1, 1, 1, 1, 2, 0, 0, 2, 0, 2, 0, 0, 0, 0, 1, 0, 0, 0, 0, 0, 0,\n",
       "       1, 2, 0, 0, 0, 0, 0, 0, 1, 0, 0, 0, 0, 0, 0, 0, 0, 0, 0, 1, 0, 0,\n",
       "       0, 0, 0, 0, 0, 0, 0, 0, 0, 0, 1, 0, 0, 0, 0, 0, 0, 0, 0, 0, 0, 0,\n",
       "       0, 0, 0, 0, 0, 0, 0, 0, 0, 0, 0, 0, 0, 0, 0, 0, 0, 0, 0, 0, 0, 0,\n",
       "       0, 0])"
      ]
     },
     "execution_count": 22,
     "metadata": {},
     "output_type": "execute_result"
    }
   ],
   "source": [
    "f0 = np.array(f0)\n",
    "f0"
   ]
  },
  {
   "cell_type": "code",
   "execution_count": 23,
   "metadata": {},
   "outputs": [
    {
     "data": {
      "text/plain": [
       "array([0.   , 0.002, 0.002, 0.002, 0.002, 0.004, 0.   , 0.   , 0.004,\n",
       "       0.   , 0.004, 0.   , 0.   , 0.   , 0.   , 0.002, 0.   , 0.   ,\n",
       "       0.   , 0.   , 0.   , 0.   , 0.002, 0.004, 0.   , 0.   , 0.   ,\n",
       "       0.   , 0.   , 0.   , 0.002, 0.   , 0.   , 0.   , 0.   , 0.   ,\n",
       "       0.   , 0.   , 0.   , 0.   , 0.   , 0.002, 0.   , 0.   , 0.   ,\n",
       "       0.   , 0.   , 0.   , 0.   , 0.   , 0.   , 0.   , 0.   , 0.   ,\n",
       "       0.002, 0.   , 0.   , 0.   , 0.   , 0.   , 0.   , 0.   , 0.   ,\n",
       "       0.   , 0.   , 0.   , 0.   , 0.   , 0.   , 0.   , 0.   , 0.   ,\n",
       "       0.   , 0.   , 0.   , 0.   , 0.   , 0.   , 0.   , 0.   , 0.   ,\n",
       "       0.   , 0.   , 0.   , 0.   , 0.   , 0.   , 0.   , 0.   , 0.   ])"
      ]
     },
     "execution_count": 23,
     "metadata": {},
     "output_type": "execute_result"
    }
   ],
   "source": [
    "fre_relativa = np.array(fre_relativa)\n",
    "fre_relativa "
   ]
  },
  {
   "cell_type": "code",
   "execution_count": 24,
   "metadata": {},
   "outputs": [
    {
     "data": {
      "text/plain": [
       "array([0.0414, 0.0378, 0.0348, 0.0322, 0.03  , 0.028 , 0.0263, 0.0248,\n",
       "       0.0235, 0.0223, 0.0212, 0.0202, 0.0193, 0.0185, 0.0177, 0.017 ,\n",
       "       0.0164, 0.0158, 0.0152, 0.0147, 0.0142, 0.0138, 0.0134, 0.013 ,\n",
       "       0.0126, 0.0122, 0.0119, 0.0116, 0.0113, 0.011 , 0.0107, 0.0105,\n",
       "       0.0102, 0.01  , 0.0098, 0.0095, 0.0093, 0.0091, 0.009 , 0.0088,\n",
       "       0.0086, 0.0084, 0.0083, 0.0081, 0.008 , 0.0078, 0.0077, 0.0076,\n",
       "       0.0074, 0.0073, 0.0072, 0.0071, 0.0069, 0.0068, 0.0067, 0.0066,\n",
       "       0.0065, 0.0064, 0.0063, 0.0062, 0.0062, 0.0061, 0.006 , 0.0059,\n",
       "       0.0058, 0.0058, 0.0057, 0.0056, 0.0055, 0.0055, 0.0054, 0.0053,\n",
       "       0.0053, 0.0052, 0.0051, 0.0051, 0.005 , 0.005 , 0.0049, 0.0049,\n",
       "       0.0048, 0.0047, 0.0047, 0.0046, 0.0046, 0.0045, 0.0045, 0.0045,\n",
       "       0.0044, 0.0044])"
      ]
     },
     "execution_count": 24,
     "metadata": {},
     "output_type": "execute_result"
    }
   ],
   "source": [
    "benford = np.array(benford)\n",
    "benford"
   ]
  },
  {
   "cell_type": "code",
   "execution_count": 25,
   "metadata": {},
   "outputs": [
    {
     "data": {
      "text/plain": [
       "17"
      ]
     },
     "execution_count": 25,
     "metadata": {},
     "output_type": "execute_result"
    }
   ],
   "source": [
    "f0_tot=f0.sum()\n",
    "f0_tot"
   ]
  },
  {
   "cell_type": "code",
   "execution_count": 26,
   "metadata": {},
   "outputs": [],
   "source": [
    "fe = benford*f0_tot"
   ]
  },
  {
   "cell_type": "code",
   "execution_count": 27,
   "metadata": {},
   "outputs": [
    {
     "data": {
      "text/plain": [
       "array([0.7038, 0.6426, 0.5916, 0.5474, 0.51  , 0.476 , 0.4471, 0.4216,\n",
       "       0.3995, 0.3791, 0.3604, 0.3434, 0.3281, 0.3145, 0.3009, 0.289 ,\n",
       "       0.2788, 0.2686, 0.2584, 0.2499, 0.2414, 0.2346, 0.2278, 0.221 ,\n",
       "       0.2142, 0.2074, 0.2023, 0.1972, 0.1921, 0.187 , 0.1819, 0.1785,\n",
       "       0.1734, 0.17  , 0.1666, 0.1615, 0.1581, 0.1547, 0.153 , 0.1496,\n",
       "       0.1462, 0.1428, 0.1411, 0.1377, 0.136 , 0.1326, 0.1309, 0.1292,\n",
       "       0.1258, 0.1241, 0.1224, 0.1207, 0.1173, 0.1156, 0.1139, 0.1122,\n",
       "       0.1105, 0.1088, 0.1071, 0.1054, 0.1054, 0.1037, 0.102 , 0.1003,\n",
       "       0.0986, 0.0986, 0.0969, 0.0952, 0.0935, 0.0935, 0.0918, 0.0901,\n",
       "       0.0901, 0.0884, 0.0867, 0.0867, 0.085 , 0.085 , 0.0833, 0.0833,\n",
       "       0.0816, 0.0799, 0.0799, 0.0782, 0.0782, 0.0765, 0.0765, 0.0765,\n",
       "       0.0748, 0.0748])"
      ]
     },
     "execution_count": 27,
     "metadata": {},
     "output_type": "execute_result"
    }
   ],
   "source": [
    "fe "
   ]
  },
  {
   "cell_type": "code",
   "execution_count": 28,
   "metadata": {},
   "outputs": [
    {
     "data": {
      "text/plain": [
       "16.998299999999997"
      ]
     },
     "execution_count": 28,
     "metadata": {},
     "output_type": "execute_result"
    }
   ],
   "source": [
    "fe.sum()"
   ]
  },
  {
   "cell_type": "code",
   "execution_count": 29,
   "metadata": {},
   "outputs": [
    {
     "data": {
      "text/plain": [
       "array([-0.0414, -0.0358, -0.0328, -0.0302, -0.028 , -0.024 , -0.0263,\n",
       "       -0.0248, -0.0195, -0.0223, -0.0172, -0.0202, -0.0193, -0.0185,\n",
       "       -0.0177, -0.015 , -0.0164, -0.0158, -0.0152, -0.0147, -0.0142,\n",
       "       -0.0138, -0.0114, -0.009 , -0.0126, -0.0122, -0.0119, -0.0116,\n",
       "       -0.0113, -0.011 , -0.0087, -0.0105, -0.0102, -0.01  , -0.0098,\n",
       "       -0.0095, -0.0093, -0.0091, -0.009 , -0.0088, -0.0086, -0.0064,\n",
       "       -0.0083, -0.0081, -0.008 , -0.0078, -0.0077, -0.0076, -0.0074,\n",
       "       -0.0073, -0.0072, -0.0071, -0.0069, -0.0068, -0.0047, -0.0066,\n",
       "       -0.0065, -0.0064, -0.0063, -0.0062, -0.0062, -0.0061, -0.006 ,\n",
       "       -0.0059, -0.0058, -0.0058, -0.0057, -0.0056, -0.0055, -0.0055,\n",
       "       -0.0054, -0.0053, -0.0053, -0.0052, -0.0051, -0.0051, -0.005 ,\n",
       "       -0.005 , -0.0049, -0.0049, -0.0048, -0.0047, -0.0047, -0.0046,\n",
       "       -0.0046, -0.0045, -0.0045, -0.0045, -0.0044, -0.0044])"
      ]
     },
     "execution_count": 29,
     "metadata": {},
     "output_type": "execute_result"
    }
   ],
   "source": [
    "diferencia = fre_relativa - benford\n",
    "diferencia "
   ]
  },
  {
   "cell_type": "code",
   "execution_count": 30,
   "metadata": {},
   "outputs": [
    {
     "data": {
      "text/plain": [
       "-0.9659"
      ]
     },
     "execution_count": 30,
     "metadata": {},
     "output_type": "execute_result"
    }
   ],
   "source": [
    "diferencia.sum()"
   ]
  },
  {
   "cell_type": "code",
   "execution_count": 31,
   "metadata": {},
   "outputs": [],
   "source": [
    "f0_fe= (f0-fe)"
   ]
  },
  {
   "cell_type": "code",
   "execution_count": 32,
   "metadata": {},
   "outputs": [],
   "source": [
    "f0_fe_2 = f0_fe*f0_fe"
   ]
  },
  {
   "cell_type": "code",
   "execution_count": 33,
   "metadata": {},
   "outputs": [
    {
     "data": {
      "text/plain": [
       "array([ 0.7038    ,  0.19877803,  0.2819313 ,  0.37421768,  0.47078431,\n",
       "        4.87936134,  0.4471    ,  0.4216    ,  6.41201564,  0.3791    ,\n",
       "        7.45917913,  0.3434    ,  0.3281    ,  0.3145    ,  0.3009    ,\n",
       "        1.74920761,  0.2788    ,  0.2686    ,  0.2584    ,  0.2499    ,\n",
       "        0.2414    ,  0.2346    ,  2.61761563, 14.32054751,  0.2142    ,\n",
       "        0.2074    ,  0.2023    ,  0.1972    ,  0.1921    ,  0.187     ,\n",
       "        3.67942611,  0.1785    ,  0.1734    ,  0.17      ,  0.1666    ,\n",
       "        0.1615    ,  0.1581    ,  0.1547    ,  0.153     ,  0.1496    ,\n",
       "        0.1462    ,  5.14560112,  0.1411    ,  0.1377    ,  0.136     ,\n",
       "        0.1326    ,  0.1309    ,  0.1292    ,  0.1258    ,  0.1241    ,\n",
       "        0.1224    ,  0.1207    ,  0.1173    ,  0.1156    ,  6.89353126,\n",
       "        0.1122    ,  0.1105    ,  0.1088    ,  0.1071    ,  0.1054    ,\n",
       "        0.1054    ,  0.1037    ,  0.102     ,  0.1003    ,  0.0986    ,\n",
       "        0.0986    ,  0.0969    ,  0.0952    ,  0.0935    ,  0.0935    ,\n",
       "        0.0918    ,  0.0901    ,  0.0901    ,  0.0884    ,  0.0867    ,\n",
       "        0.0867    ,  0.085     ,  0.085     ,  0.0833    ,  0.0833    ,\n",
       "        0.0816    ,  0.0799    ,  0.0799    ,  0.0782    ,  0.0782    ,\n",
       "        0.0765    ,  0.0765    ,  0.0765    ,  0.0748    ,  0.0748    ])"
      ]
     },
     "execution_count": 33,
     "metadata": {},
     "output_type": "execute_result"
    }
   ],
   "source": [
    "f0_fe_2_fe=f0_fe_2/fe\n",
    "f0_fe_2_fe"
   ]
  },
  {
   "cell_type": "markdown",
   "metadata": {},
   "source": [
    "# Partido Nacional"
   ]
  },
  {
   "cell_type": "code",
   "execution_count": 34,
   "metadata": {},
   "outputs": [
    {
     "data": {
      "text/plain": [
       "66.7765966931085"
      ]
     },
     "execution_count": 34,
     "metadata": {},
     "output_type": "execute_result"
    }
   ],
   "source": [
    "x_2 = f0_fe_2_fe.sum()\n",
    "x_2 "
   ]
  },
  {
   "cell_type": "code",
   "execution_count": 35,
   "metadata": {},
   "outputs": [],
   "source": [
    "letters = {}\n",
    "\n",
    "for i in range(9,99):\n",
    "    letters[str(i+1)] = 0\n",
    "    \n",
    "list_of_nums = pli\n",
    "for n in list_of_nums:\n",
    "    first_digit = str(n)[0]+str(n)[1]\n",
    "    letters[first_digit] += 1\n",
    "y = [round(val / nfib, 4) for val in letters.values()]\n",
    "fre_relativa = y\n",
    "y = list(letters.values())\n",
    "f0= y\n",
    "x = list(letters.keys())\n",
    "y =  [round(math.log10(1+(1/int(val))), 4) for val in letters.keys()]\n",
    "benford = y"
   ]
  },
  {
   "cell_type": "code",
   "execution_count": 36,
   "metadata": {},
   "outputs": [
    {
     "data": {
      "text/plain": [
       "array([1, 0, 1, 0, 1, 1, 2, 2, 0, 1, 0, 0, 0, 0, 0, 0, 0, 0, 0, 0, 0, 1,\n",
       "       0, 0, 2, 0, 0, 0, 0, 1, 0, 0, 0, 0, 0, 0, 1, 0, 0, 0, 0, 0, 0, 1,\n",
       "       0, 0, 0, 0, 0, 0, 0, 0, 0, 0, 0, 0, 1, 0, 0, 0, 0, 0, 0, 0, 0, 0,\n",
       "       0, 0, 1, 0, 0, 0, 0, 0, 0, 0, 0, 0, 0, 0, 0, 0, 0, 0, 0, 0, 0, 0,\n",
       "       0, 0])"
      ]
     },
     "execution_count": 36,
     "metadata": {},
     "output_type": "execute_result"
    }
   ],
   "source": [
    "f0 = np.array(f0)\n",
    "f0"
   ]
  },
  {
   "cell_type": "code",
   "execution_count": 37,
   "metadata": {},
   "outputs": [
    {
     "data": {
      "text/plain": [
       "array([0.002, 0.   , 0.002, 0.   , 0.002, 0.002, 0.004, 0.004, 0.   ,\n",
       "       0.002, 0.   , 0.   , 0.   , 0.   , 0.   , 0.   , 0.   , 0.   ,\n",
       "       0.   , 0.   , 0.   , 0.002, 0.   , 0.   , 0.004, 0.   , 0.   ,\n",
       "       0.   , 0.   , 0.002, 0.   , 0.   , 0.   , 0.   , 0.   , 0.   ,\n",
       "       0.002, 0.   , 0.   , 0.   , 0.   , 0.   , 0.   , 0.002, 0.   ,\n",
       "       0.   , 0.   , 0.   , 0.   , 0.   , 0.   , 0.   , 0.   , 0.   ,\n",
       "       0.   , 0.   , 0.002, 0.   , 0.   , 0.   , 0.   , 0.   , 0.   ,\n",
       "       0.   , 0.   , 0.   , 0.   , 0.   , 0.002, 0.   , 0.   , 0.   ,\n",
       "       0.   , 0.   , 0.   , 0.   , 0.   , 0.   , 0.   , 0.   , 0.   ,\n",
       "       0.   , 0.   , 0.   , 0.   , 0.   , 0.   , 0.   , 0.   , 0.   ])"
      ]
     },
     "execution_count": 37,
     "metadata": {},
     "output_type": "execute_result"
    }
   ],
   "source": [
    "fre_relativa = np.array(fre_relativa)\n",
    "fre_relativa "
   ]
  },
  {
   "cell_type": "code",
   "execution_count": 38,
   "metadata": {},
   "outputs": [
    {
     "data": {
      "text/plain": [
       "array([0.0414, 0.0378, 0.0348, 0.0322, 0.03  , 0.028 , 0.0263, 0.0248,\n",
       "       0.0235, 0.0223, 0.0212, 0.0202, 0.0193, 0.0185, 0.0177, 0.017 ,\n",
       "       0.0164, 0.0158, 0.0152, 0.0147, 0.0142, 0.0138, 0.0134, 0.013 ,\n",
       "       0.0126, 0.0122, 0.0119, 0.0116, 0.0113, 0.011 , 0.0107, 0.0105,\n",
       "       0.0102, 0.01  , 0.0098, 0.0095, 0.0093, 0.0091, 0.009 , 0.0088,\n",
       "       0.0086, 0.0084, 0.0083, 0.0081, 0.008 , 0.0078, 0.0077, 0.0076,\n",
       "       0.0074, 0.0073, 0.0072, 0.0071, 0.0069, 0.0068, 0.0067, 0.0066,\n",
       "       0.0065, 0.0064, 0.0063, 0.0062, 0.0062, 0.0061, 0.006 , 0.0059,\n",
       "       0.0058, 0.0058, 0.0057, 0.0056, 0.0055, 0.0055, 0.0054, 0.0053,\n",
       "       0.0053, 0.0052, 0.0051, 0.0051, 0.005 , 0.005 , 0.0049, 0.0049,\n",
       "       0.0048, 0.0047, 0.0047, 0.0046, 0.0046, 0.0045, 0.0045, 0.0045,\n",
       "       0.0044, 0.0044])"
      ]
     },
     "execution_count": 38,
     "metadata": {},
     "output_type": "execute_result"
    }
   ],
   "source": [
    "benford = np.array(benford)\n",
    "benford"
   ]
  },
  {
   "cell_type": "code",
   "execution_count": 39,
   "metadata": {},
   "outputs": [
    {
     "data": {
      "text/plain": [
       "17"
      ]
     },
     "execution_count": 39,
     "metadata": {},
     "output_type": "execute_result"
    }
   ],
   "source": [
    "f0_tot=f0.sum()\n",
    "f0_tot"
   ]
  },
  {
   "cell_type": "code",
   "execution_count": 40,
   "metadata": {},
   "outputs": [],
   "source": [
    "fe = benford*f0_tot"
   ]
  },
  {
   "cell_type": "code",
   "execution_count": 41,
   "metadata": {},
   "outputs": [
    {
     "data": {
      "text/plain": [
       "array([0.7038, 0.6426, 0.5916, 0.5474, 0.51  , 0.476 , 0.4471, 0.4216,\n",
       "       0.3995, 0.3791, 0.3604, 0.3434, 0.3281, 0.3145, 0.3009, 0.289 ,\n",
       "       0.2788, 0.2686, 0.2584, 0.2499, 0.2414, 0.2346, 0.2278, 0.221 ,\n",
       "       0.2142, 0.2074, 0.2023, 0.1972, 0.1921, 0.187 , 0.1819, 0.1785,\n",
       "       0.1734, 0.17  , 0.1666, 0.1615, 0.1581, 0.1547, 0.153 , 0.1496,\n",
       "       0.1462, 0.1428, 0.1411, 0.1377, 0.136 , 0.1326, 0.1309, 0.1292,\n",
       "       0.1258, 0.1241, 0.1224, 0.1207, 0.1173, 0.1156, 0.1139, 0.1122,\n",
       "       0.1105, 0.1088, 0.1071, 0.1054, 0.1054, 0.1037, 0.102 , 0.1003,\n",
       "       0.0986, 0.0986, 0.0969, 0.0952, 0.0935, 0.0935, 0.0918, 0.0901,\n",
       "       0.0901, 0.0884, 0.0867, 0.0867, 0.085 , 0.085 , 0.0833, 0.0833,\n",
       "       0.0816, 0.0799, 0.0799, 0.0782, 0.0782, 0.0765, 0.0765, 0.0765,\n",
       "       0.0748, 0.0748])"
      ]
     },
     "execution_count": 41,
     "metadata": {},
     "output_type": "execute_result"
    }
   ],
   "source": [
    "fe "
   ]
  },
  {
   "cell_type": "code",
   "execution_count": 42,
   "metadata": {},
   "outputs": [
    {
     "data": {
      "text/plain": [
       "16.998299999999997"
      ]
     },
     "execution_count": 42,
     "metadata": {},
     "output_type": "execute_result"
    }
   ],
   "source": [
    "fe.sum()"
   ]
  },
  {
   "cell_type": "code",
   "execution_count": 43,
   "metadata": {},
   "outputs": [
    {
     "data": {
      "text/plain": [
       "array([-0.0394, -0.0378, -0.0328, -0.0322, -0.028 , -0.026 , -0.0223,\n",
       "       -0.0208, -0.0235, -0.0203, -0.0212, -0.0202, -0.0193, -0.0185,\n",
       "       -0.0177, -0.017 , -0.0164, -0.0158, -0.0152, -0.0147, -0.0142,\n",
       "       -0.0118, -0.0134, -0.013 , -0.0086, -0.0122, -0.0119, -0.0116,\n",
       "       -0.0113, -0.009 , -0.0107, -0.0105, -0.0102, -0.01  , -0.0098,\n",
       "       -0.0095, -0.0073, -0.0091, -0.009 , -0.0088, -0.0086, -0.0084,\n",
       "       -0.0083, -0.0061, -0.008 , -0.0078, -0.0077, -0.0076, -0.0074,\n",
       "       -0.0073, -0.0072, -0.0071, -0.0069, -0.0068, -0.0067, -0.0066,\n",
       "       -0.0045, -0.0064, -0.0063, -0.0062, -0.0062, -0.0061, -0.006 ,\n",
       "       -0.0059, -0.0058, -0.0058, -0.0057, -0.0056, -0.0035, -0.0055,\n",
       "       -0.0054, -0.0053, -0.0053, -0.0052, -0.0051, -0.0051, -0.005 ,\n",
       "       -0.005 , -0.0049, -0.0049, -0.0048, -0.0047, -0.0047, -0.0046,\n",
       "       -0.0046, -0.0045, -0.0045, -0.0045, -0.0044, -0.0044])"
      ]
     },
     "execution_count": 43,
     "metadata": {},
     "output_type": "execute_result"
    }
   ],
   "source": [
    "diferencia = fre_relativa - benford\n",
    "diferencia "
   ]
  },
  {
   "cell_type": "code",
   "execution_count": 44,
   "metadata": {},
   "outputs": [
    {
     "data": {
      "text/plain": [
       "-0.9659"
      ]
     },
     "execution_count": 44,
     "metadata": {},
     "output_type": "execute_result"
    }
   ],
   "source": [
    "diferencia.sum()"
   ]
  },
  {
   "cell_type": "code",
   "execution_count": 45,
   "metadata": {},
   "outputs": [],
   "source": [
    "f0_fe= (f0-fe)"
   ]
  },
  {
   "cell_type": "code",
   "execution_count": 46,
   "metadata": {},
   "outputs": [],
   "source": [
    "f0_fe_2 = f0_fe*f0_fe"
   ]
  },
  {
   "cell_type": "code",
   "execution_count": 47,
   "metadata": {},
   "outputs": [
    {
     "data": {
      "text/plain": [
       "array([ 0.1246582 ,  0.6426    ,  0.2819313 ,  0.5474    ,  0.47078431,\n",
       "        0.57684034,  5.3936444 ,  5.90926603,  0.3995    ,  1.01692643,\n",
       "        0.3604    ,  0.3434    ,  0.3281    ,  0.3145    ,  0.3009    ,\n",
       "        0.289     ,  0.2788    ,  0.2686    ,  0.2584    ,  0.2499    ,\n",
       "        0.2414    ,  2.4971746 ,  0.2278    ,  0.221     , 14.88833632,\n",
       "        0.2074    ,  0.2023    ,  0.1972    ,  0.1921    ,  3.53459358,\n",
       "        0.1819    ,  0.1785    ,  0.1734    ,  0.17      ,  0.1666    ,\n",
       "        0.1615    ,  4.48321069,  0.1547    ,  0.153     ,  0.1496    ,\n",
       "        0.1462    ,  0.1428    ,  0.1411    ,  5.39986412,  0.136     ,\n",
       "        0.1326    ,  0.1309    ,  0.1292    ,  0.1258    ,  0.1241    ,\n",
       "        0.1224    ,  0.1207    ,  0.1173    ,  0.1156    ,  0.1139    ,\n",
       "        0.1122    ,  7.16027376,  0.1088    ,  0.1071    ,  0.1054    ,\n",
       "        0.1054    ,  0.1037    ,  0.102     ,  0.1003    ,  0.0986    ,\n",
       "        0.0986    ,  0.0969    ,  0.0952    ,  8.78868717,  0.0935    ,\n",
       "        0.0918    ,  0.0901    ,  0.0901    ,  0.0884    ,  0.0867    ,\n",
       "        0.0867    ,  0.085     ,  0.085     ,  0.0833    ,  0.0833    ,\n",
       "        0.0816    ,  0.0799    ,  0.0799    ,  0.0782    ,  0.0782    ,\n",
       "        0.0765    ,  0.0765    ,  0.0765    ,  0.0748    ,  0.0748    ])"
      ]
     },
     "execution_count": 47,
     "metadata": {},
     "output_type": "execute_result"
    }
   ],
   "source": [
    "f0_fe_2_fe=f0_fe_2/fe\n",
    "f0_fe_2_fe"
   ]
  },
  {
   "cell_type": "markdown",
   "metadata": {},
   "source": [
    "# Partido Libre"
   ]
  },
  {
   "cell_type": "code",
   "execution_count": 48,
   "metadata": {},
   "outputs": [
    {
     "data": {
      "text/plain": [
       "72.85969125046658"
      ]
     },
     "execution_count": 48,
     "metadata": {},
     "output_type": "execute_result"
    }
   ],
   "source": [
    "x_2 = f0_fe_2_fe.sum()\n",
    "x_2 "
   ]
  },
  {
   "cell_type": "code",
   "execution_count": 49,
   "metadata": {},
   "outputs": [],
   "source": [
    "letters = {}\n",
    "\n",
    "for i in range(9,99):\n",
    "    letters[str(i+1)] = 0\n",
    "    \n",
    "list_of_nums = tot\n",
    "for n in list_of_nums:\n",
    "    first_digit = str(n)[0]+str(n)[1]\n",
    "    letters[first_digit] += 1\n",
    "y = [round(val / nfib, 4) for val in letters.values()]\n",
    "fre_relativa = y\n",
    "y = list(letters.values())\n",
    "f0= y\n",
    "x = list(letters.keys())\n",
    "y =  [round(math.log10(1+(1/int(val))), 4) for val in letters.keys()]\n",
    "benford = y"
   ]
  },
  {
   "cell_type": "code",
   "execution_count": 50,
   "metadata": {},
   "outputs": [
    {
     "data": {
      "text/plain": [
       "array([0, 1, 0, 0, 0, 0, 0, 0, 0, 0, 2, 1, 0, 1, 0, 1, 0, 0, 0, 0, 0, 0,\n",
       "       0, 1, 0, 1, 1, 1, 0, 0, 0, 0, 0, 1, 0, 0, 1, 0, 0, 0, 0, 0, 0, 0,\n",
       "       0, 0, 0, 0, 0, 0, 0, 0, 0, 0, 2, 0, 0, 0, 0, 0, 0, 2, 0, 0, 0, 0,\n",
       "       0, 0, 0, 0, 0, 0, 0, 0, 0, 0, 1, 0, 0, 0, 0, 0, 0, 0, 0, 0, 0, 0,\n",
       "       0, 0])"
      ]
     },
     "execution_count": 50,
     "metadata": {},
     "output_type": "execute_result"
    }
   ],
   "source": [
    "f0 = np.array(f0)\n",
    "f0"
   ]
  },
  {
   "cell_type": "code",
   "execution_count": 51,
   "metadata": {},
   "outputs": [
    {
     "data": {
      "text/plain": [
       "array([0.   , 0.002, 0.   , 0.   , 0.   , 0.   , 0.   , 0.   , 0.   ,\n",
       "       0.   , 0.004, 0.002, 0.   , 0.002, 0.   , 0.002, 0.   , 0.   ,\n",
       "       0.   , 0.   , 0.   , 0.   , 0.   , 0.002, 0.   , 0.002, 0.002,\n",
       "       0.002, 0.   , 0.   , 0.   , 0.   , 0.   , 0.002, 0.   , 0.   ,\n",
       "       0.002, 0.   , 0.   , 0.   , 0.   , 0.   , 0.   , 0.   , 0.   ,\n",
       "       0.   , 0.   , 0.   , 0.   , 0.   , 0.   , 0.   , 0.   , 0.   ,\n",
       "       0.004, 0.   , 0.   , 0.   , 0.   , 0.   , 0.   , 0.004, 0.   ,\n",
       "       0.   , 0.   , 0.   , 0.   , 0.   , 0.   , 0.   , 0.   , 0.   ,\n",
       "       0.   , 0.   , 0.   , 0.   , 0.002, 0.   , 0.   , 0.   , 0.   ,\n",
       "       0.   , 0.   , 0.   , 0.   , 0.   , 0.   , 0.   , 0.   , 0.   ])"
      ]
     },
     "execution_count": 51,
     "metadata": {},
     "output_type": "execute_result"
    }
   ],
   "source": [
    "fre_relativa = np.array(fre_relativa)\n",
    "fre_relativa "
   ]
  },
  {
   "cell_type": "code",
   "execution_count": 52,
   "metadata": {},
   "outputs": [
    {
     "data": {
      "text/plain": [
       "array([0.0414, 0.0378, 0.0348, 0.0322, 0.03  , 0.028 , 0.0263, 0.0248,\n",
       "       0.0235, 0.0223, 0.0212, 0.0202, 0.0193, 0.0185, 0.0177, 0.017 ,\n",
       "       0.0164, 0.0158, 0.0152, 0.0147, 0.0142, 0.0138, 0.0134, 0.013 ,\n",
       "       0.0126, 0.0122, 0.0119, 0.0116, 0.0113, 0.011 , 0.0107, 0.0105,\n",
       "       0.0102, 0.01  , 0.0098, 0.0095, 0.0093, 0.0091, 0.009 , 0.0088,\n",
       "       0.0086, 0.0084, 0.0083, 0.0081, 0.008 , 0.0078, 0.0077, 0.0076,\n",
       "       0.0074, 0.0073, 0.0072, 0.0071, 0.0069, 0.0068, 0.0067, 0.0066,\n",
       "       0.0065, 0.0064, 0.0063, 0.0062, 0.0062, 0.0061, 0.006 , 0.0059,\n",
       "       0.0058, 0.0058, 0.0057, 0.0056, 0.0055, 0.0055, 0.0054, 0.0053,\n",
       "       0.0053, 0.0052, 0.0051, 0.0051, 0.005 , 0.005 , 0.0049, 0.0049,\n",
       "       0.0048, 0.0047, 0.0047, 0.0046, 0.0046, 0.0045, 0.0045, 0.0045,\n",
       "       0.0044, 0.0044])"
      ]
     },
     "execution_count": 52,
     "metadata": {},
     "output_type": "execute_result"
    }
   ],
   "source": [
    "benford = np.array(benford)\n",
    "benford"
   ]
  },
  {
   "cell_type": "code",
   "execution_count": 53,
   "metadata": {},
   "outputs": [
    {
     "data": {
      "text/plain": [
       "17"
      ]
     },
     "execution_count": 53,
     "metadata": {},
     "output_type": "execute_result"
    }
   ],
   "source": [
    "f0_tot=f0.sum()\n",
    "f0_tot"
   ]
  },
  {
   "cell_type": "code",
   "execution_count": 54,
   "metadata": {},
   "outputs": [],
   "source": [
    "fe = benford*f0_tot"
   ]
  },
  {
   "cell_type": "code",
   "execution_count": 55,
   "metadata": {},
   "outputs": [
    {
     "data": {
      "text/plain": [
       "array([0.7038, 0.6426, 0.5916, 0.5474, 0.51  , 0.476 , 0.4471, 0.4216,\n",
       "       0.3995, 0.3791, 0.3604, 0.3434, 0.3281, 0.3145, 0.3009, 0.289 ,\n",
       "       0.2788, 0.2686, 0.2584, 0.2499, 0.2414, 0.2346, 0.2278, 0.221 ,\n",
       "       0.2142, 0.2074, 0.2023, 0.1972, 0.1921, 0.187 , 0.1819, 0.1785,\n",
       "       0.1734, 0.17  , 0.1666, 0.1615, 0.1581, 0.1547, 0.153 , 0.1496,\n",
       "       0.1462, 0.1428, 0.1411, 0.1377, 0.136 , 0.1326, 0.1309, 0.1292,\n",
       "       0.1258, 0.1241, 0.1224, 0.1207, 0.1173, 0.1156, 0.1139, 0.1122,\n",
       "       0.1105, 0.1088, 0.1071, 0.1054, 0.1054, 0.1037, 0.102 , 0.1003,\n",
       "       0.0986, 0.0986, 0.0969, 0.0952, 0.0935, 0.0935, 0.0918, 0.0901,\n",
       "       0.0901, 0.0884, 0.0867, 0.0867, 0.085 , 0.085 , 0.0833, 0.0833,\n",
       "       0.0816, 0.0799, 0.0799, 0.0782, 0.0782, 0.0765, 0.0765, 0.0765,\n",
       "       0.0748, 0.0748])"
      ]
     },
     "execution_count": 55,
     "metadata": {},
     "output_type": "execute_result"
    }
   ],
   "source": [
    "fe "
   ]
  },
  {
   "cell_type": "code",
   "execution_count": 56,
   "metadata": {},
   "outputs": [
    {
     "data": {
      "text/plain": [
       "16.998299999999997"
      ]
     },
     "execution_count": 56,
     "metadata": {},
     "output_type": "execute_result"
    }
   ],
   "source": [
    "fe.sum()"
   ]
  },
  {
   "cell_type": "code",
   "execution_count": 57,
   "metadata": {},
   "outputs": [
    {
     "data": {
      "text/plain": [
       "array([-0.0414, -0.0358, -0.0348, -0.0322, -0.03  , -0.028 , -0.0263,\n",
       "       -0.0248, -0.0235, -0.0223, -0.0172, -0.0182, -0.0193, -0.0165,\n",
       "       -0.0177, -0.015 , -0.0164, -0.0158, -0.0152, -0.0147, -0.0142,\n",
       "       -0.0138, -0.0134, -0.011 , -0.0126, -0.0102, -0.0099, -0.0096,\n",
       "       -0.0113, -0.011 , -0.0107, -0.0105, -0.0102, -0.008 , -0.0098,\n",
       "       -0.0095, -0.0073, -0.0091, -0.009 , -0.0088, -0.0086, -0.0084,\n",
       "       -0.0083, -0.0081, -0.008 , -0.0078, -0.0077, -0.0076, -0.0074,\n",
       "       -0.0073, -0.0072, -0.0071, -0.0069, -0.0068, -0.0027, -0.0066,\n",
       "       -0.0065, -0.0064, -0.0063, -0.0062, -0.0062, -0.0021, -0.006 ,\n",
       "       -0.0059, -0.0058, -0.0058, -0.0057, -0.0056, -0.0055, -0.0055,\n",
       "       -0.0054, -0.0053, -0.0053, -0.0052, -0.0051, -0.0051, -0.003 ,\n",
       "       -0.005 , -0.0049, -0.0049, -0.0048, -0.0047, -0.0047, -0.0046,\n",
       "       -0.0046, -0.0045, -0.0045, -0.0045, -0.0044, -0.0044])"
      ]
     },
     "execution_count": 57,
     "metadata": {},
     "output_type": "execute_result"
    }
   ],
   "source": [
    "diferencia = fre_relativa - benford\n",
    "diferencia "
   ]
  },
  {
   "cell_type": "code",
   "execution_count": 58,
   "metadata": {},
   "outputs": [
    {
     "data": {
      "text/plain": [
       "-0.9659"
      ]
     },
     "execution_count": 58,
     "metadata": {},
     "output_type": "execute_result"
    }
   ],
   "source": [
    "diferencia.sum()"
   ]
  },
  {
   "cell_type": "code",
   "execution_count": 59,
   "metadata": {},
   "outputs": [],
   "source": [
    "f0_fe= (f0-fe)"
   ]
  },
  {
   "cell_type": "code",
   "execution_count": 60,
   "metadata": {},
   "outputs": [],
   "source": [
    "f0_fe_2 = f0_fe*f0_fe"
   ]
  },
  {
   "cell_type": "code",
   "execution_count": 61,
   "metadata": {},
   "outputs": [
    {
     "data": {
      "text/plain": [
       "array([ 0.7038    ,  0.19877803,  0.5916    ,  0.5474    ,  0.51      ,\n",
       "        0.476     ,  0.4471    ,  0.4216    ,  0.3995    ,  0.3791    ,\n",
       "        7.45917913,  1.25545591,  0.3281    ,  1.49415024,  0.3009    ,\n",
       "        1.74920761,  0.2788    ,  0.2686    ,  0.2584    ,  0.2499    ,\n",
       "        0.2414    ,  0.2346    ,  0.2278    ,  2.74588688,  0.2142    ,\n",
       "        3.02900077,  3.14545373,  3.26819391,  0.1921    ,  0.187     ,\n",
       "        0.1819    ,  0.1785    ,  0.1734    ,  4.05235294,  0.1666    ,\n",
       "        0.1615    ,  4.48321069,  0.1547    ,  0.153     ,  0.1496    ,\n",
       "        0.1462    ,  0.1428    ,  0.1411    ,  0.1377    ,  0.136     ,\n",
       "        0.1326    ,  0.1309    ,  0.1292    ,  0.1258    ,  0.1241    ,\n",
       "        0.1224    ,  0.1207    ,  0.1173    ,  0.1156    , 31.23242502,\n",
       "        0.1122    ,  0.1105    ,  0.1088    ,  0.1071    ,  0.1054    ,\n",
       "        0.1054    , 34.67650617,  0.102     ,  0.1003    ,  0.0986    ,\n",
       "        0.0986    ,  0.0969    ,  0.0952    ,  0.0935    ,  0.0935    ,\n",
       "        0.0918    ,  0.0901    ,  0.0901    ,  0.0884    ,  0.0867    ,\n",
       "        0.0867    ,  9.84970588,  0.085     ,  0.0833    ,  0.0833    ,\n",
       "        0.0816    ,  0.0799    ,  0.0799    ,  0.0782    ,  0.0782    ,\n",
       "        0.0765    ,  0.0765    ,  0.0765    ,  0.0748    ,  0.0748    ])"
      ]
     },
     "execution_count": 61,
     "metadata": {},
     "output_type": "execute_result"
    }
   ],
   "source": [
    "f0_fe_2_fe=f0_fe_2/fe\n",
    "f0_fe_2_fe"
   ]
  },
  {
   "cell_type": "markdown",
   "metadata": {},
   "source": [
    "# Total"
   ]
  },
  {
   "cell_type": "code",
   "execution_count": 62,
   "metadata": {},
   "outputs": [
    {
     "data": {
      "text/plain": [
       "122.2293069262026"
      ]
     },
     "execution_count": 62,
     "metadata": {},
     "output_type": "execute_result"
    }
   ],
   "source": [
    "x_2 = f0_fe_2_fe.sum()\n",
    "x_2 "
   ]
  }
 ],
 "metadata": {
  "kernelspec": {
   "display_name": "Python 3",
   "language": "python",
   "name": "python3"
  },
  "language_info": {
   "codemirror_mode": {
    "name": "ipython",
    "version": 3
   },
   "file_extension": ".py",
   "mimetype": "text/x-python",
   "name": "python",
   "nbconvert_exporter": "python",
   "pygments_lexer": "ipython3",
   "version": "3.8.3"
  }
 },
 "nbformat": 4,
 "nbformat_minor": 4
}
