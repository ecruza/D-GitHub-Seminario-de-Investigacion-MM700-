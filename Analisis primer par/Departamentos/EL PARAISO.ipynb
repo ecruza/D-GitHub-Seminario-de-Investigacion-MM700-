{
 "cells": [
  {
   "cell_type": "code",
   "execution_count": 1,
   "metadata": {},
   "outputs": [],
   "source": [
    "import matplotlib.pyplot as plt\n",
    "import numpy as np\n",
    "import math\n",
    "import pandas as pd \n",
    "letters = {}\n",
    "\n",
    "for i in range(9,99):\n",
    "    letters[str(i+1)] = 0\n",
    "    \n",
    "\n",
    "nfib = 500"
   ]
  },
  {
   "cell_type": "code",
   "execution_count": 2,
   "metadata": {},
   "outputs": [
    {
     "data": {
      "text/html": [
       "<div>\n",
       "<style scoped>\n",
       "    .dataframe tbody tr th:only-of-type {\n",
       "        vertical-align: middle;\n",
       "    }\n",
       "\n",
       "    .dataframe tbody tr th {\n",
       "        vertical-align: top;\n",
       "    }\n",
       "\n",
       "    .dataframe thead th {\n",
       "        text-align: right;\n",
       "    }\n",
       "</style>\n",
       "<table border=\"1\" class=\"dataframe\">\n",
       "  <thead>\n",
       "    <tr style=\"text-align: right;\">\n",
       "      <th></th>\n",
       "      <th>PL</th>\n",
       "      <th>PN</th>\n",
       "      <th>LIBRE-PINU</th>\n",
       "      <th>TOTAL</th>\n",
       "    </tr>\n",
       "  </thead>\n",
       "  <tbody>\n",
       "    <tr>\n",
       "      <th>0</th>\n",
       "      <td>1062</td>\n",
       "      <td>4419</td>\n",
       "      <td>1969</td>\n",
       "      <td>7519</td>\n",
       "    </tr>\n",
       "    <tr>\n",
       "      <th>1</th>\n",
       "      <td>938</td>\n",
       "      <td>3091</td>\n",
       "      <td>1916</td>\n",
       "      <td>5973</td>\n",
       "    </tr>\n",
       "    <tr>\n",
       "      <th>2</th>\n",
       "      <td>13589</td>\n",
       "      <td>29725</td>\n",
       "      <td>26887</td>\n",
       "      <td>70714</td>\n",
       "    </tr>\n",
       "    <tr>\n",
       "      <th>3</th>\n",
       "      <td>4749</td>\n",
       "      <td>9644</td>\n",
       "      <td>5603</td>\n",
       "      <td>20120</td>\n",
       "    </tr>\n",
       "    <tr>\n",
       "      <th>4</th>\n",
       "      <td>888</td>\n",
       "      <td>2395</td>\n",
       "      <td>1322</td>\n",
       "      <td>4641</td>\n",
       "    </tr>\n",
       "    <tr>\n",
       "      <th>5</th>\n",
       "      <td>717</td>\n",
       "      <td>1440</td>\n",
       "      <td>1105</td>\n",
       "      <td>3276</td>\n",
       "    </tr>\n",
       "    <tr>\n",
       "      <th>6</th>\n",
       "      <td>1920</td>\n",
       "      <td>3189</td>\n",
       "      <td>1701</td>\n",
       "      <td>6832</td>\n",
       "    </tr>\n",
       "    <tr>\n",
       "      <th>7</th>\n",
       "      <td>1401</td>\n",
       "      <td>3544</td>\n",
       "      <td>1765</td>\n",
       "      <td>6760</td>\n",
       "    </tr>\n",
       "    <tr>\n",
       "      <th>8</th>\n",
       "      <td>369</td>\n",
       "      <td>2142</td>\n",
       "      <td>1414</td>\n",
       "      <td>3943</td>\n",
       "    </tr>\n",
       "    <tr>\n",
       "      <th>9</th>\n",
       "      <td>460</td>\n",
       "      <td>883</td>\n",
       "      <td>580</td>\n",
       "      <td>1935</td>\n",
       "    </tr>\n",
       "    <tr>\n",
       "      <th>10</th>\n",
       "      <td>728</td>\n",
       "      <td>2102</td>\n",
       "      <td>820</td>\n",
       "      <td>3666</td>\n",
       "    </tr>\n",
       "    <tr>\n",
       "      <th>11</th>\n",
       "      <td>1638</td>\n",
       "      <td>2172</td>\n",
       "      <td>674</td>\n",
       "      <td>4531</td>\n",
       "    </tr>\n",
       "    <tr>\n",
       "      <th>12</th>\n",
       "      <td>819</td>\n",
       "      <td>1394</td>\n",
       "      <td>832</td>\n",
       "      <td>3068</td>\n",
       "    </tr>\n",
       "    <tr>\n",
       "      <th>13</th>\n",
       "      <td>1378</td>\n",
       "      <td>1955</td>\n",
       "      <td>2210</td>\n",
       "      <td>5588</td>\n",
       "    </tr>\n",
       "    <tr>\n",
       "      <th>14</th>\n",
       "      <td>4283</td>\n",
       "      <td>6855</td>\n",
       "      <td>4944</td>\n",
       "      <td>16237</td>\n",
       "    </tr>\n",
       "    <tr>\n",
       "      <th>15</th>\n",
       "      <td>1821</td>\n",
       "      <td>2574</td>\n",
       "      <td>937</td>\n",
       "      <td>5371</td>\n",
       "    </tr>\n",
       "    <tr>\n",
       "      <th>16</th>\n",
       "      <td>1013</td>\n",
       "      <td>1143</td>\n",
       "      <td>390</td>\n",
       "      <td>2554</td>\n",
       "    </tr>\n",
       "    <tr>\n",
       "      <th>17</th>\n",
       "      <td>175</td>\n",
       "      <td>669</td>\n",
       "      <td>324</td>\n",
       "      <td>1175</td>\n",
       "    </tr>\n",
       "    <tr>\n",
       "      <th>18</th>\n",
       "      <td>3561</td>\n",
       "      <td>10293</td>\n",
       "      <td>6575</td>\n",
       "      <td>20642</td>\n",
       "    </tr>\n",
       "  </tbody>\n",
       "</table>\n",
       "</div>"
      ],
      "text/plain": [
       "       PL     PN  LIBRE-PINU  TOTAL\n",
       "0    1062   4419        1969   7519\n",
       "1     938   3091        1916   5973\n",
       "2   13589  29725       26887  70714\n",
       "3    4749   9644        5603  20120\n",
       "4     888   2395        1322   4641\n",
       "5     717   1440        1105   3276\n",
       "6    1920   3189        1701   6832\n",
       "7    1401   3544        1765   6760\n",
       "8     369   2142        1414   3943\n",
       "9     460    883         580   1935\n",
       "10    728   2102         820   3666\n",
       "11   1638   2172         674   4531\n",
       "12    819   1394         832   3068\n",
       "13   1378   1955        2210   5588\n",
       "14   4283   6855        4944  16237\n",
       "15   1821   2574         937   5371\n",
       "16   1013   1143         390   2554\n",
       "17    175    669         324   1175\n",
       "18   3561  10293        6575  20642"
      ]
     },
     "execution_count": 2,
     "metadata": {},
     "output_type": "execute_result"
    }
   ],
   "source": [
    "df = pd.read_csv(\"https://docs.google.com/spreadsheets/d/1bviWBACEUUG9cXOLQd0cFYXtROj570cJ/export?format=csv\")\n",
    "df"
   ]
  },
  {
   "cell_type": "code",
   "execution_count": 3,
   "metadata": {},
   "outputs": [
    {
     "data": {
      "text/plain": [
       "[1062,\n",
       " 938,\n",
       " 13589,\n",
       " 4749,\n",
       " 888,\n",
       " 717,\n",
       " 1920,\n",
       " 1401,\n",
       " 369,\n",
       " 460,\n",
       " 728,\n",
       " 1638,\n",
       " 819,\n",
       " 1378,\n",
       " 4283,\n",
       " 1821,\n",
       " 1013,\n",
       " 175,\n",
       " 3561]"
      ]
     },
     "execution_count": 3,
     "metadata": {},
     "output_type": "execute_result"
    }
   ],
   "source": [
    "pl = []\n",
    "for i in df['PL']:\n",
    "    pl.append(i)\n",
    "pl"
   ]
  },
  {
   "cell_type": "code",
   "execution_count": 4,
   "metadata": {},
   "outputs": [
    {
     "data": {
      "text/plain": [
       "[4419,\n",
       " 3091,\n",
       " 29725,\n",
       " 9644,\n",
       " 2395,\n",
       " 1440,\n",
       " 3189,\n",
       " 3544,\n",
       " 2142,\n",
       " 883,\n",
       " 2102,\n",
       " 2172,\n",
       " 1394,\n",
       " 1955,\n",
       " 6855,\n",
       " 2574,\n",
       " 1143,\n",
       " 669,\n",
       " 10293]"
      ]
     },
     "execution_count": 4,
     "metadata": {},
     "output_type": "execute_result"
    }
   ],
   "source": [
    "pn = []\n",
    "for i in df['PN']:\n",
    "    pn.append(i)\n",
    "pn"
   ]
  },
  {
   "cell_type": "code",
   "execution_count": 5,
   "metadata": {},
   "outputs": [
    {
     "data": {
      "text/plain": [
       "[1969,\n",
       " 1916,\n",
       " 26887,\n",
       " 5603,\n",
       " 1322,\n",
       " 1105,\n",
       " 1701,\n",
       " 1765,\n",
       " 1414,\n",
       " 580,\n",
       " 820,\n",
       " 674,\n",
       " 832,\n",
       " 2210,\n",
       " 4944,\n",
       " 937,\n",
       " 390,\n",
       " 324,\n",
       " 6575]"
      ]
     },
     "execution_count": 5,
     "metadata": {},
     "output_type": "execute_result"
    }
   ],
   "source": [
    "pli = []\n",
    "for i in df['LIBRE-PINU']:\n",
    "    pli.append(i)\n",
    "pli"
   ]
  },
  {
   "cell_type": "code",
   "execution_count": 6,
   "metadata": {},
   "outputs": [
    {
     "data": {
      "text/plain": [
       "[7519,\n",
       " 5973,\n",
       " 70714,\n",
       " 20120,\n",
       " 4641,\n",
       " 3276,\n",
       " 6832,\n",
       " 6760,\n",
       " 3943,\n",
       " 1935,\n",
       " 3666,\n",
       " 4531,\n",
       " 3068,\n",
       " 5588,\n",
       " 16237,\n",
       " 5371,\n",
       " 2554,\n",
       " 1175,\n",
       " 20642]"
      ]
     },
     "execution_count": 6,
     "metadata": {},
     "output_type": "execute_result"
    }
   ],
   "source": [
    "tot = []\n",
    "for i in df['TOTAL']:\n",
    "    tot.append(i)\n",
    "tot"
   ]
  },
  {
   "cell_type": "code",
   "execution_count": 7,
   "metadata": {},
   "outputs": [],
   "source": [
    "list_of_nums = pl\n",
    "for n in list_of_nums:\n",
    "    first_digit = str(n)[0]+str(n)[1]\n",
    "    letters[first_digit] += 1\n",
    "y = [round(val / nfib, 4) for val in letters.values()]\n",
    "fre_relativa = y\n",
    "y = list(letters.values())\n",
    "f0= y\n",
    "x = list(letters.keys())\n",
    "y =  [round(math.log10(1+(1/int(val))), 4) for val in letters.keys()]\n",
    "benford = y"
   ]
  },
  {
   "cell_type": "code",
   "execution_count": 8,
   "metadata": {},
   "outputs": [
    {
     "data": {
      "text/plain": [
       "array([2, 0, 0, 2, 1, 0, 1, 1, 1, 1, 0, 0, 0, 0, 0, 0, 0, 0, 0, 0, 0, 0,\n",
       "       0, 0, 0, 1, 1, 0, 0, 0, 0, 0, 1, 0, 0, 0, 1, 1, 0, 0, 0, 0, 0, 0,\n",
       "       0, 0, 0, 0, 0, 0, 0, 0, 0, 0, 0, 0, 0, 0, 0, 0, 0, 1, 1, 0, 0, 0,\n",
       "       0, 0, 0, 0, 0, 1, 0, 0, 0, 0, 0, 0, 1, 0, 0, 0, 0, 1, 0, 0, 0, 0,\n",
       "       0, 0])"
      ]
     },
     "execution_count": 8,
     "metadata": {},
     "output_type": "execute_result"
    }
   ],
   "source": [
    "f0 = np.array(f0)\n",
    "f0"
   ]
  },
  {
   "cell_type": "code",
   "execution_count": 9,
   "metadata": {},
   "outputs": [
    {
     "data": {
      "text/plain": [
       "array([0.004, 0.   , 0.   , 0.004, 0.002, 0.   , 0.002, 0.002, 0.002,\n",
       "       0.002, 0.   , 0.   , 0.   , 0.   , 0.   , 0.   , 0.   , 0.   ,\n",
       "       0.   , 0.   , 0.   , 0.   , 0.   , 0.   , 0.   , 0.002, 0.002,\n",
       "       0.   , 0.   , 0.   , 0.   , 0.   , 0.002, 0.   , 0.   , 0.   ,\n",
       "       0.002, 0.002, 0.   , 0.   , 0.   , 0.   , 0.   , 0.   , 0.   ,\n",
       "       0.   , 0.   , 0.   , 0.   , 0.   , 0.   , 0.   , 0.   , 0.   ,\n",
       "       0.   , 0.   , 0.   , 0.   , 0.   , 0.   , 0.   , 0.002, 0.002,\n",
       "       0.   , 0.   , 0.   , 0.   , 0.   , 0.   , 0.   , 0.   , 0.002,\n",
       "       0.   , 0.   , 0.   , 0.   , 0.   , 0.   , 0.002, 0.   , 0.   ,\n",
       "       0.   , 0.   , 0.002, 0.   , 0.   , 0.   , 0.   , 0.   , 0.   ])"
      ]
     },
     "execution_count": 9,
     "metadata": {},
     "output_type": "execute_result"
    }
   ],
   "source": [
    "fre_relativa = np.array(fre_relativa)\n",
    "fre_relativa "
   ]
  },
  {
   "cell_type": "code",
   "execution_count": 10,
   "metadata": {},
   "outputs": [
    {
     "data": {
      "text/plain": [
       "array([0.0414, 0.0378, 0.0348, 0.0322, 0.03  , 0.028 , 0.0263, 0.0248,\n",
       "       0.0235, 0.0223, 0.0212, 0.0202, 0.0193, 0.0185, 0.0177, 0.017 ,\n",
       "       0.0164, 0.0158, 0.0152, 0.0147, 0.0142, 0.0138, 0.0134, 0.013 ,\n",
       "       0.0126, 0.0122, 0.0119, 0.0116, 0.0113, 0.011 , 0.0107, 0.0105,\n",
       "       0.0102, 0.01  , 0.0098, 0.0095, 0.0093, 0.0091, 0.009 , 0.0088,\n",
       "       0.0086, 0.0084, 0.0083, 0.0081, 0.008 , 0.0078, 0.0077, 0.0076,\n",
       "       0.0074, 0.0073, 0.0072, 0.0071, 0.0069, 0.0068, 0.0067, 0.0066,\n",
       "       0.0065, 0.0064, 0.0063, 0.0062, 0.0062, 0.0061, 0.006 , 0.0059,\n",
       "       0.0058, 0.0058, 0.0057, 0.0056, 0.0055, 0.0055, 0.0054, 0.0053,\n",
       "       0.0053, 0.0052, 0.0051, 0.0051, 0.005 , 0.005 , 0.0049, 0.0049,\n",
       "       0.0048, 0.0047, 0.0047, 0.0046, 0.0046, 0.0045, 0.0045, 0.0045,\n",
       "       0.0044, 0.0044])"
      ]
     },
     "execution_count": 10,
     "metadata": {},
     "output_type": "execute_result"
    }
   ],
   "source": [
    "benford = np.array(benford)\n",
    "benford"
   ]
  },
  {
   "cell_type": "code",
   "execution_count": 11,
   "metadata": {},
   "outputs": [
    {
     "data": {
      "text/plain": [
       "19"
      ]
     },
     "execution_count": 11,
     "metadata": {},
     "output_type": "execute_result"
    }
   ],
   "source": [
    "f0_tot=f0.sum()\n",
    "f0_tot"
   ]
  },
  {
   "cell_type": "code",
   "execution_count": 12,
   "metadata": {},
   "outputs": [],
   "source": [
    "fe = benford*f0_tot"
   ]
  },
  {
   "cell_type": "code",
   "execution_count": 13,
   "metadata": {},
   "outputs": [
    {
     "data": {
      "text/plain": [
       "array([0.7866, 0.7182, 0.6612, 0.6118, 0.57  , 0.532 , 0.4997, 0.4712,\n",
       "       0.4465, 0.4237, 0.4028, 0.3838, 0.3667, 0.3515, 0.3363, 0.323 ,\n",
       "       0.3116, 0.3002, 0.2888, 0.2793, 0.2698, 0.2622, 0.2546, 0.247 ,\n",
       "       0.2394, 0.2318, 0.2261, 0.2204, 0.2147, 0.209 , 0.2033, 0.1995,\n",
       "       0.1938, 0.19  , 0.1862, 0.1805, 0.1767, 0.1729, 0.171 , 0.1672,\n",
       "       0.1634, 0.1596, 0.1577, 0.1539, 0.152 , 0.1482, 0.1463, 0.1444,\n",
       "       0.1406, 0.1387, 0.1368, 0.1349, 0.1311, 0.1292, 0.1273, 0.1254,\n",
       "       0.1235, 0.1216, 0.1197, 0.1178, 0.1178, 0.1159, 0.114 , 0.1121,\n",
       "       0.1102, 0.1102, 0.1083, 0.1064, 0.1045, 0.1045, 0.1026, 0.1007,\n",
       "       0.1007, 0.0988, 0.0969, 0.0969, 0.095 , 0.095 , 0.0931, 0.0931,\n",
       "       0.0912, 0.0893, 0.0893, 0.0874, 0.0874, 0.0855, 0.0855, 0.0855,\n",
       "       0.0836, 0.0836])"
      ]
     },
     "execution_count": 13,
     "metadata": {},
     "output_type": "execute_result"
    }
   ],
   "source": [
    "fe "
   ]
  },
  {
   "cell_type": "code",
   "execution_count": 14,
   "metadata": {},
   "outputs": [
    {
     "data": {
      "text/plain": [
       "18.9981"
      ]
     },
     "execution_count": 14,
     "metadata": {},
     "output_type": "execute_result"
    }
   ],
   "source": [
    "fe.sum()"
   ]
  },
  {
   "cell_type": "code",
   "execution_count": 15,
   "metadata": {},
   "outputs": [
    {
     "data": {
      "text/plain": [
       "array([-0.0374, -0.0378, -0.0348, -0.0282, -0.028 , -0.028 , -0.0243,\n",
       "       -0.0228, -0.0215, -0.0203, -0.0212, -0.0202, -0.0193, -0.0185,\n",
       "       -0.0177, -0.017 , -0.0164, -0.0158, -0.0152, -0.0147, -0.0142,\n",
       "       -0.0138, -0.0134, -0.013 , -0.0126, -0.0102, -0.0099, -0.0116,\n",
       "       -0.0113, -0.011 , -0.0107, -0.0105, -0.0082, -0.01  , -0.0098,\n",
       "       -0.0095, -0.0073, -0.0071, -0.009 , -0.0088, -0.0086, -0.0084,\n",
       "       -0.0083, -0.0081, -0.008 , -0.0078, -0.0077, -0.0076, -0.0074,\n",
       "       -0.0073, -0.0072, -0.0071, -0.0069, -0.0068, -0.0067, -0.0066,\n",
       "       -0.0065, -0.0064, -0.0063, -0.0062, -0.0062, -0.0041, -0.004 ,\n",
       "       -0.0059, -0.0058, -0.0058, -0.0057, -0.0056, -0.0055, -0.0055,\n",
       "       -0.0054, -0.0033, -0.0053, -0.0052, -0.0051, -0.0051, -0.005 ,\n",
       "       -0.005 , -0.0029, -0.0049, -0.0048, -0.0047, -0.0047, -0.0026,\n",
       "       -0.0046, -0.0045, -0.0045, -0.0045, -0.0044, -0.0044])"
      ]
     },
     "execution_count": 15,
     "metadata": {},
     "output_type": "execute_result"
    }
   ],
   "source": [
    "diferencia = fre_relativa - benford\n",
    "diferencia "
   ]
  },
  {
   "cell_type": "code",
   "execution_count": 16,
   "metadata": {},
   "outputs": [
    {
     "data": {
      "text/plain": [
       "-0.9619"
      ]
     },
     "execution_count": 16,
     "metadata": {},
     "output_type": "execute_result"
    }
   ],
   "source": [
    "diferencia.sum()"
   ]
  },
  {
   "cell_type": "code",
   "execution_count": 17,
   "metadata": {},
   "outputs": [],
   "source": [
    "f0_fe= (f0-fe)"
   ]
  },
  {
   "cell_type": "code",
   "execution_count": 18,
   "metadata": {},
   "outputs": [],
   "source": [
    "f0_fe_2 = f0_fe*f0_fe"
   ]
  },
  {
   "cell_type": "code",
   "execution_count": 19,
   "metadata": {},
   "outputs": [
    {
     "data": {
      "text/plain": [
       "array([1.87177671, 0.7182    , 0.6612    , 3.14988434, 0.32438596,\n",
       "       0.532     , 0.50090072, 0.59344109, 0.68614166, 0.78386049,\n",
       "       0.4028    , 0.3838    , 0.3667    , 0.3515    , 0.3363    ,\n",
       "       0.323     , 0.3116    , 0.3002    , 0.2888    , 0.2793    ,\n",
       "       0.2698    , 0.2622    , 0.2546    , 0.247     , 0.2394    ,\n",
       "       2.54586385, 2.64892176, 0.2204    , 0.2147    , 0.209     ,\n",
       "       0.2033    , 0.1995    , 3.35375872, 0.19      , 0.1862    ,\n",
       "       0.1805    , 3.83600956, 3.95658999, 0.171     , 0.1672    ,\n",
       "       0.1634    , 0.1596    , 0.1577    , 0.1539    , 0.152     ,\n",
       "       0.1482    , 0.1463    , 0.1444    , 0.1406    , 0.1387    ,\n",
       "       0.1368    , 0.1349    , 0.1311    , 0.1292    , 0.1273    ,\n",
       "       0.1254    , 0.1235    , 0.1216    , 0.1197    , 0.1178    ,\n",
       "       0.1178    , 6.7440277 , 6.88592982, 0.1121    , 0.1102    ,\n",
       "       0.1102    , 0.1083    , 0.1064    , 0.1045    , 0.1045    ,\n",
       "       0.1026    , 8.03118659, 0.1007    , 0.0988    , 0.0969    ,\n",
       "       0.0969    , 0.095     , 0.095     , 8.83423856, 0.0931    ,\n",
       "       0.0912    , 0.0893    , 0.0893    , 9.5290476 , 0.0874    ,\n",
       "       0.0855    , 0.0855    , 0.0855    , 0.0836    , 0.0836    ])"
      ]
     },
     "execution_count": 19,
     "metadata": {},
     "output_type": "execute_result"
    }
   ],
   "source": [
    "f0_fe_2_fe=f0_fe_2/fe\n",
    "f0_fe_2_fe"
   ]
  },
  {
   "cell_type": "markdown",
   "metadata": {},
   "source": [
    "# Partido Liberal"
   ]
  },
  {
   "cell_type": "code",
   "execution_count": 20,
   "metadata": {},
   "outputs": [
    {
     "data": {
      "text/plain": [
       "77.95216513120242"
      ]
     },
     "execution_count": 20,
     "metadata": {},
     "output_type": "execute_result"
    }
   ],
   "source": [
    "x_2 = f0_fe_2_fe.sum()\n",
    "x_2 "
   ]
  },
  {
   "cell_type": "code",
   "execution_count": 21,
   "metadata": {},
   "outputs": [],
   "source": [
    "letters = {}\n",
    "\n",
    "for i in range(9,99):\n",
    "    letters[str(i+1)] = 0\n",
    "    \n",
    "list_of_nums = pn\n",
    "for n in list_of_nums:\n",
    "    first_digit = str(n)[0]+str(n)[1]\n",
    "    letters[first_digit] += 1\n",
    "y = [round(val / nfib, 4) for val in letters.values()]\n",
    "fre_relativa = y\n",
    "y = list(letters.values())\n",
    "f0= y\n",
    "x = list(letters.keys())\n",
    "y =  [round(math.log10(1+(1/int(val))), 4) for val in letters.keys()]\n",
    "benford = y"
   ]
  },
  {
   "cell_type": "code",
   "execution_count": 22,
   "metadata": {},
   "outputs": [
    {
     "data": {
      "text/plain": [
       "array([1, 1, 0, 1, 1, 0, 0, 0, 0, 1, 0, 3, 0, 1, 0, 1, 0, 0, 0, 1, 1, 1,\n",
       "       0, 0, 0, 1, 0, 0, 0, 0, 0, 0, 0, 0, 1, 0, 0, 0, 0, 0, 0, 0, 0, 0,\n",
       "       0, 0, 0, 0, 0, 0, 0, 0, 0, 0, 0, 0, 1, 0, 1, 0, 0, 0, 0, 0, 0, 0,\n",
       "       0, 0, 0, 0, 0, 0, 0, 0, 0, 0, 0, 0, 1, 0, 0, 0, 0, 0, 0, 0, 1, 0,\n",
       "       0, 0])"
      ]
     },
     "execution_count": 22,
     "metadata": {},
     "output_type": "execute_result"
    }
   ],
   "source": [
    "f0 = np.array(f0)\n",
    "f0"
   ]
  },
  {
   "cell_type": "code",
   "execution_count": 23,
   "metadata": {},
   "outputs": [
    {
     "data": {
      "text/plain": [
       "array([0.002, 0.002, 0.   , 0.002, 0.002, 0.   , 0.   , 0.   , 0.   ,\n",
       "       0.002, 0.   , 0.006, 0.   , 0.002, 0.   , 0.002, 0.   , 0.   ,\n",
       "       0.   , 0.002, 0.002, 0.002, 0.   , 0.   , 0.   , 0.002, 0.   ,\n",
       "       0.   , 0.   , 0.   , 0.   , 0.   , 0.   , 0.   , 0.002, 0.   ,\n",
       "       0.   , 0.   , 0.   , 0.   , 0.   , 0.   , 0.   , 0.   , 0.   ,\n",
       "       0.   , 0.   , 0.   , 0.   , 0.   , 0.   , 0.   , 0.   , 0.   ,\n",
       "       0.   , 0.   , 0.002, 0.   , 0.002, 0.   , 0.   , 0.   , 0.   ,\n",
       "       0.   , 0.   , 0.   , 0.   , 0.   , 0.   , 0.   , 0.   , 0.   ,\n",
       "       0.   , 0.   , 0.   , 0.   , 0.   , 0.   , 0.002, 0.   , 0.   ,\n",
       "       0.   , 0.   , 0.   , 0.   , 0.   , 0.002, 0.   , 0.   , 0.   ])"
      ]
     },
     "execution_count": 23,
     "metadata": {},
     "output_type": "execute_result"
    }
   ],
   "source": [
    "fre_relativa = np.array(fre_relativa)\n",
    "fre_relativa "
   ]
  },
  {
   "cell_type": "code",
   "execution_count": 24,
   "metadata": {},
   "outputs": [
    {
     "data": {
      "text/plain": [
       "array([0.0414, 0.0378, 0.0348, 0.0322, 0.03  , 0.028 , 0.0263, 0.0248,\n",
       "       0.0235, 0.0223, 0.0212, 0.0202, 0.0193, 0.0185, 0.0177, 0.017 ,\n",
       "       0.0164, 0.0158, 0.0152, 0.0147, 0.0142, 0.0138, 0.0134, 0.013 ,\n",
       "       0.0126, 0.0122, 0.0119, 0.0116, 0.0113, 0.011 , 0.0107, 0.0105,\n",
       "       0.0102, 0.01  , 0.0098, 0.0095, 0.0093, 0.0091, 0.009 , 0.0088,\n",
       "       0.0086, 0.0084, 0.0083, 0.0081, 0.008 , 0.0078, 0.0077, 0.0076,\n",
       "       0.0074, 0.0073, 0.0072, 0.0071, 0.0069, 0.0068, 0.0067, 0.0066,\n",
       "       0.0065, 0.0064, 0.0063, 0.0062, 0.0062, 0.0061, 0.006 , 0.0059,\n",
       "       0.0058, 0.0058, 0.0057, 0.0056, 0.0055, 0.0055, 0.0054, 0.0053,\n",
       "       0.0053, 0.0052, 0.0051, 0.0051, 0.005 , 0.005 , 0.0049, 0.0049,\n",
       "       0.0048, 0.0047, 0.0047, 0.0046, 0.0046, 0.0045, 0.0045, 0.0045,\n",
       "       0.0044, 0.0044])"
      ]
     },
     "execution_count": 24,
     "metadata": {},
     "output_type": "execute_result"
    }
   ],
   "source": [
    "benford = np.array(benford)\n",
    "benford"
   ]
  },
  {
   "cell_type": "code",
   "execution_count": 25,
   "metadata": {},
   "outputs": [
    {
     "data": {
      "text/plain": [
       "19"
      ]
     },
     "execution_count": 25,
     "metadata": {},
     "output_type": "execute_result"
    }
   ],
   "source": [
    "f0_tot=f0.sum()\n",
    "f0_tot"
   ]
  },
  {
   "cell_type": "code",
   "execution_count": 26,
   "metadata": {},
   "outputs": [],
   "source": [
    "fe = benford*f0_tot"
   ]
  },
  {
   "cell_type": "code",
   "execution_count": 27,
   "metadata": {},
   "outputs": [
    {
     "data": {
      "text/plain": [
       "array([0.7866, 0.7182, 0.6612, 0.6118, 0.57  , 0.532 , 0.4997, 0.4712,\n",
       "       0.4465, 0.4237, 0.4028, 0.3838, 0.3667, 0.3515, 0.3363, 0.323 ,\n",
       "       0.3116, 0.3002, 0.2888, 0.2793, 0.2698, 0.2622, 0.2546, 0.247 ,\n",
       "       0.2394, 0.2318, 0.2261, 0.2204, 0.2147, 0.209 , 0.2033, 0.1995,\n",
       "       0.1938, 0.19  , 0.1862, 0.1805, 0.1767, 0.1729, 0.171 , 0.1672,\n",
       "       0.1634, 0.1596, 0.1577, 0.1539, 0.152 , 0.1482, 0.1463, 0.1444,\n",
       "       0.1406, 0.1387, 0.1368, 0.1349, 0.1311, 0.1292, 0.1273, 0.1254,\n",
       "       0.1235, 0.1216, 0.1197, 0.1178, 0.1178, 0.1159, 0.114 , 0.1121,\n",
       "       0.1102, 0.1102, 0.1083, 0.1064, 0.1045, 0.1045, 0.1026, 0.1007,\n",
       "       0.1007, 0.0988, 0.0969, 0.0969, 0.095 , 0.095 , 0.0931, 0.0931,\n",
       "       0.0912, 0.0893, 0.0893, 0.0874, 0.0874, 0.0855, 0.0855, 0.0855,\n",
       "       0.0836, 0.0836])"
      ]
     },
     "execution_count": 27,
     "metadata": {},
     "output_type": "execute_result"
    }
   ],
   "source": [
    "fe "
   ]
  },
  {
   "cell_type": "code",
   "execution_count": 28,
   "metadata": {},
   "outputs": [
    {
     "data": {
      "text/plain": [
       "18.9981"
      ]
     },
     "execution_count": 28,
     "metadata": {},
     "output_type": "execute_result"
    }
   ],
   "source": [
    "fe.sum()"
   ]
  },
  {
   "cell_type": "code",
   "execution_count": 29,
   "metadata": {},
   "outputs": [
    {
     "data": {
      "text/plain": [
       "array([-0.0394, -0.0358, -0.0348, -0.0302, -0.028 , -0.028 , -0.0263,\n",
       "       -0.0248, -0.0235, -0.0203, -0.0212, -0.0142, -0.0193, -0.0165,\n",
       "       -0.0177, -0.015 , -0.0164, -0.0158, -0.0152, -0.0127, -0.0122,\n",
       "       -0.0118, -0.0134, -0.013 , -0.0126, -0.0102, -0.0119, -0.0116,\n",
       "       -0.0113, -0.011 , -0.0107, -0.0105, -0.0102, -0.01  , -0.0078,\n",
       "       -0.0095, -0.0093, -0.0091, -0.009 , -0.0088, -0.0086, -0.0084,\n",
       "       -0.0083, -0.0081, -0.008 , -0.0078, -0.0077, -0.0076, -0.0074,\n",
       "       -0.0073, -0.0072, -0.0071, -0.0069, -0.0068, -0.0067, -0.0066,\n",
       "       -0.0045, -0.0064, -0.0043, -0.0062, -0.0062, -0.0061, -0.006 ,\n",
       "       -0.0059, -0.0058, -0.0058, -0.0057, -0.0056, -0.0055, -0.0055,\n",
       "       -0.0054, -0.0053, -0.0053, -0.0052, -0.0051, -0.0051, -0.005 ,\n",
       "       -0.005 , -0.0029, -0.0049, -0.0048, -0.0047, -0.0047, -0.0046,\n",
       "       -0.0046, -0.0045, -0.0025, -0.0045, -0.0044, -0.0044])"
      ]
     },
     "execution_count": 29,
     "metadata": {},
     "output_type": "execute_result"
    }
   ],
   "source": [
    "diferencia = fre_relativa - benford\n",
    "diferencia "
   ]
  },
  {
   "cell_type": "code",
   "execution_count": 30,
   "metadata": {},
   "outputs": [
    {
     "data": {
      "text/plain": [
       "-0.9619"
      ]
     },
     "execution_count": 30,
     "metadata": {},
     "output_type": "execute_result"
    }
   ],
   "source": [
    "diferencia.sum()"
   ]
  },
  {
   "cell_type": "code",
   "execution_count": 31,
   "metadata": {},
   "outputs": [],
   "source": [
    "f0_fe= (f0-fe)"
   ]
  },
  {
   "cell_type": "code",
   "execution_count": 32,
   "metadata": {},
   "outputs": [],
   "source": [
    "f0_fe_2 = f0_fe*f0_fe"
   ]
  },
  {
   "cell_type": "code",
   "execution_count": 33,
   "metadata": {},
   "outputs": [
    {
     "data": {
      "text/plain": [
       "array([ 0.05789418,  0.11056981,  0.6612    ,  0.24632109,  0.32438596,\n",
       "        0.532     ,  0.4997    ,  0.4712    ,  0.4465    ,  0.78386049,\n",
       "        0.4028    , 17.83351339,  0.3667    ,  1.19645021,  0.3363    ,\n",
       "        1.41897523,  0.3116    ,  0.3002    ,  0.2888    ,  1.85967952,\n",
       "        1.97624922,  2.07608253,  0.2546    ,  0.247     ,  0.2394    ,\n",
       "        2.54586385,  0.2261    ,  0.2204    ,  0.2147    ,  0.209     ,\n",
       "        0.2033    ,  0.1995    ,  0.1938    ,  0.19      ,  3.55676928,\n",
       "        0.1805    ,  0.1767    ,  0.1729    ,  0.171     ,  0.1672    ,\n",
       "        0.1634    ,  0.1596    ,  0.1577    ,  0.1539    ,  0.152     ,\n",
       "        0.1482    ,  0.1463    ,  0.1444    ,  0.1406    ,  0.1387    ,\n",
       "        0.1368    ,  0.1349    ,  0.1311    ,  0.1292    ,  0.1273    ,\n",
       "        0.1254    ,  6.22066599,  0.1216    ,  6.47391888,  0.1178    ,\n",
       "        0.1178    ,  0.1159    ,  0.114     ,  0.1121    ,  0.1102    ,\n",
       "        0.1102    ,  0.1083    ,  0.1064    ,  0.1045    ,  0.1045    ,\n",
       "        0.1026    ,  0.1007    ,  0.1007    ,  0.0988    ,  0.0969    ,\n",
       "        0.0969    ,  0.095     ,  0.095     ,  8.83423856,  0.0931    ,\n",
       "        0.0912    ,  0.0893    ,  0.0893    ,  0.0874    ,  0.0874    ,\n",
       "        0.0855    ,  9.78140643,  0.0855    ,  0.0836    ,  0.0836    ])"
      ]
     },
     "execution_count": 33,
     "metadata": {},
     "output_type": "execute_result"
    }
   ],
   "source": [
    "f0_fe_2_fe=f0_fe_2/fe\n",
    "f0_fe_2_fe"
   ]
  },
  {
   "cell_type": "markdown",
   "metadata": {},
   "source": [
    "# Partido Nacional"
   ]
  },
  {
   "cell_type": "code",
   "execution_count": 34,
   "metadata": {},
   "outputs": [
    {
     "data": {
      "text/plain": [
       "78.475244638659"
      ]
     },
     "execution_count": 34,
     "metadata": {},
     "output_type": "execute_result"
    }
   ],
   "source": [
    "x_2 = f0_fe_2_fe.sum()\n",
    "x_2 "
   ]
  },
  {
   "cell_type": "code",
   "execution_count": 35,
   "metadata": {},
   "outputs": [],
   "source": [
    "letters = {}\n",
    "\n",
    "for i in range(9,99):\n",
    "    letters[str(i+1)] = 0\n",
    "    \n",
    "list_of_nums = pli\n",
    "for n in list_of_nums:\n",
    "    first_digit = str(n)[0]+str(n)[1]\n",
    "    letters[first_digit] += 1\n",
    "y = [round(val / nfib, 4) for val in letters.values()]\n",
    "fre_relativa = y\n",
    "y = list(letters.values())\n",
    "f0= y\n",
    "x = list(letters.keys())\n",
    "y =  [round(math.log10(1+(1/int(val))), 4) for val in letters.keys()]\n",
    "benford = y"
   ]
  },
  {
   "cell_type": "code",
   "execution_count": 36,
   "metadata": {},
   "outputs": [
    {
     "data": {
      "text/plain": [
       "array([0, 1, 0, 1, 1, 0, 0, 2, 0, 2, 0, 0, 1, 0, 0, 0, 1, 0, 0, 0, 0, 0,\n",
       "       1, 0, 0, 0, 0, 0, 0, 1, 0, 0, 0, 0, 0, 0, 0, 0, 0, 1, 0, 0, 0, 0,\n",
       "       0, 0, 1, 0, 1, 0, 0, 0, 0, 0, 0, 1, 0, 1, 0, 0, 0, 0, 0, 0, 0, 0,\n",
       "       0, 0, 0, 0, 0, 0, 1, 1, 0, 0, 0, 0, 0, 0, 0, 0, 0, 1, 0, 0, 0, 0,\n",
       "       0, 0])"
      ]
     },
     "execution_count": 36,
     "metadata": {},
     "output_type": "execute_result"
    }
   ],
   "source": [
    "f0 = np.array(f0)\n",
    "f0"
   ]
  },
  {
   "cell_type": "code",
   "execution_count": 37,
   "metadata": {},
   "outputs": [
    {
     "data": {
      "text/plain": [
       "array([0.   , 0.002, 0.   , 0.002, 0.002, 0.   , 0.   , 0.004, 0.   ,\n",
       "       0.004, 0.   , 0.   , 0.002, 0.   , 0.   , 0.   , 0.002, 0.   ,\n",
       "       0.   , 0.   , 0.   , 0.   , 0.002, 0.   , 0.   , 0.   , 0.   ,\n",
       "       0.   , 0.   , 0.002, 0.   , 0.   , 0.   , 0.   , 0.   , 0.   ,\n",
       "       0.   , 0.   , 0.   , 0.002, 0.   , 0.   , 0.   , 0.   , 0.   ,\n",
       "       0.   , 0.002, 0.   , 0.002, 0.   , 0.   , 0.   , 0.   , 0.   ,\n",
       "       0.   , 0.002, 0.   , 0.002, 0.   , 0.   , 0.   , 0.   , 0.   ,\n",
       "       0.   , 0.   , 0.   , 0.   , 0.   , 0.   , 0.   , 0.   , 0.   ,\n",
       "       0.002, 0.002, 0.   , 0.   , 0.   , 0.   , 0.   , 0.   , 0.   ,\n",
       "       0.   , 0.   , 0.002, 0.   , 0.   , 0.   , 0.   , 0.   , 0.   ])"
      ]
     },
     "execution_count": 37,
     "metadata": {},
     "output_type": "execute_result"
    }
   ],
   "source": [
    "fre_relativa = np.array(fre_relativa)\n",
    "fre_relativa "
   ]
  },
  {
   "cell_type": "code",
   "execution_count": 38,
   "metadata": {},
   "outputs": [
    {
     "data": {
      "text/plain": [
       "array([0.0414, 0.0378, 0.0348, 0.0322, 0.03  , 0.028 , 0.0263, 0.0248,\n",
       "       0.0235, 0.0223, 0.0212, 0.0202, 0.0193, 0.0185, 0.0177, 0.017 ,\n",
       "       0.0164, 0.0158, 0.0152, 0.0147, 0.0142, 0.0138, 0.0134, 0.013 ,\n",
       "       0.0126, 0.0122, 0.0119, 0.0116, 0.0113, 0.011 , 0.0107, 0.0105,\n",
       "       0.0102, 0.01  , 0.0098, 0.0095, 0.0093, 0.0091, 0.009 , 0.0088,\n",
       "       0.0086, 0.0084, 0.0083, 0.0081, 0.008 , 0.0078, 0.0077, 0.0076,\n",
       "       0.0074, 0.0073, 0.0072, 0.0071, 0.0069, 0.0068, 0.0067, 0.0066,\n",
       "       0.0065, 0.0064, 0.0063, 0.0062, 0.0062, 0.0061, 0.006 , 0.0059,\n",
       "       0.0058, 0.0058, 0.0057, 0.0056, 0.0055, 0.0055, 0.0054, 0.0053,\n",
       "       0.0053, 0.0052, 0.0051, 0.0051, 0.005 , 0.005 , 0.0049, 0.0049,\n",
       "       0.0048, 0.0047, 0.0047, 0.0046, 0.0046, 0.0045, 0.0045, 0.0045,\n",
       "       0.0044, 0.0044])"
      ]
     },
     "execution_count": 38,
     "metadata": {},
     "output_type": "execute_result"
    }
   ],
   "source": [
    "benford = np.array(benford)\n",
    "benford"
   ]
  },
  {
   "cell_type": "code",
   "execution_count": 39,
   "metadata": {},
   "outputs": [
    {
     "data": {
      "text/plain": [
       "19"
      ]
     },
     "execution_count": 39,
     "metadata": {},
     "output_type": "execute_result"
    }
   ],
   "source": [
    "f0_tot=f0.sum()\n",
    "f0_tot"
   ]
  },
  {
   "cell_type": "code",
   "execution_count": 40,
   "metadata": {},
   "outputs": [],
   "source": [
    "fe = benford*f0_tot"
   ]
  },
  {
   "cell_type": "code",
   "execution_count": 41,
   "metadata": {},
   "outputs": [
    {
     "data": {
      "text/plain": [
       "array([0.7866, 0.7182, 0.6612, 0.6118, 0.57  , 0.532 , 0.4997, 0.4712,\n",
       "       0.4465, 0.4237, 0.4028, 0.3838, 0.3667, 0.3515, 0.3363, 0.323 ,\n",
       "       0.3116, 0.3002, 0.2888, 0.2793, 0.2698, 0.2622, 0.2546, 0.247 ,\n",
       "       0.2394, 0.2318, 0.2261, 0.2204, 0.2147, 0.209 , 0.2033, 0.1995,\n",
       "       0.1938, 0.19  , 0.1862, 0.1805, 0.1767, 0.1729, 0.171 , 0.1672,\n",
       "       0.1634, 0.1596, 0.1577, 0.1539, 0.152 , 0.1482, 0.1463, 0.1444,\n",
       "       0.1406, 0.1387, 0.1368, 0.1349, 0.1311, 0.1292, 0.1273, 0.1254,\n",
       "       0.1235, 0.1216, 0.1197, 0.1178, 0.1178, 0.1159, 0.114 , 0.1121,\n",
       "       0.1102, 0.1102, 0.1083, 0.1064, 0.1045, 0.1045, 0.1026, 0.1007,\n",
       "       0.1007, 0.0988, 0.0969, 0.0969, 0.095 , 0.095 , 0.0931, 0.0931,\n",
       "       0.0912, 0.0893, 0.0893, 0.0874, 0.0874, 0.0855, 0.0855, 0.0855,\n",
       "       0.0836, 0.0836])"
      ]
     },
     "execution_count": 41,
     "metadata": {},
     "output_type": "execute_result"
    }
   ],
   "source": [
    "fe "
   ]
  },
  {
   "cell_type": "code",
   "execution_count": 42,
   "metadata": {},
   "outputs": [
    {
     "data": {
      "text/plain": [
       "18.9981"
      ]
     },
     "execution_count": 42,
     "metadata": {},
     "output_type": "execute_result"
    }
   ],
   "source": [
    "fe.sum()"
   ]
  },
  {
   "cell_type": "code",
   "execution_count": 43,
   "metadata": {},
   "outputs": [
    {
     "data": {
      "text/plain": [
       "array([-0.0414, -0.0358, -0.0348, -0.0302, -0.028 , -0.028 , -0.0263,\n",
       "       -0.0208, -0.0235, -0.0183, -0.0212, -0.0202, -0.0173, -0.0185,\n",
       "       -0.0177, -0.017 , -0.0144, -0.0158, -0.0152, -0.0147, -0.0142,\n",
       "       -0.0138, -0.0114, -0.013 , -0.0126, -0.0122, -0.0119, -0.0116,\n",
       "       -0.0113, -0.009 , -0.0107, -0.0105, -0.0102, -0.01  , -0.0098,\n",
       "       -0.0095, -0.0093, -0.0091, -0.009 , -0.0068, -0.0086, -0.0084,\n",
       "       -0.0083, -0.0081, -0.008 , -0.0078, -0.0057, -0.0076, -0.0054,\n",
       "       -0.0073, -0.0072, -0.0071, -0.0069, -0.0068, -0.0067, -0.0046,\n",
       "       -0.0065, -0.0044, -0.0063, -0.0062, -0.0062, -0.0061, -0.006 ,\n",
       "       -0.0059, -0.0058, -0.0058, -0.0057, -0.0056, -0.0055, -0.0055,\n",
       "       -0.0054, -0.0053, -0.0033, -0.0032, -0.0051, -0.0051, -0.005 ,\n",
       "       -0.005 , -0.0049, -0.0049, -0.0048, -0.0047, -0.0047, -0.0026,\n",
       "       -0.0046, -0.0045, -0.0045, -0.0045, -0.0044, -0.0044])"
      ]
     },
     "execution_count": 43,
     "metadata": {},
     "output_type": "execute_result"
    }
   ],
   "source": [
    "diferencia = fre_relativa - benford\n",
    "diferencia "
   ]
  },
  {
   "cell_type": "code",
   "execution_count": 44,
   "metadata": {},
   "outputs": [
    {
     "data": {
      "text/plain": [
       "-0.9618999999999999"
      ]
     },
     "execution_count": 44,
     "metadata": {},
     "output_type": "execute_result"
    }
   ],
   "source": [
    "diferencia.sum()"
   ]
  },
  {
   "cell_type": "code",
   "execution_count": 45,
   "metadata": {},
   "outputs": [],
   "source": [
    "f0_fe= (f0-fe)"
   ]
  },
  {
   "cell_type": "code",
   "execution_count": 46,
   "metadata": {},
   "outputs": [],
   "source": [
    "f0_fe_2 = f0_fe*f0_fe"
   ]
  },
  {
   "cell_type": "code",
   "execution_count": 47,
   "metadata": {},
   "outputs": [
    {
     "data": {
      "text/plain": [
       "array([0.7866    , 0.11056981, 0.6612    , 0.24632109, 0.32438596,\n",
       "       0.532     , 0.4997    , 4.96016435, 0.4465    , 5.86434196,\n",
       "       0.4028    , 0.3838    , 1.09372482, 0.3515    , 0.3363    ,\n",
       "       0.323     , 1.52084262, 0.3002    , 0.2888    , 0.2793    ,\n",
       "       0.2698    , 0.2622    , 2.18232977, 0.247     , 0.2394    ,\n",
       "       0.2318    , 0.2261    , 0.2204    , 0.2147    , 2.993689  ,\n",
       "       0.2033    , 0.1995    , 0.1938    , 0.19      , 0.1862    ,\n",
       "       0.1805    , 0.1767    , 0.1729    , 0.171     , 4.14806124,\n",
       "       0.1634    , 0.1596    , 0.1577    , 0.1539    , 0.152     ,\n",
       "       0.1482    , 4.98156999, 0.1444    , 5.25297553, 0.1387    ,\n",
       "       0.1368    , 0.1349    , 0.1311    , 0.1292    , 0.1273    ,\n",
       "       6.09988166, 0.1235    , 6.34528421, 0.1197    , 0.1178    ,\n",
       "       0.1178    , 0.1159    , 0.114     , 0.1121    , 0.1102    ,\n",
       "       0.1102    , 0.1083    , 0.1064    , 0.1045    , 0.1045    ,\n",
       "       0.1026    , 0.1007    , 8.03118659, 8.22025749, 0.0969    ,\n",
       "       0.0969    , 0.095     , 0.095     , 0.0931    , 0.0931    ,\n",
       "       0.0912    , 0.0893    , 0.0893    , 9.5290476 , 0.0874    ,\n",
       "       0.0855    , 0.0855    , 0.0855    , 0.0836    , 0.0836    ])"
      ]
     },
     "execution_count": 47,
     "metadata": {},
     "output_type": "execute_result"
    }
   ],
   "source": [
    "f0_fe_2_fe=f0_fe_2/fe\n",
    "f0_fe_2_fe"
   ]
  },
  {
   "cell_type": "markdown",
   "metadata": {},
   "source": [
    "# Partido Libre"
   ]
  },
  {
   "cell_type": "code",
   "execution_count": 48,
   "metadata": {},
   "outputs": [
    {
     "data": {
      "text/plain": [
       "85.97793369654096"
      ]
     },
     "execution_count": 48,
     "metadata": {},
     "output_type": "execute_result"
    }
   ],
   "source": [
    "x_2 = f0_fe_2_fe.sum()\n",
    "x_2 "
   ]
  },
  {
   "cell_type": "code",
   "execution_count": 49,
   "metadata": {},
   "outputs": [],
   "source": [
    "letters = {}\n",
    "\n",
    "for i in range(9,99):\n",
    "    letters[str(i+1)] = 0\n",
    "    \n",
    "list_of_nums = tot\n",
    "for n in list_of_nums:\n",
    "    first_digit = str(n)[0]+str(n)[1]\n",
    "    letters[first_digit] += 1\n",
    "y = [round(val / nfib, 4) for val in letters.values()]\n",
    "fre_relativa = y\n",
    "y = list(letters.values())\n",
    "f0= y\n",
    "x = list(letters.keys())\n",
    "y =  [round(math.log10(1+(1/int(val))), 4) for val in letters.keys()]\n",
    "benford = y"
   ]
  },
  {
   "cell_type": "code",
   "execution_count": 50,
   "metadata": {},
   "outputs": [
    {
     "data": {
      "text/plain": [
       "array([0, 1, 0, 0, 0, 0, 1, 0, 0, 1, 2, 0, 0, 0, 0, 1, 0, 0, 0, 0, 1, 0,\n",
       "       1, 0, 0, 0, 1, 0, 0, 1, 0, 0, 0, 0, 0, 1, 1, 0, 0, 0, 0, 0, 0, 1,\n",
       "       0, 1, 0, 0, 0, 1, 0, 0, 0, 0, 0, 0, 0, 1, 1, 0, 1, 0, 0, 0, 0, 1,\n",
       "       0, 0, 0, 0, 0, 0, 0, 0, 0, 0, 0, 0, 0, 0, 0, 0, 0, 0, 0, 0, 0, 0,\n",
       "       0, 0])"
      ]
     },
     "execution_count": 50,
     "metadata": {},
     "output_type": "execute_result"
    }
   ],
   "source": [
    "f0 = np.array(f0)\n",
    "f0"
   ]
  },
  {
   "cell_type": "code",
   "execution_count": 51,
   "metadata": {},
   "outputs": [
    {
     "data": {
      "text/plain": [
       "array([0.   , 0.002, 0.   , 0.   , 0.   , 0.   , 0.002, 0.   , 0.   ,\n",
       "       0.002, 0.004, 0.   , 0.   , 0.   , 0.   , 0.002, 0.   , 0.   ,\n",
       "       0.   , 0.   , 0.002, 0.   , 0.002, 0.   , 0.   , 0.   , 0.002,\n",
       "       0.   , 0.   , 0.002, 0.   , 0.   , 0.   , 0.   , 0.   , 0.002,\n",
       "       0.002, 0.   , 0.   , 0.   , 0.   , 0.   , 0.   , 0.002, 0.   ,\n",
       "       0.002, 0.   , 0.   , 0.   , 0.002, 0.   , 0.   , 0.   , 0.   ,\n",
       "       0.   , 0.   , 0.   , 0.002, 0.002, 0.   , 0.002, 0.   , 0.   ,\n",
       "       0.   , 0.   , 0.002, 0.   , 0.   , 0.   , 0.   , 0.   , 0.   ,\n",
       "       0.   , 0.   , 0.   , 0.   , 0.   , 0.   , 0.   , 0.   , 0.   ,\n",
       "       0.   , 0.   , 0.   , 0.   , 0.   , 0.   , 0.   , 0.   , 0.   ])"
      ]
     },
     "execution_count": 51,
     "metadata": {},
     "output_type": "execute_result"
    }
   ],
   "source": [
    "fre_relativa = np.array(fre_relativa)\n",
    "fre_relativa "
   ]
  },
  {
   "cell_type": "code",
   "execution_count": 52,
   "metadata": {},
   "outputs": [
    {
     "data": {
      "text/plain": [
       "array([0.0414, 0.0378, 0.0348, 0.0322, 0.03  , 0.028 , 0.0263, 0.0248,\n",
       "       0.0235, 0.0223, 0.0212, 0.0202, 0.0193, 0.0185, 0.0177, 0.017 ,\n",
       "       0.0164, 0.0158, 0.0152, 0.0147, 0.0142, 0.0138, 0.0134, 0.013 ,\n",
       "       0.0126, 0.0122, 0.0119, 0.0116, 0.0113, 0.011 , 0.0107, 0.0105,\n",
       "       0.0102, 0.01  , 0.0098, 0.0095, 0.0093, 0.0091, 0.009 , 0.0088,\n",
       "       0.0086, 0.0084, 0.0083, 0.0081, 0.008 , 0.0078, 0.0077, 0.0076,\n",
       "       0.0074, 0.0073, 0.0072, 0.0071, 0.0069, 0.0068, 0.0067, 0.0066,\n",
       "       0.0065, 0.0064, 0.0063, 0.0062, 0.0062, 0.0061, 0.006 , 0.0059,\n",
       "       0.0058, 0.0058, 0.0057, 0.0056, 0.0055, 0.0055, 0.0054, 0.0053,\n",
       "       0.0053, 0.0052, 0.0051, 0.0051, 0.005 , 0.005 , 0.0049, 0.0049,\n",
       "       0.0048, 0.0047, 0.0047, 0.0046, 0.0046, 0.0045, 0.0045, 0.0045,\n",
       "       0.0044, 0.0044])"
      ]
     },
     "execution_count": 52,
     "metadata": {},
     "output_type": "execute_result"
    }
   ],
   "source": [
    "benford = np.array(benford)\n",
    "benford"
   ]
  },
  {
   "cell_type": "code",
   "execution_count": 53,
   "metadata": {},
   "outputs": [
    {
     "data": {
      "text/plain": [
       "19"
      ]
     },
     "execution_count": 53,
     "metadata": {},
     "output_type": "execute_result"
    }
   ],
   "source": [
    "f0_tot=f0.sum()\n",
    "f0_tot"
   ]
  },
  {
   "cell_type": "code",
   "execution_count": 54,
   "metadata": {},
   "outputs": [],
   "source": [
    "fe = benford*f0_tot"
   ]
  },
  {
   "cell_type": "code",
   "execution_count": 55,
   "metadata": {},
   "outputs": [
    {
     "data": {
      "text/plain": [
       "array([0.7866, 0.7182, 0.6612, 0.6118, 0.57  , 0.532 , 0.4997, 0.4712,\n",
       "       0.4465, 0.4237, 0.4028, 0.3838, 0.3667, 0.3515, 0.3363, 0.323 ,\n",
       "       0.3116, 0.3002, 0.2888, 0.2793, 0.2698, 0.2622, 0.2546, 0.247 ,\n",
       "       0.2394, 0.2318, 0.2261, 0.2204, 0.2147, 0.209 , 0.2033, 0.1995,\n",
       "       0.1938, 0.19  , 0.1862, 0.1805, 0.1767, 0.1729, 0.171 , 0.1672,\n",
       "       0.1634, 0.1596, 0.1577, 0.1539, 0.152 , 0.1482, 0.1463, 0.1444,\n",
       "       0.1406, 0.1387, 0.1368, 0.1349, 0.1311, 0.1292, 0.1273, 0.1254,\n",
       "       0.1235, 0.1216, 0.1197, 0.1178, 0.1178, 0.1159, 0.114 , 0.1121,\n",
       "       0.1102, 0.1102, 0.1083, 0.1064, 0.1045, 0.1045, 0.1026, 0.1007,\n",
       "       0.1007, 0.0988, 0.0969, 0.0969, 0.095 , 0.095 , 0.0931, 0.0931,\n",
       "       0.0912, 0.0893, 0.0893, 0.0874, 0.0874, 0.0855, 0.0855, 0.0855,\n",
       "       0.0836, 0.0836])"
      ]
     },
     "execution_count": 55,
     "metadata": {},
     "output_type": "execute_result"
    }
   ],
   "source": [
    "fe "
   ]
  },
  {
   "cell_type": "code",
   "execution_count": 56,
   "metadata": {},
   "outputs": [
    {
     "data": {
      "text/plain": [
       "18.9981"
      ]
     },
     "execution_count": 56,
     "metadata": {},
     "output_type": "execute_result"
    }
   ],
   "source": [
    "fe.sum()"
   ]
  },
  {
   "cell_type": "code",
   "execution_count": 57,
   "metadata": {},
   "outputs": [
    {
     "data": {
      "text/plain": [
       "array([-0.0414, -0.0358, -0.0348, -0.0322, -0.03  , -0.028 , -0.0243,\n",
       "       -0.0248, -0.0235, -0.0203, -0.0172, -0.0202, -0.0193, -0.0185,\n",
       "       -0.0177, -0.015 , -0.0164, -0.0158, -0.0152, -0.0147, -0.0122,\n",
       "       -0.0138, -0.0114, -0.013 , -0.0126, -0.0122, -0.0099, -0.0116,\n",
       "       -0.0113, -0.009 , -0.0107, -0.0105, -0.0102, -0.01  , -0.0098,\n",
       "       -0.0075, -0.0073, -0.0091, -0.009 , -0.0088, -0.0086, -0.0084,\n",
       "       -0.0083, -0.0061, -0.008 , -0.0058, -0.0077, -0.0076, -0.0074,\n",
       "       -0.0053, -0.0072, -0.0071, -0.0069, -0.0068, -0.0067, -0.0066,\n",
       "       -0.0065, -0.0044, -0.0043, -0.0062, -0.0042, -0.0061, -0.006 ,\n",
       "       -0.0059, -0.0058, -0.0038, -0.0057, -0.0056, -0.0055, -0.0055,\n",
       "       -0.0054, -0.0053, -0.0053, -0.0052, -0.0051, -0.0051, -0.005 ,\n",
       "       -0.005 , -0.0049, -0.0049, -0.0048, -0.0047, -0.0047, -0.0046,\n",
       "       -0.0046, -0.0045, -0.0045, -0.0045, -0.0044, -0.0044])"
      ]
     },
     "execution_count": 57,
     "metadata": {},
     "output_type": "execute_result"
    }
   ],
   "source": [
    "diferencia = fre_relativa - benford\n",
    "diferencia "
   ]
  },
  {
   "cell_type": "code",
   "execution_count": 58,
   "metadata": {},
   "outputs": [
    {
     "data": {
      "text/plain": [
       "-0.9618999999999999"
      ]
     },
     "execution_count": 58,
     "metadata": {},
     "output_type": "execute_result"
    }
   ],
   "source": [
    "diferencia.sum()"
   ]
  },
  {
   "cell_type": "code",
   "execution_count": 59,
   "metadata": {},
   "outputs": [],
   "source": [
    "f0_fe= (f0-fe)"
   ]
  },
  {
   "cell_type": "code",
   "execution_count": 60,
   "metadata": {},
   "outputs": [],
   "source": [
    "f0_fe_2 = f0_fe*f0_fe"
   ]
  },
  {
   "cell_type": "code",
   "execution_count": 61,
   "metadata": {},
   "outputs": [
    {
     "data": {
      "text/plain": [
       "array([0.7866    , 0.11056981, 0.6612    , 0.6118    , 0.57      ,\n",
       "       0.532     , 0.50090072, 0.4712    , 0.4465    , 0.78386049,\n",
       "       6.33328659, 0.3838    , 0.3667    , 0.3515    , 0.3363    ,\n",
       "       1.41897523, 0.3116    , 0.3002    , 0.2888    , 0.2793    ,\n",
       "       1.97624922, 0.2622    , 2.18232977, 0.247     , 0.2394    ,\n",
       "       0.2318    , 2.64892176, 0.2204    , 0.2147    , 2.993689  ,\n",
       "       0.2033    , 0.1995    , 0.1938    , 0.19      , 0.1862    ,\n",
       "       3.7206662 , 3.83600956, 0.1729    , 0.171     , 0.1672    ,\n",
       "       0.1634    , 0.1596    , 0.1577    , 4.6516258 , 0.152     ,\n",
       "       4.89583833, 0.1463    , 0.1444    , 0.1406    , 5.34850534,\n",
       "       0.1368    , 0.1349    , 0.1311    , 0.1292    , 0.1273    ,\n",
       "       0.1254    , 0.1235    , 6.34528421, 6.47391888, 0.1178    ,\n",
       "       6.60676435, 0.1159    , 0.114     , 0.1121    , 0.1102    ,\n",
       "       7.18461016, 0.1083    , 0.1064    , 0.1045    , 0.1045    ,\n",
       "       0.1026    , 0.1007    , 0.1007    , 0.0988    , 0.0969    ,\n",
       "       0.0969    , 0.095     , 0.095     , 0.0931    , 0.0931    ,\n",
       "       0.0912    , 0.0893    , 0.0893    , 0.0874    , 0.0874    ,\n",
       "       0.0855    , 0.0855    , 0.0855    , 0.0836    , 0.0836    ])"
      ]
     },
     "execution_count": 61,
     "metadata": {},
     "output_type": "execute_result"
    }
   ],
   "source": [
    "f0_fe_2_fe=f0_fe_2/fe\n",
    "f0_fe_2_fe"
   ]
  },
  {
   "cell_type": "markdown",
   "metadata": {},
   "source": [
    "# Total"
   ]
  },
  {
   "cell_type": "code",
   "execution_count": 62,
   "metadata": {},
   "outputs": [
    {
     "data": {
      "text/plain": [
       "82.41590542792753"
      ]
     },
     "execution_count": 62,
     "metadata": {},
     "output_type": "execute_result"
    }
   ],
   "source": [
    "x_2 = f0_fe_2_fe.sum()\n",
    "x_2 "
   ]
  }
 ],
 "metadata": {
  "kernelspec": {
   "display_name": "Python 3",
   "language": "python",
   "name": "python3"
  },
  "language_info": {
   "codemirror_mode": {
    "name": "ipython",
    "version": 3
   },
   "file_extension": ".py",
   "mimetype": "text/x-python",
   "name": "python",
   "nbconvert_exporter": "python",
   "pygments_lexer": "ipython3",
   "version": "3.7.3"
  }
 },
 "nbformat": 4,
 "nbformat_minor": 4
}
