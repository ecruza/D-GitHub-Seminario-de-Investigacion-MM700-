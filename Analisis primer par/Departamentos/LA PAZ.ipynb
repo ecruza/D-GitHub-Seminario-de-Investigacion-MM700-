{
 "cells": [
  {
   "cell_type": "code",
   "execution_count": 1,
   "metadata": {},
   "outputs": [],
   "source": [
    "import matplotlib.pyplot as plt\n",
    "import numpy as np\n",
    "import math\n",
    "import pandas as pd \n",
    "letters = {}\n",
    "\n",
    "for i in range(9,99):\n",
    "    letters[str(i+1)] = 0\n",
    "    \n",
    "\n",
    "nfib = 500"
   ]
  },
  {
   "cell_type": "code",
   "execution_count": 2,
   "metadata": {},
   "outputs": [
    {
     "data": {
      "text/html": [
       "<div>\n",
       "<style scoped>\n",
       "    .dataframe tbody tr th:only-of-type {\n",
       "        vertical-align: middle;\n",
       "    }\n",
       "\n",
       "    .dataframe tbody tr th {\n",
       "        vertical-align: top;\n",
       "    }\n",
       "\n",
       "    .dataframe thead th {\n",
       "        text-align: right;\n",
       "    }\n",
       "</style>\n",
       "<table border=\"1\" class=\"dataframe\">\n",
       "  <thead>\n",
       "    <tr style=\"text-align: right;\">\n",
       "      <th></th>\n",
       "      <th>PL</th>\n",
       "      <th>PN</th>\n",
       "      <th>LIBRE-PINU</th>\n",
       "      <th>TOTAL</th>\n",
       "    </tr>\n",
       "  </thead>\n",
       "  <tbody>\n",
       "    <tr>\n",
       "      <th>0</th>\n",
       "      <td>3274</td>\n",
       "      <td>6600</td>\n",
       "      <td>8141</td>\n",
       "      <td>18099</td>\n",
       "    </tr>\n",
       "    <tr>\n",
       "      <th>1</th>\n",
       "      <td>640</td>\n",
       "      <td>1712</td>\n",
       "      <td>638</td>\n",
       "      <td>3011</td>\n",
       "    </tr>\n",
       "    <tr>\n",
       "      <th>2</th>\n",
       "      <td>191</td>\n",
       "      <td>1165</td>\n",
       "      <td>318</td>\n",
       "      <td>1689</td>\n",
       "    </tr>\n",
       "    <tr>\n",
       "      <th>3</th>\n",
       "      <td>655</td>\n",
       "      <td>573</td>\n",
       "      <td>989</td>\n",
       "      <td>2230</td>\n",
       "    </tr>\n",
       "    <tr>\n",
       "      <th>4</th>\n",
       "      <td>884</td>\n",
       "      <td>1800</td>\n",
       "      <td>668</td>\n",
       "      <td>3380</td>\n",
       "    </tr>\n",
       "    <tr>\n",
       "      <th>5</th>\n",
       "      <td>1956</td>\n",
       "      <td>3534</td>\n",
       "      <td>408</td>\n",
       "      <td>5927</td>\n",
       "    </tr>\n",
       "    <tr>\n",
       "      <th>6</th>\n",
       "      <td>921</td>\n",
       "      <td>602</td>\n",
       "      <td>357</td>\n",
       "      <td>1883</td>\n",
       "    </tr>\n",
       "    <tr>\n",
       "      <th>7</th>\n",
       "      <td>2254</td>\n",
       "      <td>5961</td>\n",
       "      <td>3799</td>\n",
       "      <td>12103</td>\n",
       "    </tr>\n",
       "    <tr>\n",
       "      <th>8</th>\n",
       "      <td>249</td>\n",
       "      <td>421</td>\n",
       "      <td>93</td>\n",
       "      <td>776</td>\n",
       "    </tr>\n",
       "    <tr>\n",
       "      <th>9</th>\n",
       "      <td>1131</td>\n",
       "      <td>2057</td>\n",
       "      <td>709</td>\n",
       "      <td>3921</td>\n",
       "    </tr>\n",
       "    <tr>\n",
       "      <th>10</th>\n",
       "      <td>210</td>\n",
       "      <td>872</td>\n",
       "      <td>305</td>\n",
       "      <td>1397</td>\n",
       "    </tr>\n",
       "    <tr>\n",
       "      <th>11</th>\n",
       "      <td>1183</td>\n",
       "      <td>2018</td>\n",
       "      <td>1098</td>\n",
       "      <td>4331</td>\n",
       "    </tr>\n",
       "    <tr>\n",
       "      <th>12</th>\n",
       "      <td>388</td>\n",
       "      <td>464</td>\n",
       "      <td>277</td>\n",
       "      <td>1145</td>\n",
       "    </tr>\n",
       "    <tr>\n",
       "      <th>13</th>\n",
       "      <td>624</td>\n",
       "      <td>1891</td>\n",
       "      <td>913</td>\n",
       "      <td>3448</td>\n",
       "    </tr>\n",
       "    <tr>\n",
       "      <th>14</th>\n",
       "      <td>1638</td>\n",
       "      <td>2710</td>\n",
       "      <td>444</td>\n",
       "      <td>4835</td>\n",
       "    </tr>\n",
       "    <tr>\n",
       "      <th>15</th>\n",
       "      <td>1031</td>\n",
       "      <td>3145</td>\n",
       "      <td>746</td>\n",
       "      <td>4990</td>\n",
       "    </tr>\n",
       "    <tr>\n",
       "      <th>16</th>\n",
       "      <td>1561</td>\n",
       "      <td>2699</td>\n",
       "      <td>699</td>\n",
       "      <td>5051</td>\n",
       "    </tr>\n",
       "    <tr>\n",
       "      <th>17</th>\n",
       "      <td>2723</td>\n",
       "      <td>4604</td>\n",
       "      <td>1066</td>\n",
       "      <td>8427</td>\n",
       "    </tr>\n",
       "    <tr>\n",
       "      <th>18</th>\n",
       "      <td>845</td>\n",
       "      <td>2714</td>\n",
       "      <td>250</td>\n",
       "      <td>3842</td>\n",
       "    </tr>\n",
       "  </tbody>\n",
       "</table>\n",
       "</div>"
      ],
      "text/plain": [
       "      PL    PN  LIBRE-PINU  TOTAL\n",
       "0   3274  6600        8141  18099\n",
       "1    640  1712         638   3011\n",
       "2    191  1165         318   1689\n",
       "3    655   573         989   2230\n",
       "4    884  1800         668   3380\n",
       "5   1956  3534         408   5927\n",
       "6    921   602         357   1883\n",
       "7   2254  5961        3799  12103\n",
       "8    249   421          93    776\n",
       "9   1131  2057         709   3921\n",
       "10   210   872         305   1397\n",
       "11  1183  2018        1098   4331\n",
       "12   388   464         277   1145\n",
       "13   624  1891         913   3448\n",
       "14  1638  2710         444   4835\n",
       "15  1031  3145         746   4990\n",
       "16  1561  2699         699   5051\n",
       "17  2723  4604        1066   8427\n",
       "18   845  2714         250   3842"
      ]
     },
     "execution_count": 2,
     "metadata": {},
     "output_type": "execute_result"
    }
   ],
   "source": [
    "df = pd.read_csv(\"https://docs.google.com/spreadsheets/d/1CfI-HjqE2wp51lWUJuBH6wSN1l0kQfvq/export?format=csv\")\n",
    "df"
   ]
  },
  {
   "cell_type": "code",
   "execution_count": 3,
   "metadata": {},
   "outputs": [
    {
     "data": {
      "text/plain": [
       "[3274,\n",
       " 640,\n",
       " 191,\n",
       " 655,\n",
       " 884,\n",
       " 1956,\n",
       " 921,\n",
       " 2254,\n",
       " 249,\n",
       " 1131,\n",
       " 210,\n",
       " 1183,\n",
       " 388,\n",
       " 624,\n",
       " 1638,\n",
       " 1031,\n",
       " 1561,\n",
       " 2723,\n",
       " 845]"
      ]
     },
     "execution_count": 3,
     "metadata": {},
     "output_type": "execute_result"
    }
   ],
   "source": [
    "pl = []\n",
    "for i in df['PL']:\n",
    "    pl.append(i)\n",
    "pl"
   ]
  },
  {
   "cell_type": "code",
   "execution_count": 4,
   "metadata": {},
   "outputs": [
    {
     "data": {
      "text/plain": [
       "[6600,\n",
       " 1712,\n",
       " 1165,\n",
       " 573,\n",
       " 1800,\n",
       " 3534,\n",
       " 602,\n",
       " 5961,\n",
       " 421,\n",
       " 2057,\n",
       " 872,\n",
       " 2018,\n",
       " 464,\n",
       " 1891,\n",
       " 2710,\n",
       " 3145,\n",
       " 2699,\n",
       " 4604,\n",
       " 2714]"
      ]
     },
     "execution_count": 4,
     "metadata": {},
     "output_type": "execute_result"
    }
   ],
   "source": [
    "pn = []\n",
    "for i in df['PN']:\n",
    "    pn.append(i)\n",
    "pn"
   ]
  },
  {
   "cell_type": "code",
   "execution_count": 5,
   "metadata": {},
   "outputs": [
    {
     "data": {
      "text/plain": [
       "[8141,\n",
       " 638,\n",
       " 318,\n",
       " 989,\n",
       " 668,\n",
       " 408,\n",
       " 357,\n",
       " 3799,\n",
       " 93,\n",
       " 709,\n",
       " 305,\n",
       " 1098,\n",
       " 277,\n",
       " 913,\n",
       " 444,\n",
       " 746,\n",
       " 699,\n",
       " 1066,\n",
       " 250]"
      ]
     },
     "execution_count": 5,
     "metadata": {},
     "output_type": "execute_result"
    }
   ],
   "source": [
    "pli = []\n",
    "for i in df['LIBRE-PINU']:\n",
    "    pli.append(i)\n",
    "pli"
   ]
  },
  {
   "cell_type": "code",
   "execution_count": 6,
   "metadata": {},
   "outputs": [
    {
     "data": {
      "text/plain": [
       "[18099,\n",
       " 3011,\n",
       " 1689,\n",
       " 2230,\n",
       " 3380,\n",
       " 5927,\n",
       " 1883,\n",
       " 12103,\n",
       " 776,\n",
       " 3921,\n",
       " 1397,\n",
       " 4331,\n",
       " 1145,\n",
       " 3448,\n",
       " 4835,\n",
       " 4990,\n",
       " 5051,\n",
       " 8427,\n",
       " 3842]"
      ]
     },
     "execution_count": 6,
     "metadata": {},
     "output_type": "execute_result"
    }
   ],
   "source": [
    "tot = []\n",
    "for i in df['TOTAL']:\n",
    "    tot.append(i)\n",
    "tot"
   ]
  },
  {
   "cell_type": "code",
   "execution_count": 7,
   "metadata": {},
   "outputs": [],
   "source": [
    "list_of_nums = pl\n",
    "for n in list_of_nums:\n",
    "    first_digit = str(n)[0]+str(n)[1]\n",
    "    letters[first_digit] += 1\n",
    "y = [round(val / nfib, 4) for val in letters.values()]\n",
    "fre_relativa = y\n",
    "y = list(letters.values())\n",
    "f0= y\n",
    "x = list(letters.keys())\n",
    "y =  [round(math.log10(1+(1/int(val))), 4) for val in letters.keys()]\n",
    "benford = y"
   ]
  },
  {
   "cell_type": "code",
   "execution_count": 8,
   "metadata": {},
   "outputs": [
    {
     "data": {
      "text/plain": [
       "array([1, 2, 0, 0, 0, 1, 1, 0, 0, 2, 0, 1, 1, 0, 1, 0, 0, 1, 0, 0, 0, 0,\n",
       "       1, 0, 0, 0, 0, 0, 1, 0, 0, 0, 0, 0, 0, 0, 0, 0, 0, 0, 0, 0, 0, 0,\n",
       "       0, 0, 0, 0, 0, 0, 0, 0, 1, 0, 1, 1, 0, 0, 0, 0, 0, 0, 0, 0, 0, 0,\n",
       "       0, 0, 0, 0, 0, 0, 0, 0, 1, 0, 0, 0, 1, 0, 0, 0, 1, 0, 0, 0, 0, 0,\n",
       "       0, 0])"
      ]
     },
     "execution_count": 8,
     "metadata": {},
     "output_type": "execute_result"
    }
   ],
   "source": [
    "f0 = np.array(f0)\n",
    "f0"
   ]
  },
  {
   "cell_type": "code",
   "execution_count": 9,
   "metadata": {},
   "outputs": [
    {
     "data": {
      "text/plain": [
       "array([0.002, 0.004, 0.   , 0.   , 0.   , 0.002, 0.002, 0.   , 0.   ,\n",
       "       0.004, 0.   , 0.002, 0.002, 0.   , 0.002, 0.   , 0.   , 0.002,\n",
       "       0.   , 0.   , 0.   , 0.   , 0.002, 0.   , 0.   , 0.   , 0.   ,\n",
       "       0.   , 0.002, 0.   , 0.   , 0.   , 0.   , 0.   , 0.   , 0.   ,\n",
       "       0.   , 0.   , 0.   , 0.   , 0.   , 0.   , 0.   , 0.   , 0.   ,\n",
       "       0.   , 0.   , 0.   , 0.   , 0.   , 0.   , 0.   , 0.002, 0.   ,\n",
       "       0.002, 0.002, 0.   , 0.   , 0.   , 0.   , 0.   , 0.   , 0.   ,\n",
       "       0.   , 0.   , 0.   , 0.   , 0.   , 0.   , 0.   , 0.   , 0.   ,\n",
       "       0.   , 0.   , 0.002, 0.   , 0.   , 0.   , 0.002, 0.   , 0.   ,\n",
       "       0.   , 0.002, 0.   , 0.   , 0.   , 0.   , 0.   , 0.   , 0.   ])"
      ]
     },
     "execution_count": 9,
     "metadata": {},
     "output_type": "execute_result"
    }
   ],
   "source": [
    "fre_relativa = np.array(fre_relativa)\n",
    "fre_relativa "
   ]
  },
  {
   "cell_type": "code",
   "execution_count": 10,
   "metadata": {},
   "outputs": [
    {
     "data": {
      "text/plain": [
       "array([0.0414, 0.0378, 0.0348, 0.0322, 0.03  , 0.028 , 0.0263, 0.0248,\n",
       "       0.0235, 0.0223, 0.0212, 0.0202, 0.0193, 0.0185, 0.0177, 0.017 ,\n",
       "       0.0164, 0.0158, 0.0152, 0.0147, 0.0142, 0.0138, 0.0134, 0.013 ,\n",
       "       0.0126, 0.0122, 0.0119, 0.0116, 0.0113, 0.011 , 0.0107, 0.0105,\n",
       "       0.0102, 0.01  , 0.0098, 0.0095, 0.0093, 0.0091, 0.009 , 0.0088,\n",
       "       0.0086, 0.0084, 0.0083, 0.0081, 0.008 , 0.0078, 0.0077, 0.0076,\n",
       "       0.0074, 0.0073, 0.0072, 0.0071, 0.0069, 0.0068, 0.0067, 0.0066,\n",
       "       0.0065, 0.0064, 0.0063, 0.0062, 0.0062, 0.0061, 0.006 , 0.0059,\n",
       "       0.0058, 0.0058, 0.0057, 0.0056, 0.0055, 0.0055, 0.0054, 0.0053,\n",
       "       0.0053, 0.0052, 0.0051, 0.0051, 0.005 , 0.005 , 0.0049, 0.0049,\n",
       "       0.0048, 0.0047, 0.0047, 0.0046, 0.0046, 0.0045, 0.0045, 0.0045,\n",
       "       0.0044, 0.0044])"
      ]
     },
     "execution_count": 10,
     "metadata": {},
     "output_type": "execute_result"
    }
   ],
   "source": [
    "benford = np.array(benford)\n",
    "benford"
   ]
  },
  {
   "cell_type": "code",
   "execution_count": 11,
   "metadata": {},
   "outputs": [
    {
     "data": {
      "text/plain": [
       "19"
      ]
     },
     "execution_count": 11,
     "metadata": {},
     "output_type": "execute_result"
    }
   ],
   "source": [
    "f0_tot=f0.sum()\n",
    "f0_tot"
   ]
  },
  {
   "cell_type": "code",
   "execution_count": 12,
   "metadata": {},
   "outputs": [],
   "source": [
    "fe = benford*f0_tot"
   ]
  },
  {
   "cell_type": "code",
   "execution_count": 13,
   "metadata": {},
   "outputs": [
    {
     "data": {
      "text/plain": [
       "array([0.7866, 0.7182, 0.6612, 0.6118, 0.57  , 0.532 , 0.4997, 0.4712,\n",
       "       0.4465, 0.4237, 0.4028, 0.3838, 0.3667, 0.3515, 0.3363, 0.323 ,\n",
       "       0.3116, 0.3002, 0.2888, 0.2793, 0.2698, 0.2622, 0.2546, 0.247 ,\n",
       "       0.2394, 0.2318, 0.2261, 0.2204, 0.2147, 0.209 , 0.2033, 0.1995,\n",
       "       0.1938, 0.19  , 0.1862, 0.1805, 0.1767, 0.1729, 0.171 , 0.1672,\n",
       "       0.1634, 0.1596, 0.1577, 0.1539, 0.152 , 0.1482, 0.1463, 0.1444,\n",
       "       0.1406, 0.1387, 0.1368, 0.1349, 0.1311, 0.1292, 0.1273, 0.1254,\n",
       "       0.1235, 0.1216, 0.1197, 0.1178, 0.1178, 0.1159, 0.114 , 0.1121,\n",
       "       0.1102, 0.1102, 0.1083, 0.1064, 0.1045, 0.1045, 0.1026, 0.1007,\n",
       "       0.1007, 0.0988, 0.0969, 0.0969, 0.095 , 0.095 , 0.0931, 0.0931,\n",
       "       0.0912, 0.0893, 0.0893, 0.0874, 0.0874, 0.0855, 0.0855, 0.0855,\n",
       "       0.0836, 0.0836])"
      ]
     },
     "execution_count": 13,
     "metadata": {},
     "output_type": "execute_result"
    }
   ],
   "source": [
    "fe "
   ]
  },
  {
   "cell_type": "code",
   "execution_count": 14,
   "metadata": {},
   "outputs": [
    {
     "data": {
      "text/plain": [
       "18.9981"
      ]
     },
     "execution_count": 14,
     "metadata": {},
     "output_type": "execute_result"
    }
   ],
   "source": [
    "fe.sum()"
   ]
  },
  {
   "cell_type": "code",
   "execution_count": 15,
   "metadata": {},
   "outputs": [
    {
     "data": {
      "text/plain": [
       "array([-0.0394, -0.0338, -0.0348, -0.0322, -0.03  , -0.026 , -0.0243,\n",
       "       -0.0248, -0.0235, -0.0183, -0.0212, -0.0182, -0.0173, -0.0185,\n",
       "       -0.0157, -0.017 , -0.0164, -0.0138, -0.0152, -0.0147, -0.0142,\n",
       "       -0.0138, -0.0114, -0.013 , -0.0126, -0.0122, -0.0119, -0.0116,\n",
       "       -0.0093, -0.011 , -0.0107, -0.0105, -0.0102, -0.01  , -0.0098,\n",
       "       -0.0095, -0.0093, -0.0091, -0.009 , -0.0088, -0.0086, -0.0084,\n",
       "       -0.0083, -0.0081, -0.008 , -0.0078, -0.0077, -0.0076, -0.0074,\n",
       "       -0.0073, -0.0072, -0.0071, -0.0049, -0.0068, -0.0047, -0.0046,\n",
       "       -0.0065, -0.0064, -0.0063, -0.0062, -0.0062, -0.0061, -0.006 ,\n",
       "       -0.0059, -0.0058, -0.0058, -0.0057, -0.0056, -0.0055, -0.0055,\n",
       "       -0.0054, -0.0053, -0.0053, -0.0052, -0.0031, -0.0051, -0.005 ,\n",
       "       -0.005 , -0.0029, -0.0049, -0.0048, -0.0047, -0.0027, -0.0046,\n",
       "       -0.0046, -0.0045, -0.0045, -0.0045, -0.0044, -0.0044])"
      ]
     },
     "execution_count": 15,
     "metadata": {},
     "output_type": "execute_result"
    }
   ],
   "source": [
    "diferencia = fre_relativa - benford\n",
    "diferencia "
   ]
  },
  {
   "cell_type": "code",
   "execution_count": 16,
   "metadata": {},
   "outputs": [
    {
     "data": {
      "text/plain": [
       "-0.9619"
      ]
     },
     "execution_count": 16,
     "metadata": {},
     "output_type": "execute_result"
    }
   ],
   "source": [
    "diferencia.sum()"
   ]
  },
  {
   "cell_type": "code",
   "execution_count": 17,
   "metadata": {},
   "outputs": [],
   "source": [
    "f0_fe= (f0-fe)"
   ]
  },
  {
   "cell_type": "code",
   "execution_count": 18,
   "metadata": {},
   "outputs": [],
   "source": [
    "f0_fe_2 = f0_fe*f0_fe"
   ]
  },
  {
   "cell_type": "code",
   "execution_count": 19,
   "metadata": {},
   "outputs": [
    {
     "data": {
      "text/plain": [
       "array([0.05789418, 2.28767925, 0.6612    , 0.6118    , 0.57      ,\n",
       "       0.41169925, 0.50090072, 0.4712    , 0.4465    , 5.86434196,\n",
       "       0.4028    , 0.98932371, 1.09372482, 0.3515    , 1.30983553,\n",
       "       0.323     , 0.3116    , 1.63131259, 0.2888    , 0.2793    ,\n",
       "       0.2698    , 0.2622    , 2.18232977, 0.247     , 0.2394    ,\n",
       "       0.2318    , 0.2261    , 0.2204    , 2.87236185, 0.209     ,\n",
       "       0.2033    , 0.1995    , 0.1938    , 0.19      , 0.1862    ,\n",
       "       0.1805    , 0.1767    , 0.1729    , 0.171     , 0.1672    ,\n",
       "       0.1634    , 0.1596    , 0.1577    , 0.1539    , 0.152     ,\n",
       "       0.1482    , 0.1463    , 0.1444    , 0.1406    , 0.1387    ,\n",
       "       0.1368    , 0.1349    , 5.75886506, 0.1292    , 5.98275954,\n",
       "       6.09988166, 0.1235    , 0.1216    , 0.1197    , 0.1178    ,\n",
       "       0.1178    , 0.1159    , 0.114     , 0.1121    , 0.1102    ,\n",
       "       0.1102    , 0.1083    , 0.1064    , 0.1045    , 0.1045    ,\n",
       "       0.1026    , 0.1007    , 0.1007    , 0.0988    , 8.41681744,\n",
       "       0.0969    , 0.095     , 0.095     , 8.83423856, 0.0931    ,\n",
       "       0.0912    , 0.0893    , 9.28750829, 0.0874    , 0.0874    ,\n",
       "       0.0855    , 0.0855    , 0.0855    , 0.0836    , 0.0836    ])"
      ]
     },
     "execution_count": 19,
     "metadata": {},
     "output_type": "execute_result"
    }
   ],
   "source": [
    "f0_fe_2_fe=f0_fe_2/fe\n",
    "f0_fe_2_fe"
   ]
  },
  {
   "cell_type": "markdown",
   "metadata": {},
   "source": [
    "# Partido Liberal"
   ]
  },
  {
   "cell_type": "code",
   "execution_count": 20,
   "metadata": {},
   "outputs": [
    {
     "data": {
      "text/plain": [
       "77.09997419679003"
      ]
     },
     "execution_count": 20,
     "metadata": {},
     "output_type": "execute_result"
    }
   ],
   "source": [
    "x_2 = f0_fe_2_fe.sum()\n",
    "x_2 "
   ]
  },
  {
   "cell_type": "code",
   "execution_count": 21,
   "metadata": {},
   "outputs": [],
   "source": [
    "letters = {}\n",
    "\n",
    "for i in range(9,99):\n",
    "    letters[str(i+1)] = 0\n",
    "    \n",
    "list_of_nums = pn\n",
    "for n in list_of_nums:\n",
    "    first_digit = str(n)[0]+str(n)[1]\n",
    "    letters[first_digit] += 1\n",
    "y = [round(val / nfib, 4) for val in letters.values()]\n",
    "fre_relativa = y\n",
    "y = list(letters.values())\n",
    "f0= y\n",
    "x = list(letters.keys())\n",
    "y =  [round(math.log10(1+(1/int(val))), 4) for val in letters.keys()]\n",
    "benford = y"
   ]
  },
  {
   "cell_type": "code",
   "execution_count": 22,
   "metadata": {},
   "outputs": [
    {
     "data": {
      "text/plain": [
       "array([0, 1, 0, 0, 0, 0, 0, 1, 2, 0, 2, 0, 0, 0, 0, 0, 1, 2, 0, 0, 0, 1,\n",
       "       0, 0, 0, 1, 0, 0, 0, 0, 0, 0, 1, 0, 0, 0, 2, 0, 0, 0, 0, 0, 0, 0,\n",
       "       0, 0, 0, 1, 0, 1, 1, 0, 0, 0, 0, 0, 1, 0, 0, 0, 0, 0, 0, 0, 0, 0,\n",
       "       0, 0, 0, 0, 0, 0, 0, 0, 0, 0, 0, 1, 0, 0, 0, 0, 0, 0, 0, 0, 0, 0,\n",
       "       0, 0])"
      ]
     },
     "execution_count": 22,
     "metadata": {},
     "output_type": "execute_result"
    }
   ],
   "source": [
    "f0 = np.array(f0)\n",
    "f0"
   ]
  },
  {
   "cell_type": "code",
   "execution_count": 23,
   "metadata": {},
   "outputs": [
    {
     "data": {
      "text/plain": [
       "array([0.   , 0.002, 0.   , 0.   , 0.   , 0.   , 0.   , 0.002, 0.004,\n",
       "       0.   , 0.004, 0.   , 0.   , 0.   , 0.   , 0.   , 0.002, 0.004,\n",
       "       0.   , 0.   , 0.   , 0.002, 0.   , 0.   , 0.   , 0.002, 0.   ,\n",
       "       0.   , 0.   , 0.   , 0.   , 0.   , 0.002, 0.   , 0.   , 0.   ,\n",
       "       0.004, 0.   , 0.   , 0.   , 0.   , 0.   , 0.   , 0.   , 0.   ,\n",
       "       0.   , 0.   , 0.002, 0.   , 0.002, 0.002, 0.   , 0.   , 0.   ,\n",
       "       0.   , 0.   , 0.002, 0.   , 0.   , 0.   , 0.   , 0.   , 0.   ,\n",
       "       0.   , 0.   , 0.   , 0.   , 0.   , 0.   , 0.   , 0.   , 0.   ,\n",
       "       0.   , 0.   , 0.   , 0.   , 0.   , 0.002, 0.   , 0.   , 0.   ,\n",
       "       0.   , 0.   , 0.   , 0.   , 0.   , 0.   , 0.   , 0.   , 0.   ])"
      ]
     },
     "execution_count": 23,
     "metadata": {},
     "output_type": "execute_result"
    }
   ],
   "source": [
    "fre_relativa = np.array(fre_relativa)\n",
    "fre_relativa "
   ]
  },
  {
   "cell_type": "code",
   "execution_count": 24,
   "metadata": {},
   "outputs": [
    {
     "data": {
      "text/plain": [
       "array([0.0414, 0.0378, 0.0348, 0.0322, 0.03  , 0.028 , 0.0263, 0.0248,\n",
       "       0.0235, 0.0223, 0.0212, 0.0202, 0.0193, 0.0185, 0.0177, 0.017 ,\n",
       "       0.0164, 0.0158, 0.0152, 0.0147, 0.0142, 0.0138, 0.0134, 0.013 ,\n",
       "       0.0126, 0.0122, 0.0119, 0.0116, 0.0113, 0.011 , 0.0107, 0.0105,\n",
       "       0.0102, 0.01  , 0.0098, 0.0095, 0.0093, 0.0091, 0.009 , 0.0088,\n",
       "       0.0086, 0.0084, 0.0083, 0.0081, 0.008 , 0.0078, 0.0077, 0.0076,\n",
       "       0.0074, 0.0073, 0.0072, 0.0071, 0.0069, 0.0068, 0.0067, 0.0066,\n",
       "       0.0065, 0.0064, 0.0063, 0.0062, 0.0062, 0.0061, 0.006 , 0.0059,\n",
       "       0.0058, 0.0058, 0.0057, 0.0056, 0.0055, 0.0055, 0.0054, 0.0053,\n",
       "       0.0053, 0.0052, 0.0051, 0.0051, 0.005 , 0.005 , 0.0049, 0.0049,\n",
       "       0.0048, 0.0047, 0.0047, 0.0046, 0.0046, 0.0045, 0.0045, 0.0045,\n",
       "       0.0044, 0.0044])"
      ]
     },
     "execution_count": 24,
     "metadata": {},
     "output_type": "execute_result"
    }
   ],
   "source": [
    "benford = np.array(benford)\n",
    "benford"
   ]
  },
  {
   "cell_type": "code",
   "execution_count": 25,
   "metadata": {},
   "outputs": [
    {
     "data": {
      "text/plain": [
       "19"
      ]
     },
     "execution_count": 25,
     "metadata": {},
     "output_type": "execute_result"
    }
   ],
   "source": [
    "f0_tot=f0.sum()\n",
    "f0_tot"
   ]
  },
  {
   "cell_type": "code",
   "execution_count": 26,
   "metadata": {},
   "outputs": [],
   "source": [
    "fe = benford*f0_tot"
   ]
  },
  {
   "cell_type": "code",
   "execution_count": 27,
   "metadata": {},
   "outputs": [
    {
     "data": {
      "text/plain": [
       "array([0.7866, 0.7182, 0.6612, 0.6118, 0.57  , 0.532 , 0.4997, 0.4712,\n",
       "       0.4465, 0.4237, 0.4028, 0.3838, 0.3667, 0.3515, 0.3363, 0.323 ,\n",
       "       0.3116, 0.3002, 0.2888, 0.2793, 0.2698, 0.2622, 0.2546, 0.247 ,\n",
       "       0.2394, 0.2318, 0.2261, 0.2204, 0.2147, 0.209 , 0.2033, 0.1995,\n",
       "       0.1938, 0.19  , 0.1862, 0.1805, 0.1767, 0.1729, 0.171 , 0.1672,\n",
       "       0.1634, 0.1596, 0.1577, 0.1539, 0.152 , 0.1482, 0.1463, 0.1444,\n",
       "       0.1406, 0.1387, 0.1368, 0.1349, 0.1311, 0.1292, 0.1273, 0.1254,\n",
       "       0.1235, 0.1216, 0.1197, 0.1178, 0.1178, 0.1159, 0.114 , 0.1121,\n",
       "       0.1102, 0.1102, 0.1083, 0.1064, 0.1045, 0.1045, 0.1026, 0.1007,\n",
       "       0.1007, 0.0988, 0.0969, 0.0969, 0.095 , 0.095 , 0.0931, 0.0931,\n",
       "       0.0912, 0.0893, 0.0893, 0.0874, 0.0874, 0.0855, 0.0855, 0.0855,\n",
       "       0.0836, 0.0836])"
      ]
     },
     "execution_count": 27,
     "metadata": {},
     "output_type": "execute_result"
    }
   ],
   "source": [
    "fe "
   ]
  },
  {
   "cell_type": "code",
   "execution_count": 28,
   "metadata": {},
   "outputs": [
    {
     "data": {
      "text/plain": [
       "18.9981"
      ]
     },
     "execution_count": 28,
     "metadata": {},
     "output_type": "execute_result"
    }
   ],
   "source": [
    "fe.sum()"
   ]
  },
  {
   "cell_type": "code",
   "execution_count": 29,
   "metadata": {},
   "outputs": [
    {
     "data": {
      "text/plain": [
       "array([-0.0414, -0.0358, -0.0348, -0.0322, -0.03  , -0.028 , -0.0263,\n",
       "       -0.0228, -0.0195, -0.0223, -0.0172, -0.0202, -0.0193, -0.0185,\n",
       "       -0.0177, -0.017 , -0.0144, -0.0118, -0.0152, -0.0147, -0.0142,\n",
       "       -0.0118, -0.0134, -0.013 , -0.0126, -0.0102, -0.0119, -0.0116,\n",
       "       -0.0113, -0.011 , -0.0107, -0.0105, -0.0082, -0.01  , -0.0098,\n",
       "       -0.0095, -0.0053, -0.0091, -0.009 , -0.0088, -0.0086, -0.0084,\n",
       "       -0.0083, -0.0081, -0.008 , -0.0078, -0.0077, -0.0056, -0.0074,\n",
       "       -0.0053, -0.0052, -0.0071, -0.0069, -0.0068, -0.0067, -0.0066,\n",
       "       -0.0045, -0.0064, -0.0063, -0.0062, -0.0062, -0.0061, -0.006 ,\n",
       "       -0.0059, -0.0058, -0.0058, -0.0057, -0.0056, -0.0055, -0.0055,\n",
       "       -0.0054, -0.0053, -0.0053, -0.0052, -0.0051, -0.0051, -0.005 ,\n",
       "       -0.003 , -0.0049, -0.0049, -0.0048, -0.0047, -0.0047, -0.0046,\n",
       "       -0.0046, -0.0045, -0.0045, -0.0045, -0.0044, -0.0044])"
      ]
     },
     "execution_count": 29,
     "metadata": {},
     "output_type": "execute_result"
    }
   ],
   "source": [
    "diferencia = fre_relativa - benford\n",
    "diferencia "
   ]
  },
  {
   "cell_type": "code",
   "execution_count": 30,
   "metadata": {},
   "outputs": [
    {
     "data": {
      "text/plain": [
       "-0.9619"
      ]
     },
     "execution_count": 30,
     "metadata": {},
     "output_type": "execute_result"
    }
   ],
   "source": [
    "diferencia.sum()"
   ]
  },
  {
   "cell_type": "code",
   "execution_count": 31,
   "metadata": {},
   "outputs": [],
   "source": [
    "f0_fe= (f0-fe)"
   ]
  },
  {
   "cell_type": "code",
   "execution_count": 32,
   "metadata": {},
   "outputs": [],
   "source": [
    "f0_fe_2 = f0_fe*f0_fe"
   ]
  },
  {
   "cell_type": "code",
   "execution_count": 33,
   "metadata": {},
   "outputs": [
    {
     "data": {
      "text/plain": [
       "array([ 0.7866    ,  0.11056981,  0.6612    ,  0.6118    ,  0.57      ,\n",
       "        0.532     ,  0.4997    ,  0.59344109,  5.40506663,  0.4237    ,\n",
       "        6.33328659,  0.3838    ,  0.3667    ,  0.3515    ,  0.3363    ,\n",
       "        0.323     ,  1.52084262,  9.62465037,  0.2888    ,  0.2793    ,\n",
       "        0.2698    ,  2.07608253,  0.2546    ,  0.247     ,  0.2394    ,\n",
       "        2.54586385,  0.2261    ,  0.2204    ,  0.2147    ,  0.209     ,\n",
       "        0.2033    ,  0.1995    ,  3.35375872,  0.19      ,  0.1862    ,\n",
       "        0.1805    , 18.81393826,  0.1729    ,  0.171     ,  0.1672    ,\n",
       "        0.1634    ,  0.1596    ,  0.1577    ,  0.1539    ,  0.152     ,\n",
       "        0.1482    ,  0.1463    ,  5.06960776,  0.1406    ,  5.34850534,\n",
       "        5.44674152,  0.1349    ,  0.1311    ,  0.1292    ,  0.1273    ,\n",
       "        0.1254    ,  6.22066599,  0.1216    ,  0.1197    ,  0.1178    ,\n",
       "        0.1178    ,  0.1159    ,  0.114     ,  0.1121    ,  0.1102    ,\n",
       "        0.1102    ,  0.1083    ,  0.1064    ,  0.1045    ,  0.1045    ,\n",
       "        0.1026    ,  0.1007    ,  0.1007    ,  0.0988    ,  0.0969    ,\n",
       "        0.0969    ,  0.095     ,  8.62131579,  0.0931    ,  0.0931    ,\n",
       "        0.0912    ,  0.0893    ,  0.0893    ,  0.0874    ,  0.0874    ,\n",
       "        0.0855    ,  0.0855    ,  0.0855    ,  0.0836    ,  0.0836    ])"
      ]
     },
     "execution_count": 33,
     "metadata": {},
     "output_type": "execute_result"
    }
   ],
   "source": [
    "f0_fe_2_fe=f0_fe_2/fe\n",
    "f0_fe_2_fe"
   ]
  },
  {
   "cell_type": "markdown",
   "metadata": {},
   "source": [
    "# Partido Nacional"
   ]
  },
  {
   "cell_type": "code",
   "execution_count": 34,
   "metadata": {},
   "outputs": [
    {
     "data": {
      "text/plain": [
       "95.92903685951548"
      ]
     },
     "execution_count": 34,
     "metadata": {},
     "output_type": "execute_result"
    }
   ],
   "source": [
    "x_2 = f0_fe_2_fe.sum()\n",
    "x_2 "
   ]
  },
  {
   "cell_type": "code",
   "execution_count": 35,
   "metadata": {},
   "outputs": [],
   "source": [
    "letters = {}\n",
    "\n",
    "for i in range(9,99):\n",
    "    letters[str(i+1)] = 0\n",
    "    \n",
    "list_of_nums = pli\n",
    "for n in list_of_nums:\n",
    "    first_digit = str(n)[0]+str(n)[1]\n",
    "    letters[first_digit] += 1\n",
    "y = [round(val / nfib, 4) for val in letters.values()]\n",
    "fre_relativa = y\n",
    "y = list(letters.values())\n",
    "f0= y\n",
    "x = list(letters.keys())\n",
    "y =  [round(math.log10(1+(1/int(val))), 4) for val in letters.keys()]\n",
    "benford = y"
   ]
  },
  {
   "cell_type": "code",
   "execution_count": 36,
   "metadata": {},
   "outputs": [
    {
     "data": {
      "text/plain": [
       "array([2, 0, 0, 0, 0, 0, 0, 0, 0, 0, 0, 0, 0, 0, 0, 1, 0, 1, 0, 0, 1, 1,\n",
       "       0, 0, 0, 1, 0, 1, 0, 0, 1, 0, 0, 0, 1, 0, 0, 0, 0, 0, 0, 0, 0, 0,\n",
       "       0, 0, 0, 0, 0, 0, 0, 0, 0, 1, 0, 0, 1, 0, 0, 1, 1, 0, 0, 0, 1, 0,\n",
       "       0, 0, 0, 0, 0, 1, 0, 0, 0, 0, 0, 0, 0, 0, 0, 1, 0, 1, 0, 0, 0, 0,\n",
       "       1, 0])"
      ]
     },
     "execution_count": 36,
     "metadata": {},
     "output_type": "execute_result"
    }
   ],
   "source": [
    "f0 = np.array(f0)\n",
    "f0"
   ]
  },
  {
   "cell_type": "code",
   "execution_count": 37,
   "metadata": {},
   "outputs": [
    {
     "data": {
      "text/plain": [
       "array([0.004, 0.   , 0.   , 0.   , 0.   , 0.   , 0.   , 0.   , 0.   ,\n",
       "       0.   , 0.   , 0.   , 0.   , 0.   , 0.   , 0.002, 0.   , 0.002,\n",
       "       0.   , 0.   , 0.002, 0.002, 0.   , 0.   , 0.   , 0.002, 0.   ,\n",
       "       0.002, 0.   , 0.   , 0.002, 0.   , 0.   , 0.   , 0.002, 0.   ,\n",
       "       0.   , 0.   , 0.   , 0.   , 0.   , 0.   , 0.   , 0.   , 0.   ,\n",
       "       0.   , 0.   , 0.   , 0.   , 0.   , 0.   , 0.   , 0.   , 0.002,\n",
       "       0.   , 0.   , 0.002, 0.   , 0.   , 0.002, 0.002, 0.   , 0.   ,\n",
       "       0.   , 0.002, 0.   , 0.   , 0.   , 0.   , 0.   , 0.   , 0.002,\n",
       "       0.   , 0.   , 0.   , 0.   , 0.   , 0.   , 0.   , 0.   , 0.   ,\n",
       "       0.002, 0.   , 0.002, 0.   , 0.   , 0.   , 0.   , 0.002, 0.   ])"
      ]
     },
     "execution_count": 37,
     "metadata": {},
     "output_type": "execute_result"
    }
   ],
   "source": [
    "fre_relativa = np.array(fre_relativa)\n",
    "fre_relativa "
   ]
  },
  {
   "cell_type": "code",
   "execution_count": 38,
   "metadata": {},
   "outputs": [
    {
     "data": {
      "text/plain": [
       "array([0.0414, 0.0378, 0.0348, 0.0322, 0.03  , 0.028 , 0.0263, 0.0248,\n",
       "       0.0235, 0.0223, 0.0212, 0.0202, 0.0193, 0.0185, 0.0177, 0.017 ,\n",
       "       0.0164, 0.0158, 0.0152, 0.0147, 0.0142, 0.0138, 0.0134, 0.013 ,\n",
       "       0.0126, 0.0122, 0.0119, 0.0116, 0.0113, 0.011 , 0.0107, 0.0105,\n",
       "       0.0102, 0.01  , 0.0098, 0.0095, 0.0093, 0.0091, 0.009 , 0.0088,\n",
       "       0.0086, 0.0084, 0.0083, 0.0081, 0.008 , 0.0078, 0.0077, 0.0076,\n",
       "       0.0074, 0.0073, 0.0072, 0.0071, 0.0069, 0.0068, 0.0067, 0.0066,\n",
       "       0.0065, 0.0064, 0.0063, 0.0062, 0.0062, 0.0061, 0.006 , 0.0059,\n",
       "       0.0058, 0.0058, 0.0057, 0.0056, 0.0055, 0.0055, 0.0054, 0.0053,\n",
       "       0.0053, 0.0052, 0.0051, 0.0051, 0.005 , 0.005 , 0.0049, 0.0049,\n",
       "       0.0048, 0.0047, 0.0047, 0.0046, 0.0046, 0.0045, 0.0045, 0.0045,\n",
       "       0.0044, 0.0044])"
      ]
     },
     "execution_count": 38,
     "metadata": {},
     "output_type": "execute_result"
    }
   ],
   "source": [
    "benford = np.array(benford)\n",
    "benford"
   ]
  },
  {
   "cell_type": "code",
   "execution_count": 39,
   "metadata": {},
   "outputs": [
    {
     "data": {
      "text/plain": [
       "19"
      ]
     },
     "execution_count": 39,
     "metadata": {},
     "output_type": "execute_result"
    }
   ],
   "source": [
    "f0_tot=f0.sum()\n",
    "f0_tot"
   ]
  },
  {
   "cell_type": "code",
   "execution_count": 40,
   "metadata": {},
   "outputs": [],
   "source": [
    "fe = benford*f0_tot"
   ]
  },
  {
   "cell_type": "code",
   "execution_count": 41,
   "metadata": {},
   "outputs": [
    {
     "data": {
      "text/plain": [
       "array([0.7866, 0.7182, 0.6612, 0.6118, 0.57  , 0.532 , 0.4997, 0.4712,\n",
       "       0.4465, 0.4237, 0.4028, 0.3838, 0.3667, 0.3515, 0.3363, 0.323 ,\n",
       "       0.3116, 0.3002, 0.2888, 0.2793, 0.2698, 0.2622, 0.2546, 0.247 ,\n",
       "       0.2394, 0.2318, 0.2261, 0.2204, 0.2147, 0.209 , 0.2033, 0.1995,\n",
       "       0.1938, 0.19  , 0.1862, 0.1805, 0.1767, 0.1729, 0.171 , 0.1672,\n",
       "       0.1634, 0.1596, 0.1577, 0.1539, 0.152 , 0.1482, 0.1463, 0.1444,\n",
       "       0.1406, 0.1387, 0.1368, 0.1349, 0.1311, 0.1292, 0.1273, 0.1254,\n",
       "       0.1235, 0.1216, 0.1197, 0.1178, 0.1178, 0.1159, 0.114 , 0.1121,\n",
       "       0.1102, 0.1102, 0.1083, 0.1064, 0.1045, 0.1045, 0.1026, 0.1007,\n",
       "       0.1007, 0.0988, 0.0969, 0.0969, 0.095 , 0.095 , 0.0931, 0.0931,\n",
       "       0.0912, 0.0893, 0.0893, 0.0874, 0.0874, 0.0855, 0.0855, 0.0855,\n",
       "       0.0836, 0.0836])"
      ]
     },
     "execution_count": 41,
     "metadata": {},
     "output_type": "execute_result"
    }
   ],
   "source": [
    "fe "
   ]
  },
  {
   "cell_type": "code",
   "execution_count": 42,
   "metadata": {},
   "outputs": [
    {
     "data": {
      "text/plain": [
       "18.9981"
      ]
     },
     "execution_count": 42,
     "metadata": {},
     "output_type": "execute_result"
    }
   ],
   "source": [
    "fe.sum()"
   ]
  },
  {
   "cell_type": "code",
   "execution_count": 43,
   "metadata": {},
   "outputs": [
    {
     "data": {
      "text/plain": [
       "array([-0.0374, -0.0378, -0.0348, -0.0322, -0.03  , -0.028 , -0.0263,\n",
       "       -0.0248, -0.0235, -0.0223, -0.0212, -0.0202, -0.0193, -0.0185,\n",
       "       -0.0177, -0.015 , -0.0164, -0.0138, -0.0152, -0.0147, -0.0122,\n",
       "       -0.0118, -0.0134, -0.013 , -0.0126, -0.0102, -0.0119, -0.0096,\n",
       "       -0.0113, -0.011 , -0.0087, -0.0105, -0.0102, -0.01  , -0.0078,\n",
       "       -0.0095, -0.0093, -0.0091, -0.009 , -0.0088, -0.0086, -0.0084,\n",
       "       -0.0083, -0.0081, -0.008 , -0.0078, -0.0077, -0.0076, -0.0074,\n",
       "       -0.0073, -0.0072, -0.0071, -0.0069, -0.0048, -0.0067, -0.0066,\n",
       "       -0.0045, -0.0064, -0.0063, -0.0042, -0.0042, -0.0061, -0.006 ,\n",
       "       -0.0059, -0.0038, -0.0058, -0.0057, -0.0056, -0.0055, -0.0055,\n",
       "       -0.0054, -0.0033, -0.0053, -0.0052, -0.0051, -0.0051, -0.005 ,\n",
       "       -0.005 , -0.0049, -0.0049, -0.0048, -0.0027, -0.0047, -0.0026,\n",
       "       -0.0046, -0.0045, -0.0045, -0.0045, -0.0024, -0.0044])"
      ]
     },
     "execution_count": 43,
     "metadata": {},
     "output_type": "execute_result"
    }
   ],
   "source": [
    "diferencia = fre_relativa - benford\n",
    "diferencia "
   ]
  },
  {
   "cell_type": "code",
   "execution_count": 44,
   "metadata": {},
   "outputs": [
    {
     "data": {
      "text/plain": [
       "-0.9619"
      ]
     },
     "execution_count": 44,
     "metadata": {},
     "output_type": "execute_result"
    }
   ],
   "source": [
    "diferencia.sum()"
   ]
  },
  {
   "cell_type": "code",
   "execution_count": 45,
   "metadata": {},
   "outputs": [],
   "source": [
    "f0_fe= (f0-fe)"
   ]
  },
  {
   "cell_type": "code",
   "execution_count": 46,
   "metadata": {},
   "outputs": [],
   "source": [
    "f0_fe_2 = f0_fe*f0_fe"
   ]
  },
  {
   "cell_type": "code",
   "execution_count": 47,
   "metadata": {},
   "outputs": [
    {
     "data": {
      "text/plain": [
       "array([ 1.87177671,  0.7182    ,  0.6612    ,  0.6118    ,  0.57      ,\n",
       "        0.532     ,  0.4997    ,  0.4712    ,  0.4465    ,  0.4237    ,\n",
       "        0.4028    ,  0.3838    ,  0.3667    ,  0.3515    ,  0.3363    ,\n",
       "        1.41897523,  0.3116    ,  1.63131259,  0.2888    ,  0.2793    ,\n",
       "        1.97624922,  2.07608253,  0.2546    ,  0.247     ,  0.2394    ,\n",
       "        2.54586385,  0.2261    ,  2.75760508,  0.2147    ,  0.209     ,\n",
       "        3.12213915,  0.1995    ,  0.1938    ,  0.19      ,  3.55676928,\n",
       "        0.1805    ,  0.1767    ,  0.1729    ,  0.171     ,  0.1672    ,\n",
       "        0.1634    ,  0.1596    ,  0.1577    ,  0.1539    ,  0.152     ,\n",
       "        0.1482    ,  0.1463    ,  0.1444    ,  0.1406    ,  0.1387    ,\n",
       "        0.1368    ,  0.1349    ,  0.1311    ,  5.86913808,  0.1273    ,\n",
       "        0.1254    ,  6.22066599,  0.1216    ,  0.1197    ,  6.60676435,\n",
       "        6.60676435,  0.1159    ,  0.114     ,  0.1121    ,  7.18461016,\n",
       "        0.1102    ,  0.1083    ,  0.1064    ,  0.1045    ,  0.1045    ,\n",
       "        0.1026    ,  8.03118659,  0.1007    ,  0.0988    ,  0.0969    ,\n",
       "        0.0969    ,  0.095     ,  0.095     ,  0.0931    ,  0.0931    ,\n",
       "        0.0912    ,  9.28750829,  0.0893    ,  9.5290476 ,  0.0874    ,\n",
       "        0.0855    ,  0.0855    ,  0.0855    , 10.04532249,  0.0836    ])"
      ]
     },
     "execution_count": 47,
     "metadata": {},
     "output_type": "execute_result"
    }
   ],
   "source": [
    "f0_fe_2_fe=f0_fe_2/fe\n",
    "f0_fe_2_fe"
   ]
  },
  {
   "cell_type": "markdown",
   "metadata": {},
   "source": [
    "# Partido Libre"
   ]
  },
  {
   "cell_type": "code",
   "execution_count": 48,
   "metadata": {},
   "outputs": [
    {
     "data": {
      "text/plain": [
       "105.59288154612267"
      ]
     },
     "execution_count": 48,
     "metadata": {},
     "output_type": "execute_result"
    }
   ],
   "source": [
    "x_2 = f0_fe_2_fe.sum()\n",
    "x_2 "
   ]
  },
  {
   "cell_type": "code",
   "execution_count": 49,
   "metadata": {},
   "outputs": [],
   "source": [
    "letters = {}\n",
    "\n",
    "for i in range(9,99):\n",
    "    letters[str(i+1)] = 0\n",
    "    \n",
    "list_of_nums = tot\n",
    "for n in list_of_nums:\n",
    "    first_digit = str(n)[0]+str(n)[1]\n",
    "    letters[first_digit] += 1\n",
    "y = [round(val / nfib, 4) for val in letters.values()]\n",
    "fre_relativa = y\n",
    "y = list(letters.values())\n",
    "f0= y\n",
    "x = list(letters.keys())\n",
    "y =  [round(math.log10(1+(1/int(val))), 4) for val in letters.keys()]\n",
    "benford = y"
   ]
  },
  {
   "cell_type": "code",
   "execution_count": 50,
   "metadata": {},
   "outputs": [
    {
     "data": {
      "text/plain": [
       "array([0, 1, 1, 1, 0, 0, 1, 0, 2, 0, 0, 0, 1, 0, 0, 0, 0, 0, 0, 0, 1, 0,\n",
       "       0, 1, 1, 0, 0, 0, 1, 1, 0, 0, 0, 1, 0, 0, 0, 0, 1, 1, 1, 0, 0, 0,\n",
       "       0, 0, 0, 0, 0, 1, 0, 0, 0, 0, 0, 0, 0, 0, 0, 0, 0, 0, 0, 0, 0, 0,\n",
       "       0, 1, 0, 0, 0, 0, 0, 0, 1, 0, 0, 0, 0, 0, 0, 0, 0, 0, 0, 0, 0, 0,\n",
       "       0, 0])"
      ]
     },
     "execution_count": 50,
     "metadata": {},
     "output_type": "execute_result"
    }
   ],
   "source": [
    "f0 = np.array(f0)\n",
    "f0"
   ]
  },
  {
   "cell_type": "code",
   "execution_count": 51,
   "metadata": {},
   "outputs": [
    {
     "data": {
      "text/plain": [
       "array([0.   , 0.002, 0.002, 0.002, 0.   , 0.   , 0.002, 0.   , 0.004,\n",
       "       0.   , 0.   , 0.   , 0.002, 0.   , 0.   , 0.   , 0.   , 0.   ,\n",
       "       0.   , 0.   , 0.002, 0.   , 0.   , 0.002, 0.002, 0.   , 0.   ,\n",
       "       0.   , 0.002, 0.002, 0.   , 0.   , 0.   , 0.002, 0.   , 0.   ,\n",
       "       0.   , 0.   , 0.002, 0.002, 0.002, 0.   , 0.   , 0.   , 0.   ,\n",
       "       0.   , 0.   , 0.   , 0.   , 0.002, 0.   , 0.   , 0.   , 0.   ,\n",
       "       0.   , 0.   , 0.   , 0.   , 0.   , 0.   , 0.   , 0.   , 0.   ,\n",
       "       0.   , 0.   , 0.   , 0.   , 0.002, 0.   , 0.   , 0.   , 0.   ,\n",
       "       0.   , 0.   , 0.002, 0.   , 0.   , 0.   , 0.   , 0.   , 0.   ,\n",
       "       0.   , 0.   , 0.   , 0.   , 0.   , 0.   , 0.   , 0.   , 0.   ])"
      ]
     },
     "execution_count": 51,
     "metadata": {},
     "output_type": "execute_result"
    }
   ],
   "source": [
    "fre_relativa = np.array(fre_relativa)\n",
    "fre_relativa "
   ]
  },
  {
   "cell_type": "code",
   "execution_count": 52,
   "metadata": {},
   "outputs": [
    {
     "data": {
      "text/plain": [
       "array([0.0414, 0.0378, 0.0348, 0.0322, 0.03  , 0.028 , 0.0263, 0.0248,\n",
       "       0.0235, 0.0223, 0.0212, 0.0202, 0.0193, 0.0185, 0.0177, 0.017 ,\n",
       "       0.0164, 0.0158, 0.0152, 0.0147, 0.0142, 0.0138, 0.0134, 0.013 ,\n",
       "       0.0126, 0.0122, 0.0119, 0.0116, 0.0113, 0.011 , 0.0107, 0.0105,\n",
       "       0.0102, 0.01  , 0.0098, 0.0095, 0.0093, 0.0091, 0.009 , 0.0088,\n",
       "       0.0086, 0.0084, 0.0083, 0.0081, 0.008 , 0.0078, 0.0077, 0.0076,\n",
       "       0.0074, 0.0073, 0.0072, 0.0071, 0.0069, 0.0068, 0.0067, 0.0066,\n",
       "       0.0065, 0.0064, 0.0063, 0.0062, 0.0062, 0.0061, 0.006 , 0.0059,\n",
       "       0.0058, 0.0058, 0.0057, 0.0056, 0.0055, 0.0055, 0.0054, 0.0053,\n",
       "       0.0053, 0.0052, 0.0051, 0.0051, 0.005 , 0.005 , 0.0049, 0.0049,\n",
       "       0.0048, 0.0047, 0.0047, 0.0046, 0.0046, 0.0045, 0.0045, 0.0045,\n",
       "       0.0044, 0.0044])"
      ]
     },
     "execution_count": 52,
     "metadata": {},
     "output_type": "execute_result"
    }
   ],
   "source": [
    "benford = np.array(benford)\n",
    "benford"
   ]
  },
  {
   "cell_type": "code",
   "execution_count": 53,
   "metadata": {},
   "outputs": [
    {
     "data": {
      "text/plain": [
       "19"
      ]
     },
     "execution_count": 53,
     "metadata": {},
     "output_type": "execute_result"
    }
   ],
   "source": [
    "f0_tot=f0.sum()\n",
    "f0_tot"
   ]
  },
  {
   "cell_type": "code",
   "execution_count": 54,
   "metadata": {},
   "outputs": [],
   "source": [
    "fe = benford*f0_tot"
   ]
  },
  {
   "cell_type": "code",
   "execution_count": 55,
   "metadata": {},
   "outputs": [
    {
     "data": {
      "text/plain": [
       "array([0.7866, 0.7182, 0.6612, 0.6118, 0.57  , 0.532 , 0.4997, 0.4712,\n",
       "       0.4465, 0.4237, 0.4028, 0.3838, 0.3667, 0.3515, 0.3363, 0.323 ,\n",
       "       0.3116, 0.3002, 0.2888, 0.2793, 0.2698, 0.2622, 0.2546, 0.247 ,\n",
       "       0.2394, 0.2318, 0.2261, 0.2204, 0.2147, 0.209 , 0.2033, 0.1995,\n",
       "       0.1938, 0.19  , 0.1862, 0.1805, 0.1767, 0.1729, 0.171 , 0.1672,\n",
       "       0.1634, 0.1596, 0.1577, 0.1539, 0.152 , 0.1482, 0.1463, 0.1444,\n",
       "       0.1406, 0.1387, 0.1368, 0.1349, 0.1311, 0.1292, 0.1273, 0.1254,\n",
       "       0.1235, 0.1216, 0.1197, 0.1178, 0.1178, 0.1159, 0.114 , 0.1121,\n",
       "       0.1102, 0.1102, 0.1083, 0.1064, 0.1045, 0.1045, 0.1026, 0.1007,\n",
       "       0.1007, 0.0988, 0.0969, 0.0969, 0.095 , 0.095 , 0.0931, 0.0931,\n",
       "       0.0912, 0.0893, 0.0893, 0.0874, 0.0874, 0.0855, 0.0855, 0.0855,\n",
       "       0.0836, 0.0836])"
      ]
     },
     "execution_count": 55,
     "metadata": {},
     "output_type": "execute_result"
    }
   ],
   "source": [
    "fe "
   ]
  },
  {
   "cell_type": "code",
   "execution_count": 56,
   "metadata": {},
   "outputs": [
    {
     "data": {
      "text/plain": [
       "18.9981"
      ]
     },
     "execution_count": 56,
     "metadata": {},
     "output_type": "execute_result"
    }
   ],
   "source": [
    "fe.sum()"
   ]
  },
  {
   "cell_type": "code",
   "execution_count": 57,
   "metadata": {},
   "outputs": [
    {
     "data": {
      "text/plain": [
       "array([-0.0414, -0.0358, -0.0328, -0.0302, -0.03  , -0.028 , -0.0243,\n",
       "       -0.0248, -0.0195, -0.0223, -0.0212, -0.0202, -0.0173, -0.0185,\n",
       "       -0.0177, -0.017 , -0.0164, -0.0158, -0.0152, -0.0147, -0.0122,\n",
       "       -0.0138, -0.0134, -0.011 , -0.0106, -0.0122, -0.0119, -0.0116,\n",
       "       -0.0093, -0.009 , -0.0107, -0.0105, -0.0102, -0.008 , -0.0098,\n",
       "       -0.0095, -0.0093, -0.0091, -0.007 , -0.0068, -0.0066, -0.0084,\n",
       "       -0.0083, -0.0081, -0.008 , -0.0078, -0.0077, -0.0076, -0.0074,\n",
       "       -0.0053, -0.0072, -0.0071, -0.0069, -0.0068, -0.0067, -0.0066,\n",
       "       -0.0065, -0.0064, -0.0063, -0.0062, -0.0062, -0.0061, -0.006 ,\n",
       "       -0.0059, -0.0058, -0.0058, -0.0057, -0.0036, -0.0055, -0.0055,\n",
       "       -0.0054, -0.0053, -0.0053, -0.0052, -0.0031, -0.0051, -0.005 ,\n",
       "       -0.005 , -0.0049, -0.0049, -0.0048, -0.0047, -0.0047, -0.0046,\n",
       "       -0.0046, -0.0045, -0.0045, -0.0045, -0.0044, -0.0044])"
      ]
     },
     "execution_count": 57,
     "metadata": {},
     "output_type": "execute_result"
    }
   ],
   "source": [
    "diferencia = fre_relativa - benford\n",
    "diferencia "
   ]
  },
  {
   "cell_type": "code",
   "execution_count": 58,
   "metadata": {},
   "outputs": [
    {
     "data": {
      "text/plain": [
       "-0.9619"
      ]
     },
     "execution_count": 58,
     "metadata": {},
     "output_type": "execute_result"
    }
   ],
   "source": [
    "diferencia.sum()"
   ]
  },
  {
   "cell_type": "code",
   "execution_count": 59,
   "metadata": {},
   "outputs": [],
   "source": [
    "f0_fe= (f0-fe)"
   ]
  },
  {
   "cell_type": "code",
   "execution_count": 60,
   "metadata": {},
   "outputs": [],
   "source": [
    "f0_fe_2 = f0_fe*f0_fe"
   ]
  },
  {
   "cell_type": "code",
   "execution_count": 61,
   "metadata": {},
   "outputs": [
    {
     "data": {
      "text/plain": [
       "array([0.7866    , 0.11056981, 0.17360169, 0.24632109, 0.57      ,\n",
       "       0.532     , 0.50090072, 0.4712    , 5.40506663, 0.4237    ,\n",
       "       0.4028    , 0.3838    , 1.09372482, 0.3515    , 0.3363    ,\n",
       "       0.323     , 0.3116    , 0.3002    , 0.2888    , 0.2793    ,\n",
       "       1.97624922, 0.2622    , 0.2546    , 2.295583  , 2.41650944,\n",
       "       0.2318    , 0.2261    , 0.2204    , 2.87236185, 2.993689  ,\n",
       "       0.2033    , 0.1995    , 0.1938    , 3.45315789, 0.1862    ,\n",
       "       0.1805    , 0.1767    , 0.1729    , 4.01895322, 4.14806124,\n",
       "       4.28335104, 0.1596    , 0.1577    , 0.1539    , 0.152     ,\n",
       "       0.1482    , 0.1463    , 0.1444    , 0.1406    , 5.34850534,\n",
       "       0.1368    , 0.1349    , 0.1311    , 0.1292    , 0.1273    ,\n",
       "       0.1254    , 0.1235    , 0.1216    , 0.1197    , 0.1178    ,\n",
       "       0.1178    , 0.1159    , 0.114     , 0.1121    , 0.1102    ,\n",
       "       0.1102    , 0.1083    , 7.50489624, 0.1045    , 0.1045    ,\n",
       "       0.1026    , 0.1007    , 0.1007    , 0.0988    , 8.41681744,\n",
       "       0.0969    , 0.095     , 0.095     , 0.0931    , 0.0931    ,\n",
       "       0.0912    , 0.0893    , 0.0893    , 0.0874    , 0.0874    ,\n",
       "       0.0855    , 0.0855    , 0.0855    , 0.0836    , 0.0836    ])"
      ]
     },
     "execution_count": 61,
     "metadata": {},
     "output_type": "execute_result"
    }
   ],
   "source": [
    "f0_fe_2_fe=f0_fe_2/fe\n",
    "f0_fe_2_fe"
   ]
  },
  {
   "cell_type": "markdown",
   "metadata": {},
   "source": [
    "# Total"
   ]
  },
  {
   "cell_type": "code",
   "execution_count": 62,
   "metadata": {},
   "outputs": [
    {
     "data": {
      "text/plain": [
       "70.73881967720074"
      ]
     },
     "execution_count": 62,
     "metadata": {},
     "output_type": "execute_result"
    }
   ],
   "source": [
    "x_2 = f0_fe_2_fe.sum()\n",
    "x_2 "
   ]
  }
 ],
 "metadata": {
  "kernelspec": {
   "display_name": "Python 3",
   "language": "python",
   "name": "python3"
  },
  "language_info": {
   "codemirror_mode": {
    "name": "ipython",
    "version": 3
   },
   "file_extension": ".py",
   "mimetype": "text/x-python",
   "name": "python",
   "nbconvert_exporter": "python",
   "pygments_lexer": "ipython3",
   "version": "3.8.3"
  }
 },
 "nbformat": 4,
 "nbformat_minor": 4
}
