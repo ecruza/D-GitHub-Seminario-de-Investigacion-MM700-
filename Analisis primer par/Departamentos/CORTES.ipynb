{
 "cells": [
  {
   "cell_type": "code",
   "execution_count": 1,
   "metadata": {},
   "outputs": [],
   "source": [
    "import matplotlib.pyplot as plt\n",
    "import numpy as np\n",
    "import math\n",
    "import pandas as pd \n",
    "letters = {}\n",
    "\n",
    "for i in range(9,99):\n",
    "    letters[str(i+1)] = 0\n",
    "    \n",
    "\n",
    "nfib = 500"
   ]
  },
  {
   "cell_type": "code",
   "execution_count": 2,
   "metadata": {},
   "outputs": [
    {
     "data": {
      "text/html": [
       "<div>\n",
       "<style scoped>\n",
       "    .dataframe tbody tr th:only-of-type {\n",
       "        vertical-align: middle;\n",
       "    }\n",
       "\n",
       "    .dataframe tbody tr th {\n",
       "        vertical-align: top;\n",
       "    }\n",
       "\n",
       "    .dataframe thead th {\n",
       "        text-align: right;\n",
       "    }\n",
       "</style>\n",
       "<table border=\"1\" class=\"dataframe\">\n",
       "  <thead>\n",
       "    <tr style=\"text-align: right;\">\n",
       "      <th></th>\n",
       "      <th>PL</th>\n",
       "      <th>PN</th>\n",
       "      <th>LIBRE-PINU</th>\n",
       "      <th>TOTAL</th>\n",
       "    </tr>\n",
       "  </thead>\n",
       "  <tbody>\n",
       "    <tr>\n",
       "      <th>0</th>\n",
       "      <td>22010</td>\n",
       "      <td>73088</td>\n",
       "      <td>122234</td>\n",
       "      <td>219685</td>\n",
       "    </tr>\n",
       "    <tr>\n",
       "      <th>1</th>\n",
       "      <td>5922</td>\n",
       "      <td>20363</td>\n",
       "      <td>38592</td>\n",
       "      <td>65345</td>\n",
       "    </tr>\n",
       "    <tr>\n",
       "      <th>2</th>\n",
       "      <td>1117</td>\n",
       "      <td>9134</td>\n",
       "      <td>5884</td>\n",
       "      <td>16254</td>\n",
       "    </tr>\n",
       "    <tr>\n",
       "      <th>3</th>\n",
       "      <td>360</td>\n",
       "      <td>3400</td>\n",
       "      <td>3208</td>\n",
       "      <td>7081</td>\n",
       "    </tr>\n",
       "    <tr>\n",
       "      <th>4</th>\n",
       "      <td>1154</td>\n",
       "      <td>4289</td>\n",
       "      <td>4420</td>\n",
       "      <td>9927</td>\n",
       "    </tr>\n",
       "    <tr>\n",
       "      <th>5</th>\n",
       "      <td>10022</td>\n",
       "      <td>12814</td>\n",
       "      <td>23754</td>\n",
       "      <td>47002</td>\n",
       "    </tr>\n",
       "    <tr>\n",
       "      <th>6</th>\n",
       "      <td>698</td>\n",
       "      <td>4231</td>\n",
       "      <td>4202</td>\n",
       "      <td>9201</td>\n",
       "    </tr>\n",
       "    <tr>\n",
       "      <th>7</th>\n",
       "      <td>1318</td>\n",
       "      <td>3310</td>\n",
       "      <td>4252</td>\n",
       "      <td>8961</td>\n",
       "    </tr>\n",
       "    <tr>\n",
       "      <th>8</th>\n",
       "      <td>1218</td>\n",
       "      <td>3551</td>\n",
       "      <td>9041</td>\n",
       "      <td>13911</td>\n",
       "    </tr>\n",
       "    <tr>\n",
       "      <th>9</th>\n",
       "      <td>4262</td>\n",
       "      <td>9999</td>\n",
       "      <td>13711</td>\n",
       "      <td>28160</td>\n",
       "    </tr>\n",
       "    <tr>\n",
       "      <th>10</th>\n",
       "      <td>4375</td>\n",
       "      <td>11062</td>\n",
       "      <td>22567</td>\n",
       "      <td>38289</td>\n",
       "    </tr>\n",
       "    <tr>\n",
       "      <th>11</th>\n",
       "      <td>3384</td>\n",
       "      <td>5882</td>\n",
       "      <td>19182</td>\n",
       "      <td>28957</td>\n",
       "    </tr>\n",
       "  </tbody>\n",
       "</table>\n",
       "</div>"
      ],
      "text/plain": [
       "       PL     PN  LIBRE-PINU   TOTAL\n",
       "0   22010  73088      122234  219685\n",
       "1    5922  20363       38592   65345\n",
       "2    1117   9134        5884   16254\n",
       "3     360   3400        3208    7081\n",
       "4    1154   4289        4420    9927\n",
       "5   10022  12814       23754   47002\n",
       "6     698   4231        4202    9201\n",
       "7    1318   3310        4252    8961\n",
       "8    1218   3551        9041   13911\n",
       "9    4262   9999       13711   28160\n",
       "10   4375  11062       22567   38289\n",
       "11   3384   5882       19182   28957"
      ]
     },
     "execution_count": 2,
     "metadata": {},
     "output_type": "execute_result"
    }
   ],
   "source": [
    "df = pd.read_csv(\"https://docs.google.com/spreadsheets/d/1yfDyVKJeRiSLsxhyY0lCcHa3bHP5Bv7X/export?format=csv\")\n",
    "df"
   ]
  },
  {
   "cell_type": "code",
   "execution_count": 3,
   "metadata": {},
   "outputs": [
    {
     "data": {
      "text/plain": [
       "[22010, 5922, 1117, 360, 1154, 10022, 698, 1318, 1218, 4262, 4375, 3384]"
      ]
     },
     "execution_count": 3,
     "metadata": {},
     "output_type": "execute_result"
    }
   ],
   "source": [
    "pl = []\n",
    "for i in df['PL']:\n",
    "    pl.append(i)\n",
    "pl"
   ]
  },
  {
   "cell_type": "code",
   "execution_count": 4,
   "metadata": {},
   "outputs": [
    {
     "data": {
      "text/plain": [
       "[73088, 20363, 9134, 3400, 4289, 12814, 4231, 3310, 3551, 9999, 11062, 5882]"
      ]
     },
     "execution_count": 4,
     "metadata": {},
     "output_type": "execute_result"
    }
   ],
   "source": [
    "pn = []\n",
    "for i in df['PN']:\n",
    "    pn.append(i)\n",
    "pn"
   ]
  },
  {
   "cell_type": "code",
   "execution_count": 5,
   "metadata": {},
   "outputs": [
    {
     "data": {
      "text/plain": [
       "[122234, 38592, 5884, 3208, 4420, 23754, 4202, 4252, 9041, 13711, 22567, 19182]"
      ]
     },
     "execution_count": 5,
     "metadata": {},
     "output_type": "execute_result"
    }
   ],
   "source": [
    "pli = []\n",
    "for i in df['LIBRE-PINU']:\n",
    "    pli.append(i)\n",
    "pli"
   ]
  },
  {
   "cell_type": "code",
   "execution_count": 6,
   "metadata": {},
   "outputs": [
    {
     "data": {
      "text/plain": [
       "[219685,\n",
       " 65345,\n",
       " 16254,\n",
       " 7081,\n",
       " 9927,\n",
       " 47002,\n",
       " 9201,\n",
       " 8961,\n",
       " 13911,\n",
       " 28160,\n",
       " 38289,\n",
       " 28957]"
      ]
     },
     "execution_count": 6,
     "metadata": {},
     "output_type": "execute_result"
    }
   ],
   "source": [
    "tot = []\n",
    "for i in df['TOTAL']:\n",
    "    tot.append(i)\n",
    "tot"
   ]
  },
  {
   "cell_type": "code",
   "execution_count": 7,
   "metadata": {},
   "outputs": [],
   "source": [
    "list_of_nums = pl\n",
    "for n in list_of_nums:\n",
    "    first_digit = str(n)[0]+str(n)[1]\n",
    "    letters[first_digit] += 1\n",
    "y = [round(val / nfib, 4) for val in letters.values()]\n",
    "fre_relativa = y\n",
    "y = list(letters.values())\n",
    "f0= y\n",
    "x = list(letters.keys())\n",
    "y =  [round(math.log10(1+(1/int(val))), 4) for val in letters.keys()]\n",
    "benford = y"
   ]
  },
  {
   "cell_type": "code",
   "execution_count": 8,
   "metadata": {},
   "outputs": [
    {
     "data": {
      "text/plain": [
       "array([1, 2, 1, 1, 0, 0, 0, 0, 0, 0, 0, 0, 1, 0, 0, 0, 0, 0, 0, 0, 0, 0,\n",
       "       0, 1, 0, 0, 1, 0, 0, 0, 0, 0, 1, 1, 0, 0, 0, 0, 0, 0, 0, 0, 0, 0,\n",
       "       0, 0, 0, 0, 0, 1, 0, 0, 0, 0, 0, 0, 0, 0, 0, 1, 0, 0, 0, 0, 0, 0,\n",
       "       0, 0, 0, 0, 0, 0, 0, 0, 0, 0, 0, 0, 0, 0, 0, 0, 0, 0, 0, 0, 0, 0,\n",
       "       0, 0])"
      ]
     },
     "execution_count": 8,
     "metadata": {},
     "output_type": "execute_result"
    }
   ],
   "source": [
    "f0 = np.array(f0)\n",
    "f0"
   ]
  },
  {
   "cell_type": "code",
   "execution_count": 9,
   "metadata": {},
   "outputs": [
    {
     "data": {
      "text/plain": [
       "array([0.002, 0.004, 0.002, 0.002, 0.   , 0.   , 0.   , 0.   , 0.   ,\n",
       "       0.   , 0.   , 0.   , 0.002, 0.   , 0.   , 0.   , 0.   , 0.   ,\n",
       "       0.   , 0.   , 0.   , 0.   , 0.   , 0.002, 0.   , 0.   , 0.002,\n",
       "       0.   , 0.   , 0.   , 0.   , 0.   , 0.002, 0.002, 0.   , 0.   ,\n",
       "       0.   , 0.   , 0.   , 0.   , 0.   , 0.   , 0.   , 0.   , 0.   ,\n",
       "       0.   , 0.   , 0.   , 0.   , 0.002, 0.   , 0.   , 0.   , 0.   ,\n",
       "       0.   , 0.   , 0.   , 0.   , 0.   , 0.002, 0.   , 0.   , 0.   ,\n",
       "       0.   , 0.   , 0.   , 0.   , 0.   , 0.   , 0.   , 0.   , 0.   ,\n",
       "       0.   , 0.   , 0.   , 0.   , 0.   , 0.   , 0.   , 0.   , 0.   ,\n",
       "       0.   , 0.   , 0.   , 0.   , 0.   , 0.   , 0.   , 0.   , 0.   ])"
      ]
     },
     "execution_count": 9,
     "metadata": {},
     "output_type": "execute_result"
    }
   ],
   "source": [
    "fre_relativa = np.array(fre_relativa)\n",
    "fre_relativa "
   ]
  },
  {
   "cell_type": "code",
   "execution_count": 10,
   "metadata": {},
   "outputs": [
    {
     "data": {
      "text/plain": [
       "array([0.0414, 0.0378, 0.0348, 0.0322, 0.03  , 0.028 , 0.0263, 0.0248,\n",
       "       0.0235, 0.0223, 0.0212, 0.0202, 0.0193, 0.0185, 0.0177, 0.017 ,\n",
       "       0.0164, 0.0158, 0.0152, 0.0147, 0.0142, 0.0138, 0.0134, 0.013 ,\n",
       "       0.0126, 0.0122, 0.0119, 0.0116, 0.0113, 0.011 , 0.0107, 0.0105,\n",
       "       0.0102, 0.01  , 0.0098, 0.0095, 0.0093, 0.0091, 0.009 , 0.0088,\n",
       "       0.0086, 0.0084, 0.0083, 0.0081, 0.008 , 0.0078, 0.0077, 0.0076,\n",
       "       0.0074, 0.0073, 0.0072, 0.0071, 0.0069, 0.0068, 0.0067, 0.0066,\n",
       "       0.0065, 0.0064, 0.0063, 0.0062, 0.0062, 0.0061, 0.006 , 0.0059,\n",
       "       0.0058, 0.0058, 0.0057, 0.0056, 0.0055, 0.0055, 0.0054, 0.0053,\n",
       "       0.0053, 0.0052, 0.0051, 0.0051, 0.005 , 0.005 , 0.0049, 0.0049,\n",
       "       0.0048, 0.0047, 0.0047, 0.0046, 0.0046, 0.0045, 0.0045, 0.0045,\n",
       "       0.0044, 0.0044])"
      ]
     },
     "execution_count": 10,
     "metadata": {},
     "output_type": "execute_result"
    }
   ],
   "source": [
    "benford = np.array(benford)\n",
    "benford"
   ]
  },
  {
   "cell_type": "code",
   "execution_count": 11,
   "metadata": {},
   "outputs": [
    {
     "data": {
      "text/plain": [
       "12"
      ]
     },
     "execution_count": 11,
     "metadata": {},
     "output_type": "execute_result"
    }
   ],
   "source": [
    "f0_tot=f0.sum()\n",
    "f0_tot"
   ]
  },
  {
   "cell_type": "code",
   "execution_count": 12,
   "metadata": {},
   "outputs": [],
   "source": [
    "fe = benford*f0_tot"
   ]
  },
  {
   "cell_type": "code",
   "execution_count": 13,
   "metadata": {},
   "outputs": [
    {
     "data": {
      "text/plain": [
       "array([0.4968, 0.4536, 0.4176, 0.3864, 0.36  , 0.336 , 0.3156, 0.2976,\n",
       "       0.282 , 0.2676, 0.2544, 0.2424, 0.2316, 0.222 , 0.2124, 0.204 ,\n",
       "       0.1968, 0.1896, 0.1824, 0.1764, 0.1704, 0.1656, 0.1608, 0.156 ,\n",
       "       0.1512, 0.1464, 0.1428, 0.1392, 0.1356, 0.132 , 0.1284, 0.126 ,\n",
       "       0.1224, 0.12  , 0.1176, 0.114 , 0.1116, 0.1092, 0.108 , 0.1056,\n",
       "       0.1032, 0.1008, 0.0996, 0.0972, 0.096 , 0.0936, 0.0924, 0.0912,\n",
       "       0.0888, 0.0876, 0.0864, 0.0852, 0.0828, 0.0816, 0.0804, 0.0792,\n",
       "       0.078 , 0.0768, 0.0756, 0.0744, 0.0744, 0.0732, 0.072 , 0.0708,\n",
       "       0.0696, 0.0696, 0.0684, 0.0672, 0.066 , 0.066 , 0.0648, 0.0636,\n",
       "       0.0636, 0.0624, 0.0612, 0.0612, 0.06  , 0.06  , 0.0588, 0.0588,\n",
       "       0.0576, 0.0564, 0.0564, 0.0552, 0.0552, 0.054 , 0.054 , 0.054 ,\n",
       "       0.0528, 0.0528])"
      ]
     },
     "execution_count": 13,
     "metadata": {},
     "output_type": "execute_result"
    }
   ],
   "source": [
    "fe "
   ]
  },
  {
   "cell_type": "code",
   "execution_count": 14,
   "metadata": {},
   "outputs": [
    {
     "data": {
      "text/plain": [
       "11.9988"
      ]
     },
     "execution_count": 14,
     "metadata": {},
     "output_type": "execute_result"
    }
   ],
   "source": [
    "fe.sum()"
   ]
  },
  {
   "cell_type": "code",
   "execution_count": 15,
   "metadata": {},
   "outputs": [
    {
     "data": {
      "text/plain": [
       "array([-0.0394, -0.0338, -0.0328, -0.0302, -0.03  , -0.028 , -0.0263,\n",
       "       -0.0248, -0.0235, -0.0223, -0.0212, -0.0202, -0.0173, -0.0185,\n",
       "       -0.0177, -0.017 , -0.0164, -0.0158, -0.0152, -0.0147, -0.0142,\n",
       "       -0.0138, -0.0134, -0.011 , -0.0126, -0.0122, -0.0099, -0.0116,\n",
       "       -0.0113, -0.011 , -0.0107, -0.0105, -0.0082, -0.008 , -0.0098,\n",
       "       -0.0095, -0.0093, -0.0091, -0.009 , -0.0088, -0.0086, -0.0084,\n",
       "       -0.0083, -0.0081, -0.008 , -0.0078, -0.0077, -0.0076, -0.0074,\n",
       "       -0.0053, -0.0072, -0.0071, -0.0069, -0.0068, -0.0067, -0.0066,\n",
       "       -0.0065, -0.0064, -0.0063, -0.0042, -0.0062, -0.0061, -0.006 ,\n",
       "       -0.0059, -0.0058, -0.0058, -0.0057, -0.0056, -0.0055, -0.0055,\n",
       "       -0.0054, -0.0053, -0.0053, -0.0052, -0.0051, -0.0051, -0.005 ,\n",
       "       -0.005 , -0.0049, -0.0049, -0.0048, -0.0047, -0.0047, -0.0046,\n",
       "       -0.0046, -0.0045, -0.0045, -0.0045, -0.0044, -0.0044])"
      ]
     },
     "execution_count": 15,
     "metadata": {},
     "output_type": "execute_result"
    }
   ],
   "source": [
    "diferencia = fre_relativa - benford\n",
    "diferencia "
   ]
  },
  {
   "cell_type": "code",
   "execution_count": 16,
   "metadata": {},
   "outputs": [
    {
     "data": {
      "text/plain": [
       "-0.9758999999999999"
      ]
     },
     "execution_count": 16,
     "metadata": {},
     "output_type": "execute_result"
    }
   ],
   "source": [
    "diferencia.sum()"
   ]
  },
  {
   "cell_type": "code",
   "execution_count": 17,
   "metadata": {},
   "outputs": [],
   "source": [
    "f0_fe= (f0-fe)"
   ]
  },
  {
   "cell_type": "code",
   "execution_count": 18,
   "metadata": {},
   "outputs": [],
   "source": [
    "f0_fe_2 = f0_fe*f0_fe"
   ]
  },
  {
   "cell_type": "code",
   "execution_count": 19,
   "metadata": {},
   "outputs": [
    {
     "data": {
      "text/plain": [
       "array([ 0.50968245,  5.27194215,  0.81223602,  0.97439172,  0.36      ,\n",
       "        0.336     ,  0.3156    ,  0.2976    ,  0.282     ,  0.2676    ,\n",
       "        0.2544    ,  0.2424    ,  2.54938929,  0.222     ,  0.2124    ,\n",
       "        0.204     ,  0.1968    ,  0.1896    ,  0.1824    ,  0.1764    ,\n",
       "        0.1704    ,  0.1656    ,  0.1608    ,  4.56625641,  0.1512    ,\n",
       "        0.1464    ,  5.14560112,  0.1392    ,  0.1356    ,  0.132     ,\n",
       "        0.1284    ,  0.126     ,  6.29233464,  6.45333333,  0.1176    ,\n",
       "        0.114     ,  0.1116    ,  0.1092    ,  0.108     ,  0.1056    ,\n",
       "        0.1032    ,  0.1008    ,  0.0996    ,  0.0972    ,  0.096     ,\n",
       "        0.0936    ,  0.0924    ,  0.0912    ,  0.0888    ,  9.50312511,\n",
       "        0.0864    ,  0.0852    ,  0.0828    ,  0.0816    ,  0.0804    ,\n",
       "        0.0792    ,  0.078     ,  0.0768    ,  0.0756    , 11.51526022,\n",
       "        0.0744    ,  0.0732    ,  0.072     ,  0.0708    ,  0.0696    ,\n",
       "        0.0696    ,  0.0684    ,  0.0672    ,  0.066     ,  0.066     ,\n",
       "        0.0648    ,  0.0636    ,  0.0636    ,  0.0624    ,  0.0612    ,\n",
       "        0.0612    ,  0.06      ,  0.06      ,  0.0588    ,  0.0588    ,\n",
       "        0.0576    ,  0.0564    ,  0.0564    ,  0.0552    ,  0.0552    ,\n",
       "        0.054     ,  0.054     ,  0.054     ,  0.0528    ,  0.0528    ])"
      ]
     },
     "execution_count": 19,
     "metadata": {},
     "output_type": "execute_result"
    }
   ],
   "source": [
    "f0_fe_2_fe=f0_fe_2/fe\n",
    "f0_fe_2_fe"
   ]
  },
  {
   "cell_type": "markdown",
   "metadata": {},
   "source": [
    "# Partido Liberal"
   ]
  },
  {
   "cell_type": "code",
   "execution_count": 20,
   "metadata": {},
   "outputs": [
    {
     "data": {
      "text/plain": [
       "62.90315245874507"
      ]
     },
     "execution_count": 20,
     "metadata": {},
     "output_type": "execute_result"
    }
   ],
   "source": [
    "x_2 = f0_fe_2_fe.sum()\n",
    "x_2 "
   ]
  },
  {
   "cell_type": "code",
   "execution_count": 21,
   "metadata": {},
   "outputs": [],
   "source": [
    "letters = {}\n",
    "\n",
    "for i in range(9,99):\n",
    "    letters[str(i+1)] = 0\n",
    "    \n",
    "list_of_nums = pn\n",
    "for n in list_of_nums:\n",
    "    first_digit = str(n)[0]+str(n)[1]\n",
    "    letters[first_digit] += 1\n",
    "y = [round(val / nfib, 4) for val in letters.values()]\n",
    "fre_relativa = y\n",
    "y = list(letters.values())\n",
    "f0= y\n",
    "x = list(letters.keys())\n",
    "y =  [round(math.log10(1+(1/int(val))), 4) for val in letters.keys()]\n",
    "benford = y"
   ]
  },
  {
   "cell_type": "code",
   "execution_count": 22,
   "metadata": {},
   "outputs": [
    {
     "data": {
      "text/plain": [
       "array([0, 1, 1, 0, 0, 0, 0, 0, 0, 0, 1, 0, 0, 0, 0, 0, 0, 0, 0, 0, 0, 0,\n",
       "       0, 1, 1, 1, 0, 0, 0, 0, 0, 0, 2, 0, 0, 0, 0, 0, 0, 0, 0, 0, 0, 0,\n",
       "       0, 0, 0, 0, 1, 0, 0, 0, 0, 0, 0, 0, 0, 0, 0, 0, 0, 0, 0, 1, 0, 0,\n",
       "       0, 0, 0, 0, 0, 0, 0, 0, 0, 0, 0, 0, 0, 0, 0, 1, 0, 0, 0, 0, 0, 0,\n",
       "       0, 1])"
      ]
     },
     "execution_count": 22,
     "metadata": {},
     "output_type": "execute_result"
    }
   ],
   "source": [
    "f0 = np.array(f0)\n",
    "f0"
   ]
  },
  {
   "cell_type": "code",
   "execution_count": 23,
   "metadata": {},
   "outputs": [
    {
     "data": {
      "text/plain": [
       "array([0.   , 0.002, 0.002, 0.   , 0.   , 0.   , 0.   , 0.   , 0.   ,\n",
       "       0.   , 0.002, 0.   , 0.   , 0.   , 0.   , 0.   , 0.   , 0.   ,\n",
       "       0.   , 0.   , 0.   , 0.   , 0.   , 0.002, 0.002, 0.002, 0.   ,\n",
       "       0.   , 0.   , 0.   , 0.   , 0.   , 0.004, 0.   , 0.   , 0.   ,\n",
       "       0.   , 0.   , 0.   , 0.   , 0.   , 0.   , 0.   , 0.   , 0.   ,\n",
       "       0.   , 0.   , 0.   , 0.002, 0.   , 0.   , 0.   , 0.   , 0.   ,\n",
       "       0.   , 0.   , 0.   , 0.   , 0.   , 0.   , 0.   , 0.   , 0.   ,\n",
       "       0.002, 0.   , 0.   , 0.   , 0.   , 0.   , 0.   , 0.   , 0.   ,\n",
       "       0.   , 0.   , 0.   , 0.   , 0.   , 0.   , 0.   , 0.   , 0.   ,\n",
       "       0.002, 0.   , 0.   , 0.   , 0.   , 0.   , 0.   , 0.   , 0.002])"
      ]
     },
     "execution_count": 23,
     "metadata": {},
     "output_type": "execute_result"
    }
   ],
   "source": [
    "fre_relativa = np.array(fre_relativa)\n",
    "fre_relativa "
   ]
  },
  {
   "cell_type": "code",
   "execution_count": 24,
   "metadata": {},
   "outputs": [
    {
     "data": {
      "text/plain": [
       "array([0.0414, 0.0378, 0.0348, 0.0322, 0.03  , 0.028 , 0.0263, 0.0248,\n",
       "       0.0235, 0.0223, 0.0212, 0.0202, 0.0193, 0.0185, 0.0177, 0.017 ,\n",
       "       0.0164, 0.0158, 0.0152, 0.0147, 0.0142, 0.0138, 0.0134, 0.013 ,\n",
       "       0.0126, 0.0122, 0.0119, 0.0116, 0.0113, 0.011 , 0.0107, 0.0105,\n",
       "       0.0102, 0.01  , 0.0098, 0.0095, 0.0093, 0.0091, 0.009 , 0.0088,\n",
       "       0.0086, 0.0084, 0.0083, 0.0081, 0.008 , 0.0078, 0.0077, 0.0076,\n",
       "       0.0074, 0.0073, 0.0072, 0.0071, 0.0069, 0.0068, 0.0067, 0.0066,\n",
       "       0.0065, 0.0064, 0.0063, 0.0062, 0.0062, 0.0061, 0.006 , 0.0059,\n",
       "       0.0058, 0.0058, 0.0057, 0.0056, 0.0055, 0.0055, 0.0054, 0.0053,\n",
       "       0.0053, 0.0052, 0.0051, 0.0051, 0.005 , 0.005 , 0.0049, 0.0049,\n",
       "       0.0048, 0.0047, 0.0047, 0.0046, 0.0046, 0.0045, 0.0045, 0.0045,\n",
       "       0.0044, 0.0044])"
      ]
     },
     "execution_count": 24,
     "metadata": {},
     "output_type": "execute_result"
    }
   ],
   "source": [
    "benford = np.array(benford)\n",
    "benford"
   ]
  },
  {
   "cell_type": "code",
   "execution_count": 25,
   "metadata": {},
   "outputs": [
    {
     "data": {
      "text/plain": [
       "12"
      ]
     },
     "execution_count": 25,
     "metadata": {},
     "output_type": "execute_result"
    }
   ],
   "source": [
    "f0_tot=f0.sum()\n",
    "f0_tot"
   ]
  },
  {
   "cell_type": "code",
   "execution_count": 26,
   "metadata": {},
   "outputs": [],
   "source": [
    "fe = benford*f0_tot"
   ]
  },
  {
   "cell_type": "code",
   "execution_count": 27,
   "metadata": {},
   "outputs": [
    {
     "data": {
      "text/plain": [
       "array([0.4968, 0.4536, 0.4176, 0.3864, 0.36  , 0.336 , 0.3156, 0.2976,\n",
       "       0.282 , 0.2676, 0.2544, 0.2424, 0.2316, 0.222 , 0.2124, 0.204 ,\n",
       "       0.1968, 0.1896, 0.1824, 0.1764, 0.1704, 0.1656, 0.1608, 0.156 ,\n",
       "       0.1512, 0.1464, 0.1428, 0.1392, 0.1356, 0.132 , 0.1284, 0.126 ,\n",
       "       0.1224, 0.12  , 0.1176, 0.114 , 0.1116, 0.1092, 0.108 , 0.1056,\n",
       "       0.1032, 0.1008, 0.0996, 0.0972, 0.096 , 0.0936, 0.0924, 0.0912,\n",
       "       0.0888, 0.0876, 0.0864, 0.0852, 0.0828, 0.0816, 0.0804, 0.0792,\n",
       "       0.078 , 0.0768, 0.0756, 0.0744, 0.0744, 0.0732, 0.072 , 0.0708,\n",
       "       0.0696, 0.0696, 0.0684, 0.0672, 0.066 , 0.066 , 0.0648, 0.0636,\n",
       "       0.0636, 0.0624, 0.0612, 0.0612, 0.06  , 0.06  , 0.0588, 0.0588,\n",
       "       0.0576, 0.0564, 0.0564, 0.0552, 0.0552, 0.054 , 0.054 , 0.054 ,\n",
       "       0.0528, 0.0528])"
      ]
     },
     "execution_count": 27,
     "metadata": {},
     "output_type": "execute_result"
    }
   ],
   "source": [
    "fe "
   ]
  },
  {
   "cell_type": "code",
   "execution_count": 28,
   "metadata": {},
   "outputs": [
    {
     "data": {
      "text/plain": [
       "11.9988"
      ]
     },
     "execution_count": 28,
     "metadata": {},
     "output_type": "execute_result"
    }
   ],
   "source": [
    "fe.sum()"
   ]
  },
  {
   "cell_type": "code",
   "execution_count": 29,
   "metadata": {},
   "outputs": [
    {
     "data": {
      "text/plain": [
       "array([-0.0414, -0.0358, -0.0328, -0.0322, -0.03  , -0.028 , -0.0263,\n",
       "       -0.0248, -0.0235, -0.0223, -0.0192, -0.0202, -0.0193, -0.0185,\n",
       "       -0.0177, -0.017 , -0.0164, -0.0158, -0.0152, -0.0147, -0.0142,\n",
       "       -0.0138, -0.0134, -0.011 , -0.0106, -0.0102, -0.0119, -0.0116,\n",
       "       -0.0113, -0.011 , -0.0107, -0.0105, -0.0062, -0.01  , -0.0098,\n",
       "       -0.0095, -0.0093, -0.0091, -0.009 , -0.0088, -0.0086, -0.0084,\n",
       "       -0.0083, -0.0081, -0.008 , -0.0078, -0.0077, -0.0076, -0.0054,\n",
       "       -0.0073, -0.0072, -0.0071, -0.0069, -0.0068, -0.0067, -0.0066,\n",
       "       -0.0065, -0.0064, -0.0063, -0.0062, -0.0062, -0.0061, -0.006 ,\n",
       "       -0.0039, -0.0058, -0.0058, -0.0057, -0.0056, -0.0055, -0.0055,\n",
       "       -0.0054, -0.0053, -0.0053, -0.0052, -0.0051, -0.0051, -0.005 ,\n",
       "       -0.005 , -0.0049, -0.0049, -0.0048, -0.0027, -0.0047, -0.0046,\n",
       "       -0.0046, -0.0045, -0.0045, -0.0045, -0.0044, -0.0024])"
      ]
     },
     "execution_count": 29,
     "metadata": {},
     "output_type": "execute_result"
    }
   ],
   "source": [
    "diferencia = fre_relativa - benford\n",
    "diferencia "
   ]
  },
  {
   "cell_type": "code",
   "execution_count": 30,
   "metadata": {},
   "outputs": [
    {
     "data": {
      "text/plain": [
       "-0.9759"
      ]
     },
     "execution_count": 30,
     "metadata": {},
     "output_type": "execute_result"
    }
   ],
   "source": [
    "diferencia.sum()"
   ]
  },
  {
   "cell_type": "code",
   "execution_count": 31,
   "metadata": {},
   "outputs": [],
   "source": [
    "f0_fe= (f0-fe)"
   ]
  },
  {
   "cell_type": "code",
   "execution_count": 32,
   "metadata": {},
   "outputs": [],
   "source": [
    "f0_fe_2 = f0_fe*f0_fe"
   ]
  },
  {
   "cell_type": "code",
   "execution_count": 33,
   "metadata": {},
   "outputs": [
    {
     "data": {
      "text/plain": [
       "array([ 0.4968    ,  0.65818554,  0.81223602,  0.3864    ,  0.36      ,\n",
       "        0.336     ,  0.3156    ,  0.2976    ,  0.282     ,  0.2676    ,\n",
       "        2.18521761,  0.2424    ,  0.2316    ,  0.222     ,  0.2124    ,\n",
       "        0.204     ,  0.1968    ,  0.1896    ,  0.1824    ,  0.1764    ,\n",
       "        0.1704    ,  0.1656    ,  0.1608    ,  4.56625641,  4.76495661,\n",
       "        4.97700109,  0.1428    ,  0.1392    ,  0.1356    ,  0.132     ,\n",
       "        0.1284    ,  0.126     , 28.80213856,  0.12      ,  0.1176    ,\n",
       "        0.114     ,  0.1116    ,  0.1092    ,  0.108     ,  0.1056    ,\n",
       "        0.1032    ,  0.1008    ,  0.0996    ,  0.0972    ,  0.096     ,\n",
       "        0.0936    ,  0.0924    ,  0.0912    ,  9.35006126,  0.0876    ,\n",
       "        0.0864    ,  0.0852    ,  0.0828    ,  0.0816    ,  0.0804    ,\n",
       "        0.0792    ,  0.078     ,  0.0768    ,  0.0756    ,  0.0744    ,\n",
       "        0.0744    ,  0.0732    ,  0.072     , 12.19509379,  0.0696    ,\n",
       "        0.0696    ,  0.0684    ,  0.0672    ,  0.066     ,  0.066     ,\n",
       "        0.0648    ,  0.0636    ,  0.0636    ,  0.0624    ,  0.0612    ,\n",
       "        0.0612    ,  0.06      ,  0.06      ,  0.0588    ,  0.0588    ,\n",
       "        0.0576    , 15.78689645,  0.0564    ,  0.0552    ,  0.0552    ,\n",
       "        0.054     ,  0.054     ,  0.054     ,  0.0528    , 16.99219394])"
      ]
     },
     "execution_count": 33,
     "metadata": {},
     "output_type": "execute_result"
    }
   ],
   "source": [
    "f0_fe_2_fe=f0_fe_2/fe\n",
    "f0_fe_2_fe"
   ]
  },
  {
   "cell_type": "markdown",
   "metadata": {},
   "source": [
    "# Partido Nacional"
   ]
  },
  {
   "cell_type": "code",
   "execution_count": 34,
   "metadata": {},
   "outputs": [
    {
     "data": {
      "text/plain": [
       "111.11863728217479"
      ]
     },
     "execution_count": 34,
     "metadata": {},
     "output_type": "execute_result"
    }
   ],
   "source": [
    "x_2 = f0_fe_2_fe.sum()\n",
    "x_2 "
   ]
  },
  {
   "cell_type": "code",
   "execution_count": 35,
   "metadata": {},
   "outputs": [],
   "source": [
    "letters = {}\n",
    "\n",
    "for i in range(9,99):\n",
    "    letters[str(i+1)] = 0\n",
    "    \n",
    "list_of_nums = pli\n",
    "for n in list_of_nums:\n",
    "    first_digit = str(n)[0]+str(n)[1]\n",
    "    letters[first_digit] += 1\n",
    "y = [round(val / nfib, 4) for val in letters.values()]\n",
    "fre_relativa = y\n",
    "y = list(letters.values())\n",
    "f0= y\n",
    "x = list(letters.keys())\n",
    "y =  [round(math.log10(1+(1/int(val))), 4) for val in letters.keys()]\n",
    "benford = y"
   ]
  },
  {
   "cell_type": "code",
   "execution_count": 36,
   "metadata": {},
   "outputs": [
    {
     "data": {
      "text/plain": [
       "array([0, 0, 1, 1, 0, 0, 0, 0, 0, 1, 0, 0, 1, 1, 0, 0, 0, 0, 0, 0, 0, 0,\n",
       "       1, 0, 0, 0, 0, 0, 1, 0, 0, 0, 2, 0, 1, 0, 0, 0, 0, 0, 0, 0, 0, 0,\n",
       "       0, 0, 0, 0, 1, 0, 0, 0, 0, 0, 0, 0, 0, 0, 0, 0, 0, 0, 0, 0, 0, 0,\n",
       "       0, 0, 0, 0, 0, 0, 0, 0, 0, 0, 0, 0, 0, 0, 1, 0, 0, 0, 0, 0, 0, 0,\n",
       "       0, 0])"
      ]
     },
     "execution_count": 36,
     "metadata": {},
     "output_type": "execute_result"
    }
   ],
   "source": [
    "f0 = np.array(f0)\n",
    "f0"
   ]
  },
  {
   "cell_type": "code",
   "execution_count": 37,
   "metadata": {},
   "outputs": [
    {
     "data": {
      "text/plain": [
       "array([0.   , 0.   , 0.002, 0.002, 0.   , 0.   , 0.   , 0.   , 0.   ,\n",
       "       0.002, 0.   , 0.   , 0.002, 0.002, 0.   , 0.   , 0.   , 0.   ,\n",
       "       0.   , 0.   , 0.   , 0.   , 0.002, 0.   , 0.   , 0.   , 0.   ,\n",
       "       0.   , 0.002, 0.   , 0.   , 0.   , 0.004, 0.   , 0.002, 0.   ,\n",
       "       0.   , 0.   , 0.   , 0.   , 0.   , 0.   , 0.   , 0.   , 0.   ,\n",
       "       0.   , 0.   , 0.   , 0.002, 0.   , 0.   , 0.   , 0.   , 0.   ,\n",
       "       0.   , 0.   , 0.   , 0.   , 0.   , 0.   , 0.   , 0.   , 0.   ,\n",
       "       0.   , 0.   , 0.   , 0.   , 0.   , 0.   , 0.   , 0.   , 0.   ,\n",
       "       0.   , 0.   , 0.   , 0.   , 0.   , 0.   , 0.   , 0.   , 0.002,\n",
       "       0.   , 0.   , 0.   , 0.   , 0.   , 0.   , 0.   , 0.   , 0.   ])"
      ]
     },
     "execution_count": 37,
     "metadata": {},
     "output_type": "execute_result"
    }
   ],
   "source": [
    "fre_relativa = np.array(fre_relativa)\n",
    "fre_relativa "
   ]
  },
  {
   "cell_type": "code",
   "execution_count": 38,
   "metadata": {},
   "outputs": [
    {
     "data": {
      "text/plain": [
       "array([0.0414, 0.0378, 0.0348, 0.0322, 0.03  , 0.028 , 0.0263, 0.0248,\n",
       "       0.0235, 0.0223, 0.0212, 0.0202, 0.0193, 0.0185, 0.0177, 0.017 ,\n",
       "       0.0164, 0.0158, 0.0152, 0.0147, 0.0142, 0.0138, 0.0134, 0.013 ,\n",
       "       0.0126, 0.0122, 0.0119, 0.0116, 0.0113, 0.011 , 0.0107, 0.0105,\n",
       "       0.0102, 0.01  , 0.0098, 0.0095, 0.0093, 0.0091, 0.009 , 0.0088,\n",
       "       0.0086, 0.0084, 0.0083, 0.0081, 0.008 , 0.0078, 0.0077, 0.0076,\n",
       "       0.0074, 0.0073, 0.0072, 0.0071, 0.0069, 0.0068, 0.0067, 0.0066,\n",
       "       0.0065, 0.0064, 0.0063, 0.0062, 0.0062, 0.0061, 0.006 , 0.0059,\n",
       "       0.0058, 0.0058, 0.0057, 0.0056, 0.0055, 0.0055, 0.0054, 0.0053,\n",
       "       0.0053, 0.0052, 0.0051, 0.0051, 0.005 , 0.005 , 0.0049, 0.0049,\n",
       "       0.0048, 0.0047, 0.0047, 0.0046, 0.0046, 0.0045, 0.0045, 0.0045,\n",
       "       0.0044, 0.0044])"
      ]
     },
     "execution_count": 38,
     "metadata": {},
     "output_type": "execute_result"
    }
   ],
   "source": [
    "benford = np.array(benford)\n",
    "benford"
   ]
  },
  {
   "cell_type": "code",
   "execution_count": 39,
   "metadata": {},
   "outputs": [
    {
     "data": {
      "text/plain": [
       "12"
      ]
     },
     "execution_count": 39,
     "metadata": {},
     "output_type": "execute_result"
    }
   ],
   "source": [
    "f0_tot=f0.sum()\n",
    "f0_tot"
   ]
  },
  {
   "cell_type": "code",
   "execution_count": 40,
   "metadata": {},
   "outputs": [],
   "source": [
    "fe = benford*f0_tot"
   ]
  },
  {
   "cell_type": "code",
   "execution_count": 41,
   "metadata": {},
   "outputs": [
    {
     "data": {
      "text/plain": [
       "array([0.4968, 0.4536, 0.4176, 0.3864, 0.36  , 0.336 , 0.3156, 0.2976,\n",
       "       0.282 , 0.2676, 0.2544, 0.2424, 0.2316, 0.222 , 0.2124, 0.204 ,\n",
       "       0.1968, 0.1896, 0.1824, 0.1764, 0.1704, 0.1656, 0.1608, 0.156 ,\n",
       "       0.1512, 0.1464, 0.1428, 0.1392, 0.1356, 0.132 , 0.1284, 0.126 ,\n",
       "       0.1224, 0.12  , 0.1176, 0.114 , 0.1116, 0.1092, 0.108 , 0.1056,\n",
       "       0.1032, 0.1008, 0.0996, 0.0972, 0.096 , 0.0936, 0.0924, 0.0912,\n",
       "       0.0888, 0.0876, 0.0864, 0.0852, 0.0828, 0.0816, 0.0804, 0.0792,\n",
       "       0.078 , 0.0768, 0.0756, 0.0744, 0.0744, 0.0732, 0.072 , 0.0708,\n",
       "       0.0696, 0.0696, 0.0684, 0.0672, 0.066 , 0.066 , 0.0648, 0.0636,\n",
       "       0.0636, 0.0624, 0.0612, 0.0612, 0.06  , 0.06  , 0.0588, 0.0588,\n",
       "       0.0576, 0.0564, 0.0564, 0.0552, 0.0552, 0.054 , 0.054 , 0.054 ,\n",
       "       0.0528, 0.0528])"
      ]
     },
     "execution_count": 41,
     "metadata": {},
     "output_type": "execute_result"
    }
   ],
   "source": [
    "fe "
   ]
  },
  {
   "cell_type": "code",
   "execution_count": 42,
   "metadata": {},
   "outputs": [
    {
     "data": {
      "text/plain": [
       "11.9988"
      ]
     },
     "execution_count": 42,
     "metadata": {},
     "output_type": "execute_result"
    }
   ],
   "source": [
    "fe.sum()"
   ]
  },
  {
   "cell_type": "code",
   "execution_count": 43,
   "metadata": {},
   "outputs": [
    {
     "data": {
      "text/plain": [
       "array([-0.0414, -0.0378, -0.0328, -0.0302, -0.03  , -0.028 , -0.0263,\n",
       "       -0.0248, -0.0235, -0.0203, -0.0212, -0.0202, -0.0173, -0.0165,\n",
       "       -0.0177, -0.017 , -0.0164, -0.0158, -0.0152, -0.0147, -0.0142,\n",
       "       -0.0138, -0.0114, -0.013 , -0.0126, -0.0122, -0.0119, -0.0116,\n",
       "       -0.0093, -0.011 , -0.0107, -0.0105, -0.0062, -0.01  , -0.0078,\n",
       "       -0.0095, -0.0093, -0.0091, -0.009 , -0.0088, -0.0086, -0.0084,\n",
       "       -0.0083, -0.0081, -0.008 , -0.0078, -0.0077, -0.0076, -0.0054,\n",
       "       -0.0073, -0.0072, -0.0071, -0.0069, -0.0068, -0.0067, -0.0066,\n",
       "       -0.0065, -0.0064, -0.0063, -0.0062, -0.0062, -0.0061, -0.006 ,\n",
       "       -0.0059, -0.0058, -0.0058, -0.0057, -0.0056, -0.0055, -0.0055,\n",
       "       -0.0054, -0.0053, -0.0053, -0.0052, -0.0051, -0.0051, -0.005 ,\n",
       "       -0.005 , -0.0049, -0.0049, -0.0028, -0.0047, -0.0047, -0.0046,\n",
       "       -0.0046, -0.0045, -0.0045, -0.0045, -0.0044, -0.0044])"
      ]
     },
     "execution_count": 43,
     "metadata": {},
     "output_type": "execute_result"
    }
   ],
   "source": [
    "diferencia = fre_relativa - benford\n",
    "diferencia "
   ]
  },
  {
   "cell_type": "code",
   "execution_count": 44,
   "metadata": {},
   "outputs": [
    {
     "data": {
      "text/plain": [
       "-0.9759"
      ]
     },
     "execution_count": 44,
     "metadata": {},
     "output_type": "execute_result"
    }
   ],
   "source": [
    "diferencia.sum()"
   ]
  },
  {
   "cell_type": "code",
   "execution_count": 45,
   "metadata": {},
   "outputs": [],
   "source": [
    "f0_fe= (f0-fe)"
   ]
  },
  {
   "cell_type": "code",
   "execution_count": 46,
   "metadata": {},
   "outputs": [],
   "source": [
    "f0_fe_2 = f0_fe*f0_fe"
   ]
  },
  {
   "cell_type": "code",
   "execution_count": 47,
   "metadata": {},
   "outputs": [
    {
     "data": {
      "text/plain": [
       "array([ 0.4968    ,  0.4536    ,  0.81223602,  0.97439172,  0.36      ,\n",
       "        0.336     ,  0.3156    ,  0.2976    ,  0.282     ,  2.00452078,\n",
       "        0.2544    ,  0.2424    ,  2.54938929,  2.7265045 ,  0.2124    ,\n",
       "        0.204     ,  0.1968    ,  0.1896    ,  0.1824    ,  0.1764    ,\n",
       "        0.1704    ,  0.1656    ,  4.37970547,  0.156     ,  0.1512    ,\n",
       "        0.1464    ,  0.1428    ,  0.1392    ,  5.51023127,  0.132     ,\n",
       "        0.1284    ,  0.126     , 28.80213856,  0.12      ,  6.62100136,\n",
       "        0.114     ,  0.1116    ,  0.1092    ,  0.108     ,  0.1056    ,\n",
       "        0.1032    ,  0.1008    ,  0.0996    ,  0.0972    ,  0.096     ,\n",
       "        0.0936    ,  0.0924    ,  0.0912    ,  9.35006126,  0.0876    ,\n",
       "        0.0864    ,  0.0852    ,  0.0828    ,  0.0816    ,  0.0804    ,\n",
       "        0.0792    ,  0.078     ,  0.0768    ,  0.0756    ,  0.0744    ,\n",
       "        0.0744    ,  0.0732    ,  0.072     ,  0.0708    ,  0.0696    ,\n",
       "        0.0696    ,  0.0684    ,  0.0672    ,  0.066     ,  0.066     ,\n",
       "        0.0648    ,  0.0636    ,  0.0636    ,  0.0624    ,  0.0612    ,\n",
       "        0.0612    ,  0.06      ,  0.06      ,  0.0588    ,  0.0588    ,\n",
       "       15.41871111,  0.0564    ,  0.0564    ,  0.0552    ,  0.0552    ,\n",
       "        0.054     ,  0.054     ,  0.054     ,  0.0528    ,  0.0528    ])"
      ]
     },
     "execution_count": 47,
     "metadata": {},
     "output_type": "execute_result"
    }
   ],
   "source": [
    "f0_fe_2_fe=f0_fe_2/fe\n",
    "f0_fe_2_fe"
   ]
  },
  {
   "cell_type": "markdown",
   "metadata": {},
   "source": [
    "# Partido Libre"
   ]
  },
  {
   "cell_type": "code",
   "execution_count": 48,
   "metadata": {},
   "outputs": [
    {
     "data": {
      "text/plain": [
       "88.93969134350026"
      ]
     },
     "execution_count": 48,
     "metadata": {},
     "output_type": "execute_result"
    }
   ],
   "source": [
    "x_2 = f0_fe_2_fe.sum()\n",
    "x_2 "
   ]
  },
  {
   "cell_type": "code",
   "execution_count": 49,
   "metadata": {},
   "outputs": [],
   "source": [
    "letters = {}\n",
    "\n",
    "for i in range(9,99):\n",
    "    letters[str(i+1)] = 0\n",
    "    \n",
    "list_of_nums = tot\n",
    "for n in list_of_nums:\n",
    "    first_digit = str(n)[0]+str(n)[1]\n",
    "    letters[first_digit] += 1\n",
    "y = [round(val / nfib, 4) for val in letters.values()]\n",
    "fre_relativa = y\n",
    "y = list(letters.values())\n",
    "f0= y\n",
    "x = list(letters.keys())\n",
    "y =  [round(math.log10(1+(1/int(val))), 4) for val in letters.keys()]\n",
    "benford = y"
   ]
  },
  {
   "cell_type": "code",
   "execution_count": 50,
   "metadata": {},
   "outputs": [
    {
     "data": {
      "text/plain": [
       "array([0, 0, 0, 1, 0, 0, 1, 0, 0, 0, 0, 1, 0, 0, 0, 0, 0, 0, 2, 0, 0, 0,\n",
       "       0, 0, 0, 0, 0, 0, 1, 0, 0, 0, 0, 0, 0, 0, 0, 1, 0, 0, 0, 0, 0, 0,\n",
       "       0, 0, 0, 0, 0, 0, 0, 0, 0, 0, 0, 1, 0, 0, 0, 0, 1, 0, 0, 0, 0, 0,\n",
       "       0, 0, 0, 0, 0, 0, 0, 0, 0, 0, 0, 0, 0, 1, 0, 0, 1, 0, 0, 0, 0, 0,\n",
       "       0, 1])"
      ]
     },
     "execution_count": 50,
     "metadata": {},
     "output_type": "execute_result"
    }
   ],
   "source": [
    "f0 = np.array(f0)\n",
    "f0"
   ]
  },
  {
   "cell_type": "code",
   "execution_count": 51,
   "metadata": {},
   "outputs": [
    {
     "data": {
      "text/plain": [
       "array([0.   , 0.   , 0.   , 0.002, 0.   , 0.   , 0.002, 0.   , 0.   ,\n",
       "       0.   , 0.   , 0.002, 0.   , 0.   , 0.   , 0.   , 0.   , 0.   ,\n",
       "       0.004, 0.   , 0.   , 0.   , 0.   , 0.   , 0.   , 0.   , 0.   ,\n",
       "       0.   , 0.002, 0.   , 0.   , 0.   , 0.   , 0.   , 0.   , 0.   ,\n",
       "       0.   , 0.002, 0.   , 0.   , 0.   , 0.   , 0.   , 0.   , 0.   ,\n",
       "       0.   , 0.   , 0.   , 0.   , 0.   , 0.   , 0.   , 0.   , 0.   ,\n",
       "       0.   , 0.002, 0.   , 0.   , 0.   , 0.   , 0.002, 0.   , 0.   ,\n",
       "       0.   , 0.   , 0.   , 0.   , 0.   , 0.   , 0.   , 0.   , 0.   ,\n",
       "       0.   , 0.   , 0.   , 0.   , 0.   , 0.   , 0.   , 0.002, 0.   ,\n",
       "       0.   , 0.002, 0.   , 0.   , 0.   , 0.   , 0.   , 0.   , 0.002])"
      ]
     },
     "execution_count": 51,
     "metadata": {},
     "output_type": "execute_result"
    }
   ],
   "source": [
    "fre_relativa = np.array(fre_relativa)\n",
    "fre_relativa "
   ]
  },
  {
   "cell_type": "code",
   "execution_count": 52,
   "metadata": {},
   "outputs": [
    {
     "data": {
      "text/plain": [
       "array([0.0414, 0.0378, 0.0348, 0.0322, 0.03  , 0.028 , 0.0263, 0.0248,\n",
       "       0.0235, 0.0223, 0.0212, 0.0202, 0.0193, 0.0185, 0.0177, 0.017 ,\n",
       "       0.0164, 0.0158, 0.0152, 0.0147, 0.0142, 0.0138, 0.0134, 0.013 ,\n",
       "       0.0126, 0.0122, 0.0119, 0.0116, 0.0113, 0.011 , 0.0107, 0.0105,\n",
       "       0.0102, 0.01  , 0.0098, 0.0095, 0.0093, 0.0091, 0.009 , 0.0088,\n",
       "       0.0086, 0.0084, 0.0083, 0.0081, 0.008 , 0.0078, 0.0077, 0.0076,\n",
       "       0.0074, 0.0073, 0.0072, 0.0071, 0.0069, 0.0068, 0.0067, 0.0066,\n",
       "       0.0065, 0.0064, 0.0063, 0.0062, 0.0062, 0.0061, 0.006 , 0.0059,\n",
       "       0.0058, 0.0058, 0.0057, 0.0056, 0.0055, 0.0055, 0.0054, 0.0053,\n",
       "       0.0053, 0.0052, 0.0051, 0.0051, 0.005 , 0.005 , 0.0049, 0.0049,\n",
       "       0.0048, 0.0047, 0.0047, 0.0046, 0.0046, 0.0045, 0.0045, 0.0045,\n",
       "       0.0044, 0.0044])"
      ]
     },
     "execution_count": 52,
     "metadata": {},
     "output_type": "execute_result"
    }
   ],
   "source": [
    "benford = np.array(benford)\n",
    "benford"
   ]
  },
  {
   "cell_type": "code",
   "execution_count": 53,
   "metadata": {},
   "outputs": [
    {
     "data": {
      "text/plain": [
       "12"
      ]
     },
     "execution_count": 53,
     "metadata": {},
     "output_type": "execute_result"
    }
   ],
   "source": [
    "f0_tot=f0.sum()\n",
    "f0_tot"
   ]
  },
  {
   "cell_type": "code",
   "execution_count": 54,
   "metadata": {},
   "outputs": [],
   "source": [
    "fe = benford*f0_tot"
   ]
  },
  {
   "cell_type": "code",
   "execution_count": 55,
   "metadata": {},
   "outputs": [
    {
     "data": {
      "text/plain": [
       "array([0.4968, 0.4536, 0.4176, 0.3864, 0.36  , 0.336 , 0.3156, 0.2976,\n",
       "       0.282 , 0.2676, 0.2544, 0.2424, 0.2316, 0.222 , 0.2124, 0.204 ,\n",
       "       0.1968, 0.1896, 0.1824, 0.1764, 0.1704, 0.1656, 0.1608, 0.156 ,\n",
       "       0.1512, 0.1464, 0.1428, 0.1392, 0.1356, 0.132 , 0.1284, 0.126 ,\n",
       "       0.1224, 0.12  , 0.1176, 0.114 , 0.1116, 0.1092, 0.108 , 0.1056,\n",
       "       0.1032, 0.1008, 0.0996, 0.0972, 0.096 , 0.0936, 0.0924, 0.0912,\n",
       "       0.0888, 0.0876, 0.0864, 0.0852, 0.0828, 0.0816, 0.0804, 0.0792,\n",
       "       0.078 , 0.0768, 0.0756, 0.0744, 0.0744, 0.0732, 0.072 , 0.0708,\n",
       "       0.0696, 0.0696, 0.0684, 0.0672, 0.066 , 0.066 , 0.0648, 0.0636,\n",
       "       0.0636, 0.0624, 0.0612, 0.0612, 0.06  , 0.06  , 0.0588, 0.0588,\n",
       "       0.0576, 0.0564, 0.0564, 0.0552, 0.0552, 0.054 , 0.054 , 0.054 ,\n",
       "       0.0528, 0.0528])"
      ]
     },
     "execution_count": 55,
     "metadata": {},
     "output_type": "execute_result"
    }
   ],
   "source": [
    "fe "
   ]
  },
  {
   "cell_type": "code",
   "execution_count": 56,
   "metadata": {},
   "outputs": [
    {
     "data": {
      "text/plain": [
       "11.9988"
      ]
     },
     "execution_count": 56,
     "metadata": {},
     "output_type": "execute_result"
    }
   ],
   "source": [
    "fe.sum()"
   ]
  },
  {
   "cell_type": "code",
   "execution_count": 57,
   "metadata": {},
   "outputs": [
    {
     "data": {
      "text/plain": [
       "array([-0.0414, -0.0378, -0.0348, -0.0302, -0.03  , -0.028 , -0.0243,\n",
       "       -0.0248, -0.0235, -0.0223, -0.0212, -0.0182, -0.0193, -0.0185,\n",
       "       -0.0177, -0.017 , -0.0164, -0.0158, -0.0112, -0.0147, -0.0142,\n",
       "       -0.0138, -0.0134, -0.013 , -0.0126, -0.0122, -0.0119, -0.0116,\n",
       "       -0.0093, -0.011 , -0.0107, -0.0105, -0.0102, -0.01  , -0.0098,\n",
       "       -0.0095, -0.0093, -0.0071, -0.009 , -0.0088, -0.0086, -0.0084,\n",
       "       -0.0083, -0.0081, -0.008 , -0.0078, -0.0077, -0.0076, -0.0074,\n",
       "       -0.0073, -0.0072, -0.0071, -0.0069, -0.0068, -0.0067, -0.0046,\n",
       "       -0.0065, -0.0064, -0.0063, -0.0062, -0.0042, -0.0061, -0.006 ,\n",
       "       -0.0059, -0.0058, -0.0058, -0.0057, -0.0056, -0.0055, -0.0055,\n",
       "       -0.0054, -0.0053, -0.0053, -0.0052, -0.0051, -0.0051, -0.005 ,\n",
       "       -0.005 , -0.0049, -0.0029, -0.0048, -0.0047, -0.0027, -0.0046,\n",
       "       -0.0046, -0.0045, -0.0045, -0.0045, -0.0044, -0.0024])"
      ]
     },
     "execution_count": 57,
     "metadata": {},
     "output_type": "execute_result"
    }
   ],
   "source": [
    "diferencia = fre_relativa - benford\n",
    "diferencia "
   ]
  },
  {
   "cell_type": "code",
   "execution_count": 58,
   "metadata": {},
   "outputs": [
    {
     "data": {
      "text/plain": [
       "-0.9758999999999999"
      ]
     },
     "execution_count": 58,
     "metadata": {},
     "output_type": "execute_result"
    }
   ],
   "source": [
    "diferencia.sum()"
   ]
  },
  {
   "cell_type": "code",
   "execution_count": 59,
   "metadata": {},
   "outputs": [],
   "source": [
    "f0_fe= (f0-fe)"
   ]
  },
  {
   "cell_type": "code",
   "execution_count": 60,
   "metadata": {},
   "outputs": [],
   "source": [
    "f0_fe_2 = f0_fe*f0_fe"
   ]
  },
  {
   "cell_type": "code",
   "execution_count": 61,
   "metadata": {},
   "outputs": [
    {
     "data": {
      "text/plain": [
       "array([ 0.4968    ,  0.4536    ,  0.4176    ,  0.97439172,  0.36      ,\n",
       "        0.336     ,  1.48416781,  0.2976    ,  0.282     ,  0.2676    ,\n",
       "        0.2544    ,  2.36781254,  0.2316    ,  0.222     ,  0.2124    ,\n",
       "        0.204     ,  0.1968    ,  0.1896    , 18.11222456,  0.1764    ,\n",
       "        0.1704    ,  0.1656    ,  0.1608    ,  0.156     ,  0.1512    ,\n",
       "        0.1464    ,  0.1428    ,  0.1392    ,  5.51023127,  0.132     ,\n",
       "        0.1284    ,  0.126     ,  0.1224    ,  0.12      ,  0.1176    ,\n",
       "        0.114     ,  0.1116    ,  7.26670916,  0.108     ,  0.1056    ,\n",
       "        0.1032    ,  0.1008    ,  0.0996    ,  0.0972    ,  0.096     ,\n",
       "        0.0936    ,  0.0924    ,  0.0912    ,  0.0888    ,  0.0876    ,\n",
       "        0.0864    ,  0.0852    ,  0.0828    ,  0.0816    ,  0.0804    ,\n",
       "       10.70546263,  0.078     ,  0.0768    ,  0.0756    ,  0.0744    ,\n",
       "       11.51526022,  0.0732    ,  0.072     ,  0.0708    ,  0.0696    ,\n",
       "        0.0696    ,  0.0684    ,  0.0672    ,  0.066     ,  0.066     ,\n",
       "        0.0648    ,  0.0636    ,  0.0636    ,  0.0624    ,  0.0612    ,\n",
       "        0.0612    ,  0.06      ,  0.06      ,  0.0588    , 15.06560272,\n",
       "        0.0576    ,  0.0564    , 15.78689645,  0.0552    ,  0.0552    ,\n",
       "        0.054     ,  0.054     ,  0.054     ,  0.0528    , 16.99219394])"
      ]
     },
     "execution_count": 61,
     "metadata": {},
     "output_type": "execute_result"
    }
   ],
   "source": [
    "f0_fe_2_fe=f0_fe_2/fe\n",
    "f0_fe_2_fe"
   ]
  },
  {
   "cell_type": "markdown",
   "metadata": {},
   "source": [
    "# Total"
   ]
  },
  {
   "cell_type": "code",
   "execution_count": 62,
   "metadata": {},
   "outputs": [
    {
     "data": {
      "text/plain": [
       "116.08655301008044"
      ]
     },
     "execution_count": 62,
     "metadata": {},
     "output_type": "execute_result"
    }
   ],
   "source": [
    "x_2 = f0_fe_2_fe.sum()\n",
    "x_2 "
   ]
  }
 ],
 "metadata": {
  "kernelspec": {
   "display_name": "Python 3",
   "language": "python",
   "name": "python3"
  },
  "language_info": {
   "codemirror_mode": {
    "name": "ipython",
    "version": 3
   },
   "file_extension": ".py",
   "mimetype": "text/x-python",
   "name": "python",
   "nbconvert_exporter": "python",
   "pygments_lexer": "ipython3",
   "version": "3.8.3"
  }
 },
 "nbformat": 4,
 "nbformat_minor": 4
}
