{
 "cells": [
  {
   "cell_type": "code",
   "execution_count": 1,
   "metadata": {},
   "outputs": [],
   "source": [
    "import matplotlib.pyplot as plt\n",
    "import numpy as np\n",
    "import math\n",
    "import pandas as pd \n",
    "letters = {\n",
    "    '1': 0,\n",
    "    '2': 0,\n",
    "    '3': 0,\n",
    "    '4': 0,\n",
    "    '5': 0,\n",
    "    '6': 0,\n",
    "    '7': 0,\n",
    "    '8': 0,\n",
    "    '9': 0\n",
    "}\n",
    "\n",
    "colours = [ # different shades of green\n",
    "    '#04ff00',\n",
    "    '#03e000',\n",
    "    '#03bf00',\n",
    "    '#02a300',\n",
    "    '#028700',\n",
    "    '#016b00',\n",
    "    '#015100',\n",
    "    '#003800',\n",
    "    '#002100'\n",
    "]\n",
    "\n",
    "nfib = 500"
   ]
  },
  {
   "cell_type": "code",
   "execution_count": 2,
   "metadata": {},
   "outputs": [
    {
     "data": {
      "text/html": [
       "<div>\n",
       "<style scoped>\n",
       "    .dataframe tbody tr th:only-of-type {\n",
       "        vertical-align: middle;\n",
       "    }\n",
       "\n",
       "    .dataframe tbody tr th {\n",
       "        vertical-align: top;\n",
       "    }\n",
       "\n",
       "    .dataframe thead th {\n",
       "        text-align: right;\n",
       "    }\n",
       "</style>\n",
       "<table border=\"1\" class=\"dataframe\">\n",
       "  <thead>\n",
       "    <tr style=\"text-align: right;\">\n",
       "      <th></th>\n",
       "      <th>PL</th>\n",
       "      <th>PN</th>\n",
       "      <th>LIBRE-PINU</th>\n",
       "      <th>TOTAL</th>\n",
       "    </tr>\n",
       "  </thead>\n",
       "  <tbody>\n",
       "    <tr>\n",
       "      <th>0</th>\n",
       "      <td>1887</td>\n",
       "      <td>13367</td>\n",
       "      <td>4992</td>\n",
       "      <td>20364</td>\n",
       "    </tr>\n",
       "    <tr>\n",
       "      <th>1</th>\n",
       "      <td>903</td>\n",
       "      <td>2235</td>\n",
       "      <td>893</td>\n",
       "      <td>4069</td>\n",
       "    </tr>\n",
       "    <tr>\n",
       "      <th>2</th>\n",
       "      <td>36</td>\n",
       "      <td>1853</td>\n",
       "      <td>1886</td>\n",
       "      <td>3800</td>\n",
       "    </tr>\n",
       "    <tr>\n",
       "      <th>3</th>\n",
       "      <td>151</td>\n",
       "      <td>2303</td>\n",
       "      <td>757</td>\n",
       "      <td>3241</td>\n",
       "    </tr>\n",
       "    <tr>\n",
       "      <th>4</th>\n",
       "      <td>839</td>\n",
       "      <td>4340</td>\n",
       "      <td>2988</td>\n",
       "      <td>8212</td>\n",
       "    </tr>\n",
       "    <tr>\n",
       "      <th>5</th>\n",
       "      <td>415</td>\n",
       "      <td>2887</td>\n",
       "      <td>966</td>\n",
       "      <td>4333</td>\n",
       "    </tr>\n",
       "    <tr>\n",
       "      <th>6</th>\n",
       "      <td>753</td>\n",
       "      <td>2092</td>\n",
       "      <td>912</td>\n",
       "      <td>3783</td>\n",
       "    </tr>\n",
       "    <tr>\n",
       "      <th>7</th>\n",
       "      <td>857</td>\n",
       "      <td>2226</td>\n",
       "      <td>534</td>\n",
       "      <td>3633</td>\n",
       "    </tr>\n",
       "    <tr>\n",
       "      <th>8</th>\n",
       "      <td>1459</td>\n",
       "      <td>6169</td>\n",
       "      <td>2514</td>\n",
       "      <td>10254</td>\n",
       "    </tr>\n",
       "    <tr>\n",
       "      <th>9</th>\n",
       "      <td>243</td>\n",
       "      <td>2714</td>\n",
       "      <td>1895</td>\n",
       "      <td>4873</td>\n",
       "    </tr>\n",
       "    <tr>\n",
       "      <th>10</th>\n",
       "      <td>372</td>\n",
       "      <td>3767</td>\n",
       "      <td>2910</td>\n",
       "      <td>7085</td>\n",
       "    </tr>\n",
       "    <tr>\n",
       "      <th>11</th>\n",
       "      <td>32</td>\n",
       "      <td>2251</td>\n",
       "      <td>1625</td>\n",
       "      <td>3918</td>\n",
       "    </tr>\n",
       "    <tr>\n",
       "      <th>12</th>\n",
       "      <td>420</td>\n",
       "      <td>9552</td>\n",
       "      <td>6145</td>\n",
       "      <td>16216</td>\n",
       "    </tr>\n",
       "    <tr>\n",
       "      <th>13</th>\n",
       "      <td>178</td>\n",
       "      <td>1159</td>\n",
       "      <td>1263</td>\n",
       "      <td>2624</td>\n",
       "    </tr>\n",
       "    <tr>\n",
       "      <th>14</th>\n",
       "      <td>132</td>\n",
       "      <td>3078</td>\n",
       "      <td>1359</td>\n",
       "      <td>4638</td>\n",
       "    </tr>\n",
       "    <tr>\n",
       "      <th>15</th>\n",
       "      <td>365</td>\n",
       "      <td>3947</td>\n",
       "      <td>1748</td>\n",
       "      <td>6187</td>\n",
       "    </tr>\n",
       "    <tr>\n",
       "      <th>16</th>\n",
       "      <td>118</td>\n",
       "      <td>2260</td>\n",
       "      <td>1935</td>\n",
       "      <td>4342</td>\n",
       "    </tr>\n",
       "    <tr>\n",
       "      <th>17</th>\n",
       "      <td>263</td>\n",
       "      <td>730</td>\n",
       "      <td>363</td>\n",
       "      <td>1378</td>\n",
       "    </tr>\n",
       "    <tr>\n",
       "      <th>18</th>\n",
       "      <td>1290</td>\n",
       "      <td>4399</td>\n",
       "      <td>1186</td>\n",
       "      <td>6911</td>\n",
       "    </tr>\n",
       "    <tr>\n",
       "      <th>19</th>\n",
       "      <td>328</td>\n",
       "      <td>3561</td>\n",
       "      <td>2411</td>\n",
       "      <td>6369</td>\n",
       "    </tr>\n",
       "    <tr>\n",
       "      <th>20</th>\n",
       "      <td>457</td>\n",
       "      <td>2874</td>\n",
       "      <td>1107</td>\n",
       "      <td>4494</td>\n",
       "    </tr>\n",
       "    <tr>\n",
       "      <th>21</th>\n",
       "      <td>1316</td>\n",
       "      <td>1861</td>\n",
       "      <td>417</td>\n",
       "      <td>3605</td>\n",
       "    </tr>\n",
       "    <tr>\n",
       "      <th>22</th>\n",
       "      <td>154</td>\n",
       "      <td>2279</td>\n",
       "      <td>1512</td>\n",
       "      <td>3973</td>\n",
       "    </tr>\n",
       "    <tr>\n",
       "      <th>23</th>\n",
       "      <td>37</td>\n",
       "      <td>1153</td>\n",
       "      <td>445</td>\n",
       "      <td>1752</td>\n",
       "    </tr>\n",
       "    <tr>\n",
       "      <th>24</th>\n",
       "      <td>48</td>\n",
       "      <td>2415</td>\n",
       "      <td>929</td>\n",
       "      <td>3407</td>\n",
       "    </tr>\n",
       "    <tr>\n",
       "      <th>25</th>\n",
       "      <td>39</td>\n",
       "      <td>1719</td>\n",
       "      <td>395</td>\n",
       "      <td>2165</td>\n",
       "    </tr>\n",
       "    <tr>\n",
       "      <th>26</th>\n",
       "      <td>24</td>\n",
       "      <td>812</td>\n",
       "      <td>971</td>\n",
       "      <td>1822</td>\n",
       "    </tr>\n",
       "    <tr>\n",
       "      <th>27</th>\n",
       "      <td>439</td>\n",
       "      <td>1153</td>\n",
       "      <td>1386</td>\n",
       "      <td>2998</td>\n",
       "    </tr>\n",
       "  </tbody>\n",
       "</table>\n",
       "</div>"
      ],
      "text/plain": [
       "      PL     PN  LIBRE-PINU  TOTAL\n",
       "0   1887  13367        4992  20364\n",
       "1    903   2235         893   4069\n",
       "2     36   1853        1886   3800\n",
       "3    151   2303         757   3241\n",
       "4    839   4340        2988   8212\n",
       "5    415   2887         966   4333\n",
       "6    753   2092         912   3783\n",
       "7    857   2226         534   3633\n",
       "8   1459   6169        2514  10254\n",
       "9    243   2714        1895   4873\n",
       "10   372   3767        2910   7085\n",
       "11    32   2251        1625   3918\n",
       "12   420   9552        6145  16216\n",
       "13   178   1159        1263   2624\n",
       "14   132   3078        1359   4638\n",
       "15   365   3947        1748   6187\n",
       "16   118   2260        1935   4342\n",
       "17   263    730         363   1378\n",
       "18  1290   4399        1186   6911\n",
       "19   328   3561        2411   6369\n",
       "20   457   2874        1107   4494\n",
       "21  1316   1861         417   3605\n",
       "22   154   2279        1512   3973\n",
       "23    37   1153         445   1752\n",
       "24    48   2415         929   3407\n",
       "25    39   1719         395   2165\n",
       "26    24    812         971   1822\n",
       "27   439   1153        1386   2998"
      ]
     },
     "execution_count": 2,
     "metadata": {},
     "output_type": "execute_result"
    }
   ],
   "source": [
    "df = pd.read_csv(\"https://docs.google.com/spreadsheets/d/1HCvzhYjTDoj04gFf14v09zri_ZcSogTe/export?format=csv\")\n",
    "df"
   ]
  },
  {
   "cell_type": "code",
   "execution_count": 3,
   "metadata": {},
   "outputs": [
    {
     "data": {
      "text/plain": [
       "[1887,\n",
       " 903,\n",
       " 36,\n",
       " 151,\n",
       " 839,\n",
       " 415,\n",
       " 753,\n",
       " 857,\n",
       " 1459,\n",
       " 243,\n",
       " 372,\n",
       " 32,\n",
       " 420,\n",
       " 178,\n",
       " 132,\n",
       " 365,\n",
       " 118,\n",
       " 263,\n",
       " 1290,\n",
       " 328,\n",
       " 457,\n",
       " 1316,\n",
       " 154,\n",
       " 37,\n",
       " 48,\n",
       " 39,\n",
       " 24,\n",
       " 439]"
      ]
     },
     "execution_count": 3,
     "metadata": {},
     "output_type": "execute_result"
    }
   ],
   "source": [
    "pl = []\n",
    "for i in df['PL']:\n",
    "    pl.append(i)\n",
    "pl"
   ]
  },
  {
   "cell_type": "code",
   "execution_count": 4,
   "metadata": {},
   "outputs": [
    {
     "data": {
      "text/plain": [
       "[13367,\n",
       " 2235,\n",
       " 1853,\n",
       " 2303,\n",
       " 4340,\n",
       " 2887,\n",
       " 2092,\n",
       " 2226,\n",
       " 6169,\n",
       " 2714,\n",
       " 3767,\n",
       " 2251,\n",
       " 9552,\n",
       " 1159,\n",
       " 3078,\n",
       " 3947,\n",
       " 2260,\n",
       " 730,\n",
       " 4399,\n",
       " 3561,\n",
       " 2874,\n",
       " 1861,\n",
       " 2279,\n",
       " 1153,\n",
       " 2415,\n",
       " 1719,\n",
       " 812,\n",
       " 1153]"
      ]
     },
     "execution_count": 4,
     "metadata": {},
     "output_type": "execute_result"
    }
   ],
   "source": [
    "pn = []\n",
    "for i in df['PN']:\n",
    "    pn.append(i)\n",
    "pn"
   ]
  },
  {
   "cell_type": "code",
   "execution_count": 5,
   "metadata": {},
   "outputs": [
    {
     "data": {
      "text/plain": [
       "[4992,\n",
       " 893,\n",
       " 1886,\n",
       " 757,\n",
       " 2988,\n",
       " 966,\n",
       " 912,\n",
       " 534,\n",
       " 2514,\n",
       " 1895,\n",
       " 2910,\n",
       " 1625,\n",
       " 6145,\n",
       " 1263,\n",
       " 1359,\n",
       " 1748,\n",
       " 1935,\n",
       " 363,\n",
       " 1186,\n",
       " 2411,\n",
       " 1107,\n",
       " 417,\n",
       " 1512,\n",
       " 445,\n",
       " 929,\n",
       " 395,\n",
       " 971,\n",
       " 1386]"
      ]
     },
     "execution_count": 5,
     "metadata": {},
     "output_type": "execute_result"
    }
   ],
   "source": [
    "pli = []\n",
    "for i in df['LIBRE-PINU']:\n",
    "    pli.append(i)\n",
    "pli"
   ]
  },
  {
   "cell_type": "code",
   "execution_count": 6,
   "metadata": {},
   "outputs": [
    {
     "data": {
      "text/plain": [
       "[20364,\n",
       " 4069,\n",
       " 3800,\n",
       " 3241,\n",
       " 8212,\n",
       " 4333,\n",
       " 3783,\n",
       " 3633,\n",
       " 10254,\n",
       " 4873,\n",
       " 7085,\n",
       " 3918,\n",
       " 16216,\n",
       " 2624,\n",
       " 4638,\n",
       " 6187,\n",
       " 4342,\n",
       " 1378,\n",
       " 6911,\n",
       " 6369,\n",
       " 4494,\n",
       " 3605,\n",
       " 3973,\n",
       " 1752,\n",
       " 3407,\n",
       " 2165,\n",
       " 1822,\n",
       " 2998]"
      ]
     },
     "execution_count": 6,
     "metadata": {},
     "output_type": "execute_result"
    }
   ],
   "source": [
    "tot = []\n",
    "for i in df['TOTAL']:\n",
    "    tot.append(i)\n",
    "tot"
   ]
  },
  {
   "cell_type": "code",
   "execution_count": 7,
   "metadata": {},
   "outputs": [],
   "source": [
    "def GenerarFibonacci(n):\n",
    "    a, b = 0, 1\n",
    "\n",
    "    l = []\n",
    "\n",
    "    for i in range(n):\n",
    "        a, b = b, a + b\n",
    "\n",
    "        l.append(a)\n",
    "\n",
    "    return l"
   ]
  },
  {
   "cell_type": "code",
   "execution_count": 8,
   "metadata": {},
   "outputs": [],
   "source": [
    "list_of_nums = pl\n",
    "for n in list_of_nums:\n",
    "    first_digit = str(n)[0]\n",
    "    letters[first_digit] += 1\n",
    "y = [round(val / nfib, 4) for val in letters.values()]\n",
    "fre_relativa = y\n",
    "y = list(letters.values())\n",
    "f0= y\n",
    "x = list(letters.keys())\n",
    "y =  [round(math.log10(1+(1/int(val))), 4) for val in letters.keys()]\n",
    "benford = y"
   ]
  },
  {
   "cell_type": "code",
   "execution_count": 9,
   "metadata": {},
   "outputs": [
    {
     "data": {
      "text/plain": [
       "array([9, 3, 7, 5, 0, 0, 1, 2, 1])"
      ]
     },
     "execution_count": 9,
     "metadata": {},
     "output_type": "execute_result"
    }
   ],
   "source": [
    "f0 = np.array(f0)\n",
    "f0"
   ]
  },
  {
   "cell_type": "code",
   "execution_count": 10,
   "metadata": {},
   "outputs": [
    {
     "data": {
      "text/plain": [
       "array([0.018, 0.006, 0.014, 0.01 , 0.   , 0.   , 0.002, 0.004, 0.002])"
      ]
     },
     "execution_count": 10,
     "metadata": {},
     "output_type": "execute_result"
    }
   ],
   "source": [
    "fre_relativa = np.array(fre_relativa)\n",
    "fre_relativa "
   ]
  },
  {
   "cell_type": "code",
   "execution_count": 11,
   "metadata": {},
   "outputs": [
    {
     "data": {
      "text/plain": [
       "array([0.301 , 0.1761, 0.1249, 0.0969, 0.0792, 0.0669, 0.058 , 0.0512,\n",
       "       0.0458])"
      ]
     },
     "execution_count": 11,
     "metadata": {},
     "output_type": "execute_result"
    }
   ],
   "source": [
    "benford = np.array(benford)\n",
    "benford"
   ]
  },
  {
   "cell_type": "code",
   "execution_count": 12,
   "metadata": {},
   "outputs": [
    {
     "data": {
      "text/plain": [
       "28"
      ]
     },
     "execution_count": 12,
     "metadata": {},
     "output_type": "execute_result"
    }
   ],
   "source": [
    "f0_tot=f0.sum()\n",
    "f0_tot"
   ]
  },
  {
   "cell_type": "code",
   "execution_count": 13,
   "metadata": {},
   "outputs": [],
   "source": [
    "fe = benford*f0_tot"
   ]
  },
  {
   "cell_type": "code",
   "execution_count": 14,
   "metadata": {},
   "outputs": [
    {
     "data": {
      "text/plain": [
       "array([8.428 , 4.9308, 3.4972, 2.7132, 2.2176, 1.8732, 1.624 , 1.4336,\n",
       "       1.2824])"
      ]
     },
     "execution_count": 14,
     "metadata": {},
     "output_type": "execute_result"
    }
   ],
   "source": [
    "fe "
   ]
  },
  {
   "cell_type": "code",
   "execution_count": 15,
   "metadata": {},
   "outputs": [
    {
     "data": {
      "text/plain": [
       "27.999999999999996"
      ]
     },
     "execution_count": 15,
     "metadata": {},
     "output_type": "execute_result"
    }
   ],
   "source": [
    "fe.sum()"
   ]
  },
  {
   "cell_type": "code",
   "execution_count": 16,
   "metadata": {},
   "outputs": [
    {
     "data": {
      "text/plain": [
       "array([-0.283 , -0.1701, -0.1109, -0.0869, -0.0792, -0.0669, -0.056 ,\n",
       "       -0.0472, -0.0438])"
      ]
     },
     "execution_count": 16,
     "metadata": {},
     "output_type": "execute_result"
    }
   ],
   "source": [
    "diferencia = fre_relativa - benford\n",
    "diferencia "
   ]
  },
  {
   "cell_type": "code",
   "execution_count": 17,
   "metadata": {},
   "outputs": [
    {
     "data": {
      "text/plain": [
       "-0.9439999999999998"
      ]
     },
     "execution_count": 17,
     "metadata": {},
     "output_type": "execute_result"
    }
   ],
   "source": [
    "diferencia.sum()"
   ]
  },
  {
   "cell_type": "code",
   "execution_count": 18,
   "metadata": {},
   "outputs": [],
   "source": [
    "f0_fe= (f0-fe)"
   ]
  },
  {
   "cell_type": "code",
   "execution_count": 19,
   "metadata": {},
   "outputs": [],
   "source": [
    "f0_fe_2 = f0_fe*f0_fe"
   ]
  },
  {
   "cell_type": "code",
   "execution_count": 20,
   "metadata": {},
   "outputs": [
    {
     "data": {
      "text/plain": [
       "array([0.03882107, 0.75606162, 3.50840897, 1.927412  , 2.2176    ,\n",
       "       1.8732    , 0.23976355, 0.22377857, 0.0621879 ])"
      ]
     },
     "execution_count": 20,
     "metadata": {},
     "output_type": "execute_result"
    }
   ],
   "source": [
    "f0_fe_2_fe=f0_fe_2/fe\n",
    "f0_fe_2_fe"
   ]
  },
  {
   "cell_type": "markdown",
   "metadata": {},
   "source": [
    "# Partido Liberal"
   ]
  },
  {
   "cell_type": "code",
   "execution_count": 21,
   "metadata": {},
   "outputs": [
    {
     "data": {
      "text/plain": [
       "10.847233677129292"
      ]
     },
     "execution_count": 21,
     "metadata": {},
     "output_type": "execute_result"
    }
   ],
   "source": [
    "x_2 = f0_fe_2_fe.sum()\n",
    "x_2 "
   ]
  },
  {
   "cell_type": "code",
   "execution_count": 22,
   "metadata": {},
   "outputs": [],
   "source": [
    "letters = {\n",
    "    '1': 0,\n",
    "    '2': 0,\n",
    "    '3': 0,\n",
    "    '4': 0,\n",
    "    '5': 0,\n",
    "    '6': 0,\n",
    "    '7': 0,\n",
    "    '8': 0,\n",
    "    '9': 0\n",
    "}\n",
    "list_of_nums = pn\n",
    "for n in list_of_nums:\n",
    "    first_digit = str(n)[0]\n",
    "    letters[first_digit] += 1\n",
    "y = [round(val / nfib, 4) for val in letters.values()]\n",
    "fre_relativa = y\n",
    "y = list(letters.values())\n",
    "f0= y\n",
    "x = list(letters.keys())\n",
    "y =  [round(math.log10(1+(1/int(val))), 4) for val in letters.keys()]\n",
    "benford = y"
   ]
  },
  {
   "cell_type": "code",
   "execution_count": 23,
   "metadata": {},
   "outputs": [
    {
     "data": {
      "text/plain": [
       "array([ 7, 11,  4,  2,  0,  1,  1,  1,  1])"
      ]
     },
     "execution_count": 23,
     "metadata": {},
     "output_type": "execute_result"
    }
   ],
   "source": [
    "f0 = np.array(f0)\n",
    "f0"
   ]
  },
  {
   "cell_type": "code",
   "execution_count": 24,
   "metadata": {},
   "outputs": [
    {
     "data": {
      "text/plain": [
       "array([0.014, 0.022, 0.008, 0.004, 0.   , 0.002, 0.002, 0.002, 0.002])"
      ]
     },
     "execution_count": 24,
     "metadata": {},
     "output_type": "execute_result"
    }
   ],
   "source": [
    "fre_relativa = np.array(fre_relativa)\n",
    "fre_relativa "
   ]
  },
  {
   "cell_type": "code",
   "execution_count": 25,
   "metadata": {},
   "outputs": [
    {
     "data": {
      "text/plain": [
       "array([0.301 , 0.1761, 0.1249, 0.0969, 0.0792, 0.0669, 0.058 , 0.0512,\n",
       "       0.0458])"
      ]
     },
     "execution_count": 25,
     "metadata": {},
     "output_type": "execute_result"
    }
   ],
   "source": [
    "benford = np.array(benford)\n",
    "benford"
   ]
  },
  {
   "cell_type": "code",
   "execution_count": 26,
   "metadata": {},
   "outputs": [
    {
     "data": {
      "text/plain": [
       "28"
      ]
     },
     "execution_count": 26,
     "metadata": {},
     "output_type": "execute_result"
    }
   ],
   "source": [
    "f0_tot=f0.sum()\n",
    "f0_tot"
   ]
  },
  {
   "cell_type": "code",
   "execution_count": 27,
   "metadata": {},
   "outputs": [],
   "source": [
    "fe = benford*f0_tot"
   ]
  },
  {
   "cell_type": "code",
   "execution_count": 28,
   "metadata": {},
   "outputs": [
    {
     "data": {
      "text/plain": [
       "array([8.428 , 4.9308, 3.4972, 2.7132, 2.2176, 1.8732, 1.624 , 1.4336,\n",
       "       1.2824])"
      ]
     },
     "execution_count": 28,
     "metadata": {},
     "output_type": "execute_result"
    }
   ],
   "source": [
    "fe "
   ]
  },
  {
   "cell_type": "code",
   "execution_count": 29,
   "metadata": {},
   "outputs": [
    {
     "data": {
      "text/plain": [
       "27.999999999999996"
      ]
     },
     "execution_count": 29,
     "metadata": {},
     "output_type": "execute_result"
    }
   ],
   "source": [
    "fe.sum()"
   ]
  },
  {
   "cell_type": "code",
   "execution_count": 30,
   "metadata": {},
   "outputs": [
    {
     "data": {
      "text/plain": [
       "array([-0.287 , -0.1541, -0.1169, -0.0929, -0.0792, -0.0649, -0.056 ,\n",
       "       -0.0492, -0.0438])"
      ]
     },
     "execution_count": 30,
     "metadata": {},
     "output_type": "execute_result"
    }
   ],
   "source": [
    "diferencia = fre_relativa - benford\n",
    "diferencia "
   ]
  },
  {
   "cell_type": "code",
   "execution_count": 31,
   "metadata": {},
   "outputs": [
    {
     "data": {
      "text/plain": [
       "-0.9440000000000001"
      ]
     },
     "execution_count": 31,
     "metadata": {},
     "output_type": "execute_result"
    }
   ],
   "source": [
    "diferencia.sum()"
   ]
  },
  {
   "cell_type": "code",
   "execution_count": 32,
   "metadata": {},
   "outputs": [],
   "source": [
    "f0_fe= (f0-fe)"
   ]
  },
  {
   "cell_type": "code",
   "execution_count": 33,
   "metadata": {},
   "outputs": [],
   "source": [
    "f0_fe_2 = f0_fe*f0_fe"
   ]
  },
  {
   "cell_type": "code",
   "execution_count": 34,
   "metadata": {},
   "outputs": [
    {
     "data": {
      "text/plain": [
       "array([0.24195349, 7.47042846, 0.07228864, 0.18747392, 2.2176    ,\n",
       "       0.40704583, 0.23976355, 0.13114464, 0.0621879 ])"
      ]
     },
     "execution_count": 34,
     "metadata": {},
     "output_type": "execute_result"
    }
   ],
   "source": [
    "f0_fe_2_fe=f0_fe_2/fe\n",
    "f0_fe_2_fe"
   ]
  },
  {
   "cell_type": "markdown",
   "metadata": {},
   "source": [
    "# Partido Nacional"
   ]
  },
  {
   "cell_type": "code",
   "execution_count": 35,
   "metadata": {},
   "outputs": [
    {
     "data": {
      "text/plain": [
       "11.029886421338272"
      ]
     },
     "execution_count": 35,
     "metadata": {},
     "output_type": "execute_result"
    }
   ],
   "source": [
    "x_2 = f0_fe_2_fe.sum()\n",
    "x_2 "
   ]
  },
  {
   "cell_type": "code",
   "execution_count": 36,
   "metadata": {},
   "outputs": [],
   "source": [
    "letters = {\n",
    "    '1': 0,\n",
    "    '2': 0,\n",
    "    '3': 0,\n",
    "    '4': 0,\n",
    "    '5': 0,\n",
    "    '6': 0,\n",
    "    '7': 0,\n",
    "    '8': 0,\n",
    "    '9': 0\n",
    "}\n",
    "list_of_nums = pli\n",
    "for n in list_of_nums:\n",
    "    first_digit = str(n)[0]\n",
    "    letters[first_digit] += 1\n",
    "y = [round(val / nfib, 4) for val in letters.values()]\n",
    "fre_relativa = y\n",
    "y = list(letters.values())\n",
    "f0= y\n",
    "x = list(letters.keys())\n",
    "y =  [round(math.log10(1+(1/int(val))), 4) for val in letters.keys()]\n",
    "benford = y"
   ]
  },
  {
   "cell_type": "code",
   "execution_count": 37,
   "metadata": {},
   "outputs": [
    {
     "data": {
      "text/plain": [
       "array([11,  4,  2,  3,  1,  1,  1,  1,  4])"
      ]
     },
     "execution_count": 37,
     "metadata": {},
     "output_type": "execute_result"
    }
   ],
   "source": [
    "f0 = np.array(f0)\n",
    "f0"
   ]
  },
  {
   "cell_type": "code",
   "execution_count": 38,
   "metadata": {},
   "outputs": [
    {
     "data": {
      "text/plain": [
       "array([0.022, 0.008, 0.004, 0.006, 0.002, 0.002, 0.002, 0.002, 0.008])"
      ]
     },
     "execution_count": 38,
     "metadata": {},
     "output_type": "execute_result"
    }
   ],
   "source": [
    "fre_relativa = np.array(fre_relativa)\n",
    "fre_relativa "
   ]
  },
  {
   "cell_type": "code",
   "execution_count": 39,
   "metadata": {},
   "outputs": [
    {
     "data": {
      "text/plain": [
       "array([0.301 , 0.1761, 0.1249, 0.0969, 0.0792, 0.0669, 0.058 , 0.0512,\n",
       "       0.0458])"
      ]
     },
     "execution_count": 39,
     "metadata": {},
     "output_type": "execute_result"
    }
   ],
   "source": [
    "benford = np.array(benford)\n",
    "benford"
   ]
  },
  {
   "cell_type": "code",
   "execution_count": 40,
   "metadata": {},
   "outputs": [
    {
     "data": {
      "text/plain": [
       "28"
      ]
     },
     "execution_count": 40,
     "metadata": {},
     "output_type": "execute_result"
    }
   ],
   "source": [
    "f0_tot=f0.sum()\n",
    "f0_tot"
   ]
  },
  {
   "cell_type": "code",
   "execution_count": 41,
   "metadata": {},
   "outputs": [],
   "source": [
    "fe = benford*f0_tot"
   ]
  },
  {
   "cell_type": "code",
   "execution_count": 42,
   "metadata": {},
   "outputs": [
    {
     "data": {
      "text/plain": [
       "array([8.428 , 4.9308, 3.4972, 2.7132, 2.2176, 1.8732, 1.624 , 1.4336,\n",
       "       1.2824])"
      ]
     },
     "execution_count": 42,
     "metadata": {},
     "output_type": "execute_result"
    }
   ],
   "source": [
    "fe "
   ]
  },
  {
   "cell_type": "code",
   "execution_count": 43,
   "metadata": {},
   "outputs": [
    {
     "data": {
      "text/plain": [
       "27.999999999999996"
      ]
     },
     "execution_count": 43,
     "metadata": {},
     "output_type": "execute_result"
    }
   ],
   "source": [
    "fe.sum()"
   ]
  },
  {
   "cell_type": "code",
   "execution_count": 44,
   "metadata": {},
   "outputs": [
    {
     "data": {
      "text/plain": [
       "array([-0.279 , -0.1681, -0.1209, -0.0909, -0.0772, -0.0649, -0.056 ,\n",
       "       -0.0492, -0.0378])"
      ]
     },
     "execution_count": 44,
     "metadata": {},
     "output_type": "execute_result"
    }
   ],
   "source": [
    "diferencia = fre_relativa - benford\n",
    "diferencia "
   ]
  },
  {
   "cell_type": "code",
   "execution_count": 45,
   "metadata": {},
   "outputs": [
    {
     "data": {
      "text/plain": [
       "-0.944"
      ]
     },
     "execution_count": 45,
     "metadata": {},
     "output_type": "execute_result"
    }
   ],
   "source": [
    "diferencia.sum()"
   ]
  },
  {
   "cell_type": "code",
   "execution_count": 46,
   "metadata": {},
   "outputs": [],
   "source": [
    "f0_fe= (f0-fe)"
   ]
  },
  {
   "cell_type": "code",
   "execution_count": 47,
   "metadata": {},
   "outputs": [],
   "source": [
    "f0_fe_2 = f0_fe*f0_fe"
   ]
  },
  {
   "cell_type": "code",
   "execution_count": 48,
   "metadata": {},
   "outputs": [
    {
     "data": {
      "text/plain": [
       "array([0.78490555, 0.17570955, 0.64097216, 0.03031632, 0.66853795,\n",
       "       0.40704583, 0.23976355, 0.13114464, 5.75900636])"
      ]
     },
     "execution_count": 48,
     "metadata": {},
     "output_type": "execute_result"
    }
   ],
   "source": [
    "f0_fe_2_fe=f0_fe_2/fe\n",
    "f0_fe_2_fe"
   ]
  },
  {
   "cell_type": "markdown",
   "metadata": {},
   "source": [
    "# Partido Libre"
   ]
  },
  {
   "cell_type": "code",
   "execution_count": 49,
   "metadata": {},
   "outputs": [
    {
     "data": {
      "text/plain": [
       "8.83740191085111"
      ]
     },
     "execution_count": 49,
     "metadata": {},
     "output_type": "execute_result"
    }
   ],
   "source": [
    "x_2 = f0_fe_2_fe.sum()\n",
    "x_2 "
   ]
  },
  {
   "cell_type": "code",
   "execution_count": 50,
   "metadata": {},
   "outputs": [],
   "source": [
    "letters = {\n",
    "    '1': 0,\n",
    "    '2': 0,\n",
    "    '3': 0,\n",
    "    '4': 0,\n",
    "    '5': 0,\n",
    "    '6': 0,\n",
    "    '7': 0,\n",
    "    '8': 0,\n",
    "    '9': 0\n",
    "}\n",
    "list_of_nums = tot\n",
    "for n in list_of_nums:\n",
    "    first_digit = str(n)[0]\n",
    "    letters[first_digit] += 1\n",
    "y = [round(val / nfib, 4) for val in letters.values()]\n",
    "fre_relativa = y\n",
    "y = list(letters.values())\n",
    "f0= y\n",
    "x = list(letters.keys())\n",
    "y =  [round(math.log10(1+(1/int(val))), 4) for val in letters.keys()]\n",
    "benford = y"
   ]
  },
  {
   "cell_type": "code",
   "execution_count": 51,
   "metadata": {},
   "outputs": [
    {
     "data": {
      "text/plain": [
       "array([5, 4, 8, 6, 0, 3, 1, 1, 0])"
      ]
     },
     "execution_count": 51,
     "metadata": {},
     "output_type": "execute_result"
    }
   ],
   "source": [
    "f0 = np.array(f0)\n",
    "f0"
   ]
  },
  {
   "cell_type": "code",
   "execution_count": 52,
   "metadata": {},
   "outputs": [
    {
     "data": {
      "text/plain": [
       "array([0.01 , 0.008, 0.016, 0.012, 0.   , 0.006, 0.002, 0.002, 0.   ])"
      ]
     },
     "execution_count": 52,
     "metadata": {},
     "output_type": "execute_result"
    }
   ],
   "source": [
    "fre_relativa = np.array(fre_relativa)\n",
    "fre_relativa "
   ]
  },
  {
   "cell_type": "code",
   "execution_count": 53,
   "metadata": {},
   "outputs": [
    {
     "data": {
      "text/plain": [
       "array([0.301 , 0.1761, 0.1249, 0.0969, 0.0792, 0.0669, 0.058 , 0.0512,\n",
       "       0.0458])"
      ]
     },
     "execution_count": 53,
     "metadata": {},
     "output_type": "execute_result"
    }
   ],
   "source": [
    "benford = np.array(benford)\n",
    "benford"
   ]
  },
  {
   "cell_type": "code",
   "execution_count": 54,
   "metadata": {},
   "outputs": [
    {
     "data": {
      "text/plain": [
       "28"
      ]
     },
     "execution_count": 54,
     "metadata": {},
     "output_type": "execute_result"
    }
   ],
   "source": [
    "f0_tot=f0.sum()\n",
    "f0_tot"
   ]
  },
  {
   "cell_type": "code",
   "execution_count": 55,
   "metadata": {},
   "outputs": [],
   "source": [
    "fe = benford*f0_tot"
   ]
  },
  {
   "cell_type": "code",
   "execution_count": 56,
   "metadata": {},
   "outputs": [
    {
     "data": {
      "text/plain": [
       "array([8.428 , 4.9308, 3.4972, 2.7132, 2.2176, 1.8732, 1.624 , 1.4336,\n",
       "       1.2824])"
      ]
     },
     "execution_count": 56,
     "metadata": {},
     "output_type": "execute_result"
    }
   ],
   "source": [
    "fe "
   ]
  },
  {
   "cell_type": "code",
   "execution_count": 57,
   "metadata": {},
   "outputs": [
    {
     "data": {
      "text/plain": [
       "27.999999999999996"
      ]
     },
     "execution_count": 57,
     "metadata": {},
     "output_type": "execute_result"
    }
   ],
   "source": [
    "fe.sum()"
   ]
  },
  {
   "cell_type": "code",
   "execution_count": 58,
   "metadata": {},
   "outputs": [
    {
     "data": {
      "text/plain": [
       "array([-0.291 , -0.1681, -0.1089, -0.0849, -0.0792, -0.0609, -0.056 ,\n",
       "       -0.0492, -0.0458])"
      ]
     },
     "execution_count": 58,
     "metadata": {},
     "output_type": "execute_result"
    }
   ],
   "source": [
    "diferencia = fre_relativa - benford\n",
    "diferencia "
   ]
  },
  {
   "cell_type": "code",
   "execution_count": 59,
   "metadata": {},
   "outputs": [
    {
     "data": {
      "text/plain": [
       "-0.9439999999999998"
      ]
     },
     "execution_count": 59,
     "metadata": {},
     "output_type": "execute_result"
    }
   ],
   "source": [
    "diferencia.sum()"
   ]
  },
  {
   "cell_type": "code",
   "execution_count": 60,
   "metadata": {},
   "outputs": [],
   "source": [
    "f0_fe= (f0-fe)"
   ]
  },
  {
   "cell_type": "code",
   "execution_count": 61,
   "metadata": {},
   "outputs": [],
   "source": [
    "f0_fe_2 = f0_fe*f0_fe"
   ]
  },
  {
   "cell_type": "code",
   "execution_count": 62,
   "metadata": {},
   "outputs": [
    {
     "data": {
      "text/plain": [
       "array([1.3943028 , 0.17570955, 5.79755457, 3.98166528, 2.2176    ,\n",
       "       0.67781243, 0.23976355, 0.13114464, 1.2824    ])"
      ]
     },
     "execution_count": 62,
     "metadata": {},
     "output_type": "execute_result"
    }
   ],
   "source": [
    "f0_fe_2_fe=f0_fe_2/fe\n",
    "f0_fe_2_fe"
   ]
  },
  {
   "cell_type": "markdown",
   "metadata": {},
   "source": [
    "# Total"
   ]
  },
  {
   "cell_type": "code",
   "execution_count": 63,
   "metadata": {},
   "outputs": [
    {
     "data": {
      "text/plain": [
       "15.897952816141139"
      ]
     },
     "execution_count": 63,
     "metadata": {},
     "output_type": "execute_result"
    }
   ],
   "source": [
    "x_2 = f0_fe_2_fe.sum()\n",
    "x_2 "
   ]
  }
 ],
 "metadata": {
  "kernelspec": {
   "display_name": "Python 3",
   "language": "python",
   "name": "python3"
  },
  "language_info": {
   "codemirror_mode": {
    "name": "ipython",
    "version": 3
   },
   "file_extension": ".py",
   "mimetype": "text/x-python",
   "name": "python",
   "nbconvert_exporter": "python",
   "pygments_lexer": "ipython3",
   "version": "3.8.3"
  }
 },
 "nbformat": 4,
 "nbformat_minor": 4
}
