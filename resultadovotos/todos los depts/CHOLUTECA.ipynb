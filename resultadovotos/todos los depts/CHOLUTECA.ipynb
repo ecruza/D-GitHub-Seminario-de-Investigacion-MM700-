{
 "cells": [
  {
   "cell_type": "code",
   "execution_count": 1,
   "metadata": {},
   "outputs": [],
   "source": [
    "import matplotlib.pyplot as plt\n",
    "import numpy as np\n",
    "import math\n",
    "import pandas as pd \n",
    "letters = {\n",
    "    '1': 0,\n",
    "    '2': 0,\n",
    "    '3': 0,\n",
    "    '4': 0,\n",
    "    '5': 0,\n",
    "    '6': 0,\n",
    "    '7': 0,\n",
    "    '8': 0,\n",
    "    '9': 0\n",
    "}\n",
    "\n",
    "colours = [ # different shades of green\n",
    "    '#04ff00',\n",
    "    '#03e000',\n",
    "    '#03bf00',\n",
    "    '#02a300',\n",
    "    '#028700',\n",
    "    '#016b00',\n",
    "    '#015100',\n",
    "    '#003800',\n",
    "    '#002100'\n",
    "]\n",
    "\n",
    "nfib = 500"
   ]
  },
  {
   "cell_type": "code",
   "execution_count": 2,
   "metadata": {},
   "outputs": [
    {
     "data": {
      "text/html": [
       "<div>\n",
       "<style scoped>\n",
       "    .dataframe tbody tr th:only-of-type {\n",
       "        vertical-align: middle;\n",
       "    }\n",
       "\n",
       "    .dataframe tbody tr th {\n",
       "        vertical-align: top;\n",
       "    }\n",
       "\n",
       "    .dataframe thead th {\n",
       "        text-align: right;\n",
       "    }\n",
       "</style>\n",
       "<table border=\"1\" class=\"dataframe\">\n",
       "  <thead>\n",
       "    <tr style=\"text-align: right;\">\n",
       "      <th></th>\n",
       "      <th>PL</th>\n",
       "      <th>PN</th>\n",
       "      <th>LIBRE-PINU</th>\n",
       "      <th>TOTAL</th>\n",
       "    </tr>\n",
       "  </thead>\n",
       "  <tbody>\n",
       "    <tr>\n",
       "      <th>0</th>\n",
       "      <td>6344</td>\n",
       "      <td>23173</td>\n",
       "      <td>32813</td>\n",
       "      <td>62598</td>\n",
       "    </tr>\n",
       "    <tr>\n",
       "      <th>1</th>\n",
       "      <td>874</td>\n",
       "      <td>2407</td>\n",
       "      <td>2043</td>\n",
       "      <td>5378</td>\n",
       "    </tr>\n",
       "    <tr>\n",
       "      <th>2</th>\n",
       "      <td>1059</td>\n",
       "      <td>6035</td>\n",
       "      <td>3197</td>\n",
       "      <td>10378</td>\n",
       "    </tr>\n",
       "    <tr>\n",
       "      <th>3</th>\n",
       "      <td>262</td>\n",
       "      <td>1295</td>\n",
       "      <td>743</td>\n",
       "      <td>2318</td>\n",
       "    </tr>\n",
       "    <tr>\n",
       "      <th>4</th>\n",
       "      <td>1155</td>\n",
       "      <td>4753</td>\n",
       "      <td>3142</td>\n",
       "      <td>9241</td>\n",
       "    </tr>\n",
       "    <tr>\n",
       "      <th>5</th>\n",
       "      <td>3204</td>\n",
       "      <td>10377</td>\n",
       "      <td>8058</td>\n",
       "      <td>21782</td>\n",
       "    </tr>\n",
       "    <tr>\n",
       "      <th>6</th>\n",
       "      <td>3491</td>\n",
       "      <td>7003</td>\n",
       "      <td>9004</td>\n",
       "      <td>19661</td>\n",
       "    </tr>\n",
       "    <tr>\n",
       "      <th>7</th>\n",
       "      <td>1230</td>\n",
       "      <td>1686</td>\n",
       "      <td>710</td>\n",
       "      <td>3645</td>\n",
       "    </tr>\n",
       "    <tr>\n",
       "      <th>8</th>\n",
       "      <td>2178</td>\n",
       "      <td>5990</td>\n",
       "      <td>6571</td>\n",
       "      <td>14820</td>\n",
       "    </tr>\n",
       "    <tr>\n",
       "      <th>9</th>\n",
       "      <td>1295</td>\n",
       "      <td>4733</td>\n",
       "      <td>3175</td>\n",
       "      <td>9250</td>\n",
       "    </tr>\n",
       "    <tr>\n",
       "      <th>10</th>\n",
       "      <td>1390</td>\n",
       "      <td>6258</td>\n",
       "      <td>5045</td>\n",
       "      <td>12777</td>\n",
       "    </tr>\n",
       "    <tr>\n",
       "      <th>11</th>\n",
       "      <td>713</td>\n",
       "      <td>2223</td>\n",
       "      <td>868</td>\n",
       "      <td>3820</td>\n",
       "    </tr>\n",
       "    <tr>\n",
       "      <th>12</th>\n",
       "      <td>516</td>\n",
       "      <td>1332</td>\n",
       "      <td>637</td>\n",
       "      <td>2492</td>\n",
       "    </tr>\n",
       "    <tr>\n",
       "      <th>13</th>\n",
       "      <td>645</td>\n",
       "      <td>1377</td>\n",
       "      <td>635</td>\n",
       "      <td>2689</td>\n",
       "    </tr>\n",
       "    <tr>\n",
       "      <th>14</th>\n",
       "      <td>2094</td>\n",
       "      <td>6777</td>\n",
       "      <td>4437</td>\n",
       "      <td>13384</td>\n",
       "    </tr>\n",
       "    <tr>\n",
       "      <th>15</th>\n",
       "      <td>1513</td>\n",
       "      <td>3105</td>\n",
       "      <td>3488</td>\n",
       "      <td>8138</td>\n",
       "    </tr>\n",
       "  </tbody>\n",
       "</table>\n",
       "</div>"
      ],
      "text/plain": [
       "      PL     PN  LIBRE-PINU  TOTAL\n",
       "0   6344  23173       32813  62598\n",
       "1    874   2407        2043   5378\n",
       "2   1059   6035        3197  10378\n",
       "3    262   1295         743   2318\n",
       "4   1155   4753        3142   9241\n",
       "5   3204  10377        8058  21782\n",
       "6   3491   7003        9004  19661\n",
       "7   1230   1686         710   3645\n",
       "8   2178   5990        6571  14820\n",
       "9   1295   4733        3175   9250\n",
       "10  1390   6258        5045  12777\n",
       "11   713   2223         868   3820\n",
       "12   516   1332         637   2492\n",
       "13   645   1377         635   2689\n",
       "14  2094   6777        4437  13384\n",
       "15  1513   3105        3488   8138"
      ]
     },
     "execution_count": 2,
     "metadata": {},
     "output_type": "execute_result"
    }
   ],
   "source": [
    "df = pd.read_csv(\"https://docs.google.com/spreadsheets/d/1zuU8MkVl8U3G7h5xz18XE3IUumEMog1b/export?format=csv\")\n",
    "df"
   ]
  },
  {
   "cell_type": "code",
   "execution_count": 3,
   "metadata": {},
   "outputs": [
    {
     "data": {
      "text/plain": [
       "[6344,\n",
       " 874,\n",
       " 1059,\n",
       " 262,\n",
       " 1155,\n",
       " 3204,\n",
       " 3491,\n",
       " 1230,\n",
       " 2178,\n",
       " 1295,\n",
       " 1390,\n",
       " 713,\n",
       " 516,\n",
       " 645,\n",
       " 2094,\n",
       " 1513]"
      ]
     },
     "execution_count": 3,
     "metadata": {},
     "output_type": "execute_result"
    }
   ],
   "source": [
    "pl = []\n",
    "for i in df['PL']:\n",
    "    pl.append(i)\n",
    "pl"
   ]
  },
  {
   "cell_type": "code",
   "execution_count": 4,
   "metadata": {},
   "outputs": [
    {
     "data": {
      "text/plain": [
       "[23173,\n",
       " 2407,\n",
       " 6035,\n",
       " 1295,\n",
       " 4753,\n",
       " 10377,\n",
       " 7003,\n",
       " 1686,\n",
       " 5990,\n",
       " 4733,\n",
       " 6258,\n",
       " 2223,\n",
       " 1332,\n",
       " 1377,\n",
       " 6777,\n",
       " 3105]"
      ]
     },
     "execution_count": 4,
     "metadata": {},
     "output_type": "execute_result"
    }
   ],
   "source": [
    "pn = []\n",
    "for i in df['PN']:\n",
    "    pn.append(i)\n",
    "pn"
   ]
  },
  {
   "cell_type": "code",
   "execution_count": 5,
   "metadata": {},
   "outputs": [
    {
     "data": {
      "text/plain": [
       "[32813,\n",
       " 2043,\n",
       " 3197,\n",
       " 743,\n",
       " 3142,\n",
       " 8058,\n",
       " 9004,\n",
       " 710,\n",
       " 6571,\n",
       " 3175,\n",
       " 5045,\n",
       " 868,\n",
       " 637,\n",
       " 635,\n",
       " 4437,\n",
       " 3488]"
      ]
     },
     "execution_count": 5,
     "metadata": {},
     "output_type": "execute_result"
    }
   ],
   "source": [
    "pli = []\n",
    "for i in df['LIBRE-PINU']:\n",
    "    pli.append(i)\n",
    "pli"
   ]
  },
  {
   "cell_type": "code",
   "execution_count": 6,
   "metadata": {},
   "outputs": [
    {
     "data": {
      "text/plain": [
       "[62598,\n",
       " 5378,\n",
       " 10378,\n",
       " 2318,\n",
       " 9241,\n",
       " 21782,\n",
       " 19661,\n",
       " 3645,\n",
       " 14820,\n",
       " 9250,\n",
       " 12777,\n",
       " 3820,\n",
       " 2492,\n",
       " 2689,\n",
       " 13384,\n",
       " 8138]"
      ]
     },
     "execution_count": 6,
     "metadata": {},
     "output_type": "execute_result"
    }
   ],
   "source": [
    "tot = []\n",
    "for i in df['TOTAL']:\n",
    "    tot.append(i)\n",
    "tot"
   ]
  },
  {
   "cell_type": "code",
   "execution_count": 7,
   "metadata": {},
   "outputs": [],
   "source": [
    "def GenerarFibonacci(n):\n",
    "    a, b = 0, 1\n",
    "\n",
    "    l = []\n",
    "\n",
    "    for i in range(n):\n",
    "        a, b = b, a + b\n",
    "\n",
    "        l.append(a)\n",
    "\n",
    "    return l"
   ]
  },
  {
   "cell_type": "code",
   "execution_count": 8,
   "metadata": {},
   "outputs": [],
   "source": [
    "list_of_nums = pl\n",
    "for n in list_of_nums:\n",
    "    first_digit = str(n)[0]\n",
    "    letters[first_digit] += 1\n",
    "y = [round(val / nfib, 4) for val in letters.values()]\n",
    "fre_relativa = y\n",
    "y = list(letters.values())\n",
    "f0= y\n",
    "x = list(letters.keys())\n",
    "y =  [round(math.log10(1+(1/int(val))), 4) for val in letters.keys()]\n",
    "benford = y"
   ]
  },
  {
   "cell_type": "code",
   "execution_count": 9,
   "metadata": {},
   "outputs": [
    {
     "data": {
      "text/plain": [
       "array([6, 3, 2, 0, 1, 2, 1, 1, 0])"
      ]
     },
     "execution_count": 9,
     "metadata": {},
     "output_type": "execute_result"
    }
   ],
   "source": [
    "f0 = np.array(f0)\n",
    "f0"
   ]
  },
  {
   "cell_type": "code",
   "execution_count": 10,
   "metadata": {},
   "outputs": [
    {
     "data": {
      "text/plain": [
       "array([0.012, 0.006, 0.004, 0.   , 0.002, 0.004, 0.002, 0.002, 0.   ])"
      ]
     },
     "execution_count": 10,
     "metadata": {},
     "output_type": "execute_result"
    }
   ],
   "source": [
    "fre_relativa = np.array(fre_relativa)\n",
    "fre_relativa "
   ]
  },
  {
   "cell_type": "code",
   "execution_count": 11,
   "metadata": {},
   "outputs": [
    {
     "data": {
      "text/plain": [
       "array([0.301 , 0.1761, 0.1249, 0.0969, 0.0792, 0.0669, 0.058 , 0.0512,\n",
       "       0.0458])"
      ]
     },
     "execution_count": 11,
     "metadata": {},
     "output_type": "execute_result"
    }
   ],
   "source": [
    "benford = np.array(benford)\n",
    "benford"
   ]
  },
  {
   "cell_type": "code",
   "execution_count": 12,
   "metadata": {},
   "outputs": [
    {
     "data": {
      "text/plain": [
       "16"
      ]
     },
     "execution_count": 12,
     "metadata": {},
     "output_type": "execute_result"
    }
   ],
   "source": [
    "f0_tot=f0.sum()\n",
    "f0_tot"
   ]
  },
  {
   "cell_type": "code",
   "execution_count": 13,
   "metadata": {},
   "outputs": [],
   "source": [
    "fe = benford*f0_tot"
   ]
  },
  {
   "cell_type": "code",
   "execution_count": 14,
   "metadata": {},
   "outputs": [
    {
     "data": {
      "text/plain": [
       "array([4.816 , 2.8176, 1.9984, 1.5504, 1.2672, 1.0704, 0.928 , 0.8192,\n",
       "       0.7328])"
      ]
     },
     "execution_count": 14,
     "metadata": {},
     "output_type": "execute_result"
    }
   ],
   "source": [
    "fe "
   ]
  },
  {
   "cell_type": "code",
   "execution_count": 15,
   "metadata": {},
   "outputs": [
    {
     "data": {
      "text/plain": [
       "15.999999999999998"
      ]
     },
     "execution_count": 15,
     "metadata": {},
     "output_type": "execute_result"
    }
   ],
   "source": [
    "fe.sum()"
   ]
  },
  {
   "cell_type": "code",
   "execution_count": 16,
   "metadata": {},
   "outputs": [
    {
     "data": {
      "text/plain": [
       "array([-0.289 , -0.1701, -0.1209, -0.0969, -0.0772, -0.0629, -0.056 ,\n",
       "       -0.0492, -0.0458])"
      ]
     },
     "execution_count": 16,
     "metadata": {},
     "output_type": "execute_result"
    }
   ],
   "source": [
    "diferencia = fre_relativa - benford\n",
    "diferencia "
   ]
  },
  {
   "cell_type": "code",
   "execution_count": 17,
   "metadata": {},
   "outputs": [
    {
     "data": {
      "text/plain": [
       "-0.9679999999999999"
      ]
     },
     "execution_count": 17,
     "metadata": {},
     "output_type": "execute_result"
    }
   ],
   "source": [
    "diferencia.sum()"
   ]
  },
  {
   "cell_type": "code",
   "execution_count": 18,
   "metadata": {},
   "outputs": [],
   "source": [
    "f0_fe= (f0-fe)"
   ]
  },
  {
   "cell_type": "code",
   "execution_count": 19,
   "metadata": {},
   "outputs": [],
   "source": [
    "f0_fe_2 = f0_fe*f0_fe"
   ]
  },
  {
   "cell_type": "code",
   "execution_count": 20,
   "metadata": {},
   "outputs": [
    {
     "data": {
      "text/plain": [
       "array([2.91083056e-01, 1.18078365e-02, 1.28102482e-06, 1.55040000e+00,\n",
       "       5.63414141e-02, 8.07320777e-01, 5.58620690e-03, 3.99031250e-02,\n",
       "       7.32800000e-01])"
      ]
     },
     "execution_count": 20,
     "metadata": {},
     "output_type": "execute_result"
    }
   ],
   "source": [
    "f0_fe_2_fe=f0_fe_2/fe\n",
    "f0_fe_2_fe"
   ]
  },
  {
   "cell_type": "markdown",
   "metadata": {},
   "source": [
    "# Partido Liberal"
   ]
  },
  {
   "cell_type": "code",
   "execution_count": 21,
   "metadata": {},
   "outputs": [
    {
     "data": {
      "text/plain": [
       "3.495243697277272"
      ]
     },
     "execution_count": 21,
     "metadata": {},
     "output_type": "execute_result"
    }
   ],
   "source": [
    "x_2 = f0_fe_2_fe.sum()\n",
    "x_2 "
   ]
  },
  {
   "cell_type": "code",
   "execution_count": 22,
   "metadata": {},
   "outputs": [],
   "source": [
    "letters = {\n",
    "    '1': 0,\n",
    "    '2': 0,\n",
    "    '3': 0,\n",
    "    '4': 0,\n",
    "    '5': 0,\n",
    "    '6': 0,\n",
    "    '7': 0,\n",
    "    '8': 0,\n",
    "    '9': 0\n",
    "}\n",
    "list_of_nums = pn\n",
    "for n in list_of_nums:\n",
    "    first_digit = str(n)[0]\n",
    "    letters[first_digit] += 1\n",
    "y = [round(val / nfib, 4) for val in letters.values()]\n",
    "fre_relativa = y\n",
    "y = list(letters.values())\n",
    "f0= y\n",
    "x = list(letters.keys())\n",
    "y =  [round(math.log10(1+(1/int(val))), 4) for val in letters.keys()]\n",
    "benford = y"
   ]
  },
  {
   "cell_type": "code",
   "execution_count": 23,
   "metadata": {},
   "outputs": [
    {
     "data": {
      "text/plain": [
       "array([5, 3, 1, 2, 1, 3, 1, 0, 0])"
      ]
     },
     "execution_count": 23,
     "metadata": {},
     "output_type": "execute_result"
    }
   ],
   "source": [
    "f0 = np.array(f0)\n",
    "f0"
   ]
  },
  {
   "cell_type": "code",
   "execution_count": 24,
   "metadata": {},
   "outputs": [
    {
     "data": {
      "text/plain": [
       "array([0.01 , 0.006, 0.002, 0.004, 0.002, 0.006, 0.002, 0.   , 0.   ])"
      ]
     },
     "execution_count": 24,
     "metadata": {},
     "output_type": "execute_result"
    }
   ],
   "source": [
    "fre_relativa = np.array(fre_relativa)\n",
    "fre_relativa "
   ]
  },
  {
   "cell_type": "code",
   "execution_count": 25,
   "metadata": {},
   "outputs": [
    {
     "data": {
      "text/plain": [
       "array([0.301 , 0.1761, 0.1249, 0.0969, 0.0792, 0.0669, 0.058 , 0.0512,\n",
       "       0.0458])"
      ]
     },
     "execution_count": 25,
     "metadata": {},
     "output_type": "execute_result"
    }
   ],
   "source": [
    "benford = np.array(benford)\n",
    "benford"
   ]
  },
  {
   "cell_type": "code",
   "execution_count": 26,
   "metadata": {},
   "outputs": [
    {
     "data": {
      "text/plain": [
       "16"
      ]
     },
     "execution_count": 26,
     "metadata": {},
     "output_type": "execute_result"
    }
   ],
   "source": [
    "f0_tot=f0.sum()\n",
    "f0_tot"
   ]
  },
  {
   "cell_type": "code",
   "execution_count": 27,
   "metadata": {},
   "outputs": [],
   "source": [
    "fe = benford*f0_tot"
   ]
  },
  {
   "cell_type": "code",
   "execution_count": 28,
   "metadata": {},
   "outputs": [
    {
     "data": {
      "text/plain": [
       "array([4.816 , 2.8176, 1.9984, 1.5504, 1.2672, 1.0704, 0.928 , 0.8192,\n",
       "       0.7328])"
      ]
     },
     "execution_count": 28,
     "metadata": {},
     "output_type": "execute_result"
    }
   ],
   "source": [
    "fe "
   ]
  },
  {
   "cell_type": "code",
   "execution_count": 29,
   "metadata": {},
   "outputs": [
    {
     "data": {
      "text/plain": [
       "15.999999999999998"
      ]
     },
     "execution_count": 29,
     "metadata": {},
     "output_type": "execute_result"
    }
   ],
   "source": [
    "fe.sum()"
   ]
  },
  {
   "cell_type": "code",
   "execution_count": 30,
   "metadata": {},
   "outputs": [
    {
     "data": {
      "text/plain": [
       "array([-0.291 , -0.1701, -0.1229, -0.0929, -0.0772, -0.0609, -0.056 ,\n",
       "       -0.0512, -0.0458])"
      ]
     },
     "execution_count": 30,
     "metadata": {},
     "output_type": "execute_result"
    }
   ],
   "source": [
    "diferencia = fre_relativa - benford\n",
    "diferencia "
   ]
  },
  {
   "cell_type": "code",
   "execution_count": 31,
   "metadata": {},
   "outputs": [
    {
     "data": {
      "text/plain": [
       "-0.9679999999999999"
      ]
     },
     "execution_count": 31,
     "metadata": {},
     "output_type": "execute_result"
    }
   ],
   "source": [
    "diferencia.sum()"
   ]
  },
  {
   "cell_type": "code",
   "execution_count": 32,
   "metadata": {},
   "outputs": [],
   "source": [
    "f0_fe= (f0-fe)"
   ]
  },
  {
   "cell_type": "code",
   "execution_count": 33,
   "metadata": {},
   "outputs": [],
   "source": [
    "f0_fe_2 = f0_fe*f0_fe"
   ]
  },
  {
   "cell_type": "code",
   "execution_count": 34,
   "metadata": {},
   "outputs": [
    {
     "data": {
      "text/plain": [
       "array([0.0070299 , 0.01180784, 0.49880032, 0.13037936, 0.05634141,\n",
       "       3.47847175, 0.00558621, 0.8192    , 0.7328    ])"
      ]
     },
     "execution_count": 34,
     "metadata": {},
     "output_type": "execute_result"
    }
   ],
   "source": [
    "f0_fe_2_fe=f0_fe_2/fe\n",
    "f0_fe_2_fe"
   ]
  },
  {
   "cell_type": "markdown",
   "metadata": {},
   "source": [
    "# Partido Nacional"
   ]
  },
  {
   "cell_type": "code",
   "execution_count": 35,
   "metadata": {},
   "outputs": [
    {
     "data": {
      "text/plain": [
       "5.740416787126998"
      ]
     },
     "execution_count": 35,
     "metadata": {},
     "output_type": "execute_result"
    }
   ],
   "source": [
    "x_2 = f0_fe_2_fe.sum()\n",
    "x_2 "
   ]
  },
  {
   "cell_type": "code",
   "execution_count": 36,
   "metadata": {},
   "outputs": [],
   "source": [
    "letters = {\n",
    "    '1': 0,\n",
    "    '2': 0,\n",
    "    '3': 0,\n",
    "    '4': 0,\n",
    "    '5': 0,\n",
    "    '6': 0,\n",
    "    '7': 0,\n",
    "    '8': 0,\n",
    "    '9': 0\n",
    "}\n",
    "list_of_nums = pli\n",
    "for n in list_of_nums:\n",
    "    first_digit = str(n)[0]\n",
    "    letters[first_digit] += 1\n",
    "y = [round(val / nfib, 4) for val in letters.values()]\n",
    "fre_relativa = y\n",
    "y = list(letters.values())\n",
    "f0= y\n",
    "x = list(letters.keys())\n",
    "y =  [round(math.log10(1+(1/int(val))), 4) for val in letters.keys()]\n",
    "benford = y"
   ]
  },
  {
   "cell_type": "code",
   "execution_count": 37,
   "metadata": {},
   "outputs": [
    {
     "data": {
      "text/plain": [
       "array([0, 1, 5, 1, 1, 3, 2, 2, 1])"
      ]
     },
     "execution_count": 37,
     "metadata": {},
     "output_type": "execute_result"
    }
   ],
   "source": [
    "f0 = np.array(f0)\n",
    "f0"
   ]
  },
  {
   "cell_type": "code",
   "execution_count": 38,
   "metadata": {},
   "outputs": [
    {
     "data": {
      "text/plain": [
       "array([0.   , 0.002, 0.01 , 0.002, 0.002, 0.006, 0.004, 0.004, 0.002])"
      ]
     },
     "execution_count": 38,
     "metadata": {},
     "output_type": "execute_result"
    }
   ],
   "source": [
    "fre_relativa = np.array(fre_relativa)\n",
    "fre_relativa "
   ]
  },
  {
   "cell_type": "code",
   "execution_count": 39,
   "metadata": {},
   "outputs": [
    {
     "data": {
      "text/plain": [
       "array([0.301 , 0.1761, 0.1249, 0.0969, 0.0792, 0.0669, 0.058 , 0.0512,\n",
       "       0.0458])"
      ]
     },
     "execution_count": 39,
     "metadata": {},
     "output_type": "execute_result"
    }
   ],
   "source": [
    "benford = np.array(benford)\n",
    "benford"
   ]
  },
  {
   "cell_type": "code",
   "execution_count": 40,
   "metadata": {},
   "outputs": [
    {
     "data": {
      "text/plain": [
       "16"
      ]
     },
     "execution_count": 40,
     "metadata": {},
     "output_type": "execute_result"
    }
   ],
   "source": [
    "f0_tot=f0.sum()\n",
    "f0_tot"
   ]
  },
  {
   "cell_type": "code",
   "execution_count": 41,
   "metadata": {},
   "outputs": [],
   "source": [
    "fe = benford*f0_tot"
   ]
  },
  {
   "cell_type": "code",
   "execution_count": 42,
   "metadata": {},
   "outputs": [
    {
     "data": {
      "text/plain": [
       "array([4.816 , 2.8176, 1.9984, 1.5504, 1.2672, 1.0704, 0.928 , 0.8192,\n",
       "       0.7328])"
      ]
     },
     "execution_count": 42,
     "metadata": {},
     "output_type": "execute_result"
    }
   ],
   "source": [
    "fe "
   ]
  },
  {
   "cell_type": "code",
   "execution_count": 43,
   "metadata": {},
   "outputs": [
    {
     "data": {
      "text/plain": [
       "15.999999999999998"
      ]
     },
     "execution_count": 43,
     "metadata": {},
     "output_type": "execute_result"
    }
   ],
   "source": [
    "fe.sum()"
   ]
  },
  {
   "cell_type": "code",
   "execution_count": 44,
   "metadata": {},
   "outputs": [
    {
     "data": {
      "text/plain": [
       "array([-0.301 , -0.1741, -0.1149, -0.0949, -0.0772, -0.0609, -0.054 ,\n",
       "       -0.0472, -0.0438])"
      ]
     },
     "execution_count": 44,
     "metadata": {},
     "output_type": "execute_result"
    }
   ],
   "source": [
    "diferencia = fre_relativa - benford\n",
    "diferencia "
   ]
  },
  {
   "cell_type": "code",
   "execution_count": 45,
   "metadata": {},
   "outputs": [
    {
     "data": {
      "text/plain": [
       "-0.9679999999999999"
      ]
     },
     "execution_count": 45,
     "metadata": {},
     "output_type": "execute_result"
    }
   ],
   "source": [
    "diferencia.sum()"
   ]
  },
  {
   "cell_type": "code",
   "execution_count": 46,
   "metadata": {},
   "outputs": [],
   "source": [
    "f0_fe= (f0-fe)"
   ]
  },
  {
   "cell_type": "code",
   "execution_count": 47,
   "metadata": {},
   "outputs": [],
   "source": [
    "f0_fe_2 = f0_fe*f0_fe"
   ]
  },
  {
   "cell_type": "code",
   "execution_count": 48,
   "metadata": {},
   "outputs": [
    {
     "data": {
      "text/plain": [
       "array([4.816     , 1.17251198, 4.50840801, 0.19539484, 0.05634141,\n",
       "       3.47847175, 1.23834483, 1.7020125 , 0.09742882])"
      ]
     },
     "execution_count": 48,
     "metadata": {},
     "output_type": "execute_result"
    }
   ],
   "source": [
    "f0_fe_2_fe=f0_fe_2/fe\n",
    "f0_fe_2_fe"
   ]
  },
  {
   "cell_type": "markdown",
   "metadata": {},
   "source": [
    "# Partido Libre"
   ]
  },
  {
   "cell_type": "code",
   "execution_count": 49,
   "metadata": {},
   "outputs": [
    {
     "data": {
      "text/plain": [
       "17.26491413984215"
      ]
     },
     "execution_count": 49,
     "metadata": {},
     "output_type": "execute_result"
    }
   ],
   "source": [
    "x_2 = f0_fe_2_fe.sum()\n",
    "x_2 "
   ]
  },
  {
   "cell_type": "code",
   "execution_count": 50,
   "metadata": {},
   "outputs": [],
   "source": [
    "letters = {\n",
    "    '1': 0,\n",
    "    '2': 0,\n",
    "    '3': 0,\n",
    "    '4': 0,\n",
    "    '5': 0,\n",
    "    '6': 0,\n",
    "    '7': 0,\n",
    "    '8': 0,\n",
    "    '9': 0\n",
    "}\n",
    "list_of_nums = tot\n",
    "for n in list_of_nums:\n",
    "    first_digit = str(n)[0]\n",
    "    letters[first_digit] += 1\n",
    "y = [round(val / nfib, 4) for val in letters.values()]\n",
    "fre_relativa = y\n",
    "y = list(letters.values())\n",
    "f0= y\n",
    "x = list(letters.keys())\n",
    "y =  [round(math.log10(1+(1/int(val))), 4) for val in letters.keys()]\n",
    "benford = y"
   ]
  },
  {
   "cell_type": "code",
   "execution_count": 51,
   "metadata": {},
   "outputs": [
    {
     "data": {
      "text/plain": [
       "array([5, 4, 2, 0, 1, 1, 0, 1, 2])"
      ]
     },
     "execution_count": 51,
     "metadata": {},
     "output_type": "execute_result"
    }
   ],
   "source": [
    "f0 = np.array(f0)\n",
    "f0"
   ]
  },
  {
   "cell_type": "code",
   "execution_count": 52,
   "metadata": {},
   "outputs": [
    {
     "data": {
      "text/plain": [
       "array([0.01 , 0.008, 0.004, 0.   , 0.002, 0.002, 0.   , 0.002, 0.004])"
      ]
     },
     "execution_count": 52,
     "metadata": {},
     "output_type": "execute_result"
    }
   ],
   "source": [
    "fre_relativa = np.array(fre_relativa)\n",
    "fre_relativa "
   ]
  },
  {
   "cell_type": "code",
   "execution_count": 53,
   "metadata": {},
   "outputs": [
    {
     "data": {
      "text/plain": [
       "array([0.301 , 0.1761, 0.1249, 0.0969, 0.0792, 0.0669, 0.058 , 0.0512,\n",
       "       0.0458])"
      ]
     },
     "execution_count": 53,
     "metadata": {},
     "output_type": "execute_result"
    }
   ],
   "source": [
    "benford = np.array(benford)\n",
    "benford"
   ]
  },
  {
   "cell_type": "code",
   "execution_count": 54,
   "metadata": {},
   "outputs": [
    {
     "data": {
      "text/plain": [
       "16"
      ]
     },
     "execution_count": 54,
     "metadata": {},
     "output_type": "execute_result"
    }
   ],
   "source": [
    "f0_tot=f0.sum()\n",
    "f0_tot"
   ]
  },
  {
   "cell_type": "code",
   "execution_count": 55,
   "metadata": {},
   "outputs": [],
   "source": [
    "fe = benford*f0_tot"
   ]
  },
  {
   "cell_type": "code",
   "execution_count": 56,
   "metadata": {},
   "outputs": [
    {
     "data": {
      "text/plain": [
       "array([4.816 , 2.8176, 1.9984, 1.5504, 1.2672, 1.0704, 0.928 , 0.8192,\n",
       "       0.7328])"
      ]
     },
     "execution_count": 56,
     "metadata": {},
     "output_type": "execute_result"
    }
   ],
   "source": [
    "fe "
   ]
  },
  {
   "cell_type": "code",
   "execution_count": 57,
   "metadata": {},
   "outputs": [
    {
     "data": {
      "text/plain": [
       "15.999999999999998"
      ]
     },
     "execution_count": 57,
     "metadata": {},
     "output_type": "execute_result"
    }
   ],
   "source": [
    "fe.sum()"
   ]
  },
  {
   "cell_type": "code",
   "execution_count": 58,
   "metadata": {},
   "outputs": [
    {
     "data": {
      "text/plain": [
       "array([-0.291 , -0.1681, -0.1209, -0.0969, -0.0772, -0.0649, -0.058 ,\n",
       "       -0.0492, -0.0418])"
      ]
     },
     "execution_count": 58,
     "metadata": {},
     "output_type": "execute_result"
    }
   ],
   "source": [
    "diferencia = fre_relativa - benford\n",
    "diferencia "
   ]
  },
  {
   "cell_type": "code",
   "execution_count": 59,
   "metadata": {},
   "outputs": [
    {
     "data": {
      "text/plain": [
       "-0.968"
      ]
     },
     "execution_count": 59,
     "metadata": {},
     "output_type": "execute_result"
    }
   ],
   "source": [
    "diferencia.sum()"
   ]
  },
  {
   "cell_type": "code",
   "execution_count": 60,
   "metadata": {},
   "outputs": [],
   "source": [
    "f0_fe= (f0-fe)"
   ]
  },
  {
   "cell_type": "code",
   "execution_count": 61,
   "metadata": {},
   "outputs": [],
   "source": [
    "f0_fe_2 = f0_fe*f0_fe"
   ]
  },
  {
   "cell_type": "code",
   "execution_count": 62,
   "metadata": {},
   "outputs": [
    {
     "data": {
      "text/plain": [
       "array([7.02990033e-03, 4.96191709e-01, 1.28102482e-06, 1.55040000e+00,\n",
       "       5.63414141e-02, 4.63019432e-03, 9.28000000e-01, 3.99031250e-02,\n",
       "       2.19131528e+00])"
      ]
     },
     "execution_count": 62,
     "metadata": {},
     "output_type": "execute_result"
    }
   ],
   "source": [
    "f0_fe_2_fe=f0_fe_2/fe\n",
    "f0_fe_2_fe"
   ]
  },
  {
   "cell_type": "markdown",
   "metadata": {},
   "source": [
    "# Total"
   ]
  },
  {
   "cell_type": "code",
   "execution_count": 63,
   "metadata": {},
   "outputs": [
    {
     "data": {
      "text/plain": [
       "5.273812907917239"
      ]
     },
     "execution_count": 63,
     "metadata": {},
     "output_type": "execute_result"
    }
   ],
   "source": [
    "x_2 = f0_fe_2_fe.sum()\n",
    "x_2 "
   ]
  }
 ],
 "metadata": {
  "kernelspec": {
   "display_name": "Python 3",
   "language": "python",
   "name": "python3"
  },
  "language_info": {
   "codemirror_mode": {
    "name": "ipython",
    "version": 3
   },
   "file_extension": ".py",
   "mimetype": "text/x-python",
   "name": "python",
   "nbconvert_exporter": "python",
   "pygments_lexer": "ipython3",
   "version": "3.8.3"
  }
 },
 "nbformat": 4,
 "nbformat_minor": 4
}
