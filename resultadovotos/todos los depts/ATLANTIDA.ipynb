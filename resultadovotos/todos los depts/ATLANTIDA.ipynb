{
 "cells": [
  {
   "cell_type": "code",
   "execution_count": null,
   "metadata": {},
   "outputs": [],
   "source": [
    "Calculando el Estadístico Chi-Cuadrado Para el Primer Dígito "
   ]
  },
  {
   "cell_type": "code",
   "execution_count": 1,
   "metadata": {},
   "outputs": [],
   "source": [
    "import matplotlib.pyplot as plt\n",
    "import numpy as np\n",
    "import math\n",
    "import pandas as pd \n",
    "letters = {\n",
    "    '1': 0,\n",
    "    '2': 0,\n",
    "    '3': 0,\n",
    "    '4': 0,\n",
    "    '5': 0,\n",
    "    '6': 0,\n",
    "    '7': 0,\n",
    "    '8': 0,\n",
    "    '9': 0\n",
    "}\n",
    "\n",
    "colours = [ # different shades of green\n",
    "    '#04ff00',\n",
    "    '#03e000',\n",
    "    '#03bf00',\n",
    "    '#02a300',\n",
    "    '#028700',\n",
    "    '#016b00',\n",
    "    '#015100',\n",
    "    '#003800',\n",
    "    '#002100'\n",
    "]\n",
    "\n",
    "nfib = 500"
   ]
  },
  {
   "cell_type": "code",
   "execution_count": 2,
   "metadata": {},
   "outputs": [
    {
     "data": {
      "text/html": [
       "<div>\n",
       "<style scoped>\n",
       "    .dataframe tbody tr th:only-of-type {\n",
       "        vertical-align: middle;\n",
       "    }\n",
       "\n",
       "    .dataframe tbody tr th {\n",
       "        vertical-align: top;\n",
       "    }\n",
       "\n",
       "    .dataframe thead th {\n",
       "        text-align: right;\n",
       "    }\n",
       "</style>\n",
       "<table border=\"1\" class=\"dataframe\">\n",
       "  <thead>\n",
       "    <tr style=\"text-align: right;\">\n",
       "      <th></th>\n",
       "      <th>PL</th>\n",
       "      <th>PN</th>\n",
       "      <th>LIBRE-PINU</th>\n",
       "      <th>TOTAL</th>\n",
       "    </tr>\n",
       "  </thead>\n",
       "  <tbody>\n",
       "    <tr>\n",
       "      <th>0</th>\n",
       "      <td>8946</td>\n",
       "      <td>17976</td>\n",
       "      <td>30485</td>\n",
       "      <td>57937</td>\n",
       "    </tr>\n",
       "    <tr>\n",
       "      <th>1</th>\n",
       "      <td>1254</td>\n",
       "      <td>2830</td>\n",
       "      <td>3644</td>\n",
       "      <td>7808</td>\n",
       "    </tr>\n",
       "    <tr>\n",
       "      <th>2</th>\n",
       "      <td>1534</td>\n",
       "      <td>2409</td>\n",
       "      <td>2895</td>\n",
       "      <td>6892</td>\n",
       "    </tr>\n",
       "    <tr>\n",
       "      <th>3</th>\n",
       "      <td>1491</td>\n",
       "      <td>6205</td>\n",
       "      <td>6799</td>\n",
       "      <td>14550</td>\n",
       "    </tr>\n",
       "    <tr>\n",
       "      <th>4</th>\n",
       "      <td>1441</td>\n",
       "      <td>4697</td>\n",
       "      <td>6230</td>\n",
       "      <td>12417</td>\n",
       "    </tr>\n",
       "    <tr>\n",
       "      <th>5</th>\n",
       "      <td>347</td>\n",
       "      <td>1841</td>\n",
       "      <td>3596</td>\n",
       "      <td>5817</td>\n",
       "    </tr>\n",
       "    <tr>\n",
       "      <th>6</th>\n",
       "      <td>4085</td>\n",
       "      <td>12488</td>\n",
       "      <td>15006</td>\n",
       "      <td>31882</td>\n",
       "    </tr>\n",
       "    <tr>\n",
       "      <th>7</th>\n",
       "      <td>1096</td>\n",
       "      <td>4004</td>\n",
       "      <td>5006</td>\n",
       "      <td>10167</td>\n",
       "    </tr>\n",
       "  </tbody>\n",
       "</table>\n",
       "</div>"
      ],
      "text/plain": [
       "     PL     PN  LIBRE-PINU  TOTAL\n",
       "0  8946  17976       30485  57937\n",
       "1  1254   2830        3644   7808\n",
       "2  1534   2409        2895   6892\n",
       "3  1491   6205        6799  14550\n",
       "4  1441   4697        6230  12417\n",
       "5   347   1841        3596   5817\n",
       "6  4085  12488       15006  31882\n",
       "7  1096   4004        5006  10167"
      ]
     },
     "execution_count": 2,
     "metadata": {},
     "output_type": "execute_result"
    }
   ],
   "source": [
    "df = pd.read_csv(\"https://docs.google.com/spreadsheets/d/15unNCvztiQfNtll4xRzNRfR5sBTpFLsM/export?format=csv\")\n",
    "df"
   ]
  },
  {
   "cell_type": "code",
   "execution_count": 3,
   "metadata": {},
   "outputs": [
    {
     "data": {
      "text/plain": [
       "[8946, 1254, 1534, 1491, 1441, 347, 4085, 1096]"
      ]
     },
     "execution_count": 3,
     "metadata": {},
     "output_type": "execute_result"
    }
   ],
   "source": [
    "pl = []\n",
    "for i in df['PL']:\n",
    "    pl.append(i)\n",
    "pl"
   ]
  },
  {
   "cell_type": "code",
   "execution_count": 4,
   "metadata": {},
   "outputs": [
    {
     "data": {
      "text/plain": [
       "[17976, 2830, 2409, 6205, 4697, 1841, 12488, 4004]"
      ]
     },
     "execution_count": 4,
     "metadata": {},
     "output_type": "execute_result"
    }
   ],
   "source": [
    "pn = []\n",
    "for i in df['PN']:\n",
    "    pn.append(i)\n",
    "pn"
   ]
  },
  {
   "cell_type": "code",
   "execution_count": 5,
   "metadata": {},
   "outputs": [
    {
     "data": {
      "text/plain": [
       "[30485, 3644, 2895, 6799, 6230, 3596, 15006, 5006]"
      ]
     },
     "execution_count": 5,
     "metadata": {},
     "output_type": "execute_result"
    }
   ],
   "source": [
    "pli = []\n",
    "for i in df['LIBRE-PINU']:\n",
    "    pli.append(i)\n",
    "pli"
   ]
  },
  {
   "cell_type": "code",
   "execution_count": 6,
   "metadata": {},
   "outputs": [
    {
     "data": {
      "text/plain": [
       "[57937, 7808, 6892, 14550, 12417, 5817, 31882, 10167]"
      ]
     },
     "execution_count": 6,
     "metadata": {},
     "output_type": "execute_result"
    }
   ],
   "source": [
    "tot = []\n",
    "for i in df['TOTAL']:\n",
    "    tot.append(i)\n",
    "tot"
   ]
  },
  {
   "cell_type": "code",
   "execution_count": 7,
   "metadata": {},
   "outputs": [],
   "source": [
    "def GenerarFibonacci(n):\n",
    "    a, b = 0, 1\n",
    "\n",
    "    l = []\n",
    "\n",
    "    for i in range(n):\n",
    "        a, b = b, a + b\n",
    "\n",
    "        l.append(a)\n",
    "\n",
    "    return l"
   ]
  },
  {
   "cell_type": "code",
   "execution_count": 8,
   "metadata": {},
   "outputs": [],
   "source": [
    "list_of_nums = pl\n",
    "for n in list_of_nums:\n",
    "    first_digit = str(n)[0]\n",
    "    letters[first_digit] += 1\n",
    "y = [round(val / nfib, 4) for val in letters.values()]\n",
    "fre_relativa = y\n",
    "y = list(letters.values())\n",
    "f0= y\n",
    "x = list(letters.keys())\n",
    "y =  [round(math.log10(1+(1/int(val))), 4) for val in letters.keys()]\n",
    "benford = y"
   ]
  },
  {
   "cell_type": "code",
   "execution_count": 9,
   "metadata": {},
   "outputs": [
    {
     "data": {
      "text/plain": [
       "array([5, 0, 1, 1, 0, 0, 0, 1, 0])"
      ]
     },
     "execution_count": 9,
     "metadata": {},
     "output_type": "execute_result"
    }
   ],
   "source": [
    "f0 = np.array(f0)\n",
    "f0"
   ]
  },
  {
   "cell_type": "code",
   "execution_count": 10,
   "metadata": {},
   "outputs": [
    {
     "data": {
      "text/plain": [
       "array([0.01 , 0.   , 0.002, 0.002, 0.   , 0.   , 0.   , 0.002, 0.   ])"
      ]
     },
     "execution_count": 10,
     "metadata": {},
     "output_type": "execute_result"
    }
   ],
   "source": [
    "fre_relativa = np.array(fre_relativa)\n",
    "fre_relativa "
   ]
  },
  {
   "cell_type": "code",
   "execution_count": 11,
   "metadata": {},
   "outputs": [
    {
     "data": {
      "text/plain": [
       "array([0.301 , 0.1761, 0.1249, 0.0969, 0.0792, 0.0669, 0.058 , 0.0512,\n",
       "       0.0458])"
      ]
     },
     "execution_count": 11,
     "metadata": {},
     "output_type": "execute_result"
    }
   ],
   "source": [
    "benford = np.array(benford)\n",
    "benford"
   ]
  },
  {
   "cell_type": "code",
   "execution_count": 12,
   "metadata": {},
   "outputs": [
    {
     "data": {
      "text/plain": [
       "8"
      ]
     },
     "execution_count": 12,
     "metadata": {},
     "output_type": "execute_result"
    }
   ],
   "source": [
    "f0_tot=f0.sum()\n",
    "f0_tot"
   ]
  },
  {
   "cell_type": "code",
   "execution_count": 13,
   "metadata": {},
   "outputs": [],
   "source": [
    "fe = benford*f0_tot"
   ]
  },
  {
   "cell_type": "code",
   "execution_count": 14,
   "metadata": {},
   "outputs": [
    {
     "data": {
      "text/plain": [
       "array([2.408 , 1.4088, 0.9992, 0.7752, 0.6336, 0.5352, 0.464 , 0.4096,\n",
       "       0.3664])"
      ]
     },
     "execution_count": 14,
     "metadata": {},
     "output_type": "execute_result"
    }
   ],
   "source": [
    "fe "
   ]
  },
  {
   "cell_type": "code",
   "execution_count": 15,
   "metadata": {},
   "outputs": [
    {
     "data": {
      "text/plain": [
       "7.999999999999999"
      ]
     },
     "execution_count": 15,
     "metadata": {},
     "output_type": "execute_result"
    }
   ],
   "source": [
    "fe.sum()"
   ]
  },
  {
   "cell_type": "code",
   "execution_count": 16,
   "metadata": {},
   "outputs": [
    {
     "data": {
      "text/plain": [
       "array([-0.291 , -0.1761, -0.1229, -0.0949, -0.0792, -0.0669, -0.058 ,\n",
       "       -0.0492, -0.0458])"
      ]
     },
     "execution_count": 16,
     "metadata": {},
     "output_type": "execute_result"
    }
   ],
   "source": [
    "diferencia = fre_relativa - benford\n",
    "diferencia "
   ]
  },
  {
   "cell_type": "code",
   "execution_count": 17,
   "metadata": {},
   "outputs": [
    {
     "data": {
      "text/plain": [
       "-0.9839999999999999"
      ]
     },
     "execution_count": 17,
     "metadata": {},
     "output_type": "execute_result"
    }
   ],
   "source": [
    "diferencia.sum()"
   ]
  },
  {
   "cell_type": "code",
   "execution_count": 18,
   "metadata": {},
   "outputs": [],
   "source": [
    "f0_fe= (f0-fe)"
   ]
  },
  {
   "cell_type": "code",
   "execution_count": 19,
   "metadata": {},
   "outputs": [],
   "source": [
    "f0_fe_2 = f0_fe*f0_fe"
   ]
  },
  {
   "cell_type": "code",
   "execution_count": 20,
   "metadata": {},
   "outputs": [
    {
     "data": {
      "text/plain": [
       "array([2.79005980e+00, 1.40880000e+00, 6.40512410e-07, 6.51896801e-02,\n",
       "       6.33600000e-01, 5.35200000e-01, 4.64000000e-01, 8.51006250e-01,\n",
       "       3.66400000e-01])"
      ]
     },
     "execution_count": 20,
     "metadata": {},
     "output_type": "execute_result"
    }
   ],
   "source": [
    "f0_fe_2_fe=f0_fe_2/fe\n",
    "f0_fe_2_fe"
   ]
  },
  {
   "cell_type": "markdown",
   "metadata": {},
   "source": [
    "# Partido Liberal"
   ]
  },
  {
   "cell_type": "code",
   "execution_count": 21,
   "metadata": {},
   "outputs": [
    {
     "data": {
      "text/plain": [
       "7.114256371259421"
      ]
     },
     "execution_count": 21,
     "metadata": {},
     "output_type": "execute_result"
    }
   ],
   "source": [
    "x_2 = f0_fe_2_fe.sum()\n",
    "x_2 "
   ]
  },
  {
   "cell_type": "code",
   "execution_count": 22,
   "metadata": {},
   "outputs": [],
   "source": [
    "letters = {\n",
    "    '1': 0,\n",
    "    '2': 0,\n",
    "    '3': 0,\n",
    "    '4': 0,\n",
    "    '5': 0,\n",
    "    '6': 0,\n",
    "    '7': 0,\n",
    "    '8': 0,\n",
    "    '9': 0\n",
    "}\n",
    "list_of_nums = pn\n",
    "for n in list_of_nums:\n",
    "    first_digit = str(n)[0]\n",
    "    letters[first_digit] += 1\n",
    "y = [round(val / nfib, 4) for val in letters.values()]\n",
    "fre_relativa = y\n",
    "y = list(letters.values())\n",
    "f0= y\n",
    "x = list(letters.keys())\n",
    "y =  [round(math.log10(1+(1/int(val))), 4) for val in letters.keys()]\n",
    "benford = y"
   ]
  },
  {
   "cell_type": "code",
   "execution_count": 23,
   "metadata": {},
   "outputs": [
    {
     "data": {
      "text/plain": [
       "array([3, 2, 0, 2, 0, 1, 0, 0, 0])"
      ]
     },
     "execution_count": 23,
     "metadata": {},
     "output_type": "execute_result"
    }
   ],
   "source": [
    "f0 = np.array(f0)\n",
    "f0"
   ]
  },
  {
   "cell_type": "code",
   "execution_count": 24,
   "metadata": {},
   "outputs": [
    {
     "data": {
      "text/plain": [
       "array([0.006, 0.004, 0.   , 0.004, 0.   , 0.002, 0.   , 0.   , 0.   ])"
      ]
     },
     "execution_count": 24,
     "metadata": {},
     "output_type": "execute_result"
    }
   ],
   "source": [
    "fre_relativa = np.array(fre_relativa)\n",
    "fre_relativa "
   ]
  },
  {
   "cell_type": "code",
   "execution_count": 25,
   "metadata": {},
   "outputs": [
    {
     "data": {
      "text/plain": [
       "array([0.301 , 0.1761, 0.1249, 0.0969, 0.0792, 0.0669, 0.058 , 0.0512,\n",
       "       0.0458])"
      ]
     },
     "execution_count": 25,
     "metadata": {},
     "output_type": "execute_result"
    }
   ],
   "source": [
    "benford = np.array(benford)\n",
    "benford"
   ]
  },
  {
   "cell_type": "code",
   "execution_count": 26,
   "metadata": {},
   "outputs": [
    {
     "data": {
      "text/plain": [
       "8"
      ]
     },
     "execution_count": 26,
     "metadata": {},
     "output_type": "execute_result"
    }
   ],
   "source": [
    "f0_tot=f0.sum()\n",
    "f0_tot"
   ]
  },
  {
   "cell_type": "code",
   "execution_count": 27,
   "metadata": {},
   "outputs": [],
   "source": [
    "fe = benford*f0_tot"
   ]
  },
  {
   "cell_type": "code",
   "execution_count": 28,
   "metadata": {},
   "outputs": [
    {
     "data": {
      "text/plain": [
       "array([2.408 , 1.4088, 0.9992, 0.7752, 0.6336, 0.5352, 0.464 , 0.4096,\n",
       "       0.3664])"
      ]
     },
     "execution_count": 28,
     "metadata": {},
     "output_type": "execute_result"
    }
   ],
   "source": [
    "fe "
   ]
  },
  {
   "cell_type": "code",
   "execution_count": 29,
   "metadata": {},
   "outputs": [
    {
     "data": {
      "text/plain": [
       "7.999999999999999"
      ]
     },
     "execution_count": 29,
     "metadata": {},
     "output_type": "execute_result"
    }
   ],
   "source": [
    "fe.sum()"
   ]
  },
  {
   "cell_type": "code",
   "execution_count": 30,
   "metadata": {},
   "outputs": [
    {
     "data": {
      "text/plain": [
       "array([-0.295 , -0.1721, -0.1249, -0.0929, -0.0792, -0.0649, -0.058 ,\n",
       "       -0.0512, -0.0458])"
      ]
     },
     "execution_count": 30,
     "metadata": {},
     "output_type": "execute_result"
    }
   ],
   "source": [
    "diferencia = fre_relativa - benford\n",
    "diferencia "
   ]
  },
  {
   "cell_type": "code",
   "execution_count": 31,
   "metadata": {},
   "outputs": [
    {
     "data": {
      "text/plain": [
       "-0.9839999999999999"
      ]
     },
     "execution_count": 31,
     "metadata": {},
     "output_type": "execute_result"
    }
   ],
   "source": [
    "diferencia.sum()"
   ]
  },
  {
   "cell_type": "code",
   "execution_count": 32,
   "metadata": {},
   "outputs": [],
   "source": [
    "f0_fe= (f0-fe)"
   ]
  },
  {
   "cell_type": "code",
   "execution_count": 33,
   "metadata": {},
   "outputs": [],
   "source": [
    "f0_fe_2 = f0_fe*f0_fe"
   ]
  },
  {
   "cell_type": "code",
   "execution_count": 34,
   "metadata": {},
   "outputs": [
    {
     "data": {
      "text/plain": [
       "array([0.14554153, 0.24809585, 0.9992    , 1.93515872, 0.6336    ,\n",
       "       0.40366039, 0.464     , 0.4096    , 0.3664    ])"
      ]
     },
     "execution_count": 34,
     "metadata": {},
     "output_type": "execute_result"
    }
   ],
   "source": [
    "f0_fe_2_fe=f0_fe_2/fe\n",
    "f0_fe_2_fe"
   ]
  },
  {
   "cell_type": "markdown",
   "metadata": {},
   "source": [
    "# Partido Nacional"
   ]
  },
  {
   "cell_type": "code",
   "execution_count": 35,
   "metadata": {},
   "outputs": [
    {
     "data": {
      "text/plain": [
       "5.605256491837253"
      ]
     },
     "execution_count": 35,
     "metadata": {},
     "output_type": "execute_result"
    }
   ],
   "source": [
    "x_2 = f0_fe_2_fe.sum()\n",
    "x_2 "
   ]
  },
  {
   "cell_type": "code",
   "execution_count": 36,
   "metadata": {},
   "outputs": [],
   "source": [
    "letters = {\n",
    "    '1': 0,\n",
    "    '2': 0,\n",
    "    '3': 0,\n",
    "    '4': 0,\n",
    "    '5': 0,\n",
    "    '6': 0,\n",
    "    '7': 0,\n",
    "    '8': 0,\n",
    "    '9': 0\n",
    "}\n",
    "list_of_nums = pli\n",
    "for n in list_of_nums:\n",
    "    first_digit = str(n)[0]\n",
    "    letters[first_digit] += 1\n",
    "y = [round(val / nfib, 4) for val in letters.values()]\n",
    "fre_relativa = y\n",
    "y = list(letters.values())\n",
    "f0= y\n",
    "x = list(letters.keys())\n",
    "y =  [round(math.log10(1+(1/int(val))), 4) for val in letters.keys()]\n",
    "benford = y"
   ]
  },
  {
   "cell_type": "code",
   "execution_count": 37,
   "metadata": {},
   "outputs": [
    {
     "data": {
      "text/plain": [
       "array([1, 1, 3, 0, 1, 2, 0, 0, 0])"
      ]
     },
     "execution_count": 37,
     "metadata": {},
     "output_type": "execute_result"
    }
   ],
   "source": [
    "f0 = np.array(f0)\n",
    "f0"
   ]
  },
  {
   "cell_type": "code",
   "execution_count": 38,
   "metadata": {},
   "outputs": [
    {
     "data": {
      "text/plain": [
       "array([0.002, 0.002, 0.006, 0.   , 0.002, 0.004, 0.   , 0.   , 0.   ])"
      ]
     },
     "execution_count": 38,
     "metadata": {},
     "output_type": "execute_result"
    }
   ],
   "source": [
    "fre_relativa = np.array(fre_relativa)\n",
    "fre_relativa "
   ]
  },
  {
   "cell_type": "code",
   "execution_count": 39,
   "metadata": {},
   "outputs": [
    {
     "data": {
      "text/plain": [
       "array([0.301 , 0.1761, 0.1249, 0.0969, 0.0792, 0.0669, 0.058 , 0.0512,\n",
       "       0.0458])"
      ]
     },
     "execution_count": 39,
     "metadata": {},
     "output_type": "execute_result"
    }
   ],
   "source": [
    "benford = np.array(benford)\n",
    "benford"
   ]
  },
  {
   "cell_type": "code",
   "execution_count": 40,
   "metadata": {},
   "outputs": [
    {
     "data": {
      "text/plain": [
       "8"
      ]
     },
     "execution_count": 40,
     "metadata": {},
     "output_type": "execute_result"
    }
   ],
   "source": [
    "f0_tot=f0.sum()\n",
    "f0_tot"
   ]
  },
  {
   "cell_type": "code",
   "execution_count": 41,
   "metadata": {},
   "outputs": [],
   "source": [
    "fe = benford*f0_tot"
   ]
  },
  {
   "cell_type": "code",
   "execution_count": 42,
   "metadata": {},
   "outputs": [
    {
     "data": {
      "text/plain": [
       "array([2.408 , 1.4088, 0.9992, 0.7752, 0.6336, 0.5352, 0.464 , 0.4096,\n",
       "       0.3664])"
      ]
     },
     "execution_count": 42,
     "metadata": {},
     "output_type": "execute_result"
    }
   ],
   "source": [
    "fe "
   ]
  },
  {
   "cell_type": "code",
   "execution_count": 43,
   "metadata": {},
   "outputs": [
    {
     "data": {
      "text/plain": [
       "7.999999999999999"
      ]
     },
     "execution_count": 43,
     "metadata": {},
     "output_type": "execute_result"
    }
   ],
   "source": [
    "fe.sum()"
   ]
  },
  {
   "cell_type": "code",
   "execution_count": 44,
   "metadata": {},
   "outputs": [
    {
     "data": {
      "text/plain": [
       "array([-0.299 , -0.1741, -0.1189, -0.0969, -0.0772, -0.0629, -0.058 ,\n",
       "       -0.0512, -0.0458])"
      ]
     },
     "execution_count": 44,
     "metadata": {},
     "output_type": "execute_result"
    }
   ],
   "source": [
    "diferencia = fre_relativa - benford\n",
    "diferencia "
   ]
  },
  {
   "cell_type": "code",
   "execution_count": 45,
   "metadata": {},
   "outputs": [
    {
     "data": {
      "text/plain": [
       "-0.9839999999999999"
      ]
     },
     "execution_count": 45,
     "metadata": {},
     "output_type": "execute_result"
    }
   ],
   "source": [
    "diferencia.sum()"
   ]
  },
  {
   "cell_type": "code",
   "execution_count": 46,
   "metadata": {},
   "outputs": [],
   "source": [
    "f0_fe= (f0-fe)"
   ]
  },
  {
   "cell_type": "code",
   "execution_count": 47,
   "metadata": {},
   "outputs": [],
   "source": [
    "f0_fe_2 = f0_fe*f0_fe"
   ]
  },
  {
   "cell_type": "code",
   "execution_count": 48,
   "metadata": {},
   "outputs": [
    {
     "data": {
      "text/plain": [
       "array([0.82328239, 0.11862396, 4.00640576, 0.7752    , 0.21188283,\n",
       "       4.00904155, 0.464     , 0.4096    , 0.3664    ])"
      ]
     },
     "execution_count": 48,
     "metadata": {},
     "output_type": "execute_result"
    }
   ],
   "source": [
    "f0_fe_2_fe=f0_fe_2/fe\n",
    "f0_fe_2_fe"
   ]
  },
  {
   "cell_type": "markdown",
   "metadata": {},
   "source": [
    "# Partido Libre"
   ]
  },
  {
   "cell_type": "code",
   "execution_count": 49,
   "metadata": {},
   "outputs": [
    {
     "data": {
      "text/plain": [
       "11.184436503137151"
      ]
     },
     "execution_count": 49,
     "metadata": {},
     "output_type": "execute_result"
    }
   ],
   "source": [
    "x_2 = f0_fe_2_fe.sum()\n",
    "x_2 "
   ]
  },
  {
   "cell_type": "code",
   "execution_count": 50,
   "metadata": {},
   "outputs": [],
   "source": [
    "letters = {\n",
    "    '1': 0,\n",
    "    '2': 0,\n",
    "    '3': 0,\n",
    "    '4': 0,\n",
    "    '5': 0,\n",
    "    '6': 0,\n",
    "    '7': 0,\n",
    "    '8': 0,\n",
    "    '9': 0\n",
    "}\n",
    "list_of_nums = tot\n",
    "for n in list_of_nums:\n",
    "    first_digit = str(n)[0]\n",
    "    letters[first_digit] += 1\n",
    "y = [round(val / nfib, 4) for val in letters.values()]\n",
    "fre_relativa = y\n",
    "y = list(letters.values())\n",
    "f0= y\n",
    "x = list(letters.keys())\n",
    "y =  [round(math.log10(1+(1/int(val))), 4) for val in letters.keys()]\n",
    "benford = y"
   ]
  },
  {
   "cell_type": "code",
   "execution_count": 51,
   "metadata": {},
   "outputs": [
    {
     "data": {
      "text/plain": [
       "array([3, 0, 1, 0, 2, 1, 1, 0, 0])"
      ]
     },
     "execution_count": 51,
     "metadata": {},
     "output_type": "execute_result"
    }
   ],
   "source": [
    "f0 = np.array(f0)\n",
    "f0"
   ]
  },
  {
   "cell_type": "code",
   "execution_count": 52,
   "metadata": {},
   "outputs": [
    {
     "data": {
      "text/plain": [
       "array([0.006, 0.   , 0.002, 0.   , 0.004, 0.002, 0.002, 0.   , 0.   ])"
      ]
     },
     "execution_count": 52,
     "metadata": {},
     "output_type": "execute_result"
    }
   ],
   "source": [
    "fre_relativa = np.array(fre_relativa)\n",
    "fre_relativa "
   ]
  },
  {
   "cell_type": "code",
   "execution_count": 53,
   "metadata": {},
   "outputs": [
    {
     "data": {
      "text/plain": [
       "array([0.301 , 0.1761, 0.1249, 0.0969, 0.0792, 0.0669, 0.058 , 0.0512,\n",
       "       0.0458])"
      ]
     },
     "execution_count": 53,
     "metadata": {},
     "output_type": "execute_result"
    }
   ],
   "source": [
    "benford = np.array(benford)\n",
    "benford"
   ]
  },
  {
   "cell_type": "code",
   "execution_count": 54,
   "metadata": {},
   "outputs": [
    {
     "data": {
      "text/plain": [
       "8"
      ]
     },
     "execution_count": 54,
     "metadata": {},
     "output_type": "execute_result"
    }
   ],
   "source": [
    "f0_tot=f0.sum()\n",
    "f0_tot"
   ]
  },
  {
   "cell_type": "code",
   "execution_count": 55,
   "metadata": {},
   "outputs": [],
   "source": [
    "fe = benford*f0_tot"
   ]
  },
  {
   "cell_type": "code",
   "execution_count": 56,
   "metadata": {},
   "outputs": [
    {
     "data": {
      "text/plain": [
       "array([2.408 , 1.4088, 0.9992, 0.7752, 0.6336, 0.5352, 0.464 , 0.4096,\n",
       "       0.3664])"
      ]
     },
     "execution_count": 56,
     "metadata": {},
     "output_type": "execute_result"
    }
   ],
   "source": [
    "fe "
   ]
  },
  {
   "cell_type": "code",
   "execution_count": 57,
   "metadata": {},
   "outputs": [
    {
     "data": {
      "text/plain": [
       "7.999999999999999"
      ]
     },
     "execution_count": 57,
     "metadata": {},
     "output_type": "execute_result"
    }
   ],
   "source": [
    "fe.sum()"
   ]
  },
  {
   "cell_type": "code",
   "execution_count": 58,
   "metadata": {},
   "outputs": [
    {
     "data": {
      "text/plain": [
       "array([-0.295 , -0.1761, -0.1229, -0.0969, -0.0752, -0.0649, -0.056 ,\n",
       "       -0.0512, -0.0458])"
      ]
     },
     "execution_count": 58,
     "metadata": {},
     "output_type": "execute_result"
    }
   ],
   "source": [
    "diferencia = fre_relativa - benford\n",
    "diferencia "
   ]
  },
  {
   "cell_type": "code",
   "execution_count": 59,
   "metadata": {},
   "outputs": [
    {
     "data": {
      "text/plain": [
       "-0.9839999999999999"
      ]
     },
     "execution_count": 59,
     "metadata": {},
     "output_type": "execute_result"
    }
   ],
   "source": [
    "diferencia.sum()"
   ]
  },
  {
   "cell_type": "code",
   "execution_count": 60,
   "metadata": {},
   "outputs": [],
   "source": [
    "f0_fe= (f0-fe)"
   ]
  },
  {
   "cell_type": "code",
   "execution_count": 61,
   "metadata": {},
   "outputs": [],
   "source": [
    "f0_fe_2 = f0_fe*f0_fe"
   ]
  },
  {
   "cell_type": "code",
   "execution_count": 62,
   "metadata": {},
   "outputs": [
    {
     "data": {
      "text/plain": [
       "array([1.45541528e-01, 1.40880000e+00, 6.40512410e-07, 7.75200000e-01,\n",
       "       2.94673131e+00, 4.03660389e-01, 6.19172414e-01, 4.09600000e-01,\n",
       "       3.66400000e-01])"
      ]
     },
     "execution_count": 62,
     "metadata": {},
     "output_type": "execute_result"
    }
   ],
   "source": [
    "f0_fe_2_fe=f0_fe_2/fe\n",
    "f0_fe_2_fe"
   ]
  },
  {
   "cell_type": "markdown",
   "metadata": {},
   "source": [
    "# Total"
   ]
  },
  {
   "cell_type": "code",
   "execution_count": 63,
   "metadata": {},
   "outputs": [
    {
     "data": {
      "text/plain": [
       "7.0751062843157895"
      ]
     },
     "execution_count": 63,
     "metadata": {},
     "output_type": "execute_result"
    }
   ],
   "source": [
    "x_2 = f0_fe_2_fe.sum()\n",
    "x_2 "
   ]
  }
 ],
 "metadata": {
  "kernelspec": {
   "display_name": "Python 3",
   "language": "python",
   "name": "python3"
  },
  "language_info": {
   "codemirror_mode": {
    "name": "ipython",
    "version": 3
   },
   "file_extension": ".py",
   "mimetype": "text/x-python",
   "name": "python",
   "nbconvert_exporter": "python",
   "pygments_lexer": "ipython3",
   "version": "3.7.3"
  }
 },
 "nbformat": 4,
 "nbformat_minor": 4
}
