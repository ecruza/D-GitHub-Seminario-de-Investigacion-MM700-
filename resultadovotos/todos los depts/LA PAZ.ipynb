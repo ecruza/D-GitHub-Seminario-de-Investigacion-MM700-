{
 "cells": [
  {
   "cell_type": "code",
   "execution_count": 1,
   "metadata": {},
   "outputs": [],
   "source": [
    "import matplotlib.pyplot as plt\n",
    "import numpy as np\n",
    "import math\n",
    "import pandas as pd \n",
    "letters = {\n",
    "    '1': 0,\n",
    "    '2': 0,\n",
    "    '3': 0,\n",
    "    '4': 0,\n",
    "    '5': 0,\n",
    "    '6': 0,\n",
    "    '7': 0,\n",
    "    '8': 0,\n",
    "    '9': 0\n",
    "}\n",
    "\n",
    "colours = [ # different shades of green\n",
    "    '#04ff00',\n",
    "    '#03e000',\n",
    "    '#03bf00',\n",
    "    '#02a300',\n",
    "    '#028700',\n",
    "    '#016b00',\n",
    "    '#015100',\n",
    "    '#003800',\n",
    "    '#002100'\n",
    "]\n",
    "\n",
    "nfib = 500"
   ]
  },
  {
   "cell_type": "code",
   "execution_count": 2,
   "metadata": {},
   "outputs": [
    {
     "data": {
      "text/html": [
       "<div>\n",
       "<style scoped>\n",
       "    .dataframe tbody tr th:only-of-type {\n",
       "        vertical-align: middle;\n",
       "    }\n",
       "\n",
       "    .dataframe tbody tr th {\n",
       "        vertical-align: top;\n",
       "    }\n",
       "\n",
       "    .dataframe thead th {\n",
       "        text-align: right;\n",
       "    }\n",
       "</style>\n",
       "<table border=\"1\" class=\"dataframe\">\n",
       "  <thead>\n",
       "    <tr style=\"text-align: right;\">\n",
       "      <th></th>\n",
       "      <th>PL</th>\n",
       "      <th>PN</th>\n",
       "      <th>LIBRE-PINU</th>\n",
       "      <th>TOTAL</th>\n",
       "    </tr>\n",
       "  </thead>\n",
       "  <tbody>\n",
       "    <tr>\n",
       "      <th>0</th>\n",
       "      <td>3274</td>\n",
       "      <td>6600</td>\n",
       "      <td>8141</td>\n",
       "      <td>18099</td>\n",
       "    </tr>\n",
       "    <tr>\n",
       "      <th>1</th>\n",
       "      <td>640</td>\n",
       "      <td>1712</td>\n",
       "      <td>638</td>\n",
       "      <td>3011</td>\n",
       "    </tr>\n",
       "    <tr>\n",
       "      <th>2</th>\n",
       "      <td>191</td>\n",
       "      <td>1165</td>\n",
       "      <td>318</td>\n",
       "      <td>1689</td>\n",
       "    </tr>\n",
       "    <tr>\n",
       "      <th>3</th>\n",
       "      <td>655</td>\n",
       "      <td>573</td>\n",
       "      <td>989</td>\n",
       "      <td>2230</td>\n",
       "    </tr>\n",
       "    <tr>\n",
       "      <th>4</th>\n",
       "      <td>884</td>\n",
       "      <td>1800</td>\n",
       "      <td>668</td>\n",
       "      <td>3380</td>\n",
       "    </tr>\n",
       "    <tr>\n",
       "      <th>5</th>\n",
       "      <td>1956</td>\n",
       "      <td>3534</td>\n",
       "      <td>408</td>\n",
       "      <td>5927</td>\n",
       "    </tr>\n",
       "    <tr>\n",
       "      <th>6</th>\n",
       "      <td>921</td>\n",
       "      <td>602</td>\n",
       "      <td>357</td>\n",
       "      <td>1883</td>\n",
       "    </tr>\n",
       "    <tr>\n",
       "      <th>7</th>\n",
       "      <td>2254</td>\n",
       "      <td>5961</td>\n",
       "      <td>3799</td>\n",
       "      <td>12103</td>\n",
       "    </tr>\n",
       "    <tr>\n",
       "      <th>8</th>\n",
       "      <td>249</td>\n",
       "      <td>421</td>\n",
       "      <td>93</td>\n",
       "      <td>776</td>\n",
       "    </tr>\n",
       "    <tr>\n",
       "      <th>9</th>\n",
       "      <td>1131</td>\n",
       "      <td>2057</td>\n",
       "      <td>709</td>\n",
       "      <td>3921</td>\n",
       "    </tr>\n",
       "    <tr>\n",
       "      <th>10</th>\n",
       "      <td>210</td>\n",
       "      <td>872</td>\n",
       "      <td>305</td>\n",
       "      <td>1397</td>\n",
       "    </tr>\n",
       "    <tr>\n",
       "      <th>11</th>\n",
       "      <td>1183</td>\n",
       "      <td>2018</td>\n",
       "      <td>1098</td>\n",
       "      <td>4331</td>\n",
       "    </tr>\n",
       "    <tr>\n",
       "      <th>12</th>\n",
       "      <td>388</td>\n",
       "      <td>464</td>\n",
       "      <td>277</td>\n",
       "      <td>1145</td>\n",
       "    </tr>\n",
       "    <tr>\n",
       "      <th>13</th>\n",
       "      <td>624</td>\n",
       "      <td>1891</td>\n",
       "      <td>913</td>\n",
       "      <td>3448</td>\n",
       "    </tr>\n",
       "    <tr>\n",
       "      <th>14</th>\n",
       "      <td>1638</td>\n",
       "      <td>2710</td>\n",
       "      <td>444</td>\n",
       "      <td>4835</td>\n",
       "    </tr>\n",
       "    <tr>\n",
       "      <th>15</th>\n",
       "      <td>1031</td>\n",
       "      <td>3145</td>\n",
       "      <td>746</td>\n",
       "      <td>4990</td>\n",
       "    </tr>\n",
       "    <tr>\n",
       "      <th>16</th>\n",
       "      <td>1561</td>\n",
       "      <td>2699</td>\n",
       "      <td>699</td>\n",
       "      <td>5051</td>\n",
       "    </tr>\n",
       "    <tr>\n",
       "      <th>17</th>\n",
       "      <td>2723</td>\n",
       "      <td>4604</td>\n",
       "      <td>1066</td>\n",
       "      <td>8427</td>\n",
       "    </tr>\n",
       "    <tr>\n",
       "      <th>18</th>\n",
       "      <td>845</td>\n",
       "      <td>2714</td>\n",
       "      <td>250</td>\n",
       "      <td>3842</td>\n",
       "    </tr>\n",
       "  </tbody>\n",
       "</table>\n",
       "</div>"
      ],
      "text/plain": [
       "      PL    PN  LIBRE-PINU  TOTAL\n",
       "0   3274  6600        8141  18099\n",
       "1    640  1712         638   3011\n",
       "2    191  1165         318   1689\n",
       "3    655   573         989   2230\n",
       "4    884  1800         668   3380\n",
       "5   1956  3534         408   5927\n",
       "6    921   602         357   1883\n",
       "7   2254  5961        3799  12103\n",
       "8    249   421          93    776\n",
       "9   1131  2057         709   3921\n",
       "10   210   872         305   1397\n",
       "11  1183  2018        1098   4331\n",
       "12   388   464         277   1145\n",
       "13   624  1891         913   3448\n",
       "14  1638  2710         444   4835\n",
       "15  1031  3145         746   4990\n",
       "16  1561  2699         699   5051\n",
       "17  2723  4604        1066   8427\n",
       "18   845  2714         250   3842"
      ]
     },
     "execution_count": 2,
     "metadata": {},
     "output_type": "execute_result"
    }
   ],
   "source": [
    "df = pd.read_csv(\"https://docs.google.com/spreadsheets/d/1CfI-HjqE2wp51lWUJuBH6wSN1l0kQfvq/export?format=csv\")\n",
    "df"
   ]
  },
  {
   "cell_type": "code",
   "execution_count": 3,
   "metadata": {},
   "outputs": [
    {
     "data": {
      "text/plain": [
       "[3274,\n",
       " 640,\n",
       " 191,\n",
       " 655,\n",
       " 884,\n",
       " 1956,\n",
       " 921,\n",
       " 2254,\n",
       " 249,\n",
       " 1131,\n",
       " 210,\n",
       " 1183,\n",
       " 388,\n",
       " 624,\n",
       " 1638,\n",
       " 1031,\n",
       " 1561,\n",
       " 2723,\n",
       " 845]"
      ]
     },
     "execution_count": 3,
     "metadata": {},
     "output_type": "execute_result"
    }
   ],
   "source": [
    "pl = []\n",
    "for i in df['PL']:\n",
    "    pl.append(i)\n",
    "pl"
   ]
  },
  {
   "cell_type": "code",
   "execution_count": 4,
   "metadata": {},
   "outputs": [
    {
     "data": {
      "text/plain": [
       "[6600,\n",
       " 1712,\n",
       " 1165,\n",
       " 573,\n",
       " 1800,\n",
       " 3534,\n",
       " 602,\n",
       " 5961,\n",
       " 421,\n",
       " 2057,\n",
       " 872,\n",
       " 2018,\n",
       " 464,\n",
       " 1891,\n",
       " 2710,\n",
       " 3145,\n",
       " 2699,\n",
       " 4604,\n",
       " 2714]"
      ]
     },
     "execution_count": 4,
     "metadata": {},
     "output_type": "execute_result"
    }
   ],
   "source": [
    "pn = []\n",
    "for i in df['PN']:\n",
    "    pn.append(i)\n",
    "pn"
   ]
  },
  {
   "cell_type": "code",
   "execution_count": 5,
   "metadata": {},
   "outputs": [
    {
     "data": {
      "text/plain": [
       "[8141,\n",
       " 638,\n",
       " 318,\n",
       " 989,\n",
       " 668,\n",
       " 408,\n",
       " 357,\n",
       " 3799,\n",
       " 93,\n",
       " 709,\n",
       " 305,\n",
       " 1098,\n",
       " 277,\n",
       " 913,\n",
       " 444,\n",
       " 746,\n",
       " 699,\n",
       " 1066,\n",
       " 250]"
      ]
     },
     "execution_count": 5,
     "metadata": {},
     "output_type": "execute_result"
    }
   ],
   "source": [
    "pli = []\n",
    "for i in df['LIBRE-PINU']:\n",
    "    pli.append(i)\n",
    "pli"
   ]
  },
  {
   "cell_type": "code",
   "execution_count": 6,
   "metadata": {},
   "outputs": [
    {
     "data": {
      "text/plain": [
       "[18099,\n",
       " 3011,\n",
       " 1689,\n",
       " 2230,\n",
       " 3380,\n",
       " 5927,\n",
       " 1883,\n",
       " 12103,\n",
       " 776,\n",
       " 3921,\n",
       " 1397,\n",
       " 4331,\n",
       " 1145,\n",
       " 3448,\n",
       " 4835,\n",
       " 4990,\n",
       " 5051,\n",
       " 8427,\n",
       " 3842]"
      ]
     },
     "execution_count": 6,
     "metadata": {},
     "output_type": "execute_result"
    }
   ],
   "source": [
    "tot = []\n",
    "for i in df['TOTAL']:\n",
    "    tot.append(i)\n",
    "tot"
   ]
  },
  {
   "cell_type": "code",
   "execution_count": 7,
   "metadata": {},
   "outputs": [],
   "source": [
    "def GenerarFibonacci(n):\n",
    "    a, b = 0, 1\n",
    "\n",
    "    l = []\n",
    "\n",
    "    for i in range(n):\n",
    "        a, b = b, a + b\n",
    "\n",
    "        l.append(a)\n",
    "\n",
    "    return l"
   ]
  },
  {
   "cell_type": "code",
   "execution_count": 8,
   "metadata": {},
   "outputs": [],
   "source": [
    "list_of_nums = pl\n",
    "for n in list_of_nums:\n",
    "    first_digit = str(n)[0]\n",
    "    letters[first_digit] += 1\n",
    "y = [round(val / nfib, 4) for val in letters.values()]\n",
    "fre_relativa = y\n",
    "y = list(letters.values())\n",
    "f0= y\n",
    "x = list(letters.keys())\n",
    "y =  [round(math.log10(1+(1/int(val))), 4) for val in letters.keys()]\n",
    "benford = y"
   ]
  },
  {
   "cell_type": "code",
   "execution_count": 9,
   "metadata": {},
   "outputs": [
    {
     "data": {
      "text/plain": [
       "array([7, 4, 2, 0, 0, 3, 0, 2, 1])"
      ]
     },
     "execution_count": 9,
     "metadata": {},
     "output_type": "execute_result"
    }
   ],
   "source": [
    "f0 = np.array(f0)\n",
    "f0"
   ]
  },
  {
   "cell_type": "code",
   "execution_count": 10,
   "metadata": {},
   "outputs": [
    {
     "data": {
      "text/plain": [
       "array([0.014, 0.008, 0.004, 0.   , 0.   , 0.006, 0.   , 0.004, 0.002])"
      ]
     },
     "execution_count": 10,
     "metadata": {},
     "output_type": "execute_result"
    }
   ],
   "source": [
    "fre_relativa = np.array(fre_relativa)\n",
    "fre_relativa "
   ]
  },
  {
   "cell_type": "code",
   "execution_count": 11,
   "metadata": {},
   "outputs": [
    {
     "data": {
      "text/plain": [
       "array([0.301 , 0.1761, 0.1249, 0.0969, 0.0792, 0.0669, 0.058 , 0.0512,\n",
       "       0.0458])"
      ]
     },
     "execution_count": 11,
     "metadata": {},
     "output_type": "execute_result"
    }
   ],
   "source": [
    "benford = np.array(benford)\n",
    "benford"
   ]
  },
  {
   "cell_type": "code",
   "execution_count": 12,
   "metadata": {},
   "outputs": [
    {
     "data": {
      "text/plain": [
       "19"
      ]
     },
     "execution_count": 12,
     "metadata": {},
     "output_type": "execute_result"
    }
   ],
   "source": [
    "f0_tot=f0.sum()\n",
    "f0_tot"
   ]
  },
  {
   "cell_type": "code",
   "execution_count": 13,
   "metadata": {},
   "outputs": [],
   "source": [
    "fe = benford*f0_tot"
   ]
  },
  {
   "cell_type": "code",
   "execution_count": 14,
   "metadata": {},
   "outputs": [
    {
     "data": {
      "text/plain": [
       "array([5.719 , 3.3459, 2.3731, 1.8411, 1.5048, 1.2711, 1.102 , 0.9728,\n",
       "       0.8702])"
      ]
     },
     "execution_count": 14,
     "metadata": {},
     "output_type": "execute_result"
    }
   ],
   "source": [
    "fe "
   ]
  },
  {
   "cell_type": "code",
   "execution_count": 15,
   "metadata": {},
   "outputs": [
    {
     "data": {
      "text/plain": [
       "19.0"
      ]
     },
     "execution_count": 15,
     "metadata": {},
     "output_type": "execute_result"
    }
   ],
   "source": [
    "fe.sum()"
   ]
  },
  {
   "cell_type": "code",
   "execution_count": 16,
   "metadata": {},
   "outputs": [
    {
     "data": {
      "text/plain": [
       "array([-0.287 , -0.1681, -0.1209, -0.0969, -0.0792, -0.0609, -0.058 ,\n",
       "       -0.0472, -0.0438])"
      ]
     },
     "execution_count": 16,
     "metadata": {},
     "output_type": "execute_result"
    }
   ],
   "source": [
    "diferencia = fre_relativa - benford\n",
    "diferencia "
   ]
  },
  {
   "cell_type": "code",
   "execution_count": 17,
   "metadata": {},
   "outputs": [
    {
     "data": {
      "text/plain": [
       "-0.9619999999999999"
      ]
     },
     "execution_count": 17,
     "metadata": {},
     "output_type": "execute_result"
    }
   ],
   "source": [
    "diferencia.sum()"
   ]
  },
  {
   "cell_type": "code",
   "execution_count": 18,
   "metadata": {},
   "outputs": [],
   "source": [
    "f0_fe= (f0-fe)"
   ]
  },
  {
   "cell_type": "code",
   "execution_count": 19,
   "metadata": {},
   "outputs": [],
   "source": [
    "f0_fe_2 = f0_fe*f0_fe"
   ]
  },
  {
   "cell_type": "code",
   "execution_count": 20,
   "metadata": {},
   "outputs": [
    {
     "data": {
      "text/plain": [
       "array([0.28693146, 0.12787197, 0.05865897, 1.8411    , 1.5048    ,\n",
       "       2.35158147, 1.102     , 1.08464211, 0.01936111])"
      ]
     },
     "execution_count": 20,
     "metadata": {},
     "output_type": "execute_result"
    }
   ],
   "source": [
    "f0_fe_2_fe=f0_fe_2/fe\n",
    "f0_fe_2_fe"
   ]
  },
  {
   "cell_type": "markdown",
   "metadata": {},
   "source": [
    "# Partido Liberal"
   ]
  },
  {
   "cell_type": "code",
   "execution_count": 21,
   "metadata": {},
   "outputs": [
    {
     "data": {
      "text/plain": [
       "8.376947086123545"
      ]
     },
     "execution_count": 21,
     "metadata": {},
     "output_type": "execute_result"
    }
   ],
   "source": [
    "x_2 = f0_fe_2_fe.sum()\n",
    "x_2 "
   ]
  },
  {
   "cell_type": "code",
   "execution_count": 22,
   "metadata": {},
   "outputs": [],
   "source": [
    "letters = {\n",
    "    '1': 0,\n",
    "    '2': 0,\n",
    "    '3': 0,\n",
    "    '4': 0,\n",
    "    '5': 0,\n",
    "    '6': 0,\n",
    "    '7': 0,\n",
    "    '8': 0,\n",
    "    '9': 0\n",
    "}\n",
    "list_of_nums = pn\n",
    "for n in list_of_nums:\n",
    "    first_digit = str(n)[0]\n",
    "    letters[first_digit] += 1\n",
    "y = [round(val / nfib, 4) for val in letters.values()]\n",
    "fre_relativa = y\n",
    "y = list(letters.values())\n",
    "f0= y\n",
    "x = list(letters.keys())\n",
    "y =  [round(math.log10(1+(1/int(val))), 4) for val in letters.keys()]\n",
    "benford = y"
   ]
  },
  {
   "cell_type": "code",
   "execution_count": 23,
   "metadata": {},
   "outputs": [
    {
     "data": {
      "text/plain": [
       "array([4, 5, 2, 3, 2, 2, 0, 1, 0])"
      ]
     },
     "execution_count": 23,
     "metadata": {},
     "output_type": "execute_result"
    }
   ],
   "source": [
    "f0 = np.array(f0)\n",
    "f0"
   ]
  },
  {
   "cell_type": "code",
   "execution_count": 24,
   "metadata": {},
   "outputs": [
    {
     "data": {
      "text/plain": [
       "array([0.008, 0.01 , 0.004, 0.006, 0.004, 0.004, 0.   , 0.002, 0.   ])"
      ]
     },
     "execution_count": 24,
     "metadata": {},
     "output_type": "execute_result"
    }
   ],
   "source": [
    "fre_relativa = np.array(fre_relativa)\n",
    "fre_relativa "
   ]
  },
  {
   "cell_type": "code",
   "execution_count": 25,
   "metadata": {},
   "outputs": [
    {
     "data": {
      "text/plain": [
       "array([0.301 , 0.1761, 0.1249, 0.0969, 0.0792, 0.0669, 0.058 , 0.0512,\n",
       "       0.0458])"
      ]
     },
     "execution_count": 25,
     "metadata": {},
     "output_type": "execute_result"
    }
   ],
   "source": [
    "benford = np.array(benford)\n",
    "benford"
   ]
  },
  {
   "cell_type": "code",
   "execution_count": 26,
   "metadata": {},
   "outputs": [
    {
     "data": {
      "text/plain": [
       "19"
      ]
     },
     "execution_count": 26,
     "metadata": {},
     "output_type": "execute_result"
    }
   ],
   "source": [
    "f0_tot=f0.sum()\n",
    "f0_tot"
   ]
  },
  {
   "cell_type": "code",
   "execution_count": 27,
   "metadata": {},
   "outputs": [],
   "source": [
    "fe = benford*f0_tot"
   ]
  },
  {
   "cell_type": "code",
   "execution_count": 28,
   "metadata": {},
   "outputs": [
    {
     "data": {
      "text/plain": [
       "array([5.719 , 3.3459, 2.3731, 1.8411, 1.5048, 1.2711, 1.102 , 0.9728,\n",
       "       0.8702])"
      ]
     },
     "execution_count": 28,
     "metadata": {},
     "output_type": "execute_result"
    }
   ],
   "source": [
    "fe "
   ]
  },
  {
   "cell_type": "code",
   "execution_count": 29,
   "metadata": {},
   "outputs": [
    {
     "data": {
      "text/plain": [
       "19.0"
      ]
     },
     "execution_count": 29,
     "metadata": {},
     "output_type": "execute_result"
    }
   ],
   "source": [
    "fe.sum()"
   ]
  },
  {
   "cell_type": "code",
   "execution_count": 30,
   "metadata": {},
   "outputs": [
    {
     "data": {
      "text/plain": [
       "array([-0.293 , -0.1661, -0.1209, -0.0909, -0.0752, -0.0629, -0.058 ,\n",
       "       -0.0492, -0.0458])"
      ]
     },
     "execution_count": 30,
     "metadata": {},
     "output_type": "execute_result"
    }
   ],
   "source": [
    "diferencia = fre_relativa - benford\n",
    "diferencia "
   ]
  },
  {
   "cell_type": "code",
   "execution_count": 31,
   "metadata": {},
   "outputs": [
    {
     "data": {
      "text/plain": [
       "-0.9619999999999999"
      ]
     },
     "execution_count": 31,
     "metadata": {},
     "output_type": "execute_result"
    }
   ],
   "source": [
    "diferencia.sum()"
   ]
  },
  {
   "cell_type": "code",
   "execution_count": 32,
   "metadata": {},
   "outputs": [],
   "source": [
    "f0_fe= (f0-fe)"
   ]
  },
  {
   "cell_type": "code",
   "execution_count": 33,
   "metadata": {},
   "outputs": [],
   "source": [
    "f0_fe_2 = f0_fe*f0_fe"
   ]
  },
  {
   "cell_type": "code",
   "execution_count": 34,
   "metadata": {},
   "outputs": [
    {
     "data": {
      "text/plain": [
       "array([5.16691904e-01, 8.17731196e-01, 5.86589735e-02, 7.29481946e-01,\n",
       "       1.62960553e-01, 4.17980655e-01, 1.10200000e+00, 7.60526316e-04,\n",
       "       8.70200000e-01])"
      ]
     },
     "execution_count": 34,
     "metadata": {},
     "output_type": "execute_result"
    }
   ],
   "source": [
    "f0_fe_2_fe=f0_fe_2/fe\n",
    "f0_fe_2_fe"
   ]
  },
  {
   "cell_type": "markdown",
   "metadata": {},
   "source": [
    "# Partido Nacional"
   ]
  },
  {
   "cell_type": "code",
   "execution_count": 35,
   "metadata": {},
   "outputs": [
    {
     "data": {
      "text/plain": [
       "4.6764657534036225"
      ]
     },
     "execution_count": 35,
     "metadata": {},
     "output_type": "execute_result"
    }
   ],
   "source": [
    "x_2 = f0_fe_2_fe.sum()\n",
    "x_2 "
   ]
  },
  {
   "cell_type": "code",
   "execution_count": 36,
   "metadata": {},
   "outputs": [],
   "source": [
    "letters = {\n",
    "    '1': 0,\n",
    "    '2': 0,\n",
    "    '3': 0,\n",
    "    '4': 0,\n",
    "    '5': 0,\n",
    "    '6': 0,\n",
    "    '7': 0,\n",
    "    '8': 0,\n",
    "    '9': 0\n",
    "}\n",
    "list_of_nums = pli\n",
    "for n in list_of_nums:\n",
    "    first_digit = str(n)[0]\n",
    "    letters[first_digit] += 1\n",
    "y = [round(val / nfib, 4) for val in letters.values()]\n",
    "fre_relativa = y\n",
    "y = list(letters.values())\n",
    "f0= y\n",
    "x = list(letters.keys())\n",
    "y =  [round(math.log10(1+(1/int(val))), 4) for val in letters.keys()]\n",
    "benford = y"
   ]
  },
  {
   "cell_type": "code",
   "execution_count": 37,
   "metadata": {},
   "outputs": [
    {
     "data": {
      "text/plain": [
       "array([2, 2, 4, 2, 0, 3, 2, 1, 3])"
      ]
     },
     "execution_count": 37,
     "metadata": {},
     "output_type": "execute_result"
    }
   ],
   "source": [
    "f0 = np.array(f0)\n",
    "f0"
   ]
  },
  {
   "cell_type": "code",
   "execution_count": 38,
   "metadata": {},
   "outputs": [
    {
     "data": {
      "text/plain": [
       "array([0.004, 0.004, 0.008, 0.004, 0.   , 0.006, 0.004, 0.002, 0.006])"
      ]
     },
     "execution_count": 38,
     "metadata": {},
     "output_type": "execute_result"
    }
   ],
   "source": [
    "fre_relativa = np.array(fre_relativa)\n",
    "fre_relativa "
   ]
  },
  {
   "cell_type": "code",
   "execution_count": 39,
   "metadata": {},
   "outputs": [
    {
     "data": {
      "text/plain": [
       "array([0.301 , 0.1761, 0.1249, 0.0969, 0.0792, 0.0669, 0.058 , 0.0512,\n",
       "       0.0458])"
      ]
     },
     "execution_count": 39,
     "metadata": {},
     "output_type": "execute_result"
    }
   ],
   "source": [
    "benford = np.array(benford)\n",
    "benford"
   ]
  },
  {
   "cell_type": "code",
   "execution_count": 40,
   "metadata": {},
   "outputs": [
    {
     "data": {
      "text/plain": [
       "19"
      ]
     },
     "execution_count": 40,
     "metadata": {},
     "output_type": "execute_result"
    }
   ],
   "source": [
    "f0_tot=f0.sum()\n",
    "f0_tot"
   ]
  },
  {
   "cell_type": "code",
   "execution_count": 41,
   "metadata": {},
   "outputs": [],
   "source": [
    "fe = benford*f0_tot"
   ]
  },
  {
   "cell_type": "code",
   "execution_count": 42,
   "metadata": {},
   "outputs": [
    {
     "data": {
      "text/plain": [
       "array([5.719 , 3.3459, 2.3731, 1.8411, 1.5048, 1.2711, 1.102 , 0.9728,\n",
       "       0.8702])"
      ]
     },
     "execution_count": 42,
     "metadata": {},
     "output_type": "execute_result"
    }
   ],
   "source": [
    "fe "
   ]
  },
  {
   "cell_type": "code",
   "execution_count": 43,
   "metadata": {},
   "outputs": [
    {
     "data": {
      "text/plain": [
       "19.0"
      ]
     },
     "execution_count": 43,
     "metadata": {},
     "output_type": "execute_result"
    }
   ],
   "source": [
    "fe.sum()"
   ]
  },
  {
   "cell_type": "code",
   "execution_count": 44,
   "metadata": {},
   "outputs": [
    {
     "data": {
      "text/plain": [
       "array([-0.297 , -0.1721, -0.1169, -0.0929, -0.0792, -0.0609, -0.054 ,\n",
       "       -0.0492, -0.0398])"
      ]
     },
     "execution_count": 44,
     "metadata": {},
     "output_type": "execute_result"
    }
   ],
   "source": [
    "diferencia = fre_relativa - benford\n",
    "diferencia "
   ]
  },
  {
   "cell_type": "code",
   "execution_count": 45,
   "metadata": {},
   "outputs": [
    {
     "data": {
      "text/plain": [
       "-0.962"
      ]
     },
     "execution_count": 45,
     "metadata": {},
     "output_type": "execute_result"
    }
   ],
   "source": [
    "diferencia.sum()"
   ]
  },
  {
   "cell_type": "code",
   "execution_count": 46,
   "metadata": {},
   "outputs": [],
   "source": [
    "f0_fe= (f0-fe)"
   ]
  },
  {
   "cell_type": "code",
   "execution_count": 47,
   "metadata": {},
   "outputs": [],
   "source": [
    "f0_fe_2 = f0_fe*f0_fe"
   ]
  },
  {
   "cell_type": "code",
   "execution_count": 48,
   "metadata": {},
   "outputs": [
    {
     "data": {
      "text/plain": [
       "array([2.41842298e+00, 5.41392991e-01, 1.11533589e+00, 1.37141980e-02,\n",
       "       1.50480000e+00, 2.35158147e+00, 7.31764065e-01, 7.60526316e-04,\n",
       "       5.21265001e+00])"
      ]
     },
     "execution_count": 48,
     "metadata": {},
     "output_type": "execute_result"
    }
   ],
   "source": [
    "f0_fe_2_fe=f0_fe_2/fe\n",
    "f0_fe_2_fe"
   ]
  },
  {
   "cell_type": "markdown",
   "metadata": {},
   "source": [
    "# Partido Libre"
   ]
  },
  {
   "cell_type": "code",
   "execution_count": 49,
   "metadata": {},
   "outputs": [
    {
     "data": {
      "text/plain": [
       "13.890422135362524"
      ]
     },
     "execution_count": 49,
     "metadata": {},
     "output_type": "execute_result"
    }
   ],
   "source": [
    "x_2 = f0_fe_2_fe.sum()\n",
    "x_2 "
   ]
  },
  {
   "cell_type": "code",
   "execution_count": 50,
   "metadata": {},
   "outputs": [],
   "source": [
    "letters = {\n",
    "    '1': 0,\n",
    "    '2': 0,\n",
    "    '3': 0,\n",
    "    '4': 0,\n",
    "    '5': 0,\n",
    "    '6': 0,\n",
    "    '7': 0,\n",
    "    '8': 0,\n",
    "    '9': 0\n",
    "}\n",
    "list_of_nums = tot\n",
    "for n in list_of_nums:\n",
    "    first_digit = str(n)[0]\n",
    "    letters[first_digit] += 1\n",
    "y = [round(val / nfib, 4) for val in letters.values()]\n",
    "fre_relativa = y\n",
    "y = list(letters.values())\n",
    "f0= y\n",
    "x = list(letters.keys())\n",
    "y =  [round(math.log10(1+(1/int(val))), 4) for val in letters.keys()]\n",
    "benford = y"
   ]
  },
  {
   "cell_type": "code",
   "execution_count": 51,
   "metadata": {},
   "outputs": [
    {
     "data": {
      "text/plain": [
       "array([6, 1, 5, 3, 2, 0, 1, 1, 0])"
      ]
     },
     "execution_count": 51,
     "metadata": {},
     "output_type": "execute_result"
    }
   ],
   "source": [
    "f0 = np.array(f0)\n",
    "f0"
   ]
  },
  {
   "cell_type": "code",
   "execution_count": 52,
   "metadata": {},
   "outputs": [
    {
     "data": {
      "text/plain": [
       "array([0.012, 0.002, 0.01 , 0.006, 0.004, 0.   , 0.002, 0.002, 0.   ])"
      ]
     },
     "execution_count": 52,
     "metadata": {},
     "output_type": "execute_result"
    }
   ],
   "source": [
    "fre_relativa = np.array(fre_relativa)\n",
    "fre_relativa "
   ]
  },
  {
   "cell_type": "code",
   "execution_count": 53,
   "metadata": {},
   "outputs": [
    {
     "data": {
      "text/plain": [
       "array([0.301 , 0.1761, 0.1249, 0.0969, 0.0792, 0.0669, 0.058 , 0.0512,\n",
       "       0.0458])"
      ]
     },
     "execution_count": 53,
     "metadata": {},
     "output_type": "execute_result"
    }
   ],
   "source": [
    "benford = np.array(benford)\n",
    "benford"
   ]
  },
  {
   "cell_type": "code",
   "execution_count": 54,
   "metadata": {},
   "outputs": [
    {
     "data": {
      "text/plain": [
       "19"
      ]
     },
     "execution_count": 54,
     "metadata": {},
     "output_type": "execute_result"
    }
   ],
   "source": [
    "f0_tot=f0.sum()\n",
    "f0_tot"
   ]
  },
  {
   "cell_type": "code",
   "execution_count": 55,
   "metadata": {},
   "outputs": [],
   "source": [
    "fe = benford*f0_tot"
   ]
  },
  {
   "cell_type": "code",
   "execution_count": 56,
   "metadata": {},
   "outputs": [
    {
     "data": {
      "text/plain": [
       "array([5.719 , 3.3459, 2.3731, 1.8411, 1.5048, 1.2711, 1.102 , 0.9728,\n",
       "       0.8702])"
      ]
     },
     "execution_count": 56,
     "metadata": {},
     "output_type": "execute_result"
    }
   ],
   "source": [
    "fe "
   ]
  },
  {
   "cell_type": "code",
   "execution_count": 57,
   "metadata": {},
   "outputs": [
    {
     "data": {
      "text/plain": [
       "19.0"
      ]
     },
     "execution_count": 57,
     "metadata": {},
     "output_type": "execute_result"
    }
   ],
   "source": [
    "fe.sum()"
   ]
  },
  {
   "cell_type": "code",
   "execution_count": 58,
   "metadata": {},
   "outputs": [
    {
     "data": {
      "text/plain": [
       "array([-0.289 , -0.1741, -0.1149, -0.0909, -0.0752, -0.0669, -0.056 ,\n",
       "       -0.0492, -0.0458])"
      ]
     },
     "execution_count": 58,
     "metadata": {},
     "output_type": "execute_result"
    }
   ],
   "source": [
    "diferencia = fre_relativa - benford\n",
    "diferencia "
   ]
  },
  {
   "cell_type": "code",
   "execution_count": 59,
   "metadata": {},
   "outputs": [
    {
     "data": {
      "text/plain": [
       "-0.9619999999999999"
      ]
     },
     "execution_count": 59,
     "metadata": {},
     "output_type": "execute_result"
    }
   ],
   "source": [
    "diferencia.sum()"
   ]
  },
  {
   "cell_type": "code",
   "execution_count": 60,
   "metadata": {},
   "outputs": [],
   "source": [
    "f0_fe= (f0-fe)"
   ]
  },
  {
   "cell_type": "code",
   "execution_count": 61,
   "metadata": {},
   "outputs": [],
   "source": [
    "f0_fe_2 = f0_fe*f0_fe"
   ]
  },
  {
   "cell_type": "code",
   "execution_count": 62,
   "metadata": {},
   "outputs": [
    {
     "data": {
      "text/plain": [
       "array([1.38067844e-02, 1.64477325e+00, 2.90784358e+00, 7.29481946e-01,\n",
       "       1.62960553e-01, 1.27110000e+00, 9.44101633e-03, 7.60526316e-04,\n",
       "       8.70200000e-01])"
      ]
     },
     "execution_count": 62,
     "metadata": {},
     "output_type": "execute_result"
    }
   ],
   "source": [
    "f0_fe_2_fe=f0_fe_2/fe\n",
    "f0_fe_2_fe"
   ]
  },
  {
   "cell_type": "markdown",
   "metadata": {},
   "source": [
    "# Total"
   ]
  },
  {
   "cell_type": "code",
   "execution_count": 63,
   "metadata": {},
   "outputs": [
    {
     "data": {
      "text/plain": [
       "7.610367657722747"
      ]
     },
     "execution_count": 63,
     "metadata": {},
     "output_type": "execute_result"
    }
   ],
   "source": [
    "x_2 = f0_fe_2_fe.sum()\n",
    "x_2 "
   ]
  }
 ],
 "metadata": {
  "kernelspec": {
   "display_name": "Python 3",
   "language": "python",
   "name": "python3"
  },
  "language_info": {
   "codemirror_mode": {
    "name": "ipython",
    "version": 3
   },
   "file_extension": ".py",
   "mimetype": "text/x-python",
   "name": "python",
   "nbconvert_exporter": "python",
   "pygments_lexer": "ipython3",
   "version": "3.8.3"
  }
 },
 "nbformat": 4,
 "nbformat_minor": 4
}
